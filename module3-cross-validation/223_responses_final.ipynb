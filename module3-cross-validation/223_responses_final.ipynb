{
  "nbformat": 4,
  "nbformat_minor": 0,
  "metadata": {
    "kernelspec": {
      "display_name": "Python 3",
      "language": "python",
      "name": "python3"
    },
    "language_info": {
      "codemirror_mode": {
        "name": "ipython",
        "version": 3
      },
      "file_extension": ".py",
      "mimetype": "text/x-python",
      "name": "python",
      "nbconvert_exporter": "python",
      "pygments_lexer": "ipython3",
      "version": "3.7.4"
    },
    "colab": {
      "name": "Unit 2 - Sprint 2 - Module 3 - LESSON.ipynb",
      "provenance": [],
      "collapsed_sections": [],
      "include_colab_link": true
    }
  },
  "cells": [
    {
      "cell_type": "markdown",
      "metadata": {
        "id": "view-in-github",
        "colab_type": "text"
      },
      "source": [
        "<a href=\"https://colab.research.google.com/github/austinlasseter/DS-Unit-2-Kaggle-Challenge/blob/master/module3-cross-validation/223_responses_final.ipynb\" target=\"_parent\"><img src=\"https://colab.research.google.com/assets/colab-badge.svg\" alt=\"Open In Colab\"/></a>"
      ]
    },
    {
      "cell_type": "markdown",
      "metadata": {
        "id": "YHLmpo9WcHYc",
        "colab_type": "text"
      },
      "source": [
        "Lambda School Data Science\n",
        "\n",
        "*Unit 2, Sprint 2, Module 3*\n",
        "\n",
        "---"
      ]
    },
    {
      "cell_type": "markdown",
      "metadata": {
        "colab_type": "text",
        "id": "O67uhlT4MExK"
      },
      "source": [
        "# Cross-Validation\n",
        "\n",
        "- Do **cross-validation** with independent test set\n",
        "- Use scikit-learn for **hyperparameter optimization**"
      ]
    },
    {
      "cell_type": "markdown",
      "metadata": {
        "colab_type": "text",
        "id": "59EsvYLdDHAB"
      },
      "source": [
        "### Setup\n",
        "\n",
        "Run the code cell below. You can work locally (follow the [local setup instructions](https://lambdaschool.github.io/ds/unit2/local/)) or on Colab.\n",
        "\n",
        "Libraries\n",
        "\n",
        "- **category_encoders**\n",
        "- matplotlib\n",
        "- numpy\n",
        "- pandas\n",
        "- scikit-learn\n",
        "- scipy.stats"
      ]
    },
    {
      "cell_type": "code",
      "metadata": {
        "colab_type": "code",
        "id": "hwbmmgaWDNid",
        "colab": {}
      },
      "source": [
        "%%capture\n",
        "import sys\n",
        "\n",
        "# If you're on Colab:\n",
        "if 'google.colab' in sys.modules:\n",
        "    DATA_PATH = 'https://raw.githubusercontent.com/LambdaSchool/DS-Unit-2-Kaggle-Challenge/master/data/'\n",
        "    !pip install category_encoders==2.*\n",
        "\n",
        "# If you're working locally:\n",
        "else:\n",
        "    DATA_PATH = '../data/'"
      ],
      "execution_count": 29,
      "outputs": []
    },
    {
      "cell_type": "markdown",
      "metadata": {
        "id": "XY7mf5G9cHYx",
        "colab_type": "text"
      },
      "source": [
        "### Cross-validation: What & Why?"
      ]
    },
    {
      "cell_type": "markdown",
      "metadata": {
        "colab_type": "text",
        "id": "ozuzFo_Pv2cB"
      },
      "source": [
        "The Scikit-Learn docs show a diagram of how k-fold cross-validation works, and explain the pros & cons of cross-validation versus train/validate/test split.\n",
        "\n",
        "#### [Scikit-Learn User Guide, 3.1 Cross-validation](https://scikit-learn.org/stable/modules/cross_validation.html)\n",
        "\n",
        "> When evaluating different settings (“hyperparameters”) for estimators, there is still a risk of overfitting on the test set because the parameters can be tweaked until the estimator performs optimally. This way, knowledge about the test set can “leak” into the model and evaluation metrics no longer report on generalization performance. To solve this problem, yet another part of the dataset can be held out as a so-called “validation set”: training proceeds on the training set, after which evaluation is done on the validation set, and when the experiment seems to be successful, final evaluation can be done on the test set.\n",
        ">\n",
        "> However, **by partitioning the available data into three sets, we drastically reduce the number of samples which can be used for learning the model, and the results can depend on a particular random choice for the pair of (train, validation) sets.**\n",
        ">\n",
        "> **A solution to this problem is a procedure called cross-validation (CV for short). A test set should still be held out for final evaluation, but the validation set is no longer needed when doing CV.** \n",
        "\n",
        "<img src=\"https://scikit-learn.org/stable/_images/grid_search_cross_validation.png\" width=\"600\">\n",
        "\n",
        "> In the basic approach, called k-fold CV, the training set is split into k smaller sets. The following procedure is followed for each of the k “folds”:\n",
        ">\n",
        "> - A model is trained using $k-1$ of the folds as training data;\n",
        "> - the resulting model is validated on the remaining part of the data (i.e., it is used as a test set to compute a performance measure such as accuracy).\n",
        ">\n",
        "> The performance measure reported by k-fold cross-validation is then the average of the values computed in the loop. **This approach can be computationally expensive, but does not waste too much data (as is the case when fixing an arbitrary validation set).**"
      ]
    },
    {
      "cell_type": "markdown",
      "metadata": {
        "id": "6S6qokYtBTwU",
        "colab_type": "text"
      },
      "source": [
        "# Part 1. Short example from Canvas"
      ]
    },
    {
      "cell_type": "markdown",
      "metadata": {
        "id": "bbwzn_v1AWaq",
        "colab_type": "text"
      },
      "source": [
        "## 1.1 Implement cross-validation with independent test set \n",
        "(From Canvas LMS)  \n",
        "https://lambdaschool.instructure.com/courses/203/modules#module_2774"
      ]
    },
    {
      "cell_type": "markdown",
      "metadata": {
        "id": "sencgqn5EAmW",
        "colab_type": "text"
      },
      "source": [
        "For cross-validation, if you standardize your data before dividing into k-fold cross-validation sets, your test/validation set in each fold will also know something about the training data. To avoid the problem of data leakage, you should separate your training/testing set or cross-validation sets and then standardize. The scikit-learn Pipeline tool makes this process easy, by applying any preprocessing or standardizing separately to the training and testing data."
      ]
    },
    {
      "cell_type": "code",
      "metadata": {
        "id": "DB6j_uxIATwr",
        "colab_type": "code",
        "colab": {}
      },
      "source": [
        "# Import libraries\n",
        "import numpy as np\n",
        "import pandas as pd\n",
        "from sklearn import datasets\n",
        "from sklearn.model_selection import KFold, cross_val_score\n",
        "from sklearn.pipeline import make_pipeline\n",
        "from sklearn.linear_model import LogisticRegression\n",
        "from sklearn.preprocessing import StandardScaler\n"
      ],
      "execution_count": 30,
      "outputs": []
    },
    {
      "cell_type": "markdown",
      "metadata": {
        "id": "YRMmSTFMDBTQ",
        "colab_type": "text"
      },
      "source": [
        "[The digits dataset](https://)   \n",
        "This dataset is made up of 1797 8x8 images. Each image, like the one shown below, is of a hand-written digit. In order to utilize an 8x8 figure like this, we’d have to first transform it into a feature vector with length 64.\n"
      ]
    },
    {
      "cell_type": "markdown",
      "metadata": {
        "id": "jhBydX2HEHTN",
        "colab_type": "text"
      },
      "source": [
        "<img src=\"https://github.com/austinlasseter/DS-Unit-2-Kaggle-Challenge/blob/master/module3-cross-validation/digits.png?raw=1\" alt=\"digits\" style=\"width:200px;\"/>"
      ]
    },
    {
      "cell_type": "code",
      "metadata": {
        "id": "m4rxntNDCLdv",
        "colab_type": "code",
        "colab": {}
      },
      "source": [
        "# Load the digits data\n",
        "# The default with 10 classes (digits 0-9)\n",
        "digits = datasets.load_digits(n_class=10)"
      ],
      "execution_count": 31,
      "outputs": []
    },
    {
      "cell_type": "code",
      "metadata": {
        "id": "uNtGJfvhCMVU",
        "colab_type": "code",
        "colab": {
          "base_uri": "https://localhost:8080/",
          "height": 224
        },
        "outputId": "0bb394bc-a5f9-41a7-fa53-f5def0fee665"
      },
      "source": [
        "# What does this dataset look like?\n",
        "pd.DataFrame(digits.data).head()"
      ],
      "execution_count": 32,
      "outputs": [
        {
          "output_type": "execute_result",
          "data": {
            "text/html": [
              "<div>\n",
              "<style scoped>\n",
              "    .dataframe tbody tr th:only-of-type {\n",
              "        vertical-align: middle;\n",
              "    }\n",
              "\n",
              "    .dataframe tbody tr th {\n",
              "        vertical-align: top;\n",
              "    }\n",
              "\n",
              "    .dataframe thead th {\n",
              "        text-align: right;\n",
              "    }\n",
              "</style>\n",
              "<table border=\"1\" class=\"dataframe\">\n",
              "  <thead>\n",
              "    <tr style=\"text-align: right;\">\n",
              "      <th></th>\n",
              "      <th>0</th>\n",
              "      <th>1</th>\n",
              "      <th>2</th>\n",
              "      <th>3</th>\n",
              "      <th>4</th>\n",
              "      <th>5</th>\n",
              "      <th>6</th>\n",
              "      <th>7</th>\n",
              "      <th>8</th>\n",
              "      <th>9</th>\n",
              "      <th>10</th>\n",
              "      <th>11</th>\n",
              "      <th>12</th>\n",
              "      <th>13</th>\n",
              "      <th>14</th>\n",
              "      <th>15</th>\n",
              "      <th>16</th>\n",
              "      <th>17</th>\n",
              "      <th>18</th>\n",
              "      <th>19</th>\n",
              "      <th>20</th>\n",
              "      <th>21</th>\n",
              "      <th>22</th>\n",
              "      <th>23</th>\n",
              "      <th>24</th>\n",
              "      <th>25</th>\n",
              "      <th>26</th>\n",
              "      <th>27</th>\n",
              "      <th>28</th>\n",
              "      <th>29</th>\n",
              "      <th>30</th>\n",
              "      <th>31</th>\n",
              "      <th>32</th>\n",
              "      <th>33</th>\n",
              "      <th>34</th>\n",
              "      <th>35</th>\n",
              "      <th>36</th>\n",
              "      <th>37</th>\n",
              "      <th>38</th>\n",
              "      <th>39</th>\n",
              "      <th>40</th>\n",
              "      <th>41</th>\n",
              "      <th>42</th>\n",
              "      <th>43</th>\n",
              "      <th>44</th>\n",
              "      <th>45</th>\n",
              "      <th>46</th>\n",
              "      <th>47</th>\n",
              "      <th>48</th>\n",
              "      <th>49</th>\n",
              "      <th>50</th>\n",
              "      <th>51</th>\n",
              "      <th>52</th>\n",
              "      <th>53</th>\n",
              "      <th>54</th>\n",
              "      <th>55</th>\n",
              "      <th>56</th>\n",
              "      <th>57</th>\n",
              "      <th>58</th>\n",
              "      <th>59</th>\n",
              "      <th>60</th>\n",
              "      <th>61</th>\n",
              "      <th>62</th>\n",
              "      <th>63</th>\n",
              "    </tr>\n",
              "  </thead>\n",
              "  <tbody>\n",
              "    <tr>\n",
              "      <th>0</th>\n",
              "      <td>0.0</td>\n",
              "      <td>0.0</td>\n",
              "      <td>5.0</td>\n",
              "      <td>13.0</td>\n",
              "      <td>9.0</td>\n",
              "      <td>1.0</td>\n",
              "      <td>0.0</td>\n",
              "      <td>0.0</td>\n",
              "      <td>0.0</td>\n",
              "      <td>0.0</td>\n",
              "      <td>13.0</td>\n",
              "      <td>15.0</td>\n",
              "      <td>10.0</td>\n",
              "      <td>15.0</td>\n",
              "      <td>5.0</td>\n",
              "      <td>0.0</td>\n",
              "      <td>0.0</td>\n",
              "      <td>3.0</td>\n",
              "      <td>15.0</td>\n",
              "      <td>2.0</td>\n",
              "      <td>0.0</td>\n",
              "      <td>11.0</td>\n",
              "      <td>8.0</td>\n",
              "      <td>0.0</td>\n",
              "      <td>0.0</td>\n",
              "      <td>4.0</td>\n",
              "      <td>12.0</td>\n",
              "      <td>0.0</td>\n",
              "      <td>0.0</td>\n",
              "      <td>8.0</td>\n",
              "      <td>8.0</td>\n",
              "      <td>0.0</td>\n",
              "      <td>0.0</td>\n",
              "      <td>5.0</td>\n",
              "      <td>8.0</td>\n",
              "      <td>0.0</td>\n",
              "      <td>0.0</td>\n",
              "      <td>9.0</td>\n",
              "      <td>8.0</td>\n",
              "      <td>0.0</td>\n",
              "      <td>0.0</td>\n",
              "      <td>4.0</td>\n",
              "      <td>11.0</td>\n",
              "      <td>0.0</td>\n",
              "      <td>1.0</td>\n",
              "      <td>12.0</td>\n",
              "      <td>7.0</td>\n",
              "      <td>0.0</td>\n",
              "      <td>0.0</td>\n",
              "      <td>2.0</td>\n",
              "      <td>14.0</td>\n",
              "      <td>5.0</td>\n",
              "      <td>10.0</td>\n",
              "      <td>12.0</td>\n",
              "      <td>0.0</td>\n",
              "      <td>0.0</td>\n",
              "      <td>0.0</td>\n",
              "      <td>0.0</td>\n",
              "      <td>6.0</td>\n",
              "      <td>13.0</td>\n",
              "      <td>10.0</td>\n",
              "      <td>0.0</td>\n",
              "      <td>0.0</td>\n",
              "      <td>0.0</td>\n",
              "    </tr>\n",
              "    <tr>\n",
              "      <th>1</th>\n",
              "      <td>0.0</td>\n",
              "      <td>0.0</td>\n",
              "      <td>0.0</td>\n",
              "      <td>12.0</td>\n",
              "      <td>13.0</td>\n",
              "      <td>5.0</td>\n",
              "      <td>0.0</td>\n",
              "      <td>0.0</td>\n",
              "      <td>0.0</td>\n",
              "      <td>0.0</td>\n",
              "      <td>0.0</td>\n",
              "      <td>11.0</td>\n",
              "      <td>16.0</td>\n",
              "      <td>9.0</td>\n",
              "      <td>0.0</td>\n",
              "      <td>0.0</td>\n",
              "      <td>0.0</td>\n",
              "      <td>0.0</td>\n",
              "      <td>3.0</td>\n",
              "      <td>15.0</td>\n",
              "      <td>16.0</td>\n",
              "      <td>6.0</td>\n",
              "      <td>0.0</td>\n",
              "      <td>0.0</td>\n",
              "      <td>0.0</td>\n",
              "      <td>7.0</td>\n",
              "      <td>15.0</td>\n",
              "      <td>16.0</td>\n",
              "      <td>16.0</td>\n",
              "      <td>2.0</td>\n",
              "      <td>0.0</td>\n",
              "      <td>0.0</td>\n",
              "      <td>0.0</td>\n",
              "      <td>0.0</td>\n",
              "      <td>1.0</td>\n",
              "      <td>16.0</td>\n",
              "      <td>16.0</td>\n",
              "      <td>3.0</td>\n",
              "      <td>0.0</td>\n",
              "      <td>0.0</td>\n",
              "      <td>0.0</td>\n",
              "      <td>0.0</td>\n",
              "      <td>1.0</td>\n",
              "      <td>16.0</td>\n",
              "      <td>16.0</td>\n",
              "      <td>6.0</td>\n",
              "      <td>0.0</td>\n",
              "      <td>0.0</td>\n",
              "      <td>0.0</td>\n",
              "      <td>0.0</td>\n",
              "      <td>1.0</td>\n",
              "      <td>16.0</td>\n",
              "      <td>16.0</td>\n",
              "      <td>6.0</td>\n",
              "      <td>0.0</td>\n",
              "      <td>0.0</td>\n",
              "      <td>0.0</td>\n",
              "      <td>0.0</td>\n",
              "      <td>0.0</td>\n",
              "      <td>11.0</td>\n",
              "      <td>16.0</td>\n",
              "      <td>10.0</td>\n",
              "      <td>0.0</td>\n",
              "      <td>0.0</td>\n",
              "    </tr>\n",
              "    <tr>\n",
              "      <th>2</th>\n",
              "      <td>0.0</td>\n",
              "      <td>0.0</td>\n",
              "      <td>0.0</td>\n",
              "      <td>4.0</td>\n",
              "      <td>15.0</td>\n",
              "      <td>12.0</td>\n",
              "      <td>0.0</td>\n",
              "      <td>0.0</td>\n",
              "      <td>0.0</td>\n",
              "      <td>0.0</td>\n",
              "      <td>3.0</td>\n",
              "      <td>16.0</td>\n",
              "      <td>15.0</td>\n",
              "      <td>14.0</td>\n",
              "      <td>0.0</td>\n",
              "      <td>0.0</td>\n",
              "      <td>0.0</td>\n",
              "      <td>0.0</td>\n",
              "      <td>8.0</td>\n",
              "      <td>13.0</td>\n",
              "      <td>8.0</td>\n",
              "      <td>16.0</td>\n",
              "      <td>0.0</td>\n",
              "      <td>0.0</td>\n",
              "      <td>0.0</td>\n",
              "      <td>0.0</td>\n",
              "      <td>1.0</td>\n",
              "      <td>6.0</td>\n",
              "      <td>15.0</td>\n",
              "      <td>11.0</td>\n",
              "      <td>0.0</td>\n",
              "      <td>0.0</td>\n",
              "      <td>0.0</td>\n",
              "      <td>1.0</td>\n",
              "      <td>8.0</td>\n",
              "      <td>13.0</td>\n",
              "      <td>15.0</td>\n",
              "      <td>1.0</td>\n",
              "      <td>0.0</td>\n",
              "      <td>0.0</td>\n",
              "      <td>0.0</td>\n",
              "      <td>9.0</td>\n",
              "      <td>16.0</td>\n",
              "      <td>16.0</td>\n",
              "      <td>5.0</td>\n",
              "      <td>0.0</td>\n",
              "      <td>0.0</td>\n",
              "      <td>0.0</td>\n",
              "      <td>0.0</td>\n",
              "      <td>3.0</td>\n",
              "      <td>13.0</td>\n",
              "      <td>16.0</td>\n",
              "      <td>16.0</td>\n",
              "      <td>11.0</td>\n",
              "      <td>5.0</td>\n",
              "      <td>0.0</td>\n",
              "      <td>0.0</td>\n",
              "      <td>0.0</td>\n",
              "      <td>0.0</td>\n",
              "      <td>3.0</td>\n",
              "      <td>11.0</td>\n",
              "      <td>16.0</td>\n",
              "      <td>9.0</td>\n",
              "      <td>0.0</td>\n",
              "    </tr>\n",
              "    <tr>\n",
              "      <th>3</th>\n",
              "      <td>0.0</td>\n",
              "      <td>0.0</td>\n",
              "      <td>7.0</td>\n",
              "      <td>15.0</td>\n",
              "      <td>13.0</td>\n",
              "      <td>1.0</td>\n",
              "      <td>0.0</td>\n",
              "      <td>0.0</td>\n",
              "      <td>0.0</td>\n",
              "      <td>8.0</td>\n",
              "      <td>13.0</td>\n",
              "      <td>6.0</td>\n",
              "      <td>15.0</td>\n",
              "      <td>4.0</td>\n",
              "      <td>0.0</td>\n",
              "      <td>0.0</td>\n",
              "      <td>0.0</td>\n",
              "      <td>2.0</td>\n",
              "      <td>1.0</td>\n",
              "      <td>13.0</td>\n",
              "      <td>13.0</td>\n",
              "      <td>0.0</td>\n",
              "      <td>0.0</td>\n",
              "      <td>0.0</td>\n",
              "      <td>0.0</td>\n",
              "      <td>0.0</td>\n",
              "      <td>2.0</td>\n",
              "      <td>15.0</td>\n",
              "      <td>11.0</td>\n",
              "      <td>1.0</td>\n",
              "      <td>0.0</td>\n",
              "      <td>0.0</td>\n",
              "      <td>0.0</td>\n",
              "      <td>0.0</td>\n",
              "      <td>0.0</td>\n",
              "      <td>1.0</td>\n",
              "      <td>12.0</td>\n",
              "      <td>12.0</td>\n",
              "      <td>1.0</td>\n",
              "      <td>0.0</td>\n",
              "      <td>0.0</td>\n",
              "      <td>0.0</td>\n",
              "      <td>0.0</td>\n",
              "      <td>0.0</td>\n",
              "      <td>1.0</td>\n",
              "      <td>10.0</td>\n",
              "      <td>8.0</td>\n",
              "      <td>0.0</td>\n",
              "      <td>0.0</td>\n",
              "      <td>0.0</td>\n",
              "      <td>8.0</td>\n",
              "      <td>4.0</td>\n",
              "      <td>5.0</td>\n",
              "      <td>14.0</td>\n",
              "      <td>9.0</td>\n",
              "      <td>0.0</td>\n",
              "      <td>0.0</td>\n",
              "      <td>0.0</td>\n",
              "      <td>7.0</td>\n",
              "      <td>13.0</td>\n",
              "      <td>13.0</td>\n",
              "      <td>9.0</td>\n",
              "      <td>0.0</td>\n",
              "      <td>0.0</td>\n",
              "    </tr>\n",
              "    <tr>\n",
              "      <th>4</th>\n",
              "      <td>0.0</td>\n",
              "      <td>0.0</td>\n",
              "      <td>0.0</td>\n",
              "      <td>1.0</td>\n",
              "      <td>11.0</td>\n",
              "      <td>0.0</td>\n",
              "      <td>0.0</td>\n",
              "      <td>0.0</td>\n",
              "      <td>0.0</td>\n",
              "      <td>0.0</td>\n",
              "      <td>0.0</td>\n",
              "      <td>7.0</td>\n",
              "      <td>8.0</td>\n",
              "      <td>0.0</td>\n",
              "      <td>0.0</td>\n",
              "      <td>0.0</td>\n",
              "      <td>0.0</td>\n",
              "      <td>0.0</td>\n",
              "      <td>1.0</td>\n",
              "      <td>13.0</td>\n",
              "      <td>6.0</td>\n",
              "      <td>2.0</td>\n",
              "      <td>2.0</td>\n",
              "      <td>0.0</td>\n",
              "      <td>0.0</td>\n",
              "      <td>0.0</td>\n",
              "      <td>7.0</td>\n",
              "      <td>15.0</td>\n",
              "      <td>0.0</td>\n",
              "      <td>9.0</td>\n",
              "      <td>8.0</td>\n",
              "      <td>0.0</td>\n",
              "      <td>0.0</td>\n",
              "      <td>5.0</td>\n",
              "      <td>16.0</td>\n",
              "      <td>10.0</td>\n",
              "      <td>0.0</td>\n",
              "      <td>16.0</td>\n",
              "      <td>6.0</td>\n",
              "      <td>0.0</td>\n",
              "      <td>0.0</td>\n",
              "      <td>4.0</td>\n",
              "      <td>15.0</td>\n",
              "      <td>16.0</td>\n",
              "      <td>13.0</td>\n",
              "      <td>16.0</td>\n",
              "      <td>1.0</td>\n",
              "      <td>0.0</td>\n",
              "      <td>0.0</td>\n",
              "      <td>0.0</td>\n",
              "      <td>0.0</td>\n",
              "      <td>3.0</td>\n",
              "      <td>15.0</td>\n",
              "      <td>10.0</td>\n",
              "      <td>0.0</td>\n",
              "      <td>0.0</td>\n",
              "      <td>0.0</td>\n",
              "      <td>0.0</td>\n",
              "      <td>0.0</td>\n",
              "      <td>2.0</td>\n",
              "      <td>16.0</td>\n",
              "      <td>4.0</td>\n",
              "      <td>0.0</td>\n",
              "      <td>0.0</td>\n",
              "    </tr>\n",
              "  </tbody>\n",
              "</table>\n",
              "</div>"
            ],
            "text/plain": [
              "    0    1    2     3     4     5    6   ...   57   58    59    60    61   62   63\n",
              "0  0.0  0.0  5.0  13.0   9.0   1.0  0.0  ...  0.0  6.0  13.0  10.0   0.0  0.0  0.0\n",
              "1  0.0  0.0  0.0  12.0  13.0   5.0  0.0  ...  0.0  0.0  11.0  16.0  10.0  0.0  0.0\n",
              "2  0.0  0.0  0.0   4.0  15.0  12.0  0.0  ...  0.0  0.0   3.0  11.0  16.0  9.0  0.0\n",
              "3  0.0  0.0  7.0  15.0  13.0   1.0  0.0  ...  0.0  7.0  13.0  13.0   9.0  0.0  0.0\n",
              "4  0.0  0.0  0.0   1.0  11.0   0.0  0.0  ...  0.0  0.0   2.0  16.0   4.0  0.0  0.0\n",
              "\n",
              "[5 rows x 64 columns]"
            ]
          },
          "metadata": {
            "tags": []
          },
          "execution_count": 32
        }
      ]
    },
    {
      "cell_type": "code",
      "metadata": {
        "id": "hMPgWoOWAUC_",
        "colab_type": "code",
        "colab": {
          "base_uri": "https://localhost:8080/",
          "height": 68
        },
        "outputId": "e3584d7e-37e4-457b-fcb5-34490f5370ec"
      },
      "source": [
        "# Create the feature matrix\n",
        "features = digits.data\n",
        "print('The shape of the feature matrix: ', features.shape)\n",
        "\n",
        "# Create the target array\n",
        "target = digits.target\n",
        "print('The shape of the target array: ', target.shape)\n",
        "print('The unique classes in the target: ', np.unique(target))\n"
      ],
      "execution_count": 33,
      "outputs": [
        {
          "output_type": "stream",
          "text": [
            "The shape of the feature matrix:  (1797, 64)\n",
            "The shape of the target array:  (1797,)\n",
            "The unique classes in the target:  [0 1 2 3 4 5 6 7 8 9]\n"
          ],
          "name": "stdout"
        }
      ]
    },
    {
      "cell_type": "code",
      "metadata": {
        "id": "q39M8vkgAUe9",
        "colab_type": "code",
        "colab": {}
      },
      "source": [
        "# Instantiate the standardizier\n",
        "standardizer = StandardScaler()\n",
        "\n",
        "# Instantiate the classifier\n",
        "logreg = LogisticRegression(max_iter=150)\n",
        "\n",
        "# Create the pipeline\n",
        "pipeline = make_pipeline(standardizer, logreg)\n",
        "\n",
        "# Instantiate the k-fold cross-validation \n",
        "kfold_cv = KFold(n_splits=5, shuffle=True, random_state=11)"
      ],
      "execution_count": 34,
      "outputs": []
    },
    {
      "cell_type": "code",
      "metadata": {
        "id": "D3YSLpuLAUkZ",
        "colab_type": "code",
        "colab": {}
      },
      "source": [
        "# Fit the model using k-fold cross-validation\n",
        "cv_scores = cross_val_score(pipeline, features, target,\n",
        "                           cv=kfold_cv, scoring='accuracy')"
      ],
      "execution_count": 35,
      "outputs": []
    },
    {
      "cell_type": "code",
      "metadata": {
        "id": "ONJf8HlzAUpC",
        "colab_type": "code",
        "colab": {
          "base_uri": "https://localhost:8080/",
          "height": 51
        },
        "outputId": "9aa60276-6aea-427d-c0e3-5fd9de1793df"
      },
      "source": [
        "# Print the mean score\n",
        "print('All cv scores: ', cv_scores)\n",
        "\n",
        "# Print the mean score\n",
        "print('Mean of all cv scores: ', cv_scores.mean())"
      ],
      "execution_count": 36,
      "outputs": [
        {
          "output_type": "stream",
          "text": [
            "All cv scores:  [0.97222222 0.96944444 0.95543175 0.97493036 0.98050139]\n",
            "Mean of all cv scores:  0.9705060352831941\n"
          ],
          "name": "stdout"
        }
      ]
    },
    {
      "cell_type": "code",
      "metadata": {
        "id": "ar239kAIAUwr",
        "colab_type": "code",
        "colab": {}
      },
      "source": [
        "# We displayed all of the scores and the mean of scores."
      ],
      "execution_count": 37,
      "outputs": []
    },
    {
      "cell_type": "markdown",
      "metadata": {
        "id": "Z_7Id-GCA39J",
        "colab_type": "text"
      },
      "source": [
        "## 1.2 Use scikit-learn for hyperparameter optimization\n",
        "(From Canvas LMS)  \n",
        "https://lambdaschool.instructure.com/courses/203/modules#module_2774"
      ]
    },
    {
      "cell_type": "markdown",
      "metadata": {
        "id": "DN1T9-ZdA_Hb",
        "colab_type": "text"
      },
      "source": [
        "In this next section we’ll go over an example of varying one parameter and how it affects the accuracy score of the model. Then, we’ll use a few additional scikit-learn tools to implement a search over a specified set of parameters."
      ]
    },
    {
      "cell_type": "code",
      "metadata": {
        "id": "pwdof3onAU0j",
        "colab_type": "code",
        "colab": {}
      },
      "source": [
        "# Import necessary modules\n",
        "import numpy as np\n",
        "import pandas as pd\n",
        "\n",
        "from sklearn import datasets\n",
        "from sklearn.tree import DecisionTreeClassifier\n",
        "from sklearn.model_selection import validation_curve"
      ],
      "execution_count": 38,
      "outputs": []
    },
    {
      "cell_type": "code",
      "metadata": {
        "id": "LQIiV8d0AU4J",
        "colab_type": "code",
        "colab": {
          "base_uri": "https://localhost:8080/",
          "height": 68
        },
        "outputId": "c2570a35-7259-41da-8765-65ea43d3cfd7"
      },
      "source": [
        "# Load the digits data (again! this is the same as above.)\n",
        "\n",
        "# The deafult with 10 classes (digits 0-9)\n",
        "digits = datasets.load_digits(n_class=10)\n",
        "\n",
        "# Create the feature matrix\n",
        "X = digits.data\n",
        "print('The shape of the feature matrix: ', X.shape)\n",
        "\n",
        "# Create the target array\n",
        "y = digits.target\n",
        "print('The shape of the target array: ', y.shape)\n",
        "print('The unique classes in the target: ', np.unique(y))"
      ],
      "execution_count": 39,
      "outputs": [
        {
          "output_type": "stream",
          "text": [
            "The shape of the feature matrix:  (1797, 64)\n",
            "The shape of the target array:  (1797,)\n",
            "The unique classes in the target:  [0 1 2 3 4 5 6 7 8 9]\n"
          ],
          "name": "stdout"
        }
      ]
    },
    {
      "cell_type": "markdown",
      "metadata": {
        "id": "NcMV0Dz0BG9S",
        "colab_type": "text"
      },
      "source": [
        "Using the decision tree classifier from the previous objective, we’ll vary the maximum depth of the tree and look at the accuracy score. The training scores should approach 1 (100% accuracy) as we expect. The testing scores will approach the accuracy of the model but likely won’t be close to 100%, unless we have a really good model."
      ]
    },
    {
      "cell_type": "code",
      "metadata": {
        "id": "8lSSM9jFAVA5",
        "colab_type": "code",
        "colab": {}
      },
      "source": [
        "# Create the validation_curve (which is a range of possible tree-depth values)\n",
        "depth = range(1, 30, 3)\n",
        "train_scores, test_scores = validation_curve(\n",
        "    DecisionTreeClassifier(), X, y, param_name=\"max_depth\", param_range=depth,\n",
        "    scoring=\"accuracy\", n_jobs=1)\n",
        "\n",
        "train_scores_mean = np.mean(train_scores, axis=1)\n",
        "test_scores_mean = np.mean(test_scores, axis=1)"
      ],
      "execution_count": 40,
      "outputs": []
    },
    {
      "cell_type": "code",
      "metadata": {
        "id": "iP0H4AE3AVGh",
        "colab_type": "code",
        "colab": {
          "base_uri": "https://localhost:8080/",
          "height": 513
        },
        "outputId": "2b00cbfc-9526-4630-8a21-395585bcd8c8"
      },
      "source": [
        "# Plot the validation curve\n",
        "import matplotlib.pyplot as plt\n",
        "\n",
        "fig, ax = plt.subplots(figsize=(8,8))\n",
        "\n",
        "ax.plot(depth, train_scores_mean, label=\"Training score\",\n",
        "             color=\"darkorange\", lw=2)\n",
        "ax.plot(depth, test_scores_mean, label=\"Cross-validation score\",\n",
        "             color=\"navy\", lw=2)\n",
        "\n",
        "ax.set_title(\"Validation Curve with Decision Tree Classifier\")\n",
        "ax.set_xlabel(\"Max Tree Depth\")\n",
        "ax.set_ylabel(\"Score (accuracy)\")\n",
        "ax.set_ylim(0.0, 1.1)\n",
        "\n",
        "ax.legend(loc='lower right')\n",
        "plt.savefig('mod3_obj2_validation.png', transparent=False, dpi=150)\n",
        "plt.show()"
      ],
      "execution_count": 41,
      "outputs": [
        {
          "output_type": "display_data",
          "data": {
            "image/png": "[encoded data removed]",
            "text/plain": [
              "<Figure size 576x576 with 1 Axes>"
            ]
          },
          "metadata": {
            "tags": [],
            "needs_background": "light"
          }
        }
      ]
    },
    {
      "cell_type": "markdown",
      "metadata": {
        "id": "2xGCTKGxBlck",
        "colab_type": "text"
      },
      "source": [
        "In the curve above, we varied one parameter to see if the model was overfitting or underfitting on the one parameter. In this case, there is a big difference between the accuracy score when we validate or test the model. This might imply that the model isn’t generalizing well to new data and is possibly overfit."
      ]
    },
    {
      "cell_type": "markdown",
      "metadata": {
        "id": "FXT_Gd22BrAH",
        "colab_type": "text"
      },
      "source": [
        "### Parameter Search\n",
        "In the previous example creating the validation curve, we provide a range of max_depth values. But what if we want to vary more than one of the parameters? We can do this two ways: a grid search or a randomized search. \n",
        "* For a grid search, we create a \"grid\" of all possible values for the parameters we’d like to test. The model with the best performance score and corresponding parameters is the best model.\n",
        "\n",
        "* A randomized search of the parameters is what the name implies: a random search through the parameters space. This way of finding the best parameters is less computationally intensive , as the set of parameters is randomly selected. This way, the set of all possible parameters doesn’t need to be tested, saving some time. \n",
        "\n",
        "In the following example, we’ll implement a random search through a specified set of parameters using the RandomizedSearchCV method."
      ]
    },
    {
      "cell_type": "code",
      "metadata": {
        "id": "QYuxV-ttBfhA",
        "colab_type": "code",
        "colab": {
          "base_uri": "https://localhost:8080/",
          "height": 51
        },
        "outputId": "df1acc8d-f420-4ac0-ef69-44803b4d2bf4"
      },
      "source": [
        "# Import necessary modules\n",
        "from scipy.stats import randint\n",
        "from sklearn.tree import DecisionTreeClassifier\n",
        "from sklearn.model_selection import RandomizedSearchCV\n",
        "\n",
        "# Setup the parameters and distributions to sample from: param_dist\n",
        "param_dist = {\"max_depth\": [3, None],\n",
        "              \"max_features\": randint(1, 9),\n",
        "              \"min_samples_leaf\": randint(1, 9),\n",
        "              \"criterion\": [\"gini\", \"entropy\"]}\n",
        "\n",
        "# Instantiate a Decision Tree classifier: tree\n",
        "tree = DecisionTreeClassifier()\n",
        "\n",
        "# Instantiate the RandomizedSearchCV object: tree_cv\n",
        "tree_cv = RandomizedSearchCV(tree, param_dist, cv=5)\n",
        "\n",
        "# Fit it to the data\n",
        "tree_cv.fit(X, y)\n",
        "\n",
        "# Print the tuned parameters and score\n",
        "print(\"Tuned Decision Tree Parameters: {}\".format(tree_cv.best_params_))\n",
        "print(\"Best score is {}\".format(tree_cv.best_score_))"
      ],
      "execution_count": 42,
      "outputs": [
        {
          "output_type": "stream",
          "text": [
            "Tuned Decision Tree Parameters: {'criterion': 'entropy', 'max_depth': None, 'max_features': 8, 'min_samples_leaf': 4}\n",
            "Best score is 0.7367703497369235\n"
          ],
          "name": "stdout"
        }
      ]
    },
    {
      "cell_type": "code",
      "metadata": {
        "id": "fNN5eejQBfkH",
        "colab_type": "code",
        "colab": {
          "base_uri": "https://localhost:8080/",
          "height": 627
        },
        "outputId": "7c5ad962-475e-4c1b-89ec-cc26be5d0106"
      },
      "source": [
        "# Display cv results by ranking the test scores\n",
        "import pandas as pd\n",
        "pd.DataFrame(tree_cv.cv_results_).sort_values(by='rank_test_score').T\n",
        "# pd.DataFrame(tree_cv.cv_results_).T"
      ],
      "execution_count": 43,
      "outputs": [
        {
          "output_type": "execute_result",
          "data": {
            "text/html": [
              "<div>\n",
              "<style scoped>\n",
              "    .dataframe tbody tr th:only-of-type {\n",
              "        vertical-align: middle;\n",
              "    }\n",
              "\n",
              "    .dataframe tbody tr th {\n",
              "        vertical-align: top;\n",
              "    }\n",
              "\n",
              "    .dataframe thead th {\n",
              "        text-align: right;\n",
              "    }\n",
              "</style>\n",
              "<table border=\"1\" class=\"dataframe\">\n",
              "  <thead>\n",
              "    <tr style=\"text-align: right;\">\n",
              "      <th></th>\n",
              "      <th>0</th>\n",
              "      <th>5</th>\n",
              "      <th>2</th>\n",
              "      <th>9</th>\n",
              "      <th>7</th>\n",
              "      <th>8</th>\n",
              "      <th>1</th>\n",
              "      <th>3</th>\n",
              "      <th>6</th>\n",
              "      <th>4</th>\n",
              "    </tr>\n",
              "  </thead>\n",
              "  <tbody>\n",
              "    <tr>\n",
              "      <th>mean_fit_time</th>\n",
              "      <td>0.00575719</td>\n",
              "      <td>0.00379825</td>\n",
              "      <td>0.00332608</td>\n",
              "      <td>0.00477371</td>\n",
              "      <td>0.00162172</td>\n",
              "      <td>0.00186362</td>\n",
              "      <td>0.00204558</td>\n",
              "      <td>0.00200582</td>\n",
              "      <td>0.00199943</td>\n",
              "      <td>0.00132527</td>\n",
              "    </tr>\n",
              "    <tr>\n",
              "      <th>std_fit_time</th>\n",
              "      <td>0.000737063</td>\n",
              "      <td>0.000259423</td>\n",
              "      <td>0.000130324</td>\n",
              "      <td>0.000420771</td>\n",
              "      <td>0.000170748</td>\n",
              "      <td>9.578e-05</td>\n",
              "      <td>0.000119116</td>\n",
              "      <td>0.000176073</td>\n",
              "      <td>5.46987e-05</td>\n",
              "      <td>0.00018715</td>\n",
              "    </tr>\n",
              "    <tr>\n",
              "      <th>mean_score_time</th>\n",
              "      <td>0.00065918</td>\n",
              "      <td>0.000574064</td>\n",
              "      <td>0.000570631</td>\n",
              "      <td>0.000670862</td>\n",
              "      <td>0.000469685</td>\n",
              "      <td>0.000445414</td>\n",
              "      <td>0.000487804</td>\n",
              "      <td>0.000518799</td>\n",
              "      <td>0.000511837</td>\n",
              "      <td>0.000443029</td>\n",
              "    </tr>\n",
              "    <tr>\n",
              "      <th>std_score_time</th>\n",
              "      <td>4.77596e-05</td>\n",
              "      <td>2.9136e-05</td>\n",
              "      <td>3.75936e-05</td>\n",
              "      <td>0.000168595</td>\n",
              "      <td>2.16565e-05</td>\n",
              "      <td>3.08062e-05</td>\n",
              "      <td>1.79414e-05</td>\n",
              "      <td>9.66035e-05</td>\n",
              "      <td>5.65492e-05</td>\n",
              "      <td>4.02501e-05</td>\n",
              "    </tr>\n",
              "    <tr>\n",
              "      <th>param_criterion</th>\n",
              "      <td>entropy</td>\n",
              "      <td>entropy</td>\n",
              "      <td>entropy</td>\n",
              "      <td>entropy</td>\n",
              "      <td>gini</td>\n",
              "      <td>entropy</td>\n",
              "      <td>gini</td>\n",
              "      <td>entropy</td>\n",
              "      <td>gini</td>\n",
              "      <td>gini</td>\n",
              "    </tr>\n",
              "    <tr>\n",
              "      <th>param_max_depth</th>\n",
              "      <td>None</td>\n",
              "      <td>None</td>\n",
              "      <td>None</td>\n",
              "      <td>None</td>\n",
              "      <td>None</td>\n",
              "      <td>3</td>\n",
              "      <td>3</td>\n",
              "      <td>3</td>\n",
              "      <td>3</td>\n",
              "      <td>None</td>\n",
              "    </tr>\n",
              "    <tr>\n",
              "      <th>param_max_features</th>\n",
              "      <td>8</td>\n",
              "      <td>4</td>\n",
              "      <td>3</td>\n",
              "      <td>5</td>\n",
              "      <td>1</td>\n",
              "      <td>6</td>\n",
              "      <td>8</td>\n",
              "      <td>5</td>\n",
              "      <td>8</td>\n",
              "      <td>1</td>\n",
              "    </tr>\n",
              "    <tr>\n",
              "      <th>param_min_samples_leaf</th>\n",
              "      <td>4</td>\n",
              "      <td>4</td>\n",
              "      <td>4</td>\n",
              "      <td>2</td>\n",
              "      <td>3</td>\n",
              "      <td>6</td>\n",
              "      <td>4</td>\n",
              "      <td>4</td>\n",
              "      <td>3</td>\n",
              "      <td>7</td>\n",
              "    </tr>\n",
              "    <tr>\n",
              "      <th>params</th>\n",
              "      <td>{'criterion': 'entropy', 'max_depth': None, 'm...</td>\n",
              "      <td>{'criterion': 'entropy', 'max_depth': None, 'm...</td>\n",
              "      <td>{'criterion': 'entropy', 'max_depth': None, 'm...</td>\n",
              "      <td>{'criterion': 'entropy', 'max_depth': None, 'm...</td>\n",
              "      <td>{'criterion': 'gini', 'max_depth': None, 'max_...</td>\n",
              "      <td>{'criterion': 'entropy', 'max_depth': 3, 'max_...</td>\n",
              "      <td>{'criterion': 'gini', 'max_depth': 3, 'max_fea...</td>\n",
              "      <td>{'criterion': 'entropy', 'max_depth': 3, 'max_...</td>\n",
              "      <td>{'criterion': 'gini', 'max_depth': 3, 'max_fea...</td>\n",
              "      <td>{'criterion': 'gini', 'max_depth': None, 'max_...</td>\n",
              "    </tr>\n",
              "    <tr>\n",
              "      <th>split0_test_score</th>\n",
              "      <td>0.794444</td>\n",
              "      <td>0.705556</td>\n",
              "      <td>0.586111</td>\n",
              "      <td>0.675</td>\n",
              "      <td>0.588889</td>\n",
              "      <td>0.397222</td>\n",
              "      <td>0.466667</td>\n",
              "      <td>0.472222</td>\n",
              "      <td>0.366667</td>\n",
              "      <td>0.411111</td>\n",
              "    </tr>\n",
              "    <tr>\n",
              "      <th>split1_test_score</th>\n",
              "      <td>0.702778</td>\n",
              "      <td>0.625</td>\n",
              "      <td>0.677778</td>\n",
              "      <td>0.633333</td>\n",
              "      <td>0.502778</td>\n",
              "      <td>0.436111</td>\n",
              "      <td>0.4</td>\n",
              "      <td>0.336111</td>\n",
              "      <td>0.327778</td>\n",
              "      <td>0.447222</td>\n",
              "    </tr>\n",
              "    <tr>\n",
              "      <th>split2_test_score</th>\n",
              "      <td>0.713092</td>\n",
              "      <td>0.766017</td>\n",
              "      <td>0.682451</td>\n",
              "      <td>0.618384</td>\n",
              "      <td>0.54039</td>\n",
              "      <td>0.476323</td>\n",
              "      <td>0.395543</td>\n",
              "      <td>0.350975</td>\n",
              "      <td>0.543175</td>\n",
              "      <td>0.4039</td>\n",
              "    </tr>\n",
              "    <tr>\n",
              "      <th>split3_test_score</th>\n",
              "      <td>0.752089</td>\n",
              "      <td>0.788301</td>\n",
              "      <td>0.796657</td>\n",
              "      <td>0.724234</td>\n",
              "      <td>0.5961</td>\n",
              "      <td>0.506964</td>\n",
              "      <td>0.476323</td>\n",
              "      <td>0.543175</td>\n",
              "      <td>0.406685</td>\n",
              "      <td>0.562674</td>\n",
              "    </tr>\n",
              "    <tr>\n",
              "      <th>split4_test_score</th>\n",
              "      <td>0.721448</td>\n",
              "      <td>0.635097</td>\n",
              "      <td>0.64624</td>\n",
              "      <td>0.704735</td>\n",
              "      <td>0.292479</td>\n",
              "      <td>0.428969</td>\n",
              "      <td>0.495822</td>\n",
              "      <td>0.415042</td>\n",
              "      <td>0.43454</td>\n",
              "      <td>0.103064</td>\n",
              "    </tr>\n",
              "    <tr>\n",
              "      <th>mean_test_score</th>\n",
              "      <td>0.73677</td>\n",
              "      <td>0.703994</td>\n",
              "      <td>0.677847</td>\n",
              "      <td>0.671137</td>\n",
              "      <td>0.504127</td>\n",
              "      <td>0.449118</td>\n",
              "      <td>0.446871</td>\n",
              "      <td>0.423505</td>\n",
              "      <td>0.415769</td>\n",
              "      <td>0.385594</td>\n",
              "    </tr>\n",
              "    <tr>\n",
              "      <th>std_test_score</th>\n",
              "      <td>0.0332021</td>\n",
              "      <td>0.0662475</td>\n",
              "      <td>0.0686318</td>\n",
              "      <td>0.0404352</td>\n",
              "      <td>0.111135</td>\n",
              "      <td>0.0383525</td>\n",
              "      <td>0.0411993</td>\n",
              "      <td>0.0770251</td>\n",
              "      <td>0.0732404</td>\n",
              "      <td>0.152292</td>\n",
              "    </tr>\n",
              "    <tr>\n",
              "      <th>rank_test_score</th>\n",
              "      <td>1</td>\n",
              "      <td>2</td>\n",
              "      <td>3</td>\n",
              "      <td>4</td>\n",
              "      <td>5</td>\n",
              "      <td>6</td>\n",
              "      <td>7</td>\n",
              "      <td>8</td>\n",
              "      <td>9</td>\n",
              "      <td>10</td>\n",
              "    </tr>\n",
              "  </tbody>\n",
              "</table>\n",
              "</div>"
            ],
            "text/plain": [
              "                                                                        0  ...                                                  4\n",
              "mean_fit_time                                                  0.00575719  ...                                         0.00132527\n",
              "std_fit_time                                                  0.000737063  ...                                         0.00018715\n",
              "mean_score_time                                                0.00065918  ...                                        0.000443029\n",
              "std_score_time                                                4.77596e-05  ...                                        4.02501e-05\n",
              "param_criterion                                                   entropy  ...                                               gini\n",
              "param_max_depth                                                      None  ...                                               None\n",
              "param_max_features                                                      8  ...                                                  1\n",
              "param_min_samples_leaf                                                  4  ...                                                  7\n",
              "params                  {'criterion': 'entropy', 'max_depth': None, 'm...  ...  {'criterion': 'gini', 'max_depth': None, 'max_...\n",
              "split0_test_score                                                0.794444  ...                                           0.411111\n",
              "split1_test_score                                                0.702778  ...                                           0.447222\n",
              "split2_test_score                                                0.713092  ...                                             0.4039\n",
              "split3_test_score                                                0.752089  ...                                           0.562674\n",
              "split4_test_score                                                0.721448  ...                                           0.103064\n",
              "mean_test_score                                                   0.73677  ...                                           0.385594\n",
              "std_test_score                                                  0.0332021  ...                                           0.152292\n",
              "rank_test_score                                                         1  ...                                                 10\n",
              "\n",
              "[17 rows x 10 columns]"
            ]
          },
          "metadata": {
            "tags": []
          },
          "execution_count": 43
        }
      ]
    },
    {
      "cell_type": "markdown",
      "metadata": {
        "id": "CLTWFQj1HjaY",
        "colab_type": "text"
      },
      "source": [
        "Based on these results, we can see that Model 9 (with a mean_test_score of 73%) has the best parameters "
      ]
    },
    {
      "cell_type": "markdown",
      "metadata": {
        "id": "nIFhEeSQBYBL",
        "colab_type": "text"
      },
      "source": [
        "# Part 2. Long example (NYC Apartments)"
      ]
    },
    {
      "cell_type": "markdown",
      "metadata": {
        "id": "hs5L8mEEcHYm",
        "colab_type": "text"
      },
      "source": [
        "# Do cross-validation with independent test set"
      ]
    },
    {
      "cell_type": "markdown",
      "metadata": {
        "id": "apt5_A13cHYn",
        "colab_type": "text"
      },
      "source": [
        "## Overview"
      ]
    },
    {
      "cell_type": "markdown",
      "metadata": {
        "id": "fQN01EERcHYn",
        "colab_type": "text"
      },
      "source": [
        "### Predict rent in NYC 🏠\n",
        "\n",
        "We're going back to one of our New York City real estate datasets. "
      ]
    },
    {
      "cell_type": "code",
      "metadata": {
        "id": "SV266s2PcHYo",
        "colab_type": "code",
        "colab": {}
      },
      "source": [
        "import numpy as np\n",
        "import pandas as pd\n",
        "\n",
        "# Read New York City apartment rental listing data\n",
        "df = pd.read_csv(DATA_PATH+'apartments/renthop-nyc.csv')\n",
        "assert df.shape == (49352, 34)\n",
        "\n",
        "# Remove the most extreme 1% prices,\n",
        "# the most extreme .1% latitudes, &\n",
        "# the most extreme .1% longitudes\n",
        "df = df[(df['price'] >= np.percentile(df['price'], 0.5)) & \n",
        "        (df['price'] <= np.percentile(df['price'], 99.5)) & \n",
        "        (df['latitude'] >= np.percentile(df['latitude'], 0.05)) & \n",
        "        (df['latitude'] < np.percentile(df['latitude'], 99.95)) &\n",
        "        (df['longitude'] >= np.percentile(df['longitude'], 0.05)) & \n",
        "        (df['longitude'] <= np.percentile(df['longitude'], 99.95))]\n",
        "\n",
        "# Do train/test split\n",
        "# Use data from April & May 2016 to train\n",
        "# Use data from June 2016 to test\n",
        "df['created'] = pd.to_datetime(df['created'], infer_datetime_format=True)\n",
        "cutoff = pd.to_datetime('2016-06-01')\n",
        "train = df[df.created < cutoff]\n",
        "test  = df[df.created >= cutoff]\n",
        "\n",
        "# Wrangle train & test sets in the same way\n",
        "def engineer_features(df):\n",
        "    \n",
        "    # Avoid SettingWithCopyWarning\n",
        "    df = df.copy()\n",
        "        \n",
        "    # Does the apartment have a description?\n",
        "    df['description'] = df['description'].str.strip().fillna('')\n",
        "    df['has_description'] = df['description'] != ''\n",
        "\n",
        "    # How long is the description?\n",
        "    df['description_length'] = df['description'].str.len()\n",
        "\n",
        "    # How many total perks does each apartment have?\n",
        "    perk_cols = ['elevator', 'cats_allowed', 'hardwood_floors', 'dogs_allowed',\n",
        "                 'doorman', 'dishwasher', 'no_fee', 'laundry_in_building',\n",
        "                 'fitness_center', 'pre-war', 'laundry_in_unit', 'roof_deck',\n",
        "                 'outdoor_space', 'dining_room', 'high_speed_internet', 'balcony',\n",
        "                 'swimming_pool', 'new_construction', 'exclusive', 'terrace', \n",
        "                 'loft', 'garden_patio', 'common_outdoor_space', \n",
        "                 'wheelchair_access']\n",
        "    df['perk_count'] = df[perk_cols].sum(axis=1)\n",
        "\n",
        "    # Are cats or dogs allowed?\n",
        "    df['cats_or_dogs'] = (df['cats_allowed']==1) | (df['dogs_allowed']==1)\n",
        "\n",
        "    # Are cats and dogs allowed?\n",
        "    df['cats_and_dogs'] = (df['cats_allowed']==1) & (df['dogs_allowed']==1)\n",
        "\n",
        "    # Total number of rooms (beds + baths)\n",
        "    df['rooms'] = df['bedrooms'] + df['bathrooms']\n",
        "    \n",
        "    # Extract number of days elapsed in year, and drop original date feature\n",
        "    df['days'] = (df['created'] - pd.to_datetime('2016-01-01')).dt.days\n",
        "    df = df.drop(columns='created')\n",
        "\n",
        "    return df\n",
        "\n",
        "train = engineer_features(train)\n",
        "test = engineer_features(test)"
      ],
      "execution_count": 44,
      "outputs": []
    },
    {
      "cell_type": "code",
      "metadata": {
        "id": "t0O82Q85UNrZ",
        "colab_type": "code",
        "colab": {
          "base_uri": "https://localhost:8080/",
          "height": 204
        },
        "outputId": "cfdf58a9-d6fc-4323-fc7c-ff359d77f08b"
      },
      "source": [
        "# what does our target look like?\n",
        "train[['price']].sample(5)"
      ],
      "execution_count": 45,
      "outputs": [
        {
          "output_type": "execute_result",
          "data": {
            "text/html": [
              "<div>\n",
              "<style scoped>\n",
              "    .dataframe tbody tr th:only-of-type {\n",
              "        vertical-align: middle;\n",
              "    }\n",
              "\n",
              "    .dataframe tbody tr th {\n",
              "        vertical-align: top;\n",
              "    }\n",
              "\n",
              "    .dataframe thead th {\n",
              "        text-align: right;\n",
              "    }\n",
              "</style>\n",
              "<table border=\"1\" class=\"dataframe\">\n",
              "  <thead>\n",
              "    <tr style=\"text-align: right;\">\n",
              "      <th></th>\n",
              "      <th>price</th>\n",
              "    </tr>\n",
              "  </thead>\n",
              "  <tbody>\n",
              "    <tr>\n",
              "      <th>34854</th>\n",
              "      <td>3678</td>\n",
              "    </tr>\n",
              "    <tr>\n",
              "      <th>46082</th>\n",
              "      <td>2950</td>\n",
              "    </tr>\n",
              "    <tr>\n",
              "      <th>24743</th>\n",
              "      <td>3000</td>\n",
              "    </tr>\n",
              "    <tr>\n",
              "      <th>43241</th>\n",
              "      <td>3750</td>\n",
              "    </tr>\n",
              "    <tr>\n",
              "      <th>28126</th>\n",
              "      <td>2250</td>\n",
              "    </tr>\n",
              "  </tbody>\n",
              "</table>\n",
              "</div>"
            ],
            "text/plain": [
              "       price\n",
              "34854   3678\n",
              "46082   2950\n",
              "24743   3000\n",
              "43241   3750\n",
              "28126   2250"
            ]
          },
          "metadata": {
            "tags": []
          },
          "execution_count": 45
        }
      ]
    },
    {
      "cell_type": "code",
      "metadata": {
        "id": "nJAG83GfUBvy",
        "colab_type": "code",
        "colab": {
          "base_uri": "https://localhost:8080/",
          "height": 496
        },
        "outputId": "6629488f-7c8c-4bea-cecc-bf4ad6a26981"
      },
      "source": [
        "# what does our entire dataset look like?\n",
        "train.head()"
      ],
      "execution_count": 46,
      "outputs": [
        {
          "output_type": "execute_result",
          "data": {
            "text/html": [
              "<div>\n",
              "<style scoped>\n",
              "    .dataframe tbody tr th:only-of-type {\n",
              "        vertical-align: middle;\n",
              "    }\n",
              "\n",
              "    .dataframe tbody tr th {\n",
              "        vertical-align: top;\n",
              "    }\n",
              "\n",
              "    .dataframe thead th {\n",
              "        text-align: right;\n",
              "    }\n",
              "</style>\n",
              "<table border=\"1\" class=\"dataframe\">\n",
              "  <thead>\n",
              "    <tr style=\"text-align: right;\">\n",
              "      <th></th>\n",
              "      <th>bathrooms</th>\n",
              "      <th>bedrooms</th>\n",
              "      <th>description</th>\n",
              "      <th>display_address</th>\n",
              "      <th>latitude</th>\n",
              "      <th>longitude</th>\n",
              "      <th>price</th>\n",
              "      <th>street_address</th>\n",
              "      <th>interest_level</th>\n",
              "      <th>elevator</th>\n",
              "      <th>cats_allowed</th>\n",
              "      <th>hardwood_floors</th>\n",
              "      <th>dogs_allowed</th>\n",
              "      <th>doorman</th>\n",
              "      <th>dishwasher</th>\n",
              "      <th>no_fee</th>\n",
              "      <th>laundry_in_building</th>\n",
              "      <th>fitness_center</th>\n",
              "      <th>pre-war</th>\n",
              "      <th>laundry_in_unit</th>\n",
              "      <th>roof_deck</th>\n",
              "      <th>outdoor_space</th>\n",
              "      <th>dining_room</th>\n",
              "      <th>high_speed_internet</th>\n",
              "      <th>balcony</th>\n",
              "      <th>swimming_pool</th>\n",
              "      <th>new_construction</th>\n",
              "      <th>terrace</th>\n",
              "      <th>exclusive</th>\n",
              "      <th>loft</th>\n",
              "      <th>garden_patio</th>\n",
              "      <th>wheelchair_access</th>\n",
              "      <th>common_outdoor_space</th>\n",
              "      <th>has_description</th>\n",
              "      <th>description_length</th>\n",
              "      <th>perk_count</th>\n",
              "      <th>cats_or_dogs</th>\n",
              "      <th>cats_and_dogs</th>\n",
              "      <th>rooms</th>\n",
              "      <th>days</th>\n",
              "    </tr>\n",
              "  </thead>\n",
              "  <tbody>\n",
              "    <tr>\n",
              "      <th>2</th>\n",
              "      <td>1.0</td>\n",
              "      <td>1</td>\n",
              "      <td>Top Top West Village location, beautiful Pre-w...</td>\n",
              "      <td>W 13 Street</td>\n",
              "      <td>40.7388</td>\n",
              "      <td>-74.0018</td>\n",
              "      <td>2850</td>\n",
              "      <td>241 W 13 Street</td>\n",
              "      <td>high</td>\n",
              "      <td>0</td>\n",
              "      <td>0</td>\n",
              "      <td>1</td>\n",
              "      <td>0</td>\n",
              "      <td>0</td>\n",
              "      <td>1</td>\n",
              "      <td>0</td>\n",
              "      <td>1</td>\n",
              "      <td>0</td>\n",
              "      <td>0</td>\n",
              "      <td>0</td>\n",
              "      <td>0</td>\n",
              "      <td>0</td>\n",
              "      <td>0</td>\n",
              "      <td>0</td>\n",
              "      <td>0</td>\n",
              "      <td>0</td>\n",
              "      <td>0</td>\n",
              "      <td>0</td>\n",
              "      <td>0</td>\n",
              "      <td>0</td>\n",
              "      <td>0</td>\n",
              "      <td>0</td>\n",
              "      <td>0</td>\n",
              "      <td>True</td>\n",
              "      <td>690</td>\n",
              "      <td>3</td>\n",
              "      <td>False</td>\n",
              "      <td>False</td>\n",
              "      <td>2.0</td>\n",
              "      <td>107</td>\n",
              "    </tr>\n",
              "    <tr>\n",
              "      <th>3</th>\n",
              "      <td>1.0</td>\n",
              "      <td>1</td>\n",
              "      <td>Building Amenities - Garage - Garden - fitness...</td>\n",
              "      <td>East 49th Street</td>\n",
              "      <td>40.7539</td>\n",
              "      <td>-73.9677</td>\n",
              "      <td>3275</td>\n",
              "      <td>333 East 49th Street</td>\n",
              "      <td>low</td>\n",
              "      <td>0</td>\n",
              "      <td>0</td>\n",
              "      <td>1</td>\n",
              "      <td>0</td>\n",
              "      <td>0</td>\n",
              "      <td>0</td>\n",
              "      <td>1</td>\n",
              "      <td>0</td>\n",
              "      <td>0</td>\n",
              "      <td>0</td>\n",
              "      <td>0</td>\n",
              "      <td>0</td>\n",
              "      <td>0</td>\n",
              "      <td>0</td>\n",
              "      <td>0</td>\n",
              "      <td>0</td>\n",
              "      <td>0</td>\n",
              "      <td>0</td>\n",
              "      <td>0</td>\n",
              "      <td>0</td>\n",
              "      <td>0</td>\n",
              "      <td>0</td>\n",
              "      <td>0</td>\n",
              "      <td>0</td>\n",
              "      <td>True</td>\n",
              "      <td>491</td>\n",
              "      <td>2</td>\n",
              "      <td>False</td>\n",
              "      <td>False</td>\n",
              "      <td>2.0</td>\n",
              "      <td>108</td>\n",
              "    </tr>\n",
              "    <tr>\n",
              "      <th>4</th>\n",
              "      <td>1.0</td>\n",
              "      <td>4</td>\n",
              "      <td>Beautifully renovated 3 bedroom flex 4 bedroom...</td>\n",
              "      <td>West 143rd Street</td>\n",
              "      <td>40.8241</td>\n",
              "      <td>-73.9493</td>\n",
              "      <td>3350</td>\n",
              "      <td>500 West 143rd Street</td>\n",
              "      <td>low</td>\n",
              "      <td>0</td>\n",
              "      <td>0</td>\n",
              "      <td>0</td>\n",
              "      <td>0</td>\n",
              "      <td>0</td>\n",
              "      <td>0</td>\n",
              "      <td>0</td>\n",
              "      <td>0</td>\n",
              "      <td>0</td>\n",
              "      <td>1</td>\n",
              "      <td>0</td>\n",
              "      <td>0</td>\n",
              "      <td>0</td>\n",
              "      <td>0</td>\n",
              "      <td>0</td>\n",
              "      <td>0</td>\n",
              "      <td>0</td>\n",
              "      <td>0</td>\n",
              "      <td>0</td>\n",
              "      <td>0</td>\n",
              "      <td>0</td>\n",
              "      <td>0</td>\n",
              "      <td>0</td>\n",
              "      <td>0</td>\n",
              "      <td>True</td>\n",
              "      <td>478</td>\n",
              "      <td>1</td>\n",
              "      <td>False</td>\n",
              "      <td>False</td>\n",
              "      <td>5.0</td>\n",
              "      <td>118</td>\n",
              "    </tr>\n",
              "    <tr>\n",
              "      <th>5</th>\n",
              "      <td>2.0</td>\n",
              "      <td>4</td>\n",
              "      <td></td>\n",
              "      <td>West 18th Street</td>\n",
              "      <td>40.7429</td>\n",
              "      <td>-74.0028</td>\n",
              "      <td>7995</td>\n",
              "      <td>350 West 18th Street</td>\n",
              "      <td>medium</td>\n",
              "      <td>0</td>\n",
              "      <td>0</td>\n",
              "      <td>0</td>\n",
              "      <td>0</td>\n",
              "      <td>0</td>\n",
              "      <td>0</td>\n",
              "      <td>0</td>\n",
              "      <td>0</td>\n",
              "      <td>0</td>\n",
              "      <td>0</td>\n",
              "      <td>0</td>\n",
              "      <td>0</td>\n",
              "      <td>0</td>\n",
              "      <td>0</td>\n",
              "      <td>0</td>\n",
              "      <td>0</td>\n",
              "      <td>0</td>\n",
              "      <td>0</td>\n",
              "      <td>0</td>\n",
              "      <td>0</td>\n",
              "      <td>0</td>\n",
              "      <td>0</td>\n",
              "      <td>0</td>\n",
              "      <td>0</td>\n",
              "      <td>False</td>\n",
              "      <td>0</td>\n",
              "      <td>0</td>\n",
              "      <td>False</td>\n",
              "      <td>False</td>\n",
              "      <td>6.0</td>\n",
              "      <td>109</td>\n",
              "    </tr>\n",
              "    <tr>\n",
              "      <th>6</th>\n",
              "      <td>1.0</td>\n",
              "      <td>2</td>\n",
              "      <td>Stunning unit with a great location and lots o...</td>\n",
              "      <td>West 107th Street</td>\n",
              "      <td>40.8012</td>\n",
              "      <td>-73.9660</td>\n",
              "      <td>3600</td>\n",
              "      <td>210 West 107th Street</td>\n",
              "      <td>low</td>\n",
              "      <td>0</td>\n",
              "      <td>1</td>\n",
              "      <td>0</td>\n",
              "      <td>1</td>\n",
              "      <td>0</td>\n",
              "      <td>0</td>\n",
              "      <td>1</td>\n",
              "      <td>0</td>\n",
              "      <td>0</td>\n",
              "      <td>0</td>\n",
              "      <td>0</td>\n",
              "      <td>0</td>\n",
              "      <td>0</td>\n",
              "      <td>0</td>\n",
              "      <td>0</td>\n",
              "      <td>0</td>\n",
              "      <td>0</td>\n",
              "      <td>0</td>\n",
              "      <td>0</td>\n",
              "      <td>0</td>\n",
              "      <td>0</td>\n",
              "      <td>0</td>\n",
              "      <td>0</td>\n",
              "      <td>0</td>\n",
              "      <td>True</td>\n",
              "      <td>578</td>\n",
              "      <td>3</td>\n",
              "      <td>True</td>\n",
              "      <td>True</td>\n",
              "      <td>3.0</td>\n",
              "      <td>117</td>\n",
              "    </tr>\n",
              "  </tbody>\n",
              "</table>\n",
              "</div>"
            ],
            "text/plain": [
              "   bathrooms  bedrooms  ... rooms days\n",
              "2        1.0         1  ...   2.0  107\n",
              "3        1.0         1  ...   2.0  108\n",
              "4        1.0         4  ...   5.0  118\n",
              "5        2.0         4  ...   6.0  109\n",
              "6        1.0         2  ...   3.0  117\n",
              "\n",
              "[5 rows x 40 columns]"
            ]
          },
          "metadata": {
            "tags": []
          },
          "execution_count": 46
        }
      ]
    },
    {
      "cell_type": "markdown",
      "metadata": {
        "id": "95822EbAcHYv",
        "colab_type": "text"
      },
      "source": [
        "### Validation options"
      ]
    },
    {
      "cell_type": "markdown",
      "metadata": {
        "colab_type": "text",
        "id": "Hr-Dt67Gv2cB"
      },
      "source": [
        "Let's take another look at [Sebastian Raschka's diagram of model evaluation methods.](https://sebastianraschka.com/blog/2018/model-evaluation-selection-part4.html) So far we've been using \"**train/validation/test split**\", but we have more options. \n",
        "\n",
        "Today we'll learn about \"k-fold **cross-validation** with independent test set\", for \"model selection (**hyperparameter optimization**) and performance estimation.\"\n",
        "\n",
        "<img src=\"https://sebastianraschka.com/images/blog/2018/model-evaluation-selection-part4/model-eval-conclusions.jpg\" width=\"600\">\n",
        "\n",
        "<sup>Source: https://sebastianraschka.com/blog/2018/model-evaluation-selection-part4.html</sup>\n",
        "\n"
      ]
    },
    {
      "cell_type": "markdown",
      "metadata": {
        "id": "_mjpF64lcHYx",
        "colab_type": "text"
      },
      "source": [
        "## Follow Along"
      ]
    },
    {
      "cell_type": "markdown",
      "metadata": {
        "colab_type": "text",
        "id": "o10EvckQv2cC"
      },
      "source": [
        "### cross_val_score\n",
        "\n",
        "How do we get started? According to the [Scikit-Learn User Guide](https://scikit-learn.org/stable/modules/cross_validation.html#computing-cross-validated-metrics), \n",
        "\n",
        "> The simplest way to use cross-validation is to call the [**`cross_val_score`**](https://scikit-learn.org/stable/modules/generated/sklearn.model_selection.cross_val_score.html) helper function\n",
        "\n",
        "But, there's a quirk: For scikit-learn's cross-validation [**scoring**](https://scikit-learn.org/stable/modules/model_evaluation.html#scoring-parameter), higher is better. But for regression error metrics, lower is better. So scikit-learn multiplies regression error metrics by -1 to make them negative. That's why the value of the `scoring` parameter is `'neg_mean_absolute_error'`.\n",
        "\n",
        "So, k-fold cross-validation with this dataset looks like this:"
      ]
    },
    {
      "cell_type": "markdown",
      "metadata": {
        "id": "DeoNM4uycHYy",
        "colab_type": "text"
      },
      "source": [
        "### Linear Model"
      ]
    },
    {
      "cell_type": "code",
      "metadata": {
        "id": "2fXKjCLIcHYz",
        "colab_type": "code",
        "colab": {
          "base_uri": "https://localhost:8080/",
          "height": 34
        },
        "outputId": "b27955e8-4fc3-4ed1-c569-887d563c9aa1"
      },
      "source": [
        "import category_encoders as ce\n",
        "import numpy as np\n",
        "from sklearn.feature_selection import f_regression, SelectKBest\n",
        "from sklearn.impute import SimpleImputer\n",
        "from sklearn.linear_model import Ridge\n",
        "from sklearn.model_selection import cross_val_score\n",
        "from sklearn.pipeline import make_pipeline\n",
        "from sklearn.preprocessing import StandardScaler\n",
        "\n",
        "target = 'price'\n",
        "high_cardinality = ['display_address', 'street_address', 'description']\n",
        "features = train.columns.drop([target] + high_cardinality)\n",
        "X_train = train[features]\n",
        "y_train = train[target]\n",
        "\n",
        "pipeline = make_pipeline(\n",
        "    ce.OneHotEncoder(use_cat_names=True), \n",
        "    SimpleImputer(strategy='mean'), \n",
        "    StandardScaler(), \n",
        "    SelectKBest(f_regression, k=20), \n",
        "    Ridge(alpha=1.0)\n",
        ")\n",
        "\n",
        "k = 3\n",
        "scores = cross_val_score(pipeline, X_train, y_train, cv=k, \n",
        "                         scoring='neg_mean_absolute_error')\n",
        "print(f'MAE for {k} folds:', -scores)"
      ],
      "execution_count": 47,
      "outputs": [
        {
          "output_type": "stream",
          "text": [
            "MAE for 3 folds: [688.76802481 669.12666062 679.61427975]\n"
          ],
          "name": "stdout"
        }
      ]
    },
    {
      "cell_type": "code",
      "metadata": {
        "scrolled": true,
        "id": "Me9C3GmxcHY1",
        "colab_type": "code",
        "colab": {
          "base_uri": "https://localhost:8080/",
          "height": 34
        },
        "outputId": "c5158b2a-9e04-4b6b-dc0d-c5b83e73a29b"
      },
      "source": [
        "-scores.mean()"
      ],
      "execution_count": 48,
      "outputs": [
        {
          "output_type": "execute_result",
          "data": {
            "text/plain": [
              "679.1696550623268"
            ]
          },
          "metadata": {
            "tags": []
          },
          "execution_count": 48
        }
      ]
    },
    {
      "cell_type": "code",
      "metadata": {
        "id": "LVWiBeU1xaV0",
        "colab_type": "code",
        "colab": {
          "base_uri": "https://localhost:8080/",
          "height": 34
        },
        "outputId": "a3bf1704-87fb-4bb9-e50e-9801f6bc2b56"
      },
      "source": [
        "import numpy as np\n",
        "np.std(-scores)"
      ],
      "execution_count": 49,
      "outputs": [
        {
          "output_type": "execute_result",
          "data": {
            "text/plain": [
              "8.024714539669404"
            ]
          },
          "metadata": {
            "tags": []
          },
          "execution_count": 49
        }
      ]
    },
    {
      "cell_type": "markdown",
      "metadata": {
        "id": "yqUqQT8HcHY3",
        "colab_type": "text"
      },
      "source": [
        "### Random Forest"
      ]
    },
    {
      "cell_type": "code",
      "metadata": {
        "id": "6lHm17r7cHY3",
        "colab_type": "code",
        "colab": {
          "base_uri": "https://localhost:8080/",
          "height": 34
        },
        "outputId": "34b07406-cd0a-4316-be51-429a554e5890"
      },
      "source": [
        "from sklearn.ensemble import RandomForestRegressor\n",
        "\n",
        "features = train.columns.drop(target)\n",
        "X_train = train[features]\n",
        "y_train = train[target]\n",
        "\n",
        "pipeline = make_pipeline(\n",
        "    ce.TargetEncoder(min_samples_leaf=1, smoothing=1), \n",
        "    SimpleImputer(strategy='median'), \n",
        "    RandomForestRegressor(n_estimators=100, n_jobs=-1, random_state=42)\n",
        ")\n",
        "\n",
        "k = 3\n",
        "scores = cross_val_score(pipeline, X_train, y_train, cv=k, \n",
        "                         scoring='neg_mean_absolute_error')\n",
        "print(f'MAE for {k} folds:', -scores)"
      ],
      "execution_count": 50,
      "outputs": [
        {
          "output_type": "stream",
          "text": [
            "MAE for 3 folds: [392.28996182 404.92923235 388.97416404]\n"
          ],
          "name": "stdout"
        }
      ]
    },
    {
      "cell_type": "code",
      "metadata": {
        "id": "H7YdnRcmcHY6",
        "colab_type": "code",
        "colab": {
          "base_uri": "https://localhost:8080/",
          "height": 34
        },
        "outputId": "3752c2ce-bc82-4212-f5d5-7d78fe77bf71"
      },
      "source": [
        "-scores.mean()"
      ],
      "execution_count": 51,
      "outputs": [
        {
          "output_type": "execute_result",
          "data": {
            "text/plain": [
              "395.3977860725861"
            ]
          },
          "metadata": {
            "tags": []
          },
          "execution_count": 51
        }
      ]
    },
    {
      "cell_type": "markdown",
      "metadata": {
        "colab_type": "text",
        "id": "7dq-PfpGZSHJ"
      },
      "source": [
        "But the Random Forest has many hyperparameters. We mostly used the defaults, and arbitrarily chose `n_estimators`. Is it too high? Too low? Just right? How do we know?"
      ]
    },
    {
      "cell_type": "code",
      "metadata": {
        "colab_type": "code",
        "id": "YCubg7EbjZyT",
        "colab": {
          "base_uri": "https://localhost:8080/",
          "height": 153
        },
        "outputId": "e4893841-d008-4aec-9ee1-ffa8756a7402"
      },
      "source": [
        "print('Model Hyperparameters:')\n",
        "print(pipeline.named_steps['randomforestregressor'])"
      ],
      "execution_count": 52,
      "outputs": [
        {
          "output_type": "stream",
          "text": [
            "Model Hyperparameters:\n",
            "RandomForestRegressor(bootstrap=True, ccp_alpha=0.0, criterion='mse',\n",
            "                      max_depth=None, max_features='auto', max_leaf_nodes=None,\n",
            "                      max_samples=None, min_impurity_decrease=0.0,\n",
            "                      min_impurity_split=None, min_samples_leaf=1,\n",
            "                      min_samples_split=2, min_weight_fraction_leaf=0.0,\n",
            "                      n_estimators=100, n_jobs=-1, oob_score=False,\n",
            "                      random_state=42, verbose=0, warm_start=False)\n"
          ],
          "name": "stdout"
        }
      ]
    },
    {
      "cell_type": "markdown",
      "metadata": {
        "id": "dpeaYB3TcHY_",
        "colab_type": "text"
      },
      "source": [
        "## Challenge\n",
        "\n",
        "You will continue to participate in our Kaggle challenge. Use cross-validation and submit new predictions."
      ]
    },
    {
      "cell_type": "markdown",
      "metadata": {
        "id": "CuKRPJ6JcHY_",
        "colab_type": "text"
      },
      "source": [
        "# Use scikit-learn for hyperparameter optimization"
      ]
    },
    {
      "cell_type": "markdown",
      "metadata": {
        "id": "oK3vRczrcHZA",
        "colab_type": "text"
      },
      "source": [
        "## Overview"
      ]
    },
    {
      "cell_type": "markdown",
      "metadata": {
        "colab_type": "text",
        "id": "bk6o8W7Cv2cE"
      },
      "source": [
        "\"The universal tension in machine learning is between optimization and generalization; the ideal model is one that stands right at the border between underfitting and overfitting; between undercapacity and overcapacity. To figure out where this border lies, first you must cross it.\" —[Francois Chollet](https://books.google.com/books?id=dadfDwAAQBAJ&pg=PA114)"
      ]
    },
    {
      "cell_type": "markdown",
      "metadata": {
        "colab_type": "text",
        "id": "p8uKvR_pv2cG"
      },
      "source": [
        "### Validation Curve\n",
        "\n",
        "Let's try different parameter values, and visualize \"the border between underfitting and overfitting.\" \n",
        "\n",
        "Using scikit-learn, we can make [validation curves](https://scikit-learn.org/stable/modules/generated/sklearn.model_selection.validation_curve.html), \"to determine training and test scores for varying parameter values. This is similar to grid search with one parameter.\""
      ]
    },
    {
      "cell_type": "markdown",
      "metadata": {
        "colab_type": "text",
        "id": "hEIxeNXdv2cF"
      },
      "source": [
        "<img src=\"https://jakevdp.github.io/PythonDataScienceHandbook/figures/05.03-validation-curve.png\">\n",
        "\n",
        "<sup>Source: https://jakevdp.github.io/PythonDataScienceHandbook/05.03-hyperparameters-and-model-validation.html#Validation-curves-in-Scikit-Learn</sup>"
      ]
    },
    {
      "cell_type": "markdown",
      "metadata": {
        "colab_type": "text",
        "id": "r3bbgaP2c3Pr"
      },
      "source": [
        "Validation curves are awesome for learning about overfitting and underfitting. (But less useful in real-world projects, because we usually want to vary more than one parameter.)\n",
        "\n",
        "For this example, let's see what happens when we vary the depth of a decision tree. (This will be faster than varying the number of estimators in a random forest.)"
      ]
    },
    {
      "cell_type": "code",
      "metadata": {
        "colab_type": "code",
        "id": "znIz2FPQv2cG",
        "colab": {
          "base_uri": "https://localhost:8080/",
          "height": 595
        },
        "outputId": "8b74d733-ff5f-4507-d158-d65af217397e"
      },
      "source": [
        "%matplotlib inline\n",
        "import matplotlib.pyplot as plt\n",
        "from sklearn.model_selection import validation_curve\n",
        "from sklearn.tree import DecisionTreeRegressor\n",
        "\n",
        "pipeline = make_pipeline(\n",
        "    ce.OrdinalEncoder(), \n",
        "    SimpleImputer(), \n",
        "    DecisionTreeRegressor()\n",
        ")\n",
        "\n",
        "depth = range(1, 30, 3)\n",
        "train_scores, val_scores = validation_curve(\n",
        "    pipeline, X_train, y_train,\n",
        "    param_name='decisiontreeregressor__max_depth', \n",
        "    param_range=depth, scoring='neg_mean_absolute_error', \n",
        "    cv=3,\n",
        "    n_jobs=-1\n",
        ")\n",
        "\n",
        "plt.figure(dpi=150)\n",
        "plt.plot(depth, np.mean(-train_scores, axis=1), color='blue', label='training error')\n",
        "plt.plot(depth, np.mean(-val_scores, axis=1), color='red', label='validation error')\n",
        "plt.title('Validation Curve')\n",
        "plt.xlabel('model complexity: DecisionTreeRegressor max_depth')\n",
        "plt.ylabel('model score: Mean Absolute Error')\n",
        "plt.legend();"
      ],
      "execution_count": 53,
      "outputs": [
        {
          "output_type": "display_data",
          "data": {
            "image/png": "[encoded data removed]",
            "text/plain": [
              "<Figure size 900x600 with 1 Axes>"
            ]
          },
          "metadata": {
            "tags": [],
            "needs_background": "light"
          }
        }
      ]
    },
    {
      "cell_type": "code",
      "metadata": {
        "id": "2WIWLEF4cHZD",
        "colab_type": "code",
        "colab": {
          "base_uri": "https://localhost:8080/",
          "height": 595
        },
        "outputId": "0ad800ce-4280-4834-9f38-331bbbcfa12a"
      },
      "source": [
        "plt.figure(dpi=150)\n",
        "plt.plot(depth, np.mean(-train_scores, axis=1), color='blue', label='training error')\n",
        "plt.plot(depth, np.mean(-val_scores, axis=1), color='red', label='validation error')\n",
        "plt.title('Validation Curve, Zoomed In')\n",
        "plt.xlabel('model complexity: DecisionTreeRegressor max_depth')\n",
        "plt.ylabel('model score: Mean Absolute Error')\n",
        "plt.ylim((500, 700))  # Zoom in\n",
        "plt.legend();"
      ],
      "execution_count": 54,
      "outputs": [
        {
          "output_type": "display_data",
          "data": {
            "image/png": "[encoded data removed]",
            "text/plain": [
              "<Figure size 900x600 with 1 Axes>"
            ]
          },
          "metadata": {
            "tags": [],
            "needs_background": "light"
          }
        }
      ]
    },
    {
      "cell_type": "markdown",
      "metadata": {
        "id": "d1q3r2BqcHZF",
        "colab_type": "text"
      },
      "source": [
        "## Follow Along"
      ]
    },
    {
      "cell_type": "markdown",
      "metadata": {
        "colab_type": "text",
        "id": "JUaLgk8Pv2cJ"
      },
      "source": [
        "To vary multiple hyperparameters and find their optimal values, let's try **Randomized Search CV.**"
      ]
    },
    {
      "cell_type": "markdown",
      "metadata": {
        "colab_type": "text",
        "id": "AexbC7fjv2cL"
      },
      "source": [
        "#### [Scikit-Learn User Guide, 3.2 Tuning the hyper-parameters of an estimator](https://scikit-learn.org/stable/modules/grid_search.html)\n",
        "\n",
        "> Hyper-parameters are parameters that are not directly learnt within estimators. In scikit-learn they are passed as arguments to the constructor of the estimator classes. \n",
        ">\n",
        "> It is possible and recommended to search the hyper-parameter space for the best cross validation score.\n",
        ">\n",
        "> [`GridSearchCV`](https://scikit-learn.org/stable/modules/generated/sklearn.model_selection.GridSearchCV.html#sklearn.model_selection.GridSearchCV) exhaustively considers all parameter combinations, while [`RandomizedSearchCV`](https://scikit-learn.org/stable/modules/generated/sklearn.model_selection.RandomizedSearchCV.html) can sample a given number of candidates from a parameter space with a specified distribution. \n",
        ">\n",
        "> While using a grid of parameter settings is currently the most widely used method for parameter optimization, other search methods have more favourable properties. [`RandomizedSearchCV`](https://scikit-learn.org/stable/modules/generated/sklearn.model_selection.RandomizedSearchCV.html) implements a randomized search over parameters, where each setting is sampled from a distribution over possible parameter values.\n",
        ">\n",
        "> Specifying how parameters should be sampled is done using a dictionary. Additionally, a computation budget, being the number of sampled candidates or sampling iterations, is specified using the `n_iter` parameter. \n",
        ">\n",
        "> For each parameter, either a distribution over possible values or a list of discrete choices (which will be sampled uniformly) can be specified."
      ]
    },
    {
      "cell_type": "markdown",
      "metadata": {
        "id": "SXchBqyPcHZG",
        "colab_type": "text"
      },
      "source": [
        "Here's a good blog post to explain more: [**A Comparison of Grid Search and Randomized Search Using Scikit Learn**](https://blog.usejournal.com/a-comparison-of-grid-search-and-randomized-search-using-scikit-learn-29823179bc85).\n",
        "\n",
        "<img src=\"https://miro.medium.com/max/2500/1*9W1MrRkHi0YFmBoHi9Y2Ow.png\" width=\"50%\">"
      ]
    },
    {
      "cell_type": "markdown",
      "metadata": {
        "id": "HamLFF0ecHZG",
        "colab_type": "text"
      },
      "source": [
        "### Linear Model"
      ]
    },
    {
      "cell_type": "code",
      "metadata": {
        "colab_type": "code",
        "id": "ZtZQbJQ5v2cM",
        "colab": {
          "base_uri": "https://localhost:8080/",
          "height": 561
        },
        "outputId": "f5ce918b-bfa9-4441-b305-e5315d883655"
      },
      "source": [
        "from sklearn.model_selection import GridSearchCV, RandomizedSearchCV\n",
        "\n",
        "features = train.columns.drop([target] + high_cardinality)\n",
        "X_train = train[features]\n",
        "y_train = train[target]\n",
        "\n",
        "pipeline = make_pipeline(\n",
        "    ce.OneHotEncoder(use_cat_names=True), \n",
        "    SimpleImputer(), \n",
        "    StandardScaler(), \n",
        "    SelectKBest(f_regression), \n",
        "    Ridge()\n",
        ")\n",
        "\n",
        "param_distributions = {\n",
        "    'simpleimputer__strategy': ['mean', 'median'], \n",
        "    'selectkbest__k': range(1, len(X_train.columns)+1), \n",
        "    'ridge__alpha': [0.1, 1, 10], \n",
        "}\n",
        "\n",
        "# If you're on Colab, decrease n_iter & cv parameters\n",
        "search = RandomizedSearchCV(\n",
        "    pipeline, \n",
        "    param_distributions=param_distributions, \n",
        "    n_iter=100, \n",
        "    cv=5, \n",
        "    scoring='neg_mean_absolute_error', \n",
        "    verbose=10, \n",
        "    return_train_score=True, \n",
        "    n_jobs=-1\n",
        ")\n",
        "\n",
        "search.fit(X_train, y_train);"
      ],
      "execution_count": 55,
      "outputs": [
        {
          "output_type": "stream",
          "text": [
            "Fitting 5 folds for each of 100 candidates, totalling 500 fits\n"
          ],
          "name": "stdout"
        },
        {
          "output_type": "stream",
          "text": [
            "[Parallel(n_jobs=-1)]: Using backend LokyBackend with 2 concurrent workers.\n",
            "[Parallel(n_jobs=-1)]: Done   1 tasks      | elapsed:    0.7s\n",
            "[Parallel(n_jobs=-1)]: Done   4 tasks      | elapsed:    1.3s\n",
            "[Parallel(n_jobs=-1)]: Done   9 tasks      | elapsed:    3.4s\n",
            "[Parallel(n_jobs=-1)]: Done  14 tasks      | elapsed:    4.7s\n",
            "[Parallel(n_jobs=-1)]: Done  21 tasks      | elapsed:    7.3s\n",
            "[Parallel(n_jobs=-1)]: Done  28 tasks      | elapsed:    9.3s\n",
            "[Parallel(n_jobs=-1)]: Done  37 tasks      | elapsed:   12.6s\n",
            "[Parallel(n_jobs=-1)]: Done  46 tasks      | elapsed:   15.2s\n",
            "[Parallel(n_jobs=-1)]: Done  57 tasks      | elapsed:   19.1s\n",
            "[Parallel(n_jobs=-1)]: Done  68 tasks      | elapsed:   23.0s\n",
            "[Parallel(n_jobs=-1)]: Done  81 tasks      | elapsed:   27.2s\n",
            "[Parallel(n_jobs=-1)]: Done  94 tasks      | elapsed:   31.3s\n",
            "[Parallel(n_jobs=-1)]: Done 109 tasks      | elapsed:   36.9s\n",
            "[Parallel(n_jobs=-1)]: Done 124 tasks      | elapsed:   41.8s\n",
            "[Parallel(n_jobs=-1)]: Done 141 tasks      | elapsed:   46.8s\n",
            "[Parallel(n_jobs=-1)]: Done 158 tasks      | elapsed:   52.4s\n",
            "[Parallel(n_jobs=-1)]: Done 177 tasks      | elapsed:   58.2s\n",
            "[Parallel(n_jobs=-1)]: Done 196 tasks      | elapsed:  1.1min\n",
            "[Parallel(n_jobs=-1)]: Done 217 tasks      | elapsed:  1.2min\n",
            "[Parallel(n_jobs=-1)]: Done 238 tasks      | elapsed:  1.3min\n",
            "[Parallel(n_jobs=-1)]: Done 261 tasks      | elapsed:  1.5min\n",
            "[Parallel(n_jobs=-1)]: Done 284 tasks      | elapsed:  1.6min\n",
            "[Parallel(n_jobs=-1)]: Done 309 tasks      | elapsed:  1.7min\n",
            "[Parallel(n_jobs=-1)]: Done 334 tasks      | elapsed:  1.9min\n",
            "[Parallel(n_jobs=-1)]: Done 361 tasks      | elapsed:  2.0min\n",
            "[Parallel(n_jobs=-1)]: Done 388 tasks      | elapsed:  2.2min\n",
            "[Parallel(n_jobs=-1)]: Done 417 tasks      | elapsed:  2.3min\n",
            "[Parallel(n_jobs=-1)]: Done 446 tasks      | elapsed:  2.5min\n",
            "[Parallel(n_jobs=-1)]: Done 477 tasks      | elapsed:  2.6min\n",
            "[Parallel(n_jobs=-1)]: Done 500 out of 500 | elapsed:  2.8min finished\n"
          ],
          "name": "stderr"
        }
      ]
    },
    {
      "cell_type": "code",
      "metadata": {
        "colab_type": "code",
        "id": "P9M-OOJltM_I",
        "colab": {
          "base_uri": "https://localhost:8080/",
          "height": 51
        },
        "outputId": "8b96b020-547b-4a5c-8ceb-9372a7ced8f4"
      },
      "source": [
        "print('Best hyperparameters', search.best_params_)\n",
        "print('Cross-validation MAE', -search.best_score_)"
      ],
      "execution_count": 56,
      "outputs": [
        {
          "output_type": "stream",
          "text": [
            "Best hyperparameters {'simpleimputer__strategy': 'mean', 'selectkbest__k': 35, 'ridge__alpha': 10}\n",
            "Cross-validation MAE 671.9941952034568\n"
          ],
          "name": "stdout"
        }
      ]
    },
    {
      "cell_type": "code",
      "metadata": {
        "id": "gmlEkknycHZK",
        "colab_type": "code",
        "colab": {
          "base_uri": "https://localhost:8080/",
          "height": 34
        },
        "outputId": "abbd4688-7ea0-4fac-d55e-86220bc5a3bd"
      },
      "source": [
        "# If we used GridSearchCV instead of RandomizedSearchCV, \n",
        "# how many candidates would there be?\n",
        "# 2 imputation strategies * n columns * 3 Ridge alphas\n",
        "2 * len(X_train.columns) * 3"
      ],
      "execution_count": 57,
      "outputs": [
        {
          "output_type": "execute_result",
          "data": {
            "text/plain": [
              "216"
            ]
          },
          "metadata": {
            "tags": []
          },
          "execution_count": 57
        }
      ]
    },
    {
      "cell_type": "markdown",
      "metadata": {
        "colab_type": "text",
        "id": "Q79ipvpgqYwF"
      },
      "source": [
        "### \"Fitting X folds for each of Y candidates, totalling Z fits\" ?\n",
        "\n",
        "What did that mean? What do you think?\n",
        "\n"
      ]
    },
    {
      "cell_type": "markdown",
      "metadata": {
        "id": "TAk3aILJcHZM",
        "colab_type": "text"
      },
      "source": [
        "### Random Forest"
      ]
    },
    {
      "cell_type": "markdown",
      "metadata": {
        "id": "bMb01xPXcHZM",
        "colab_type": "text"
      },
      "source": [
        "#### [Scikit-Learn User Guide, 3.2 Tuning the hyper-parameters of an estimator](https://scikit-learn.org/stable/modules/grid_search.html)\n",
        "\n",
        "> [`RandomizedSearchCV`](https://scikit-learn.org/stable/modules/generated/sklearn.model_selection.RandomizedSearchCV.html) implements a randomized search over parameters, where each setting is sampled from a distribution over possible parameter values.\n",
        ">\n",
        "> For each parameter, either a distribution over possible values or a list of discrete choices (which will be sampled uniformly) can be specified.\n",
        ">\n",
        "> This example uses the `scipy.stats` module, which contains many useful distributions for sampling parameters."
      ]
    },
    {
      "cell_type": "code",
      "metadata": {
        "id": "IBfuW_A9cHZN",
        "colab_type": "code",
        "colab": {
          "base_uri": "https://localhost:8080/",
          "height": 190
        },
        "outputId": "7683fd48-8fd4-40f5-c918-43b716a55f1a"
      },
      "source": [
        "# warning: this cell will take a long time to run (up to 10 minutes)\n",
        "from scipy.stats import randint, uniform\n",
        "\n",
        "features = train.columns.drop(target)\n",
        "X_train = train[features]\n",
        "y_train = train[target]\n",
        "\n",
        "pipeline = make_pipeline(\n",
        "    ce.TargetEncoder(), \n",
        "    SimpleImputer(), \n",
        "    RandomForestRegressor(random_state=42)\n",
        ")\n",
        "\n",
        "param_distributions = {\n",
        "    'targetencoder__min_samples_leaf': randint(1, 1000), \n",
        "    \n",
        "#     Remove this hyperparameter, because of an issue: \n",
        "#     https://github.com/scikit-learn-contrib/categorical-encoding/issues/184\n",
        "#     'targetencoder__smoothing': uniform(1, 1000), \n",
        "    \n",
        "    'simpleimputer__strategy': ['mean', 'median'], \n",
        "    'randomforestregressor__n_estimators': randint(50, 500), \n",
        "    'randomforestregressor__max_depth': [5, 10, 15, 20, None], \n",
        "    'randomforestregressor__max_features': uniform(0, 1), \n",
        "}\n",
        "\n",
        "# If you're on Colab, decrease n_iter & cv parameters\n",
        "search = RandomizedSearchCV(\n",
        "    pipeline, \n",
        "    param_distributions=param_distributions, \n",
        "    n_iter=3, \n",
        "    cv=3, \n",
        "    scoring='neg_mean_absolute_error', \n",
        "    verbose=10, \n",
        "    return_train_score=True, \n",
        "    n_jobs=-1\n",
        ")\n",
        "\n",
        "search.fit(X_train, y_train);"
      ],
      "execution_count": 58,
      "outputs": [
        {
          "output_type": "stream",
          "text": [
            "Fitting 3 folds for each of 3 candidates, totalling 9 fits\n"
          ],
          "name": "stdout"
        },
        {
          "output_type": "stream",
          "text": [
            "[Parallel(n_jobs=-1)]: Using backend LokyBackend with 2 concurrent workers.\n",
            "[Parallel(n_jobs=-1)]: Done   1 tasks      | elapsed:  1.2min\n",
            "/usr/local/lib/python3.6/dist-packages/joblib/externals/loky/process_executor.py:691: UserWarning: A worker stopped while some jobs were given to the executor. This can be caused by a too short worker timeout or by a memory leak.\n",
            "  \"timeout or by a memory leak.\", UserWarning\n",
            "[Parallel(n_jobs=-1)]: Done   4 tasks      | elapsed:  1.4min\n",
            "[Parallel(n_jobs=-1)]: Done   7 out of   9 | elapsed:  1.7min remaining:   29.2s\n",
            "[Parallel(n_jobs=-1)]: Done   9 out of   9 | elapsed:  2.3min remaining:    0.0s\n",
            "[Parallel(n_jobs=-1)]: Done   9 out of   9 | elapsed:  2.3min finished\n"
          ],
          "name": "stderr"
        }
      ]
    },
    {
      "cell_type": "code",
      "metadata": {
        "id": "1guEHVndcHZO",
        "colab_type": "code",
        "colab": {
          "base_uri": "https://localhost:8080/",
          "height": 71
        },
        "outputId": "0297b738-a269-4532-9f5e-f759b0c6fd23"
      },
      "source": [
        "print('Best hyperparameters', search.best_params_)\n",
        "print('Cross-validation MAE', -search.best_score_)"
      ],
      "execution_count": 59,
      "outputs": [
        {
          "output_type": "stream",
          "text": [
            "Best hyperparameters {'randomforestregressor__max_depth': 20, 'randomforestregressor__max_features': 0.6141290702121475, 'randomforestregressor__n_estimators': 437, 'simpleimputer__strategy': 'median', 'targetencoder__min_samples_leaf': 342}\n",
            "Cross-validation MAE 404.62345634947286\n"
          ],
          "name": "stdout"
        }
      ]
    },
    {
      "cell_type": "markdown",
      "metadata": {
        "colab_type": "text",
        "id": "2tJr3YZ8xLt-"
      },
      "source": [
        "### See detailed results"
      ]
    },
    {
      "cell_type": "code",
      "metadata": {
        "colab_type": "code",
        "id": "IGHRUlY3xF1O",
        "colab": {
          "base_uri": "https://localhost:8080/",
          "height": 700
        },
        "outputId": "1deee31c-9bc3-43fa-8fbb-1ccde4f6c759"
      },
      "source": [
        "pd.DataFrame(search.cv_results_).sort_values(by='rank_test_score').T"
      ],
      "execution_count": 60,
      "outputs": [
        {
          "output_type": "execute_result",
          "data": {
            "text/html": [
              "<div>\n",
              "<style scoped>\n",
              "    .dataframe tbody tr th:only-of-type {\n",
              "        vertical-align: middle;\n",
              "    }\n",
              "\n",
              "    .dataframe tbody tr th {\n",
              "        vertical-align: top;\n",
              "    }\n",
              "\n",
              "    .dataframe thead th {\n",
              "        text-align: right;\n",
              "    }\n",
              "</style>\n",
              "<table border=\"1\" class=\"dataframe\">\n",
              "  <thead>\n",
              "    <tr style=\"text-align: right;\">\n",
              "      <th></th>\n",
              "      <th>0</th>\n",
              "      <th>1</th>\n",
              "      <th>2</th>\n",
              "    </tr>\n",
              "  </thead>\n",
              "  <tbody>\n",
              "    <tr>\n",
              "      <th>mean_fit_time</th>\n",
              "      <td>64.7099</td>\n",
              "      <td>3.239</td>\n",
              "      <td>6.00885</td>\n",
              "    </tr>\n",
              "    <tr>\n",
              "      <th>std_fit_time</th>\n",
              "      <td>5.33525</td>\n",
              "      <td>0.0333165</td>\n",
              "      <td>0.0274275</td>\n",
              "    </tr>\n",
              "    <tr>\n",
              "      <th>mean_score_time</th>\n",
              "      <td>1.91629</td>\n",
              "      <td>0.243639</td>\n",
              "      <td>0.239651</td>\n",
              "    </tr>\n",
              "    <tr>\n",
              "      <th>std_score_time</th>\n",
              "      <td>0.114014</td>\n",
              "      <td>0.000819302</td>\n",
              "      <td>0.00853232</td>\n",
              "    </tr>\n",
              "    <tr>\n",
              "      <th>param_randomforestregressor__max_depth</th>\n",
              "      <td>20</td>\n",
              "      <td>10</td>\n",
              "      <td>5</td>\n",
              "    </tr>\n",
              "    <tr>\n",
              "      <th>param_randomforestregressor__max_features</th>\n",
              "      <td>0.614129</td>\n",
              "      <td>0.221573</td>\n",
              "      <td>0.399836</td>\n",
              "    </tr>\n",
              "    <tr>\n",
              "      <th>param_randomforestregressor__n_estimators</th>\n",
              "      <td>437</td>\n",
              "      <td>70</td>\n",
              "      <td>169</td>\n",
              "    </tr>\n",
              "    <tr>\n",
              "      <th>param_simpleimputer__strategy</th>\n",
              "      <td>median</td>\n",
              "      <td>median</td>\n",
              "      <td>median</td>\n",
              "    </tr>\n",
              "    <tr>\n",
              "      <th>param_targetencoder__min_samples_leaf</th>\n",
              "      <td>342</td>\n",
              "      <td>964</td>\n",
              "      <td>460</td>\n",
              "    </tr>\n",
              "    <tr>\n",
              "      <th>params</th>\n",
              "      <td>{'randomforestregressor__max_depth': 20, 'rand...</td>\n",
              "      <td>{'randomforestregressor__max_depth': 10, 'rand...</td>\n",
              "      <td>{'randomforestregressor__max_depth': 5, 'rando...</td>\n",
              "    </tr>\n",
              "    <tr>\n",
              "      <th>split0_test_score</th>\n",
              "      <td>-407.293</td>\n",
              "      <td>-523.187</td>\n",
              "      <td>-610.328</td>\n",
              "    </tr>\n",
              "    <tr>\n",
              "      <th>split1_test_score</th>\n",
              "      <td>-408.224</td>\n",
              "      <td>-515.378</td>\n",
              "      <td>-605.515</td>\n",
              "    </tr>\n",
              "    <tr>\n",
              "      <th>split2_test_score</th>\n",
              "      <td>-398.353</td>\n",
              "      <td>-518.49</td>\n",
              "      <td>-610.352</td>\n",
              "    </tr>\n",
              "    <tr>\n",
              "      <th>mean_test_score</th>\n",
              "      <td>-404.623</td>\n",
              "      <td>-519.018</td>\n",
              "      <td>-608.732</td>\n",
              "    </tr>\n",
              "    <tr>\n",
              "      <th>std_test_score</th>\n",
              "      <td>4.44988</td>\n",
              "      <td>3.20971</td>\n",
              "      <td>2.27475</td>\n",
              "    </tr>\n",
              "    <tr>\n",
              "      <th>rank_test_score</th>\n",
              "      <td>1</td>\n",
              "      <td>2</td>\n",
              "      <td>3</td>\n",
              "    </tr>\n",
              "    <tr>\n",
              "      <th>split0_train_score</th>\n",
              "      <td>-179.094</td>\n",
              "      <td>-468.393</td>\n",
              "      <td>-602.405</td>\n",
              "    </tr>\n",
              "    <tr>\n",
              "      <th>split1_train_score</th>\n",
              "      <td>-177.858</td>\n",
              "      <td>-471.077</td>\n",
              "      <td>-600.809</td>\n",
              "    </tr>\n",
              "    <tr>\n",
              "      <th>split2_train_score</th>\n",
              "      <td>-180.628</td>\n",
              "      <td>-472.542</td>\n",
              "      <td>-603.087</td>\n",
              "    </tr>\n",
              "    <tr>\n",
              "      <th>mean_train_score</th>\n",
              "      <td>-179.193</td>\n",
              "      <td>-470.671</td>\n",
              "      <td>-602.1</td>\n",
              "    </tr>\n",
              "    <tr>\n",
              "      <th>std_train_score</th>\n",
              "      <td>1.13292</td>\n",
              "      <td>1.71797</td>\n",
              "      <td>0.954651</td>\n",
              "    </tr>\n",
              "  </tbody>\n",
              "</table>\n",
              "</div>"
            ],
            "text/plain": [
              "                                                                                           0  ...                                                  2\n",
              "mean_fit_time                                                                        64.7099  ...                                            6.00885\n",
              "std_fit_time                                                                         5.33525  ...                                          0.0274275\n",
              "mean_score_time                                                                      1.91629  ...                                           0.239651\n",
              "std_score_time                                                                      0.114014  ...                                         0.00853232\n",
              "param_randomforestregressor__max_depth                                                    20  ...                                                  5\n",
              "param_randomforestregressor__max_features                                           0.614129  ...                                           0.399836\n",
              "param_randomforestregressor__n_estimators                                                437  ...                                                169\n",
              "param_simpleimputer__strategy                                                         median  ...                                             median\n",
              "param_targetencoder__min_samples_leaf                                                    342  ...                                                460\n",
              "params                                     {'randomforestregressor__max_depth': 20, 'rand...  ...  {'randomforestregressor__max_depth': 5, 'rando...\n",
              "split0_test_score                                                                   -407.293  ...                                           -610.328\n",
              "split1_test_score                                                                   -408.224  ...                                           -605.515\n",
              "split2_test_score                                                                   -398.353  ...                                           -610.352\n",
              "mean_test_score                                                                     -404.623  ...                                           -608.732\n",
              "std_test_score                                                                       4.44988  ...                                            2.27475\n",
              "rank_test_score                                                                            1  ...                                                  3\n",
              "split0_train_score                                                                  -179.094  ...                                           -602.405\n",
              "split1_train_score                                                                  -177.858  ...                                           -600.809\n",
              "split2_train_score                                                                  -180.628  ...                                           -603.087\n",
              "mean_train_score                                                                    -179.193  ...                                             -602.1\n",
              "std_train_score                                                                      1.13292  ...                                           0.954651\n",
              "\n",
              "[21 rows x 3 columns]"
            ]
          },
          "metadata": {
            "tags": []
          },
          "execution_count": 60
        }
      ]
    },
    {
      "cell_type": "markdown",
      "metadata": {
        "colab_type": "text",
        "id": "GDZyu6FNyY2l"
      },
      "source": [
        "### Make predictions for test set"
      ]
    },
    {
      "cell_type": "code",
      "metadata": {
        "id": "em32KRjYcHZS",
        "colab_type": "code",
        "colab": {}
      },
      "source": [
        "pipeline = search.best_estimator_"
      ],
      "execution_count": 61,
      "outputs": []
    },
    {
      "cell_type": "code",
      "metadata": {
        "colab_type": "code",
        "id": "OuWqQUk_yIw4",
        "colab": {
          "base_uri": "https://localhost:8080/",
          "height": 34
        },
        "outputId": "a12d6133-9812-4a09-9d53-77d44b08303e"
      },
      "source": [
        "from sklearn.metrics import mean_absolute_error\n",
        "\n",
        "X_test = test[features]\n",
        "y_test = test[target]\n",
        "\n",
        "y_pred = pipeline.predict(X_test)\n",
        "mae = mean_absolute_error(y_test, y_pred)\n",
        "print(f'Test MAE: ${mae:,.0f}')"
      ],
      "execution_count": 62,
      "outputs": [
        {
          "output_type": "stream",
          "text": [
            "Test MAE: $419\n"
          ],
          "name": "stdout"
        }
      ]
    },
    {
      "cell_type": "markdown",
      "metadata": {
        "id": "oBSsmJ4KcHZV",
        "colab_type": "text"
      },
      "source": [
        "\n",
        "Here's what the [`RandomizdSearchCV` documentation](https://scikit-learn.org/stable/modules/generated/sklearn.model_selection.RandomizedSearchCV.html) says about the `best_estimator_` attribute:\n",
        "\n",
        "> **best_estimator_** : ***estimator***  \n",
        "> Estimator that was chosen by the search, i.e. estimator which gave highest score (or smallest loss if specified) on the left out data. Not available if `refit=False`. ... See `refit` parameter for more information ...\n",
        "\n",
        "So let's look at the `refit` parameter too:\n",
        "\n",
        "> **refit** : ***boolean, string, or callable, default=True***  \n",
        "> Refit an estimator using the best found parameters on the whole dataset.\n",
        "\n",
        "By default, scikit-learn cross-validation will _\"refit an estimator using the best found parameters on the whole dataset\",_ which means, use **all** the training data:\n",
        "\n",
        "<img src=\"https://scikit-learn.org/stable/_images/grid_search_workflow.png\" width=\"50%\">\n",
        "\n",
        "***Tip: If you're doing 3-way train/validation/test split, you should do this too!*** After you've optimized your hyperparameters and selected your final model, then manually refit on both the training and validation data."
      ]
    },
    {
      "cell_type": "markdown",
      "metadata": {
        "id": "wKDL-EGYcHZV",
        "colab_type": "text"
      },
      "source": [
        "## Challenge\n",
        "\n",
        "For your assignment, use scikit-learn for hyperparameter optimization with RandomizedSearchCV."
      ]
    },
    {
      "cell_type": "markdown",
      "metadata": {
        "id": "IsjtATlmcHZV",
        "colab_type": "text"
      },
      "source": [
        "# Review\n",
        "\n",
        "Continue to participate in our Kaggle Challenge, and practice these objectives:\n",
        "\n",
        "- Do **cross-validation** with independent test set\n",
        "- Use scikit-learn for **hyperparameter optimization**\n",
        "\n",
        "You can refer to these suggestions when you do hyperparameter optimization, now and in future projects:"
      ]
    },
    {
      "cell_type": "markdown",
      "metadata": {
        "colab_type": "text",
        "id": "4sQiv9s2kOjn"
      },
      "source": [
        "### Tree Ensemble hyperparameter suggestions\n",
        "\n",
        "#### Random Forest\n",
        "- class_weight (for imbalanced classes)\n",
        "- max_depth (usually high, can try decreasing)\n",
        "- n_estimators (too low underfits, too high wastes time)\n",
        "- min_samples_leaf (increase if overfitting)\n",
        "- max_features (decrease for more diverse trees)\n",
        "\n",
        "#### XGBoost\n",
        "- scale_pos_weight (for imbalanced classes)\n",
        "- max_depth (usually low, can try increasing)\n",
        "- n_estimators (too low underfits, too high wastes time/overfits) — _I recommend using early stopping instead of cross-validation_\n",
        "- learning_rate (too low underfits, too high overfits)\n",
        "- See [Notes on Parameter Tuning](https://xgboost.readthedocs.io/en/latest/tutorials/param_tuning.html) and [DART booster](https://xgboost.readthedocs.io/en/latest/tutorials/dart.html) for more ideas\n",
        "\n",
        "### Linear Model hyperparameter suggestions \n",
        "\n",
        "#### Logistic Regression\n",
        "- C\n",
        "- class_weight (for imbalanced classes)\n",
        "- penalty\n",
        "\n",
        "#### Ridge / Lasso Regression\n",
        "- alpha\n",
        "\n",
        "#### ElasticNet Regression\n",
        "- alpha\n",
        "- l1_ratio\n",
        "\n",
        "For more explanation, see [**Aaron Gallant's 9 minute video on Ridge Regression**](https://www.youtube.com/watch?v=XK5jkedy17w)!"
      ]
    },
    {
      "cell_type": "markdown",
      "metadata": {
        "id": "vLDuUT2VcHZW",
        "colab_type": "text"
      },
      "source": [
        "# Sources\n",
        "- Jake VanderPlas, [Python Data Science Handbook, Chapter 5.3,](https://jakevdp.github.io/PythonDataScienceHandbook/05.03-hyperparameters-and-model-validation.html) Hyperparameters and Model Validation\n",
        "- Peter Worcester, [A Comparison of Grid Search and Randomized Search Using Scikit Learn](https://blog.usejournal.com/a-comparison-of-grid-search-and-randomized-search-using-scikit-learn-29823179bc85)\n",
        "- Ron Zacharski, [A Programmer’s Guide to Data Mining, Chapter 5,](http://guidetodatamining.com/chapter5/) first 10 pages, for a great explanation of cross-validation with examples and pictures\n",
        "- Sebastian Raschka, [Model Evaluation](https://sebastianraschka.com/blog/2018/model-evaluation-selection-part4.html)\n",
        "- [Scikit-Learn User Guide, 3.1 Cross-validation](https://scikit-learn.org/stable/modules/cross_validation.html)\n",
        "- [Scikit-Learn User Guide, 3.2 Tuning the hyper-parameters of an estimator](https://scikit-learn.org/stable/modules/grid_search.html)\n",
        "- [sklearn.model_selection.cross_val_score](https://scikit-learn.org/stable/modules/generated/sklearn.model_selection.cross_val_score.html)\n",
        "- [sklearn.model_selection.RandomizedSearchCV](https://scikit-learn.org/stable/modules/generated/sklearn.model_selection.RandomizedSearchCV.html)\n",
        "- [xgboost, Notes on Parameter Tuning](https://xgboost.readthedocs.io/en/latest/tutorials/param_tuning.html)"
      ]
    }
  ]
}