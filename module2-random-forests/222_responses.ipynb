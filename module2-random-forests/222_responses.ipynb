{
  "nbformat": 4,
  "nbformat_minor": 0,
  "metadata": {
    "kernelspec": {
      "display_name": "Python 3",
      "language": "python",
      "name": "python3"
    },
    "language_info": {
      "codemirror_mode": {
        "name": "ipython",
        "version": 3
      },
      "file_extension": ".py",
      "mimetype": "text/x-python",
      "name": "python",
      "nbconvert_exporter": "python",
      "pygments_lexer": "ipython3",
      "version": "3.7.3"
    },
    "colab": {
      "name": "LS_DS12_222.ipynb",
      "provenance": [],
      "include_colab_link": true
    },
    "widgets": {
      "application/vnd.jupyter.widget-state+json": {
        "09416c8fe7d64b99afce0745ba57fdc0": {
          "model_module": "@jupyter-widgets/controls",
          "model_name": "VBoxModel",
          "state": {
            "_view_name": "VBoxView",
            "_dom_classes": [
              "widget-interact"
            ],
            "_model_name": "VBoxModel",
            "_view_module": "@jupyter-widgets/controls",
            "_model_module_version": "1.5.0",
            "_view_count": null,
            "_view_module_version": "1.5.0",
            "box_style": "",
            "layout": "IPY_MODEL_6a07d5c5b1f84ddfafd8785e30ab363d",
            "_model_module": "@jupyter-widgets/controls",
            "children": [
              "IPY_MODEL_12c9309cedb847bb9a0a8e36fd14af00",
              "IPY_MODEL_9d36a40808f345ce9182e0922671e497",
              "IPY_MODEL_53f94682375f43ff9558f6e5e431d977"
            ]
          }
        },
        "6a07d5c5b1f84ddfafd8785e30ab363d": {
          "model_module": "@jupyter-widgets/base",
          "model_name": "LayoutModel",
          "state": {
            "_view_name": "LayoutView",
            "grid_template_rows": null,
            "right": null,
            "justify_content": null,
            "_view_module": "@jupyter-widgets/base",
            "overflow": null,
            "_model_module_version": "1.2.0",
            "_view_count": null,
            "flex_flow": null,
            "width": null,
            "min_width": null,
            "border": null,
            "align_items": null,
            "bottom": null,
            "_model_module": "@jupyter-widgets/base",
            "top": null,
            "grid_column": null,
            "overflow_y": null,
            "overflow_x": null,
            "grid_auto_flow": null,
            "grid_area": null,
            "grid_template_columns": null,
            "flex": null,
            "_model_name": "LayoutModel",
            "justify_items": null,
            "grid_row": null,
            "max_height": null,
            "align_content": null,
            "visibility": null,
            "align_self": null,
            "height": null,
            "min_height": null,
            "padding": null,
            "grid_auto_rows": null,
            "grid_gap": null,
            "max_width": null,
            "order": null,
            "_view_module_version": "1.2.0",
            "grid_template_areas": null,
            "object_position": null,
            "object_fit": null,
            "grid_auto_columns": null,
            "margin": null,
            "display": null,
            "left": null
          }
        },
        "12c9309cedb847bb9a0a8e36fd14af00": {
          "model_module": "@jupyter-widgets/controls",
          "model_name": "IntSliderModel",
          "state": {
            "_view_name": "IntSliderView",
            "style": "IPY_MODEL_aaffd1bf31494e4db10bf88a7f2d2635",
            "_dom_classes": [],
            "description": "max_depth",
            "step": 1,
            "_model_name": "IntSliderModel",
            "orientation": "horizontal",
            "max": 6,
            "_view_module": "@jupyter-widgets/controls",
            "_model_module_version": "1.5.0",
            "value": 1,
            "_view_count": null,
            "disabled": false,
            "_view_module_version": "1.5.0",
            "min": 1,
            "continuous_update": true,
            "readout_format": "d",
            "description_tooltip": null,
            "readout": true,
            "_model_module": "@jupyter-widgets/controls",
            "layout": "IPY_MODEL_87fec0d117094ffb928767c5ff030c7c"
          }
        },
        "9d36a40808f345ce9182e0922671e497": {
          "model_module": "@jupyter-widgets/controls",
          "model_name": "IntSliderModel",
          "state": {
            "_view_name": "IntSliderView",
            "style": "IPY_MODEL_7bb6b7d4950f41dc8117ba422ebebe07",
            "_dom_classes": [],
            "description": "n_estimators",
            "step": 10,
            "_model_name": "IntSliderModel",
            "orientation": "horizontal",
            "max": 40,
            "_view_module": "@jupyter-widgets/controls",
            "_model_module_version": "1.5.0",
            "value": 10,
            "_view_count": null,
            "disabled": false,
            "_view_module_version": "1.5.0",
            "min": 10,
            "continuous_update": true,
            "readout_format": "d",
            "description_tooltip": null,
            "readout": true,
            "_model_module": "@jupyter-widgets/controls",
            "layout": "IPY_MODEL_9b2a1a83a7e4439ebefc14bebbccedc3"
          }
        },
        "53f94682375f43ff9558f6e5e431d977": {
          "model_module": "@jupyter-widgets/output",
          "model_name": "OutputModel",
          "state": {
            "_view_name": "OutputView",
            "msg_id": "",
            "_dom_classes": [],
            "_model_name": "OutputModel",
            "outputs": [
              {
                "output_type": "display_data",
                "metadata": {
                  "tags": [],
                  "needs_background": "light"
                },
                "image/png": "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\n",
                "text/plain": "<Figure size 432x288 with 1 Axes>"
              },
              {
                "output_type": "display_data",
                "metadata": {
                  "tags": [],
                  "needs_background": "light"
                },
                "image/png": "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\n",
                "text/plain": "<Figure size 432x288 with 1 Axes>"
              }
            ],
            "_view_module": "@jupyter-widgets/output",
            "_model_module_version": "1.0.0",
            "_view_count": null,
            "_view_module_version": "1.0.0",
            "layout": "IPY_MODEL_d00f2292ffbc423ea6b032eff63c191e",
            "_model_module": "@jupyter-widgets/output"
          }
        },
        "aaffd1bf31494e4db10bf88a7f2d2635": {
          "model_module": "@jupyter-widgets/controls",
          "model_name": "SliderStyleModel",
          "state": {
            "_view_name": "StyleView",
            "handle_color": null,
            "_model_name": "SliderStyleModel",
            "description_width": "",
            "_view_module": "@jupyter-widgets/base",
            "_model_module_version": "1.5.0",
            "_view_count": null,
            "_view_module_version": "1.2.0",
            "_model_module": "@jupyter-widgets/controls"
          }
        },
        "87fec0d117094ffb928767c5ff030c7c": {
          "model_module": "@jupyter-widgets/base",
          "model_name": "LayoutModel",
          "state": {
            "_view_name": "LayoutView",
            "grid_template_rows": null,
            "right": null,
            "justify_content": null,
            "_view_module": "@jupyter-widgets/base",
            "overflow": null,
            "_model_module_version": "1.2.0",
            "_view_count": null,
            "flex_flow": null,
            "width": null,
            "min_width": null,
            "border": null,
            "align_items": null,
            "bottom": null,
            "_model_module": "@jupyter-widgets/base",
            "top": null,
            "grid_column": null,
            "overflow_y": null,
            "overflow_x": null,
            "grid_auto_flow": null,
            "grid_area": null,
            "grid_template_columns": null,
            "flex": null,
            "_model_name": "LayoutModel",
            "justify_items": null,
            "grid_row": null,
            "max_height": null,
            "align_content": null,
            "visibility": null,
            "align_self": null,
            "height": null,
            "min_height": null,
            "padding": null,
            "grid_auto_rows": null,
            "grid_gap": null,
            "max_width": null,
            "order": null,
            "_view_module_version": "1.2.0",
            "grid_template_areas": null,
            "object_position": null,
            "object_fit": null,
            "grid_auto_columns": null,
            "margin": null,
            "display": null,
            "left": null
          }
        },
        "7bb6b7d4950f41dc8117ba422ebebe07": {
          "model_module": "@jupyter-widgets/controls",
          "model_name": "SliderStyleModel",
          "state": {
            "_view_name": "StyleView",
            "handle_color": null,
            "_model_name": "SliderStyleModel",
            "description_width": "",
            "_view_module": "@jupyter-widgets/base",
            "_model_module_version": "1.5.0",
            "_view_count": null,
            "_view_module_version": "1.2.0",
            "_model_module": "@jupyter-widgets/controls"
          }
        },
        "9b2a1a83a7e4439ebefc14bebbccedc3": {
          "model_module": "@jupyter-widgets/base",
          "model_name": "LayoutModel",
          "state": {
            "_view_name": "LayoutView",
            "grid_template_rows": null,
            "right": null,
            "justify_content": null,
            "_view_module": "@jupyter-widgets/base",
            "overflow": null,
            "_model_module_version": "1.2.0",
            "_view_count": null,
            "flex_flow": null,
            "width": null,
            "min_width": null,
            "border": null,
            "align_items": null,
            "bottom": null,
            "_model_module": "@jupyter-widgets/base",
            "top": null,
            "grid_column": null,
            "overflow_y": null,
            "overflow_x": null,
            "grid_auto_flow": null,
            "grid_area": null,
            "grid_template_columns": null,
            "flex": null,
            "_model_name": "LayoutModel",
            "justify_items": null,
            "grid_row": null,
            "max_height": null,
            "align_content": null,
            "visibility": null,
            "align_self": null,
            "height": null,
            "min_height": null,
            "padding": null,
            "grid_auto_rows": null,
            "grid_gap": null,
            "max_width": null,
            "order": null,
            "_view_module_version": "1.2.0",
            "grid_template_areas": null,
            "object_position": null,
            "object_fit": null,
            "grid_auto_columns": null,
            "margin": null,
            "display": null,
            "left": null
          }
        },
        "d00f2292ffbc423ea6b032eff63c191e": {
          "model_module": "@jupyter-widgets/base",
          "model_name": "LayoutModel",
          "state": {
            "_view_name": "LayoutView",
            "grid_template_rows": null,
            "right": null,
            "justify_content": null,
            "_view_module": "@jupyter-widgets/base",
            "overflow": null,
            "_model_module_version": "1.2.0",
            "_view_count": null,
            "flex_flow": null,
            "width": null,
            "min_width": null,
            "border": null,
            "align_items": null,
            "bottom": null,
            "_model_module": "@jupyter-widgets/base",
            "top": null,
            "grid_column": null,
            "overflow_y": null,
            "overflow_x": null,
            "grid_auto_flow": null,
            "grid_area": null,
            "grid_template_columns": null,
            "flex": null,
            "_model_name": "LayoutModel",
            "justify_items": null,
            "grid_row": null,
            "max_height": null,
            "align_content": null,
            "visibility": null,
            "align_self": null,
            "height": null,
            "min_height": null,
            "padding": null,
            "grid_auto_rows": null,
            "grid_gap": null,
            "max_width": null,
            "order": null,
            "_view_module_version": "1.2.0",
            "grid_template_areas": null,
            "object_position": null,
            "object_fit": null,
            "grid_auto_columns": null,
            "margin": null,
            "display": null,
            "left": null
          }
        },
        "e009ac7ab1194351a4021d420b869c93": {
          "model_module": "@jupyter-widgets/controls",
          "model_name": "VBoxModel",
          "state": {
            "_view_name": "VBoxView",
            "_dom_classes": [
              "widget-interact"
            ],
            "_model_name": "VBoxModel",
            "_view_module": "@jupyter-widgets/controls",
            "_model_module_version": "1.5.0",
            "_view_count": null,
            "_view_module_version": "1.5.0",
            "box_style": "",
            "layout": "IPY_MODEL_99156b2f998a4b7bb8b881e8ec80903a",
            "_model_module": "@jupyter-widgets/controls",
            "children": [
              "IPY_MODEL_59c2bde7eccf4517b843b5282b3fc517",
              "IPY_MODEL_0fcff9a480e040ca8f412044ad7ed0fb",
              "IPY_MODEL_bec6293d0a9a4bf595b28f4aac5a052d"
            ]
          }
        },
        "99156b2f998a4b7bb8b881e8ec80903a": {
          "model_module": "@jupyter-widgets/base",
          "model_name": "LayoutModel",
          "state": {
            "_view_name": "LayoutView",
            "grid_template_rows": null,
            "right": null,
            "justify_content": null,
            "_view_module": "@jupyter-widgets/base",
            "overflow": null,
            "_model_module_version": "1.2.0",
            "_view_count": null,
            "flex_flow": null,
            "width": null,
            "min_width": null,
            "border": null,
            "align_items": null,
            "bottom": null,
            "_model_module": "@jupyter-widgets/base",
            "top": null,
            "grid_column": null,
            "overflow_y": null,
            "overflow_x": null,
            "grid_auto_flow": null,
            "grid_area": null,
            "grid_template_columns": null,
            "flex": null,
            "_model_name": "LayoutModel",
            "justify_items": null,
            "grid_row": null,
            "max_height": null,
            "align_content": null,
            "visibility": null,
            "align_self": null,
            "height": null,
            "min_height": null,
            "padding": null,
            "grid_auto_rows": null,
            "grid_gap": null,
            "max_width": null,
            "order": null,
            "_view_module_version": "1.2.0",
            "grid_template_areas": null,
            "object_position": null,
            "object_fit": null,
            "grid_auto_columns": null,
            "margin": null,
            "display": null,
            "left": null
          }
        },
        "59c2bde7eccf4517b843b5282b3fc517": {
          "model_module": "@jupyter-widgets/controls",
          "model_name": "IntSliderModel",
          "state": {
            "_view_name": "IntSliderView",
            "style": "IPY_MODEL_7dfb6fe5bba546299913fe120e6feda1",
            "_dom_classes": [],
            "description": "max_depth",
            "step": 1,
            "_model_name": "IntSliderModel",
            "orientation": "horizontal",
            "max": 6,
            "_view_module": "@jupyter-widgets/controls",
            "_model_module_version": "1.5.0",
            "value": 1,
            "_view_count": null,
            "disabled": false,
            "_view_module_version": "1.5.0",
            "min": 1,
            "continuous_update": true,
            "readout_format": "d",
            "description_tooltip": null,
            "readout": true,
            "_model_module": "@jupyter-widgets/controls",
            "layout": "IPY_MODEL_fba18092d39347fa9464e0f5c37c0f99"
          }
        },
        "0fcff9a480e040ca8f412044ad7ed0fb": {
          "model_module": "@jupyter-widgets/controls",
          "model_name": "IntSliderModel",
          "state": {
            "_view_name": "IntSliderView",
            "style": "IPY_MODEL_bee923d632f0482692cb689a4c269686",
            "_dom_classes": [],
            "description": "n_estimators",
            "step": 1,
            "_model_name": "IntSliderModel",
            "orientation": "horizontal",
            "max": 5,
            "_view_module": "@jupyter-widgets/controls",
            "_model_module_version": "1.5.0",
            "value": 2,
            "_view_count": null,
            "disabled": false,
            "_view_module_version": "1.5.0",
            "min": 2,
            "continuous_update": true,
            "readout_format": "d",
            "description_tooltip": null,
            "readout": true,
            "_model_module": "@jupyter-widgets/controls",
            "layout": "IPY_MODEL_d338e81c038b4618b6aefb8a99c0ed17"
          }
        },
        "bec6293d0a9a4bf595b28f4aac5a052d": {
          "model_module": "@jupyter-widgets/output",
          "model_name": "OutputModel",
          "state": {
            "_view_name": "OutputView",
            "msg_id": "",
            "_dom_classes": [],
            "_model_name": "OutputModel",
            "outputs": [
              {
                "output_type": "display_data",
                "metadata": {
                  "tags": [],
                  "needs_background": "light"
                },
                "image/png": "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\n",
                "text/plain": "<Figure size 432x288 with 1 Axes>"
              },
              {
                "output_type": "display_data",
                "metadata": {
                  "tags": [],
                  "needs_background": "light"
                },
                "image/png": "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\n",
                "text/plain": "<Figure size 432x288 with 1 Axes>"
              },
              {
                "output_type": "display_data",
                "metadata": {
                  "tags": [],
                  "needs_background": "light"
                },
                "image/png": "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\n",
                "text/plain": "<Figure size 432x288 with 1 Axes>"
              }
            ],
            "_view_module": "@jupyter-widgets/output",
            "_model_module_version": "1.0.0",
            "_view_count": null,
            "_view_module_version": "1.0.0",
            "layout": "IPY_MODEL_e0deafd8882a4f3483faa08dc7fadf5b",
            "_model_module": "@jupyter-widgets/output"
          }
        },
        "7dfb6fe5bba546299913fe120e6feda1": {
          "model_module": "@jupyter-widgets/controls",
          "model_name": "SliderStyleModel",
          "state": {
            "_view_name": "StyleView",
            "handle_color": null,
            "_model_name": "SliderStyleModel",
            "description_width": "",
            "_view_module": "@jupyter-widgets/base",
            "_model_module_version": "1.5.0",
            "_view_count": null,
            "_view_module_version": "1.2.0",
            "_model_module": "@jupyter-widgets/controls"
          }
        },
        "fba18092d39347fa9464e0f5c37c0f99": {
          "model_module": "@jupyter-widgets/base",
          "model_name": "LayoutModel",
          "state": {
            "_view_name": "LayoutView",
            "grid_template_rows": null,
            "right": null,
            "justify_content": null,
            "_view_module": "@jupyter-widgets/base",
            "overflow": null,
            "_model_module_version": "1.2.0",
            "_view_count": null,
            "flex_flow": null,
            "width": null,
            "min_width": null,
            "border": null,
            "align_items": null,
            "bottom": null,
            "_model_module": "@jupyter-widgets/base",
            "top": null,
            "grid_column": null,
            "overflow_y": null,
            "overflow_x": null,
            "grid_auto_flow": null,
            "grid_area": null,
            "grid_template_columns": null,
            "flex": null,
            "_model_name": "LayoutModel",
            "justify_items": null,
            "grid_row": null,
            "max_height": null,
            "align_content": null,
            "visibility": null,
            "align_self": null,
            "height": null,
            "min_height": null,
            "padding": null,
            "grid_auto_rows": null,
            "grid_gap": null,
            "max_width": null,
            "order": null,
            "_view_module_version": "1.2.0",
            "grid_template_areas": null,
            "object_position": null,
            "object_fit": null,
            "grid_auto_columns": null,
            "margin": null,
            "display": null,
            "left": null
          }
        },
        "bee923d632f0482692cb689a4c269686": {
          "model_module": "@jupyter-widgets/controls",
          "model_name": "SliderStyleModel",
          "state": {
            "_view_name": "StyleView",
            "handle_color": null,
            "_model_name": "SliderStyleModel",
            "description_width": "",
            "_view_module": "@jupyter-widgets/base",
            "_model_module_version": "1.5.0",
            "_view_count": null,
            "_view_module_version": "1.2.0",
            "_model_module": "@jupyter-widgets/controls"
          }
        },
        "d338e81c038b4618b6aefb8a99c0ed17": {
          "model_module": "@jupyter-widgets/base",
          "model_name": "LayoutModel",
          "state": {
            "_view_name": "LayoutView",
            "grid_template_rows": null,
            "right": null,
            "justify_content": null,
            "_view_module": "@jupyter-widgets/base",
            "overflow": null,
            "_model_module_version": "1.2.0",
            "_view_count": null,
            "flex_flow": null,
            "width": null,
            "min_width": null,
            "border": null,
            "align_items": null,
            "bottom": null,
            "_model_module": "@jupyter-widgets/base",
            "top": null,
            "grid_column": null,
            "overflow_y": null,
            "overflow_x": null,
            "grid_auto_flow": null,
            "grid_area": null,
            "grid_template_columns": null,
            "flex": null,
            "_model_name": "LayoutModel",
            "justify_items": null,
            "grid_row": null,
            "max_height": null,
            "align_content": null,
            "visibility": null,
            "align_self": null,
            "height": null,
            "min_height": null,
            "padding": null,
            "grid_auto_rows": null,
            "grid_gap": null,
            "max_width": null,
            "order": null,
            "_view_module_version": "1.2.0",
            "grid_template_areas": null,
            "object_position": null,
            "object_fit": null,
            "grid_auto_columns": null,
            "margin": null,
            "display": null,
            "left": null
          }
        },
        "e0deafd8882a4f3483faa08dc7fadf5b": {
          "model_module": "@jupyter-widgets/base",
          "model_name": "LayoutModel",
          "state": {
            "_view_name": "LayoutView",
            "grid_template_rows": null,
            "right": null,
            "justify_content": null,
            "_view_module": "@jupyter-widgets/base",
            "overflow": null,
            "_model_module_version": "1.2.0",
            "_view_count": null,
            "flex_flow": null,
            "width": null,
            "min_width": null,
            "border": null,
            "align_items": null,
            "bottom": null,
            "_model_module": "@jupyter-widgets/base",
            "top": null,
            "grid_column": null,
            "overflow_y": null,
            "overflow_x": null,
            "grid_auto_flow": null,
            "grid_area": null,
            "grid_template_columns": null,
            "flex": null,
            "_model_name": "LayoutModel",
            "justify_items": null,
            "grid_row": null,
            "max_height": null,
            "align_content": null,
            "visibility": null,
            "align_self": null,
            "height": null,
            "min_height": null,
            "padding": null,
            "grid_auto_rows": null,
            "grid_gap": null,
            "max_width": null,
            "order": null,
            "_view_module_version": "1.2.0",
            "grid_template_areas": null,
            "object_position": null,
            "object_fit": null,
            "grid_auto_columns": null,
            "margin": null,
            "display": null,
            "left": null
          }
        },
        "97b4b2be5da7403996883a9268f1a72e": {
          "model_module": "@jupyter-widgets/controls",
          "model_name": "VBoxModel",
          "state": {
            "_view_name": "VBoxView",
            "_dom_classes": [
              "widget-interact"
            ],
            "_model_name": "VBoxModel",
            "_view_module": "@jupyter-widgets/controls",
            "_model_module_version": "1.5.0",
            "_view_count": null,
            "_view_module_version": "1.5.0",
            "box_style": "",
            "layout": "IPY_MODEL_7986f8f4dbe246cf92fec6e4223e9a0b",
            "_model_module": "@jupyter-widgets/controls",
            "children": [
              "IPY_MODEL_f3c3e50f8cfb4ce79c1b798089632df5",
              "IPY_MODEL_92c48f63725b459482ddc307d5f18643",
              "IPY_MODEL_0d64e09cb23c4be7850f02d29695f31e"
            ]
          }
        },
        "7986f8f4dbe246cf92fec6e4223e9a0b": {
          "model_module": "@jupyter-widgets/base",
          "model_name": "LayoutModel",
          "state": {
            "_view_name": "LayoutView",
            "grid_template_rows": null,
            "right": null,
            "justify_content": null,
            "_view_module": "@jupyter-widgets/base",
            "overflow": null,
            "_model_module_version": "1.2.0",
            "_view_count": null,
            "flex_flow": null,
            "width": null,
            "min_width": null,
            "border": null,
            "align_items": null,
            "bottom": null,
            "_model_module": "@jupyter-widgets/base",
            "top": null,
            "grid_column": null,
            "overflow_y": null,
            "overflow_x": null,
            "grid_auto_flow": null,
            "grid_area": null,
            "grid_template_columns": null,
            "flex": null,
            "_model_name": "LayoutModel",
            "justify_items": null,
            "grid_row": null,
            "max_height": null,
            "align_content": null,
            "visibility": null,
            "align_self": null,
            "height": null,
            "min_height": null,
            "padding": null,
            "grid_auto_rows": null,
            "grid_gap": null,
            "max_width": null,
            "order": null,
            "_view_module_version": "1.2.0",
            "grid_template_areas": null,
            "object_position": null,
            "object_fit": null,
            "grid_auto_columns": null,
            "margin": null,
            "display": null,
            "left": null
          }
        },
        "f3c3e50f8cfb4ce79c1b798089632df5": {
          "model_module": "@jupyter-widgets/controls",
          "model_name": "IntSliderModel",
          "state": {
            "_view_name": "IntSliderView",
            "style": "IPY_MODEL_e90a3270d2df4b10bfead8baecbb1ebd",
            "_dom_classes": [],
            "description": "max_depth",
            "step": 1,
            "_model_name": "IntSliderModel",
            "orientation": "horizontal",
            "max": 6,
            "_view_module": "@jupyter-widgets/controls",
            "_model_module_version": "1.5.0",
            "value": 1,
            "_view_count": null,
            "disabled": false,
            "_view_module_version": "1.5.0",
            "min": 1,
            "continuous_update": true,
            "readout_format": "d",
            "description_tooltip": null,
            "readout": true,
            "_model_module": "@jupyter-widgets/controls",
            "layout": "IPY_MODEL_076b01993b5040c1818d49334b1ff5b3"
          }
        },
        "92c48f63725b459482ddc307d5f18643": {
          "model_module": "@jupyter-widgets/controls",
          "model_name": "IntSliderModel",
          "state": {
            "_view_name": "IntSliderView",
            "style": "IPY_MODEL_22fd2c494e0043229066e61c5dddcf2e",
            "_dom_classes": [],
            "description": "n_estimators",
            "step": 10,
            "_model_name": "IntSliderModel",
            "orientation": "horizontal",
            "max": 40,
            "_view_module": "@jupyter-widgets/controls",
            "_model_module_version": "1.5.0",
            "value": 10,
            "_view_count": null,
            "disabled": false,
            "_view_module_version": "1.5.0",
            "min": 10,
            "continuous_update": true,
            "readout_format": "d",
            "description_tooltip": null,
            "readout": true,
            "_model_module": "@jupyter-widgets/controls",
            "layout": "IPY_MODEL_28cb5f5f1b4843fc8bc871923c38024a"
          }
        },
        "0d64e09cb23c4be7850f02d29695f31e": {
          "model_module": "@jupyter-widgets/output",
          "model_name": "OutputModel",
          "state": {
            "_view_name": "OutputView",
            "msg_id": "",
            "_dom_classes": [],
            "_model_name": "OutputModel",
            "outputs": [
              {
                "output_type": "display_data",
                "metadata": {
                  "tags": [],
                  "needs_background": "light"
                },
                "image/png": "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\n",
                "text/plain": "<Figure size 432x288 with 2 Axes>"
              },
              {
                "output_type": "display_data",
                "metadata": {
                  "tags": [],
                  "needs_background": "light"
                },
                "image/png": "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\n",
                "text/plain": "<Figure size 432x288 with 2 Axes>"
              },
              {
                "output_type": "display_data",
                "metadata": {
                  "tags": [],
                  "needs_background": "light"
                },
                "image/png": "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\n",
                "text/plain": "<Figure size 432x288 with 2 Axes>"
              }
            ],
            "_view_module": "@jupyter-widgets/output",
            "_model_module_version": "1.0.0",
            "_view_count": null,
            "_view_module_version": "1.0.0",
            "layout": "IPY_MODEL_36e1b1a91c014fa0ab2581dd70d36b33",
            "_model_module": "@jupyter-widgets/output"
          }
        },
        "e90a3270d2df4b10bfead8baecbb1ebd": {
          "model_module": "@jupyter-widgets/controls",
          "model_name": "SliderStyleModel",
          "state": {
            "_view_name": "StyleView",
            "handle_color": null,
            "_model_name": "SliderStyleModel",
            "description_width": "",
            "_view_module": "@jupyter-widgets/base",
            "_model_module_version": "1.5.0",
            "_view_count": null,
            "_view_module_version": "1.2.0",
            "_model_module": "@jupyter-widgets/controls"
          }
        },
        "076b01993b5040c1818d49334b1ff5b3": {
          "model_module": "@jupyter-widgets/base",
          "model_name": "LayoutModel",
          "state": {
            "_view_name": "LayoutView",
            "grid_template_rows": null,
            "right": null,
            "justify_content": null,
            "_view_module": "@jupyter-widgets/base",
            "overflow": null,
            "_model_module_version": "1.2.0",
            "_view_count": null,
            "flex_flow": null,
            "width": null,
            "min_width": null,
            "border": null,
            "align_items": null,
            "bottom": null,
            "_model_module": "@jupyter-widgets/base",
            "top": null,
            "grid_column": null,
            "overflow_y": null,
            "overflow_x": null,
            "grid_auto_flow": null,
            "grid_area": null,
            "grid_template_columns": null,
            "flex": null,
            "_model_name": "LayoutModel",
            "justify_items": null,
            "grid_row": null,
            "max_height": null,
            "align_content": null,
            "visibility": null,
            "align_self": null,
            "height": null,
            "min_height": null,
            "padding": null,
            "grid_auto_rows": null,
            "grid_gap": null,
            "max_width": null,
            "order": null,
            "_view_module_version": "1.2.0",
            "grid_template_areas": null,
            "object_position": null,
            "object_fit": null,
            "grid_auto_columns": null,
            "margin": null,
            "display": null,
            "left": null
          }
        },
        "22fd2c494e0043229066e61c5dddcf2e": {
          "model_module": "@jupyter-widgets/controls",
          "model_name": "SliderStyleModel",
          "state": {
            "_view_name": "StyleView",
            "handle_color": null,
            "_model_name": "SliderStyleModel",
            "description_width": "",
            "_view_module": "@jupyter-widgets/base",
            "_model_module_version": "1.5.0",
            "_view_count": null,
            "_view_module_version": "1.2.0",
            "_model_module": "@jupyter-widgets/controls"
          }
        },
        "28cb5f5f1b4843fc8bc871923c38024a": {
          "model_module": "@jupyter-widgets/base",
          "model_name": "LayoutModel",
          "state": {
            "_view_name": "LayoutView",
            "grid_template_rows": null,
            "right": null,
            "justify_content": null,
            "_view_module": "@jupyter-widgets/base",
            "overflow": null,
            "_model_module_version": "1.2.0",
            "_view_count": null,
            "flex_flow": null,
            "width": null,
            "min_width": null,
            "border": null,
            "align_items": null,
            "bottom": null,
            "_model_module": "@jupyter-widgets/base",
            "top": null,
            "grid_column": null,
            "overflow_y": null,
            "overflow_x": null,
            "grid_auto_flow": null,
            "grid_area": null,
            "grid_template_columns": null,
            "flex": null,
            "_model_name": "LayoutModel",
            "justify_items": null,
            "grid_row": null,
            "max_height": null,
            "align_content": null,
            "visibility": null,
            "align_self": null,
            "height": null,
            "min_height": null,
            "padding": null,
            "grid_auto_rows": null,
            "grid_gap": null,
            "max_width": null,
            "order": null,
            "_view_module_version": "1.2.0",
            "grid_template_areas": null,
            "object_position": null,
            "object_fit": null,
            "grid_auto_columns": null,
            "margin": null,
            "display": null,
            "left": null
          }
        },
        "36e1b1a91c014fa0ab2581dd70d36b33": {
          "model_module": "@jupyter-widgets/base",
          "model_name": "LayoutModel",
          "state": {
            "_view_name": "LayoutView",
            "grid_template_rows": null,
            "right": null,
            "justify_content": null,
            "_view_module": "@jupyter-widgets/base",
            "overflow": null,
            "_model_module_version": "1.2.0",
            "_view_count": null,
            "flex_flow": null,
            "width": null,
            "min_width": null,
            "border": null,
            "align_items": null,
            "bottom": null,
            "_model_module": "@jupyter-widgets/base",
            "top": null,
            "grid_column": null,
            "overflow_y": null,
            "overflow_x": null,
            "grid_auto_flow": null,
            "grid_area": null,
            "grid_template_columns": null,
            "flex": null,
            "_model_name": "LayoutModel",
            "justify_items": null,
            "grid_row": null,
            "max_height": null,
            "align_content": null,
            "visibility": null,
            "align_self": null,
            "height": null,
            "min_height": null,
            "padding": null,
            "grid_auto_rows": null,
            "grid_gap": null,
            "max_width": null,
            "order": null,
            "_view_module_version": "1.2.0",
            "grid_template_areas": null,
            "object_position": null,
            "object_fit": null,
            "grid_auto_columns": null,
            "margin": null,
            "display": null,
            "left": null
          }
        },
        "9988387c2a6244e7949469d20d8b76a3": {
          "model_module": "@jupyter-widgets/controls",
          "model_name": "VBoxModel",
          "state": {
            "_view_name": "VBoxView",
            "_dom_classes": [
              "widget-interact"
            ],
            "_model_name": "VBoxModel",
            "_view_module": "@jupyter-widgets/controls",
            "_model_module_version": "1.5.0",
            "_view_count": null,
            "_view_module_version": "1.5.0",
            "box_style": "",
            "layout": "IPY_MODEL_ca9ab877a1224235912bf681ce379b10",
            "_model_module": "@jupyter-widgets/controls",
            "children": [
              "IPY_MODEL_8f1cdfefbc6c4864b5b87053524ad6f9",
              "IPY_MODEL_5bab42e3212a4337a848c21fef947b16",
              "IPY_MODEL_4da2cfcb8c0a482eac768f23bf7fdc63"
            ]
          }
        },
        "ca9ab877a1224235912bf681ce379b10": {
          "model_module": "@jupyter-widgets/base",
          "model_name": "LayoutModel",
          "state": {
            "_view_name": "LayoutView",
            "grid_template_rows": null,
            "right": null,
            "justify_content": null,
            "_view_module": "@jupyter-widgets/base",
            "overflow": null,
            "_model_module_version": "1.2.0",
            "_view_count": null,
            "flex_flow": null,
            "width": null,
            "min_width": null,
            "border": null,
            "align_items": null,
            "bottom": null,
            "_model_module": "@jupyter-widgets/base",
            "top": null,
            "grid_column": null,
            "overflow_y": null,
            "overflow_x": null,
            "grid_auto_flow": null,
            "grid_area": null,
            "grid_template_columns": null,
            "flex": null,
            "_model_name": "LayoutModel",
            "justify_items": null,
            "grid_row": null,
            "max_height": null,
            "align_content": null,
            "visibility": null,
            "align_self": null,
            "height": null,
            "min_height": null,
            "padding": null,
            "grid_auto_rows": null,
            "grid_gap": null,
            "max_width": null,
            "order": null,
            "_view_module_version": "1.2.0",
            "grid_template_areas": null,
            "object_position": null,
            "object_fit": null,
            "grid_auto_columns": null,
            "margin": null,
            "display": null,
            "left": null
          }
        },
        "8f1cdfefbc6c4864b5b87053524ad6f9": {
          "model_module": "@jupyter-widgets/controls",
          "model_name": "IntSliderModel",
          "state": {
            "_view_name": "IntSliderView",
            "style": "IPY_MODEL_c591f5780f35479587ec8b27ee010295",
            "_dom_classes": [],
            "description": "max_depth",
            "step": 1,
            "_model_name": "IntSliderModel",
            "orientation": "horizontal",
            "max": 6,
            "_view_module": "@jupyter-widgets/controls",
            "_model_module_version": "1.5.0",
            "value": 1,
            "_view_count": null,
            "disabled": false,
            "_view_module_version": "1.5.0",
            "min": 1,
            "continuous_update": true,
            "readout_format": "d",
            "description_tooltip": null,
            "readout": true,
            "_model_module": "@jupyter-widgets/controls",
            "layout": "IPY_MODEL_b05a7488a4ed45c4bab2e13d4fb82412"
          }
        },
        "5bab42e3212a4337a848c21fef947b16": {
          "model_module": "@jupyter-widgets/controls",
          "model_name": "IntSliderModel",
          "state": {
            "_view_name": "IntSliderView",
            "style": "IPY_MODEL_4657d57c83af4dbe8e79ed532810e0d8",
            "_dom_classes": [],
            "description": "n_estimators",
            "step": 1,
            "_model_name": "IntSliderModel",
            "orientation": "horizontal",
            "max": 5,
            "_view_module": "@jupyter-widgets/controls",
            "_model_module_version": "1.5.0",
            "value": 2,
            "_view_count": null,
            "disabled": false,
            "_view_module_version": "1.5.0",
            "min": 2,
            "continuous_update": true,
            "readout_format": "d",
            "description_tooltip": null,
            "readout": true,
            "_model_module": "@jupyter-widgets/controls",
            "layout": "IPY_MODEL_6a3f7cfe79b54eb39fcd4c46118811d7"
          }
        },
        "4da2cfcb8c0a482eac768f23bf7fdc63": {
          "model_module": "@jupyter-widgets/output",
          "model_name": "OutputModel",
          "state": {
            "_view_name": "OutputView",
            "msg_id": "",
            "_dom_classes": [],
            "_model_name": "OutputModel",
            "outputs": [
              {
                "output_type": "display_data",
                "metadata": {
                  "tags": [],
                  "needs_background": "light"
                },
                "image/png": "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\n",
                "text/plain": "<Figure size 432x288 with 2 Axes>"
              },
              {
                "output_type": "display_data",
                "metadata": {
                  "tags": [],
                  "needs_background": "light"
                },
                "image/png": "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\n",
                "text/plain": "<Figure size 432x288 with 2 Axes>"
              },
              {
                "output_type": "display_data",
                "metadata": {
                  "tags": [],
                  "needs_background": "light"
                },
                "image/png": "iVBORw0KGgoAAAANSUhEUgAAAVoAAAEFCAYAAACiiS9UAAAABHNCSVQICAgIfAhkiAAAAAlwSFlzAAALEgAACxIB0t1+/AAAADh0RVh0U29mdHdhcmUAbWF0cGxvdGxpYiB2ZXJzaW9uMy4yLjIsIGh0dHA6Ly9tYXRwbG90bGliLm9yZy+WH4yJAAAYZElEQVR4nO3debgcVZnH8e8vQRZJwCW4JWELQVlHGQWVURhZJqASHjcWUeIWBVHHBcVlGEQcd1EeGDEoDy5IBOdBLxLEUVkUQRKMRhIIZAKSBAEDBMIicO995486V4r2dnd10ifddfl98tSTWk6fOtW37tvnvnWqWhGBmZnlM67XDTAzG+scaM3MMnOgNTPLzIHWzCwzB1ozs8wcaM3MMnOg7YCkfSWtbLH9HEmnZNjvsyVdKWmtpK90u/66kfSApO1bbL9V0v4bsk3dJOlySe/MVHeWc9Ra66tAm35BHk6/SCPT6b1uVx+YDawGtoiIDzdulHS8pOtTIL5F0vHNKpK0raSQtFHOBucUERMiYjk4cLQiaZak32Sq+zOS/iRpUNJJOfYxlvTjL9trI+IXvW5En9kGWBLN7y4R8FZgETAN+LmkFRExd112JmmjiBhct6bak8Qy4KPAe3rdkDroqx5tKyOfzpK+LOne1HM7qGH78lKv7s2lbW+XdEN63aWStiltC0nHSro5vfYzkqZJ+q2k+yWdL2njhrZ8QtLq1AN/M01Ieo2kP0hak+rbvUXZl0uaL+m+9P/L0/pzgKOBj6Ye/j/8SRwRX4yI30fEYEQsBX4C7N1kV1em/9ek+l6W3rurJJ0q6W7gJEmbpPf6Nkl3SjpT0mZVjk3SxyStSu/nUkn7NTvu0mveJumi0vLNki4oLa+Q9MI0H5J2kDQbeHPpvbmoVOULJS1K7+cPJW3aZL/lY1+TzqGXp/UrJN0l6ehS+VdLWpjOjRXl3pykw9K5t0VaPkjSHZK2anPsB0i6MbX1dIoPzvL2dufv+1O7V0v6kqRxknYCzgRelt6bNaUqny7p4vTz+Z2kaa3aN5qI+E5EXAKs7fS1T0oR0TcTcCuwf5Nts4DHgHcB44FjgNspTsrNgfuB56eyzwV2SfMzKT59d6LowX8K+G2p3qAITFsAuwCPAL8Etge2BJYAR6ey+wKDwFeBTYB9gAdL+z0HOCXNvwi4C9grtffodHybjHJszwDuBd6S2nhEWn5mY70V3kMBC4H3NNm+bTrmjRre20HgfWn/mwGnAgOpbROBi4DPtTs24PnACuB5pf1Nq9Du7YE1FB/+zwP+DKwsbbsXGFf6me3Q7L1Jbbk21fMM4IYW78fIsb8tHcspwG3AGel4DqQIJhNK58BuqZ27A3cCh5bqOze16ZkU5+dr2hz3pFT/G4CnAB9M7XlnB+fvZek4twZuKr12FvCbhv2dA9wN7JnqOxeYW9q+KP0cRpv+e5T2fx84qdexo9+nnjeg4Yd2K/BAww/3XaWTZlmp7FPTSfYcikC7Bng9sFlDnZcA7ygtjwMeArYpnah7l7ZfB3ystPwV4Gtpft/0S7B5afv5wH+k+XN4PNB+A/hMQ1uWAvuMctxvAa5tWHc1MKux3grv4aeBPzJKQE/bt2X0QHtbaVkUHyDTSuteBtzS7tiAHSiC8P7AUzr8+a8A9gAOB+ZQBMsXUATBgVK5KoH2qNLyF4Ezm+xzFnBzaXm3VP+zS+vuBl7Y5PVfA04tLT+NIlD/CfhmhWN+K3BNw3u/kseDZZXzd0Zp+7HAL0vHNlqg/VZp+WDgxvX4nXWgrTD1Y+rg0Ih4Wmk6q7TtjpGZiHgozU6IiAeBwyjyRX9Jfxa9IG3fBvh6+rNwDXAPxck8uVTvnaX5h0dZnlBavjftb8SfKXpOjbYBPjyy37TvqU3KjvTgyv7c0Ma2JB1H8Yv76oh4pJPXUgS5EVtRfJBdV2r7z9J6aHFsEbEM+HfgJOAuSXMljXbMo7mC4sPslWn+corgvU9a7sQdpfmHeOLPsFHjz5uIGPUckLSXpMsk/VXSfRTn3KSRghGxBrgA2JXiQ7qd51F676OIXuWfRZXzt1y+2flY1sl7Y13Qj4F2nUTEpRFxAEXa4EZgJECvAN7dELw3i4jfruOuni5p89Ly1hR/IjZaAXy2Yb9PjYjzRil7O8UvVNnWwKqqjZL0duAEYL+IaDoEjaIH1G79aorgskup7VtGxMgvZMtji4gfRMS/pGMK4AsVD2Mk0L4izV9B+0C7oR8/9wOKlMrUiNiSIg/695xqyiO/HTgPOK1CfX+h+JAaeb3Ky1Q7f8vly+djx++NpMV64qif8nRmp/VZYUwEWhXjTGemAPgIRfphOG0+E/i4pF1S2S0lvXE9d/lpSRtLegXwGooeTKOzgPekHpAkbZ4upEwcpew8YEdJR0raSNJhwM7AT6s0RsUFuf8CDog07KmFv1K8N03HoUbEcGr/qZKelfYxWdK/tTs2Sc+X9CpJmwB/owjYw6mOfSW1+uW/AvhXivTPSuDXwAyKfOfCJq+5s9WxZDARuCci/iZpT+DIkQ3pgtv3gU9QpDsmSzq2TX0XA7tIep2KIXfvp0iHjahy/h4v6emSpgIfAH6Y1t8JTFHDxdxWImKXKIbPjTb9fYSBpKek4x0HbCRpU0njq+7nyaYfA+1FDZ+iF1Z4zTjgQxSf5PdQ9ICOAYiICyl6VHMl3Q9cDxzUpJ4q7qC4MHM7xYWE90TEjY2FImIBxYW701P5ZRQ5s38QEXdTBOwPU+QDP0pxEWV1xTadQhGM5rfrfaSUy2eBq9Kfoy9tUufHUpuvSe/bLygudLU7tk2Az1P0iu8AngV8PG2bCjT9SyIibqL4kPx1Wr4fWA5cFRFDTV72bWDndCw/blZ3Fx0LnCxpLXAiRY5+xOeAFRHxjZS6OQo4RdL0ZpWln/EbKd6zu4HpwFWl7VXO359QXFv4A0Xg/nZa/ytgMXCHpKrnUlVnUXyIHgF8Ms2/pcv7GDNUpITM8pP0LeCCiLi0120ZK9JfCNNTbtz6lAOtWY050NZDP6YOzMYUSa9odoGp122zfyTpbBU3qlzfZLsknSZpmYqbYvZoW6d7tGZmj5P0SoprBd+NiF1H2X4wxc09B1PctPP1iNirVZ3u0ZqZlUTElRQX1ZuZSRGEIyKuAZ4m6bmt6szyUJnlux3obrIZ8MDaTTbYvlY/vFn7Qn3oVXeer/alWnts9fLKMWfjraa9m+KJeCPmRMScDnY3mSfeJLIyrftLsxf049O7zMyySUG1k8C63hxozaz+hpsNs85iFU+8G28Kbe7idI7WzOpvaLD6tP4GgLem0QcvBe6LiKZpA3CP1szGgOKu8e6QdB7FMzcmqfjqqv+keIQlEXEmxS3zB1PcEfkQxe3WLTnQmln9DXcv0EbEEW22B/DeTup0oDWz+utijzYHB1ozq78NezGsYw60ZlZ/7tGameUV3RlNkI0DrZnVXxcvhuXgQGtm9efUgZlZZr4YZmaWmXu0ZmaZ+WKYmVlmvhhmZpZX8y9J7g8OtGZWf87Rmpll5tSBmVlm7tGamWU29FivW9CSA62Z1Z9TB2ZmmTl1YGaWmXu0ZmaZOdCameUVvhhmZpaZc7RmZpk5dWBmlpl7tGZmmblHa2aWmXu0ZmaZDfrB32ZmeblHa2aWmXO0ZmaZuUdrZpaZe7RmZpm5R2tmlplHHZiZZRbR6xa05EBrZvXnHK2ZWWZ9HmjH9boBZmbrLYarT21ImiFpqaRlkk4YZfvWki6TtFDSIkkHt6vTPVozq7+hoa5UI2k8cAZwALASmC9pICKWlIp9Cjg/Ir4haWdgHrBtq3odaM2s/rqXOtgTWBYRywEkzQVmAuVAG8AWaX5L4PZ2lTrQmln9dRBoJc0GZpdWzYmIOWl+MrCitG0lsFdDFScBP5f0PmBzYP92+3SgNbP66+CGhRRU57Qt2NwRwDkR8RVJLwO+J2nXiOaNcKA1s9qL4a6No10FTC0tT0nryt4BzACIiKslbQpMAu5qVqlHHZhZ/Q0PV59amw9Ml7SdpI2Bw4GBhjK3AfsBSNoJ2BT4a6tK3aM1s/rr0qiDiBiUdBxwKTAeODsiFks6GVgQEQPAh4GzJH2Q4sLYrIjWt6Y50JpZ/XXxhoWImEcxZKu87sTS/BJg707qdKA1s/rr8zvDHGjNrP78UBkzs8zcozUzy6x7w7uycKA1s/rr0qiDXBxozaz2wqkDM7PMnDowM8vMX85oZpaZe7RmZpkN+mKYmVleTh2YmWXm1IGZWV4e3mVmlpt7tGZmmTnQmpll5ltwzczy6uJ3hmXhQGtm9edAa2aWmUcdmJll5h6tmVlmDrRmZnnFkFMHZmZ5uUdrZpaXh3eZmeXmQGtmlll/p2gdaM2s/mKwvyOtA62Z1V9/x1kHWjOrP18MMzPLzT1aM7O83KM1M8vNPVqzJ68JEx/hgbWb9LoZY14M9roFrTnQmmXkILth9Pm3jTOu1w0wM1tvwx1MbUiaIWmppGWSTmhS5k2SlkhaLOkH7ep0j9bMaq9bPVpJ44EzgAOAlcB8SQMRsaRUZjrwcWDviLhX0rPa1eserZnVXgxXn9rYE1gWEcsj4lFgLjCzocy7gDMi4l6AiLirXaUOtGZWezGkypOk2ZIWlKbZpaomAytKyyvTurIdgR0lXSXpGkkz2rXPqQMzq71OUgcRMQeYsx672wiYDuwLTAGulLRbRKxp9QIzs1qLYXWrqlXA1NLylLSubCXwu4h4DLhF0k0UgXd+s0qdOjCz2utijnY+MF3SdpI2Bg4HBhrK/JiiN4ukSRSphOWtKnWP1sxqL6I7PdqIGJR0HHApMB44OyIWSzoZWBARA2nbgZKWAEPA8RFxd6t6HWjNrPa6ecNCRMwD5jWsO7E0H8CH0lRJpdSBpB0l/VLS9Wl5d0mfqroTM7OchodUeeqFqjnasygG6D4GEBGLKHIXZmY9F8OqPPVC1dTBUyPiWukJjezzxziY2ZNFrwJoVVUD7WpJ04AAkPQG4C/ZWmVm1oHo78fRVg6076UY4PsCSauAW4CjsrXKzKwDY6JHGxHLgf0lbQ6Mi4i1eZtlZlZdt4Z35dIy0EoadfjCSK42Ir6aoU1mZh0Z6tFogqra9Wgnpv+fD7yEx++QeC1wba5GmZl1otY92oj4NICkK4E9RlIGkk4CLs7eOjOzCsZEjhZ4NvBoafnRtM7MrOfGyqiD7wLXSrowLR8KfCdPk8zMOjMmerQR8VlJlwCvSKveFhEL8zXLzKy6oeH+fhBhpUAraWtgNXBheV1E3JarYWZmVY2V1MHFpLvCgM2A7YClwC45GmVm1onhOo86GBERu5WXJe0BHJulRWZmHar18K5mIuL3kvbqdmPMzNbFmEgdNNwhNg7YA7g9S4vMzDo0JlIHPH6HGBSPR7wY+J/uN8fMrHNjYtQBsCQiLiivkPRG4IIm5c3MNpg+zxxU/oaFj1dcZ2a2wQ2HKk+90O7pXQcBBwOTJZ1W2rQF/oYFM+sTdR91cDuwADgEuK60fi3wwVyNMjPrRBe/BDeLdk/v+iPwR0nnRoR7sGbWl4Ia92glnR8RbwIWSvqHfHNE7J6tZWZmFQ3WPHXwgfT/a3I3xMxsXfV7j7blqIOIGPmm22Mj4s/lCd+Ca2Z9YriDqReqDu86YJR1B3WzIWZm6ypQ5akX2uVoj6HouW4vaVFp00TgqpwNMzOrqtajDoAfAJcAnwNOKK1fGxH3ZGuVmVkHhvo8R9tueNd9wH3AEQCSngVsCkyQNMEP/jazftDn32RTLUcr6bWSbgZuAa4AbqXo6ZqZ9dwwqjz1QtWLYacALwVuiojtgP2Aa7K1ysysA9HB1AtVA+1jEXE3ME7SuIi4DHhxxnaZmVXW78O7qj4mcY2kCcCVwLmS7gIezNcsM7PqhtXfSdqqPdqZwMMUD5L5GfB/wGtzNcrMrBNDHUy9UCnQRsSDETEUEYMR8Z2IOC2lEszMem5Y1ad2JM2QtFTSMkkntCj3ekkhqW0atd0NC2sZPX8sICJii7atNjPLrFujCSSNB86guBt2JTBf0kBELGkoN5HiWTC/q1Jvu2cdTIyILUaZJjrImlm/6OKogz2BZRGxPCIeBeZSpE4bfQb4AvC3Ku3r7280MzOroJPUgaTZkhaUptmlqiYDK0rLK9O6v5O0BzA1Ii6u2r6qow7MzPpWJ8O2ImIOMGdd9iNpHPBVYFYnr3OgNbPaG+re6K5VwNTS8pS0bsREYFfgchVDyp4DDEg6JCIWNKvUgdbMaq+LNyLMB6ZL2o4iwB4OHDmyMT3/ZdLIsqTLgY+0CrLgHK2ZjQHdujMsfTficcClwA3A+RGxWNLJkg5Z1/a5R2tmtdfNrwyLiHnAvIZ1JzYpu2+VOh1ozaz26v7gbzOzvterW2urcqA1s9rr9wd/O9CaWe05dWBmlpkDrZlZZr365oSqHGjNrPacozUzy8yjDszMMhvu8+SBA62Z1Z4vhpmZZdbf/VkHWjMbA9yjNTPLbFD93ad1oDWz2uvvMOtAa2ZjgFMHZmaZeXiXmVlm/R1mHWjNbAxw6sDMLLOhPu/TOtCaWe25R2tmllm4R2tmlpd7tGZmmXl4l5lZZv0dZh1ozWwMGOzzUOtAa2a154thZmaZ+WKYmVlm7tGamWXmHq2ZWWZD4R6tmVlWHkdrZpaZc7RmZpk5R2tmllm/pw7G9boBZmbrKzr4146kGZKWSlom6YRRtn9I0hJJiyT9UtI27ep0oDWz2huKqDy1Imk8cAZwELAzcISknRuKLQReHBG7Az8CvtiufQ60ZlZ7w0TlqY09gWURsTwiHgXmAjPLBSLisoh4KC1eA0xpV6kDrZnV3nAHk6TZkhaUptmlqiYDK0rLK9O6Zt4BXNKufb4YZma118nwroiYA8xZ331KOgp4MbBPu7IOtGZWe10cdbAKmFpanpLWPYGk/YFPAvtExCPtKnWgNbPai+7dgjsfmC5pO4oAezhwZLmApBcB3wRmRMRdVSp1oDWz2uvW141HxKCk44BLgfHA2RGxWNLJwIKIGAC+BEwALpAEcFtEHNKqXgdaM6u9bt6wEBHzgHkN604sze/faZ0OtGZWe11MHWThQGtmtdfvt+A60JpZ7fnpXWZmmfnB32ZmmTl1YGaWmQOtmVlmHnVgZpaZe7RmZpl51IGZWWZD0d/fGuZAa2a15xytmVlmztGamWXmHK2ZWWbDTh2YmeXlHq2ZWWYedWBmlplTB2ZmmTl1YGaWmXu0ZmaZuUdrZpbZUAz1ugktOdCaWe35Flwzs8x8C66ZWWbu0ZqZZeZRB2ZmmXnUgZlZZr4F18wsM+dozcwyc47WzCwz92jNzDLzOFozs8zcozUzy8yjDszMMvPFMDOzzPo9dTCu1w0wM1tf0cG/diTNkLRU0jJJJ4yyfRNJP0zbfydp23Z1OtCaWe1FROWpFUnjgTOAg4CdgSMk7dxQ7B3AvRGxA3Aq8IV27XOgNbPaG46oPLWxJ7AsIpZHxKPAXGBmQ5mZwHfS/I+A/SSpVaVZcrTb/+nnLXdqZtZNg4+uqhxzJM0GZpdWzYmIOWl+MrCitG0lsFdDFX8vExGDku4DngmsbrZPXwwzsyeVFFTntC3YRU4dmJk9bhUwtbQ8Ja0btYykjYAtgbtbVepAa2b2uPnAdEnbSdoYOBwYaCgzAByd5t8A/CraXGVz6sDMLEk51+OAS4HxwNkRsVjSycCCiBgAvg18T9Iy4B6KYNyS+n2gr21Ykh6IiAldrvMQYOeI+LykQ4GbImJJh3VcDnwkIhZ0s21mG4JTB5ZdRAxExOfT4qEU4xPNnjQcaG1UKnxJ0vWS/iTpsLR+X0mXS/qRpBslnTsyhlDSwWnddZJOk/TTtH6WpNMlvRw4BPiSpD9ImpbqenEqN0nSrWl+M0lzJd0g6UJgs1LbDpR0taTfS7pAUld74Gbd5hytNfM64IXAPwGTgPmSrkzbXgTsAtwOXAXsLWkB8E3glRFxi6TzGiuMiN9KGgB+GhE/AmgxzvsY4KGI2EnS7sDvU/lJwKeA/SPiQUkfAz4EnNyNgzbLwYHWmvkX4LyIGALulHQF8BLgfuDaiFgJIOkPwLbAA8DyiLglvf48njgovFOvBE4DiIhFkhal9S+lSD1clYL0xsDV67Efs+wcaG1dPFKaH2L9zqNBHk9hbVqhvID/jYgj1mOfZhuUc7TWzK+BwySNl7QVRQ/z2hbllwLbl55kdFiTcmuBiaXlW4F/TvNvKK2/EjgSQNKuwO5p/TUUqYod0rbNJe1Y4XjMesaB1pq5EFgE/BH4FfDRiLijWeGIeBg4FviZpOsoAup9oxSdCxwvaaGkacCXgWMkLaTIBY/4BjBB0g0U+dfr0n7+CswCzkvphKuBF6zPgZrl5nG01jWSJkTEA2kUwhnAzRFxaq/bZdZr7tFaN70rXRxbTHH/9zd73B6zvuAerZlZZu7Rmpll5kBrZpaZA62ZWWYOtGZmmTnQmpll9v+aXNEFOftENgAAAABJRU5ErkJggg==\n",
                "text/plain": "<Figure size 432x288 with 2 Axes>"
              }
            ],
            "_view_module": "@jupyter-widgets/output",
            "_model_module_version": "1.0.0",
            "_view_count": null,
            "_view_module_version": "1.0.0",
            "layout": "IPY_MODEL_9fbc0a48f49a4d4ca55ddcbb74f258a5",
            "_model_module": "@jupyter-widgets/output"
          }
        },
        "c591f5780f35479587ec8b27ee010295": {
          "model_module": "@jupyter-widgets/controls",
          "model_name": "SliderStyleModel",
          "state": {
            "_view_name": "StyleView",
            "handle_color": null,
            "_model_name": "SliderStyleModel",
            "description_width": "",
            "_view_module": "@jupyter-widgets/base",
            "_model_module_version": "1.5.0",
            "_view_count": null,
            "_view_module_version": "1.2.0",
            "_model_module": "@jupyter-widgets/controls"
          }
        },
        "b05a7488a4ed45c4bab2e13d4fb82412": {
          "model_module": "@jupyter-widgets/base",
          "model_name": "LayoutModel",
          "state": {
            "_view_name": "LayoutView",
            "grid_template_rows": null,
            "right": null,
            "justify_content": null,
            "_view_module": "@jupyter-widgets/base",
            "overflow": null,
            "_model_module_version": "1.2.0",
            "_view_count": null,
            "flex_flow": null,
            "width": null,
            "min_width": null,
            "border": null,
            "align_items": null,
            "bottom": null,
            "_model_module": "@jupyter-widgets/base",
            "top": null,
            "grid_column": null,
            "overflow_y": null,
            "overflow_x": null,
            "grid_auto_flow": null,
            "grid_area": null,
            "grid_template_columns": null,
            "flex": null,
            "_model_name": "LayoutModel",
            "justify_items": null,
            "grid_row": null,
            "max_height": null,
            "align_content": null,
            "visibility": null,
            "align_self": null,
            "height": null,
            "min_height": null,
            "padding": null,
            "grid_auto_rows": null,
            "grid_gap": null,
            "max_width": null,
            "order": null,
            "_view_module_version": "1.2.0",
            "grid_template_areas": null,
            "object_position": null,
            "object_fit": null,
            "grid_auto_columns": null,
            "margin": null,
            "display": null,
            "left": null
          }
        },
        "4657d57c83af4dbe8e79ed532810e0d8": {
          "model_module": "@jupyter-widgets/controls",
          "model_name": "SliderStyleModel",
          "state": {
            "_view_name": "StyleView",
            "handle_color": null,
            "_model_name": "SliderStyleModel",
            "description_width": "",
            "_view_module": "@jupyter-widgets/base",
            "_model_module_version": "1.5.0",
            "_view_count": null,
            "_view_module_version": "1.2.0",
            "_model_module": "@jupyter-widgets/controls"
          }
        },
        "6a3f7cfe79b54eb39fcd4c46118811d7": {
          "model_module": "@jupyter-widgets/base",
          "model_name": "LayoutModel",
          "state": {
            "_view_name": "LayoutView",
            "grid_template_rows": null,
            "right": null,
            "justify_content": null,
            "_view_module": "@jupyter-widgets/base",
            "overflow": null,
            "_model_module_version": "1.2.0",
            "_view_count": null,
            "flex_flow": null,
            "width": null,
            "min_width": null,
            "border": null,
            "align_items": null,
            "bottom": null,
            "_model_module": "@jupyter-widgets/base",
            "top": null,
            "grid_column": null,
            "overflow_y": null,
            "overflow_x": null,
            "grid_auto_flow": null,
            "grid_area": null,
            "grid_template_columns": null,
            "flex": null,
            "_model_name": "LayoutModel",
            "justify_items": null,
            "grid_row": null,
            "max_height": null,
            "align_content": null,
            "visibility": null,
            "align_self": null,
            "height": null,
            "min_height": null,
            "padding": null,
            "grid_auto_rows": null,
            "grid_gap": null,
            "max_width": null,
            "order": null,
            "_view_module_version": "1.2.0",
            "grid_template_areas": null,
            "object_position": null,
            "object_fit": null,
            "grid_auto_columns": null,
            "margin": null,
            "display": null,
            "left": null
          }
        },
        "9fbc0a48f49a4d4ca55ddcbb74f258a5": {
          "model_module": "@jupyter-widgets/base",
          "model_name": "LayoutModel",
          "state": {
            "_view_name": "LayoutView",
            "grid_template_rows": null,
            "right": null,
            "justify_content": null,
            "_view_module": "@jupyter-widgets/base",
            "overflow": null,
            "_model_module_version": "1.2.0",
            "_view_count": null,
            "flex_flow": null,
            "width": null,
            "min_width": null,
            "border": null,
            "align_items": null,
            "bottom": null,
            "_model_module": "@jupyter-widgets/base",
            "top": null,
            "grid_column": null,
            "overflow_y": null,
            "overflow_x": null,
            "grid_auto_flow": null,
            "grid_area": null,
            "grid_template_columns": null,
            "flex": null,
            "_model_name": "LayoutModel",
            "justify_items": null,
            "grid_row": null,
            "max_height": null,
            "align_content": null,
            "visibility": null,
            "align_self": null,
            "height": null,
            "min_height": null,
            "padding": null,
            "grid_auto_rows": null,
            "grid_gap": null,
            "max_width": null,
            "order": null,
            "_view_module_version": "1.2.0",
            "grid_template_areas": null,
            "object_position": null,
            "object_fit": null,
            "grid_auto_columns": null,
            "margin": null,
            "display": null,
            "left": null
          }
        }
      }
    }
  },
  "cells": [
    {
      "cell_type": "markdown",
      "metadata": {
        "id": "view-in-github",
        "colab_type": "text"
      },
      "source": [
        "<a href=\"https://colab.research.google.com/github/austinlasseter/DS-Unit-2-Kaggle-Challenge/blob/master/module2-random-forests/222_responses.ipynb\" target=\"_parent\"><img src=\"https://colab.research.google.com/assets/colab-badge.svg\" alt=\"Open In Colab\"/></a>"
      ]
    },
    {
      "cell_type": "markdown",
      "metadata": {
        "colab_type": "text",
        "id": "UEHyIgGaaSEJ"
      },
      "source": [
        "Lambda School Data Science\n",
        "\n",
        "*Unit 2, Sprint 2, Module 2*\n",
        "\n",
        "---"
      ]
    },
    {
      "cell_type": "markdown",
      "metadata": {
        "colab_type": "text",
        "id": "mRfPLX4WgLVJ"
      },
      "source": [
        "# Random Forests"
      ]
    },
    {
      "cell_type": "markdown",
      "metadata": {
        "colab_type": "text",
        "id": "jRRNhkxcgLVK"
      },
      "source": [
        "- use scikit-learn for **random forests**\n",
        "- do **ordinal encoding** with high-cardinality categoricals\n",
        "- understand how categorical encodings affect trees differently compared to linear models\n",
        "- understand how tree ensembles reduce overfitting compared to a single decision tree with unlimited depth"
      ]
    },
    {
      "cell_type": "markdown",
      "metadata": {
        "colab_type": "text",
        "id": "-3TH11e1gLVL"
      },
      "source": [
        "Today's lesson has two take-away messages:\n",
        "\n",
        "#### Try Tree Ensembles when you do machine learning with labeled, tabular data\n",
        "- \"Tree Ensembles\" means Random Forest or Gradient Boosting models. \n",
        "- [Tree Ensembles often have the best predictive accuracy](https://arxiv.org/abs/1708.05070) with labeled, tabular data.\n",
        "- Why? Because trees can fit non-linear, non-[monotonic](https://en.wikipedia.org/wiki/Monotonic_function) relationships, and [interactions](https://christophm.github.io/interpretable-ml-book/interaction.html) between features.\n",
        "- A single decision tree, grown to unlimited depth, will [overfit](http://www.r2d3.us/visual-intro-to-machine-learning-part-1/). We solve this problem by ensembling trees, with bagging (Random Forest) or boosting (Gradient Boosting).\n",
        "- Random Forest's advantage: may be less sensitive to hyperparameters. Gradient Boosting's advantage: may get better predictive accuracy.\n",
        "\n",
        "#### One-hot encoding isn’t the only way, and may not be the best way, of categorical encoding for tree ensembles.\n",
        "- For example, tree ensembles can work with arbitrary \"ordinal\" encoding! (Randomly assigning an integer to each category.) Compared to one-hot encoding, the dimensionality will be lower, and the predictive accuracy may be just as good or even better.\n"
      ]
    },
    {
      "cell_type": "markdown",
      "metadata": {
        "id": "iE1b1IJylhKi",
        "colab_type": "text"
      },
      "source": [
        "\n",
        "<img src=\"https://github.com/austinlasseter/DS-Unit-2-Kaggle-Challenge/blob/master/module2-random-forests/random_forest.png?raw=1\" alt=\"random forest\" width=\"250000\"/>"
      ]
    },
    {
      "cell_type": "markdown",
      "metadata": {
        "colab_type": "text",
        "id": "r5PbOFEuFfGF"
      },
      "source": [
        "### Setup\n",
        "\n",
        "Run the code cell below. You can work locally (follow the [local setup instructions](https://lambdaschool.github.io/ds/unit2/local/)) or on Colab.\n",
        "\n",
        "Libraries\n",
        "\n",
        "- **category_encoders** \n",
        "- **graphviz**\n",
        "- ipywidgets\n",
        "- matplotlib\n",
        "- numpy\n",
        "- pandas\n",
        "- seaborn\n",
        "- scikit-learn"
      ]
    },
    {
      "cell_type": "code",
      "metadata": {
        "colab_type": "code",
        "id": "FStAplyRFoEu",
        "colab": {}
      },
      "source": [
        "%%capture\n",
        "import sys\n",
        "\n",
        "# If you're on Colab:\n",
        "if 'google.colab' in sys.modules:\n",
        "    DATA_PATH = 'https://raw.githubusercontent.com/LambdaSchool/DS-Unit-2-Kaggle-Challenge/master/data/'\n",
        "    !pip install category_encoders==2.*\n",
        "\n",
        "# If you're working locally:\n",
        "else:\n",
        "    DATA_PATH = '../data/'"
      ],
      "execution_count": 1,
      "outputs": []
    },
    {
      "cell_type": "markdown",
      "metadata": {
        "colab_type": "text",
        "id": "ZL-yK8B7gLVW"
      },
      "source": [
        "# Use scikit-learn for random forests"
      ]
    },
    {
      "cell_type": "markdown",
      "metadata": {
        "id": "3tbqQ4Rq9Eoz",
        "colab_type": "text"
      },
      "source": [
        "## Overview\n",
        "\n",
        "Let's fit a Random Forest!\n",
        "\n",
        "![](https://pbs.twimg.com/media/EGSvKA0UUAEzUZi?format=png)\n",
        "\n",
        "[Chris Albon, MachineLearningFlashcards.com](https://twitter.com/chrisalbon/status/1181261589887909889)"
      ]
    },
    {
      "cell_type": "markdown",
      "metadata": {
        "colab_type": "text",
        "id": "gHFxMCPSgLVM"
      },
      "source": [
        "### Solution example\n",
        "\n",
        "First, read & wrangle the data.\n",
        "\n",
        "> Define a function to wrangle train, validate, and test sets in the same way. Clean outliers and engineer features. (For example, [what other columns have zeros and shouldn't?](https://github.com/Quartz/bad-data-guide#zeros-replace-missing-values) What other columns are duplicates, or nearly duplicates? Can you extract the year from date_recorded? Can you engineer new features, such as the number of years from waterpump construction to waterpump inspection?)"
      ]
    },
    {
      "cell_type": "code",
      "metadata": {
        "colab_type": "code",
        "id": "YTLm-rDagLVM",
        "colab": {}
      },
      "source": [
        "import numpy as np\n",
        "import pandas as pd\n",
        "from sklearn.model_selection import train_test_split\n",
        "\n",
        "# Merge train_features.csv & train_labels.csv\n",
        "train = pd.merge(pd.read_csv(DATA_PATH+'waterpumps/train_features.csv'), \n",
        "                 pd.read_csv(DATA_PATH+'waterpumps/train_labels.csv'))\n",
        "\n",
        "# Read test_features.csv & sample_submission.csv\n",
        "test = pd.read_csv(DATA_PATH+'waterpumps/test_features.csv')\n",
        "sample_submission = pd.read_csv(DATA_PATH+'waterpumps/sample_submission.csv')\n",
        "\n",
        "# Split train into train & val\n",
        "train, val = train_test_split(train, train_size=0.80, test_size=0.20, \n",
        "                              stratify=train['status_group'], random_state=42)\n",
        "\n",
        "\n",
        "def wrangle(X):\n",
        "    \"\"\"Wrangle train, validate, and test sets in the same way\"\"\"\n",
        "    \n",
        "    # Prevent SettingWithCopyWarning\n",
        "    X = X.copy()\n",
        "    \n",
        "    # About 3% of the time, latitude has small values near zero,\n",
        "    # outside Tanzania, so we'll treat these values like zero.\n",
        "    X['latitude'] = X['latitude'].replace(-2e-08, 0)\n",
        "    \n",
        "    # When columns have zeros and shouldn't, they are like null values.\n",
        "    # So we will replace the zeros with nulls, and impute missing values later.\n",
        "    # Also create a \"missing indicator\" column, because the fact that\n",
        "    # values are missing may be a predictive signal.\n",
        "    cols_with_zeros = ['longitude', 'latitude', 'construction_year', \n",
        "                       'gps_height', 'population']\n",
        "    for col in cols_with_zeros:\n",
        "        X[col] = X[col].replace(0, np.nan)\n",
        "        X[col+'_MISSING'] = X[col].isnull()\n",
        "            \n",
        "    # Drop duplicate columns\n",
        "    duplicates = ['quantity_group', 'payment_type']\n",
        "    X = X.drop(columns=duplicates)\n",
        "    \n",
        "    # Drop recorded_by (never varies) and id (always varies, random)\n",
        "    unusable_variance = ['recorded_by', 'id']\n",
        "    X = X.drop(columns=unusable_variance)\n",
        "    \n",
        "    # Convert date_recorded to datetime\n",
        "    X['date_recorded'] = pd.to_datetime(X['date_recorded'], infer_datetime_format=True)\n",
        "    \n",
        "    # Extract components from date_recorded, then drop the original column\n",
        "    X['year_recorded'] = X['date_recorded'].dt.year\n",
        "    X['month_recorded'] = X['date_recorded'].dt.month\n",
        "    X['day_recorded'] = X['date_recorded'].dt.day\n",
        "    X = X.drop(columns='date_recorded')\n",
        "    \n",
        "    # Engineer feature: how many years from construction_year to date_recorded\n",
        "    X['years'] = X['year_recorded'] - X['construction_year']\n",
        "    X['years_MISSING'] = X['years'].isnull()\n",
        "    \n",
        "    # return the wrangled dataframe\n",
        "    return X\n",
        "\n",
        "train = wrangle(train)\n",
        "val = wrangle(val)\n",
        "test = wrangle(test)"
      ],
      "execution_count": 2,
      "outputs": []
    },
    {
      "cell_type": "code",
      "metadata": {
        "colab_type": "code",
        "id": "m2HppBvZgLVP",
        "colab": {}
      },
      "source": [
        "# The status_group column is the target\n",
        "target = 'status_group'\n",
        "\n",
        "# Get a dataframe with all train columns except the target\n",
        "train_features = train.drop(columns=[target])\n",
        "\n",
        "# Get a list of the numeric features\n",
        "numeric_features = train_features.select_dtypes(include='number').columns.tolist()\n",
        "\n",
        "# Get a series with the cardinality of the nonnumeric features\n",
        "cardinality = train_features.select_dtypes(exclude='number').nunique()\n",
        "\n",
        "# Get a list of all categorical features with cardinality <= 50\n",
        "categorical_features = cardinality[cardinality <= 50].index.tolist()\n",
        "\n",
        "# Combine the lists \n",
        "features = numeric_features + categorical_features"
      ],
      "execution_count": 3,
      "outputs": []
    },
    {
      "cell_type": "code",
      "metadata": {
        "colab_type": "code",
        "id": "aXmK2brXgLVR",
        "colab": {}
      },
      "source": [
        "# Arrange data into X features matrix and y target vector \n",
        "X_train = train[features]\n",
        "y_train = train[target]\n",
        "X_val = val[features]\n",
        "y_val = val[target]\n",
        "X_test = test[features]"
      ],
      "execution_count": 4,
      "outputs": []
    },
    {
      "cell_type": "code",
      "metadata": {
        "id": "1FR7hmhzX1q7",
        "colab_type": "code",
        "colab": {
          "base_uri": "https://localhost:8080/",
          "height": 35
        },
        "outputId": "f4223ff5-b677-48ff-ca3c-3c18a668ccd3"
      },
      "source": [
        "train.describe(exclude='number').T.unique.sum()"
      ],
      "execution_count": 5,
      "outputs": [
        {
          "output_type": "execute_result",
          "data": {
            "text/plain": [
              "56481"
            ]
          },
          "metadata": {
            "tags": []
          },
          "execution_count": 5
        }
      ]
    },
    {
      "cell_type": "markdown",
      "metadata": {
        "id": "XsT6ahBr9Eo-",
        "colab_type": "text"
      },
      "source": [
        "## Follow Along\n",
        "\n",
        "[Scikit-Learn User Guide: Random Forests](https://scikit-learn.org/stable/modules/ensemble.html#random-forests)"
      ]
    },
    {
      "cell_type": "code",
      "metadata": {
        "id": "MfPklCDxfRzP",
        "colab_type": "code",
        "colab": {
          "base_uri": "https://localhost:8080/",
          "height": 194
        },
        "outputId": "80e44bd2-7aaa-4dfc-d428-2466160b9cf2"
      },
      "source": [
        "# let's take a small sample for comparison purposes\n",
        "region = X_train[['region']].copy()\n",
        "region = region.sample(30)\n",
        "region.head()"
      ],
      "execution_count": 91,
      "outputs": [
        {
          "output_type": "execute_result",
          "data": {
            "text/html": [
              "<div>\n",
              "<style scoped>\n",
              "    .dataframe tbody tr th:only-of-type {\n",
              "        vertical-align: middle;\n",
              "    }\n",
              "\n",
              "    .dataframe tbody tr th {\n",
              "        vertical-align: top;\n",
              "    }\n",
              "\n",
              "    .dataframe thead th {\n",
              "        text-align: right;\n",
              "    }\n",
              "</style>\n",
              "<table border=\"1\" class=\"dataframe\">\n",
              "  <thead>\n",
              "    <tr style=\"text-align: right;\">\n",
              "      <th></th>\n",
              "      <th>region</th>\n",
              "    </tr>\n",
              "  </thead>\n",
              "  <tbody>\n",
              "    <tr>\n",
              "      <th>58762</th>\n",
              "      <td>Shinyanga</td>\n",
              "    </tr>\n",
              "    <tr>\n",
              "      <th>24031</th>\n",
              "      <td>Dodoma</td>\n",
              "    </tr>\n",
              "    <tr>\n",
              "      <th>14511</th>\n",
              "      <td>Kilimanjaro</td>\n",
              "    </tr>\n",
              "    <tr>\n",
              "      <th>25844</th>\n",
              "      <td>Pwani</td>\n",
              "    </tr>\n",
              "    <tr>\n",
              "      <th>44329</th>\n",
              "      <td>Iringa</td>\n",
              "    </tr>\n",
              "  </tbody>\n",
              "</table>\n",
              "</div>"
            ],
            "text/plain": [
              "            region\n",
              "58762    Shinyanga\n",
              "24031       Dodoma\n",
              "14511  Kilimanjaro\n",
              "25844        Pwani\n",
              "44329       Iringa"
            ]
          },
          "metadata": {
            "tags": []
          },
          "execution_count": 91
        }
      ]
    },
    {
      "cell_type": "code",
      "metadata": {
        "id": "zjyv5SVlfbCQ",
        "colab_type": "code",
        "colab": {
          "base_uri": "https://localhost:8080/",
          "height": 319
        },
        "outputId": "4a8e4e32-3fb8-4993-db31-1028d5f25bb0"
      },
      "source": [
        "# how many regions are there?\n",
        "region['region'].value_counts()"
      ],
      "execution_count": 93,
      "outputs": [
        {
          "output_type": "execute_result",
          "data": {
            "text/plain": [
              "Kilimanjaro      4\n",
              "Mbeya            4\n",
              "Mwanza           3\n",
              "Iringa           2\n",
              "Pwani            2\n",
              "Shinyanga        2\n",
              "Dar es Salaam    2\n",
              "Ruvuma           2\n",
              "Tanga            2\n",
              "Morogoro         1\n",
              "Kigoma           1\n",
              "Singida          1\n",
              "Arusha           1\n",
              "Rukwa            1\n",
              "Dodoma           1\n",
              "Tabora           1\n",
              "Name: region, dtype: int64"
            ]
          },
          "metadata": {
            "tags": []
          },
          "execution_count": 93
        }
      ]
    },
    {
      "cell_type": "code",
      "metadata": {
        "id": "7icCdsiMfX7z",
        "colab_type": "code",
        "colab": {
          "base_uri": "https://localhost:8080/",
          "height": 214
        },
        "outputId": "41ef3793-8319-489e-a70a-bb89ea7a41b2"
      },
      "source": [
        "# what does one-hot encoding look like?\n",
        "region_ohe.head()"
      ],
      "execution_count": 94,
      "outputs": [
        {
          "output_type": "execute_result",
          "data": {
            "text/html": [
              "<div>\n",
              "<style scoped>\n",
              "    .dataframe tbody tr th:only-of-type {\n",
              "        vertical-align: middle;\n",
              "    }\n",
              "\n",
              "    .dataframe tbody tr th {\n",
              "        vertical-align: top;\n",
              "    }\n",
              "\n",
              "    .dataframe thead th {\n",
              "        text-align: right;\n",
              "    }\n",
              "</style>\n",
              "<table border=\"1\" class=\"dataframe\">\n",
              "  <thead>\n",
              "    <tr style=\"text-align: right;\">\n",
              "      <th></th>\n",
              "      <th>region_Manyara</th>\n",
              "      <th>region_Shinyanga</th>\n",
              "      <th>region_Arusha</th>\n",
              "      <th>region_Mara</th>\n",
              "      <th>region_Kilimanjaro</th>\n",
              "      <th>region_Lindi</th>\n",
              "      <th>region_Mbeya</th>\n",
              "      <th>region_Iringa</th>\n",
              "      <th>region_Morogoro</th>\n",
              "      <th>region_Ruvuma</th>\n",
              "      <th>region_Dodoma</th>\n",
              "      <th>region_Pwani</th>\n",
              "      <th>region_Mtwara</th>\n",
              "      <th>region_Kagera</th>\n",
              "      <th>region_Kigoma</th>\n",
              "      <th>region_Mwanza</th>\n",
              "    </tr>\n",
              "  </thead>\n",
              "  <tbody>\n",
              "    <tr>\n",
              "      <th>14308</th>\n",
              "      <td>1</td>\n",
              "      <td>0</td>\n",
              "      <td>0</td>\n",
              "      <td>0</td>\n",
              "      <td>0</td>\n",
              "      <td>0</td>\n",
              "      <td>0</td>\n",
              "      <td>0</td>\n",
              "      <td>0</td>\n",
              "      <td>0</td>\n",
              "      <td>0</td>\n",
              "      <td>0</td>\n",
              "      <td>0</td>\n",
              "      <td>0</td>\n",
              "      <td>0</td>\n",
              "      <td>0</td>\n",
              "    </tr>\n",
              "    <tr>\n",
              "      <th>52392</th>\n",
              "      <td>0</td>\n",
              "      <td>1</td>\n",
              "      <td>0</td>\n",
              "      <td>0</td>\n",
              "      <td>0</td>\n",
              "      <td>0</td>\n",
              "      <td>0</td>\n",
              "      <td>0</td>\n",
              "      <td>0</td>\n",
              "      <td>0</td>\n",
              "      <td>0</td>\n",
              "      <td>0</td>\n",
              "      <td>0</td>\n",
              "      <td>0</td>\n",
              "      <td>0</td>\n",
              "      <td>0</td>\n",
              "    </tr>\n",
              "    <tr>\n",
              "      <th>41712</th>\n",
              "      <td>0</td>\n",
              "      <td>0</td>\n",
              "      <td>1</td>\n",
              "      <td>0</td>\n",
              "      <td>0</td>\n",
              "      <td>0</td>\n",
              "      <td>0</td>\n",
              "      <td>0</td>\n",
              "      <td>0</td>\n",
              "      <td>0</td>\n",
              "      <td>0</td>\n",
              "      <td>0</td>\n",
              "      <td>0</td>\n",
              "      <td>0</td>\n",
              "      <td>0</td>\n",
              "      <td>0</td>\n",
              "    </tr>\n",
              "    <tr>\n",
              "      <th>55925</th>\n",
              "      <td>0</td>\n",
              "      <td>0</td>\n",
              "      <td>0</td>\n",
              "      <td>1</td>\n",
              "      <td>0</td>\n",
              "      <td>0</td>\n",
              "      <td>0</td>\n",
              "      <td>0</td>\n",
              "      <td>0</td>\n",
              "      <td>0</td>\n",
              "      <td>0</td>\n",
              "      <td>0</td>\n",
              "      <td>0</td>\n",
              "      <td>0</td>\n",
              "      <td>0</td>\n",
              "      <td>0</td>\n",
              "    </tr>\n",
              "    <tr>\n",
              "      <th>35878</th>\n",
              "      <td>0</td>\n",
              "      <td>0</td>\n",
              "      <td>1</td>\n",
              "      <td>0</td>\n",
              "      <td>0</td>\n",
              "      <td>0</td>\n",
              "      <td>0</td>\n",
              "      <td>0</td>\n",
              "      <td>0</td>\n",
              "      <td>0</td>\n",
              "      <td>0</td>\n",
              "      <td>0</td>\n",
              "      <td>0</td>\n",
              "      <td>0</td>\n",
              "      <td>0</td>\n",
              "      <td>0</td>\n",
              "    </tr>\n",
              "  </tbody>\n",
              "</table>\n",
              "</div>"
            ],
            "text/plain": [
              "       region_Manyara  region_Shinyanga  ...  region_Kigoma  region_Mwanza\n",
              "14308               1                 0  ...              0              0\n",
              "52392               0                 1  ...              0              0\n",
              "41712               0                 0  ...              0              0\n",
              "55925               0                 0  ...              0              0\n",
              "35878               0                 0  ...              0              0\n",
              "\n",
              "[5 rows x 16 columns]"
            ]
          },
          "metadata": {
            "tags": []
          },
          "execution_count": 94
        }
      ]
    },
    {
      "cell_type": "markdown",
      "metadata": {
        "id": "JWT9dTzAfnOR",
        "colab_type": "text"
      },
      "source": [
        "### Put that into a pipeline."
      ]
    },
    {
      "cell_type": "code",
      "metadata": {
        "colab_type": "code",
        "id": "57yyygsdgLVW",
        "colab": {
          "base_uri": "https://localhost:8080/",
          "height": 106
        },
        "outputId": "5a717ad4-007e-4711-aa10-2a3bc149779a"
      },
      "source": [
        "%%time\n",
        "# WARNING: the %%time command sometimes has quirks/bugs\n",
        "\n",
        "import category_encoders as ce\n",
        "from sklearn.ensemble import RandomForestClassifier\n",
        "from sklearn.impute import SimpleImputer\n",
        "from sklearn.pipeline import make_pipeline\n",
        "\n",
        "pipeline = make_pipeline(\n",
        "    ce.OneHotEncoder(use_cat_names=True), \n",
        "    SimpleImputer(strategy='median'), \n",
        "    RandomForestClassifier(random_state=0, n_jobs=-1)\n",
        ")\n",
        "\n",
        "# Fit on train, score on val\n",
        "pipeline.fit(X_train, y_train)\n",
        "print('Validation Accuracy', pipeline.score(X_val, y_val))"
      ],
      "execution_count": 6,
      "outputs": [
        {
          "output_type": "stream",
          "text": [
            "/usr/local/lib/python3.6/dist-packages/statsmodels/tools/_testing.py:19: FutureWarning: pandas.util.testing is deprecated. Use the functions in the public API at pandas.testing instead.\n",
            "  import pandas.util.testing as tm\n"
          ],
          "name": "stderr"
        },
        {
          "output_type": "stream",
          "text": [
            "Validation Accuracy 0.8088383838383838\n",
            "CPU times: user 25.9 s, sys: 456 ms, total: 26.4 s\n",
            "Wall time: 16.5 s\n"
          ],
          "name": "stdout"
        }
      ]
    },
    {
      "cell_type": "code",
      "metadata": {
        "id": "aNufH5BOVCsj",
        "colab_type": "code",
        "colab": {
          "base_uri": "https://localhost:8080/",
          "height": 35
        },
        "outputId": "6f4b0a61-0972-43e0-96c8-f62899ebd28d"
      },
      "source": [
        "print('X_train shape before encoding', X_train.shape)"
      ],
      "execution_count": 7,
      "outputs": [
        {
          "output_type": "stream",
          "text": [
            "X_train shape before encoding (47520, 38)\n"
          ],
          "name": "stdout"
        }
      ]
    },
    {
      "cell_type": "code",
      "metadata": {
        "id": "ay8iLJhtVIlQ",
        "colab_type": "code",
        "colab": {
          "base_uri": "https://localhost:8080/",
          "height": 35
        },
        "outputId": "5a345644-cd79-44cb-b1a8-014ba13e6d1c"
      },
      "source": [
        "encoder = pipeline.named_steps['onehotencoder']\n",
        "encoded = encoder.transform(X_train)\n",
        "print('X_train shape after encoding', encoded.shape)"
      ],
      "execution_count": 8,
      "outputs": [
        {
          "output_type": "stream",
          "text": [
            "X_train shape after encoding (47520, 182)\n"
          ],
          "name": "stdout"
        }
      ]
    },
    {
      "cell_type": "code",
      "metadata": {
        "id": "LRFGlwRaVmLW",
        "colab_type": "code",
        "colab": {
          "base_uri": "https://localhost:8080/",
          "height": 607
        },
        "outputId": "b145034f-cde5-427c-9b2b-5b2e27b7a63a"
      },
      "source": [
        "%matplotlib inline\n",
        "import matplotlib.pyplot as plt\n",
        "\n",
        "# Get feature importances\n",
        "rf = pipeline.named_steps['randomforestclassifier']\n",
        "importances = pd.Series(rf.feature_importances_, encoded.columns)\n",
        "\n",
        "# Plot top n feature importances\n",
        "n = 20\n",
        "plt.figure(figsize=(10,n/2))\n",
        "plt.title(f'Top {n} features')\n",
        "importances.sort_values()[-n:].plot.barh();"
      ],
      "execution_count": 9,
      "outputs": [
        {
          "output_type": "display_data",
          "data": {
            "image/png": "[encoded data removed]",
            "text/plain": [
              "<Figure size 720x720 with 1 Axes>"
            ]
          },
          "metadata": {
            "tags": [],
            "needs_background": "light"
          }
        }
      ]
    },
    {
      "cell_type": "markdown",
      "metadata": {
        "colab_type": "text",
        "id": "yfyk_aa5gLVY"
      },
      "source": [
        "# Do ordinal encoding with high-cardinality categoricals"
      ]
    },
    {
      "cell_type": "markdown",
      "metadata": {
        "id": "TALhCsW09EpC",
        "colab_type": "text"
      },
      "source": [
        "## Overview\n",
        "\n",
        "http://contrib.scikit-learn.org/categorical-encoding/ordinal.html"
      ]
    },
    {
      "cell_type": "markdown",
      "metadata": {
        "id": "Xk0xQ1lM9EpC",
        "colab_type": "text"
      },
      "source": [
        "## Follow Along"
      ]
    },
    {
      "cell_type": "code",
      "metadata": {
        "colab_type": "code",
        "id": "b8d_WJtcgLVZ",
        "colab": {}
      },
      "source": [
        "# Re-arrange data into X features matrix and y target vector, so\n",
        "# we use *all* features, including the high-cardinality categoricals\n",
        "X_train = train.drop(columns=target)\n",
        "y_train = train[target]\n",
        "X_val = val.drop(columns=target)\n",
        "y_val = val[target]\n",
        "X_test = test"
      ],
      "execution_count": 10,
      "outputs": []
    },
    {
      "cell_type": "markdown",
      "metadata": {
        "id": "SRU4lAbVgH14",
        "colab_type": "text"
      },
      "source": [
        "### There's a couple of ways to encode categorical variables"
      ]
    },
    {
      "cell_type": "code",
      "metadata": {
        "id": "dKD3Fu6wRaHK",
        "colab_type": "code",
        "colab": {
          "base_uri": "https://localhost:8080/",
          "height": 194
        },
        "outputId": "e43f35e4-30f9-4ba6-d5f7-30b2c746d8ec"
      },
      "source": [
        "# let's take a small sample for comparison purposes\n",
        "region = X_train[['region']].copy()\n",
        "region = region.sample(30)\n",
        "region.head()"
      ],
      "execution_count": 79,
      "outputs": [
        {
          "output_type": "execute_result",
          "data": {
            "text/html": [
              "<div>\n",
              "<style scoped>\n",
              "    .dataframe tbody tr th:only-of-type {\n",
              "        vertical-align: middle;\n",
              "    }\n",
              "\n",
              "    .dataframe tbody tr th {\n",
              "        vertical-align: top;\n",
              "    }\n",
              "\n",
              "    .dataframe thead th {\n",
              "        text-align: right;\n",
              "    }\n",
              "</style>\n",
              "<table border=\"1\" class=\"dataframe\">\n",
              "  <thead>\n",
              "    <tr style=\"text-align: right;\">\n",
              "      <th></th>\n",
              "      <th>region</th>\n",
              "    </tr>\n",
              "  </thead>\n",
              "  <tbody>\n",
              "    <tr>\n",
              "      <th>14308</th>\n",
              "      <td>Manyara</td>\n",
              "    </tr>\n",
              "    <tr>\n",
              "      <th>52392</th>\n",
              "      <td>Shinyanga</td>\n",
              "    </tr>\n",
              "    <tr>\n",
              "      <th>41712</th>\n",
              "      <td>Arusha</td>\n",
              "    </tr>\n",
              "    <tr>\n",
              "      <th>55925</th>\n",
              "      <td>Mara</td>\n",
              "    </tr>\n",
              "    <tr>\n",
              "      <th>35878</th>\n",
              "      <td>Arusha</td>\n",
              "    </tr>\n",
              "  </tbody>\n",
              "</table>\n",
              "</div>"
            ],
            "text/plain": [
              "          region\n",
              "14308    Manyara\n",
              "52392  Shinyanga\n",
              "41712     Arusha\n",
              "55925       Mara\n",
              "35878     Arusha"
            ]
          },
          "metadata": {
            "tags": []
          },
          "execution_count": 79
        }
      ]
    },
    {
      "cell_type": "code",
      "metadata": {
        "id": "ShViYNXZRkt3",
        "colab_type": "code",
        "colab": {
          "base_uri": "https://localhost:8080/",
          "height": 88
        },
        "outputId": "e480be87-6186-4945-8b1d-00b78090ce62"
      },
      "source": [
        "# Method 1\n",
        "# Encode the categorical columns using the pandas \"category\" data type\n",
        "region['region_cats']=region['region'].astype('category')\n",
        "region['region_codes']= region['region_cats'].cat.codes\n",
        "region.dtypes"
      ],
      "execution_count": 80,
      "outputs": [
        {
          "output_type": "execute_result",
          "data": {
            "text/plain": [
              "region            object\n",
              "region_cats     category\n",
              "region_codes        int8\n",
              "dtype: object"
            ]
          },
          "metadata": {
            "tags": []
          },
          "execution_count": 80
        }
      ]
    },
    {
      "cell_type": "code",
      "metadata": {
        "id": "IRM-rqnAcPUB",
        "colab_type": "code",
        "colab": {
          "base_uri": "https://localhost:8080/",
          "height": 194
        },
        "outputId": "5c374061-e209-4962-8957-1bfe5d906866"
      },
      "source": [
        "# show a few\n",
        "region.head()"
      ],
      "execution_count": 81,
      "outputs": [
        {
          "output_type": "execute_result",
          "data": {
            "text/html": [
              "<div>\n",
              "<style scoped>\n",
              "    .dataframe tbody tr th:only-of-type {\n",
              "        vertical-align: middle;\n",
              "    }\n",
              "\n",
              "    .dataframe tbody tr th {\n",
              "        vertical-align: top;\n",
              "    }\n",
              "\n",
              "    .dataframe thead th {\n",
              "        text-align: right;\n",
              "    }\n",
              "</style>\n",
              "<table border=\"1\" class=\"dataframe\">\n",
              "  <thead>\n",
              "    <tr style=\"text-align: right;\">\n",
              "      <th></th>\n",
              "      <th>region</th>\n",
              "      <th>region_cats</th>\n",
              "      <th>region_codes</th>\n",
              "    </tr>\n",
              "  </thead>\n",
              "  <tbody>\n",
              "    <tr>\n",
              "      <th>14308</th>\n",
              "      <td>Manyara</td>\n",
              "      <td>Manyara</td>\n",
              "      <td>7</td>\n",
              "    </tr>\n",
              "    <tr>\n",
              "      <th>52392</th>\n",
              "      <td>Shinyanga</td>\n",
              "      <td>Shinyanga</td>\n",
              "      <td>15</td>\n",
              "    </tr>\n",
              "    <tr>\n",
              "      <th>41712</th>\n",
              "      <td>Arusha</td>\n",
              "      <td>Arusha</td>\n",
              "      <td>0</td>\n",
              "    </tr>\n",
              "    <tr>\n",
              "      <th>55925</th>\n",
              "      <td>Mara</td>\n",
              "      <td>Mara</td>\n",
              "      <td>8</td>\n",
              "    </tr>\n",
              "    <tr>\n",
              "      <th>35878</th>\n",
              "      <td>Arusha</td>\n",
              "      <td>Arusha</td>\n",
              "      <td>0</td>\n",
              "    </tr>\n",
              "  </tbody>\n",
              "</table>\n",
              "</div>"
            ],
            "text/plain": [
              "          region region_cats  region_codes\n",
              "14308    Manyara     Manyara             7\n",
              "52392  Shinyanga   Shinyanga            15\n",
              "41712     Arusha      Arusha             0\n",
              "55925       Mara        Mara             8\n",
              "35878     Arusha      Arusha             0"
            ]
          },
          "metadata": {
            "tags": []
          },
          "execution_count": 81
        }
      ]
    },
    {
      "cell_type": "code",
      "metadata": {
        "id": "m1llC916czdm",
        "colab_type": "code",
        "colab": {
          "base_uri": "https://localhost:8080/",
          "height": 319
        },
        "outputId": "038c423f-6881-45a3-a6c9-6c2dab25d318"
      },
      "source": [
        "# distribution (note that the values start at 0)\n",
        "region['region_codes'].value_counts().sort_index()"
      ],
      "execution_count": 82,
      "outputs": [
        {
          "output_type": "execute_result",
          "data": {
            "text/plain": [
              "0     3\n",
              "1     1\n",
              "2     2\n",
              "3     1\n",
              "4     2\n",
              "5     3\n",
              "6     1\n",
              "7     3\n",
              "8     2\n",
              "9     2\n",
              "10    3\n",
              "11    1\n",
              "12    1\n",
              "13    2\n",
              "14    1\n",
              "15    2\n",
              "Name: region_codes, dtype: int64"
            ]
          },
          "metadata": {
            "tags": []
          },
          "execution_count": 82
        }
      ]
    },
    {
      "cell_type": "code",
      "metadata": {
        "id": "71hxYTITSyG7",
        "colab_type": "code",
        "colab": {
          "base_uri": "https://localhost:8080/",
          "height": 194
        },
        "outputId": "d9dbbea2-505f-4939-9fa0-51cbceadf3a7"
      },
      "source": [
        "# Method 2\n",
        "# Encode the categorical columns using scikit learn's ordinal encoding class\n",
        "myencoder=ce.OrdinalEncoder()\n",
        "region['region_encoded'] = myencoder.fit_transform(region['region'])\n",
        "region.sample(5)"
      ],
      "execution_count": 83,
      "outputs": [
        {
          "output_type": "execute_result",
          "data": {
            "text/html": [
              "<div>\n",
              "<style scoped>\n",
              "    .dataframe tbody tr th:only-of-type {\n",
              "        vertical-align: middle;\n",
              "    }\n",
              "\n",
              "    .dataframe tbody tr th {\n",
              "        vertical-align: top;\n",
              "    }\n",
              "\n",
              "    .dataframe thead th {\n",
              "        text-align: right;\n",
              "    }\n",
              "</style>\n",
              "<table border=\"1\" class=\"dataframe\">\n",
              "  <thead>\n",
              "    <tr style=\"text-align: right;\">\n",
              "      <th></th>\n",
              "      <th>region</th>\n",
              "      <th>region_cats</th>\n",
              "      <th>region_codes</th>\n",
              "      <th>region_encoded</th>\n",
              "    </tr>\n",
              "  </thead>\n",
              "  <tbody>\n",
              "    <tr>\n",
              "      <th>19730</th>\n",
              "      <td>Morogoro</td>\n",
              "      <td>Morogoro</td>\n",
              "      <td>10</td>\n",
              "      <td>9</td>\n",
              "    </tr>\n",
              "    <tr>\n",
              "      <th>1361</th>\n",
              "      <td>Shinyanga</td>\n",
              "      <td>Shinyanga</td>\n",
              "      <td>15</td>\n",
              "      <td>2</td>\n",
              "    </tr>\n",
              "    <tr>\n",
              "      <th>5609</th>\n",
              "      <td>Kilimanjaro</td>\n",
              "      <td>Kilimanjaro</td>\n",
              "      <td>5</td>\n",
              "      <td>5</td>\n",
              "    </tr>\n",
              "    <tr>\n",
              "      <th>32280</th>\n",
              "      <td>Mwanza</td>\n",
              "      <td>Mwanza</td>\n",
              "      <td>12</td>\n",
              "      <td>16</td>\n",
              "    </tr>\n",
              "    <tr>\n",
              "      <th>41712</th>\n",
              "      <td>Arusha</td>\n",
              "      <td>Arusha</td>\n",
              "      <td>0</td>\n",
              "      <td>3</td>\n",
              "    </tr>\n",
              "  </tbody>\n",
              "</table>\n",
              "</div>"
            ],
            "text/plain": [
              "            region  region_cats  region_codes  region_encoded\n",
              "19730     Morogoro     Morogoro            10               9\n",
              "1361     Shinyanga    Shinyanga            15               2\n",
              "5609   Kilimanjaro  Kilimanjaro             5               5\n",
              "32280       Mwanza       Mwanza            12              16\n",
              "41712       Arusha       Arusha             0               3"
            ]
          },
          "metadata": {
            "tags": []
          },
          "execution_count": 83
        }
      ]
    },
    {
      "cell_type": "code",
      "metadata": {
        "id": "lRGoNhuNc_bZ",
        "colab_type": "code",
        "colab": {
          "base_uri": "https://localhost:8080/",
          "height": 319
        },
        "outputId": "e807a487-8832-49f5-f4be-c51ca32bda74"
      },
      "source": [
        "# they are the same distribution but starting at 1 not 0\n",
        "region['region_encoded'].value_counts().sort_index()"
      ],
      "execution_count": 84,
      "outputs": [
        {
          "output_type": "execute_result",
          "data": {
            "text/plain": [
              "1     3\n",
              "2     2\n",
              "3     3\n",
              "4     2\n",
              "5     3\n",
              "6     1\n",
              "7     2\n",
              "8     2\n",
              "9     3\n",
              "10    1\n",
              "11    1\n",
              "12    2\n",
              "13    1\n",
              "14    1\n",
              "15    2\n",
              "16    1\n",
              "Name: region_encoded, dtype: int64"
            ]
          },
          "metadata": {
            "tags": []
          },
          "execution_count": 84
        }
      ]
    },
    {
      "cell_type": "markdown",
      "metadata": {
        "id": "uUQ1hswHen1K",
        "colab_type": "text"
      },
      "source": [
        "### Okay back to our scheduled programming"
      ]
    },
    {
      "cell_type": "code",
      "metadata": {
        "id": "BjxV8i9daBoO",
        "colab_type": "code",
        "colab": {
          "base_uri": "https://localhost:8080/",
          "height": 70
        },
        "outputId": "5d3dc792-c0e1-427d-af91-7888b65d3edd"
      },
      "source": [
        "%%time\n",
        "\n",
        "# This pipeline is identical to the example cell above, \n",
        "# except we're replacing one-hot encoder with \"ordinal\" encoder\n",
        "\n",
        "pipeline = make_pipeline(\n",
        "    ce.OrdinalEncoder(), \n",
        "    SimpleImputer(strategy='median'), \n",
        "    RandomForestClassifier(random_state=0, n_jobs=-1)\n",
        ")\n",
        "\n",
        "# Fit on train, score on val\n",
        "pipeline.fit(X_train, y_train)\n",
        "print('Validation Accuracy', pipeline.score(X_val, y_val))"
      ],
      "execution_count": 11,
      "outputs": [
        {
          "output_type": "stream",
          "text": [
            "Validation Accuracy 0.8092592592592592\n",
            "CPU times: user 19 s, sys: 155 ms, total: 19.1 s\n",
            "Wall time: 10.6 s\n"
          ],
          "name": "stdout"
        }
      ]
    },
    {
      "cell_type": "code",
      "metadata": {
        "id": "-oTJ_a9_boTQ",
        "colab_type": "code",
        "colab": {
          "base_uri": "https://localhost:8080/",
          "height": 35
        },
        "outputId": "6e8ec821-9dfe-4b1d-f2b8-01c209832d43"
      },
      "source": [
        "print('X_train shape before encoding', X_train.shape)"
      ],
      "execution_count": 12,
      "outputs": [
        {
          "output_type": "stream",
          "text": [
            "X_train shape before encoding (47520, 45)\n"
          ],
          "name": "stdout"
        }
      ]
    },
    {
      "cell_type": "code",
      "metadata": {
        "id": "1BHSXBFmbtzA",
        "colab_type": "code",
        "colab": {
          "base_uri": "https://localhost:8080/",
          "height": 35
        },
        "outputId": "4a9b80be-bb95-4602-b5cd-1ed9c96afc29"
      },
      "source": [
        "encoder = pipeline.named_steps['ordinalencoder']\n",
        "encoded = encoder.transform(X_train)\n",
        "print('X_train shape after encoding', encoded.shape)"
      ],
      "execution_count": 13,
      "outputs": [
        {
          "output_type": "stream",
          "text": [
            "X_train shape after encoding (47520, 45)\n"
          ],
          "name": "stdout"
        }
      ]
    },
    {
      "cell_type": "markdown",
      "metadata": {
        "colab_type": "text",
        "id": "xs2UPoVdgLVp"
      },
      "source": [
        "# Understand how categorical encodings affect trees differently compared to linear models"
      ]
    },
    {
      "cell_type": "markdown",
      "metadata": {
        "id": "jKbCTRg59EpH",
        "colab_type": "text"
      },
      "source": [
        "## Follow Along"
      ]
    },
    {
      "cell_type": "markdown",
      "metadata": {
        "colab_type": "text",
        "id": "z8V-A92mgLVp"
      },
      "source": [
        "### Categorical exploration, 1 feature at a time\n",
        "\n",
        "Change `feature`, then re-run these cells!"
      ]
    },
    {
      "cell_type": "code",
      "metadata": {
        "colab_type": "code",
        "id": "G35RAzVdgLVq",
        "colab": {}
      },
      "source": [
        "feature = 'extraction_type_class'"
      ],
      "execution_count": 14,
      "outputs": []
    },
    {
      "cell_type": "code",
      "metadata": {
        "colab_type": "code",
        "id": "OuxHWiH8gLVr",
        "colab": {
          "base_uri": "https://localhost:8080/",
          "height": 159
        },
        "outputId": "f4d0ce69-f390-415c-b569-25b059dc7cd2"
      },
      "source": [
        "X_train[feature].value_counts()"
      ],
      "execution_count": 15,
      "outputs": [
        {
          "output_type": "execute_result",
          "data": {
            "text/plain": [
              "gravity         21448\n",
              "handpump        13184\n",
              "other            5193\n",
              "submersible      4894\n",
              "motorpump        2355\n",
              "rope pump         353\n",
              "wind-powered       93\n",
              "Name: extraction_type_class, dtype: int64"
            ]
          },
          "metadata": {
            "tags": []
          },
          "execution_count": 15
        }
      ]
    },
    {
      "cell_type": "code",
      "metadata": {
        "colab_type": "code",
        "id": "pVxoC4NngLVt",
        "colab": {
          "base_uri": "https://localhost:8080/",
          "height": 552
        },
        "outputId": "4f7f75c9-5a92-4e9b-bdca-22595361c113"
      },
      "source": [
        "import seaborn as sns\n",
        "plt.figure(figsize=(16,9))\n",
        "sns.barplot(\n",
        "    x=train[feature], \n",
        "    y=train['status_group']=='functional', \n",
        "    color='grey'\n",
        ");"
      ],
      "execution_count": 16,
      "outputs": [
        {
          "output_type": "display_data",
          "data": {
            "image/png": "[encoded data removed]",
            "text/plain": [
              "<Figure size 1152x648 with 1 Axes>"
            ]
          },
          "metadata": {
            "tags": [],
            "needs_background": "light"
          }
        }
      ]
    },
    {
      "cell_type": "code",
      "metadata": {
        "colab_type": "code",
        "id": "w99mek14gLVv",
        "colab": {
          "base_uri": "https://localhost:8080/",
          "height": 390
        },
        "outputId": "09e4159a-5033-48df-be88-7ac75736badc"
      },
      "source": [
        "X_train[feature].head(20)"
      ],
      "execution_count": 17,
      "outputs": [
        {
          "output_type": "execute_result",
          "data": {
            "text/plain": [
              "43360        gravity\n",
              "7263         gravity\n",
              "2486        handpump\n",
              "313            other\n",
              "52726      motorpump\n",
              "8558         gravity\n",
              "2559         gravity\n",
              "54735      motorpump\n",
              "25763       handpump\n",
              "44540    submersible\n",
              "28603          other\n",
              "4372     submersible\n",
              "30666        gravity\n",
              "6431     submersible\n",
              "57420          other\n",
              "1373         gravity\n",
              "2026         gravity\n",
              "58977       handpump\n",
              "41101        gravity\n",
              "10019        gravity\n",
              "Name: extraction_type_class, dtype: object"
            ]
          },
          "metadata": {
            "tags": []
          },
          "execution_count": 17
        }
      ]
    },
    {
      "cell_type": "markdown",
      "metadata": {
        "colab_type": "text",
        "id": "ezzK2IdbgLVx"
      },
      "source": [
        "### [One Hot Encoding](http://contrib.scikit-learn.org/categorical-encoding/onehot.html)\n",
        "\n",
        "> Onehot (or dummy) coding for categorical features, produces one feature per category, each binary.\n",
        "\n",
        "Warning: May run slow, or run out of memory, with high cardinality categoricals!"
      ]
    },
    {
      "cell_type": "code",
      "metadata": {
        "colab_type": "code",
        "id": "HDQZtV6GgLVy",
        "colab": {
          "base_uri": "https://localhost:8080/",
          "height": 688
        },
        "outputId": "45e7d589-b8a0-4e13-f7f6-79dc6fdc9615"
      },
      "source": [
        "encoder = ce.OneHotEncoder(use_cat_names=True)\n",
        "encoded = encoder.fit_transform(X_train[[feature]])\n",
        "print(f'{len(encoded.columns)} columns')\n",
        "encoded.head(20)"
      ],
      "execution_count": 18,
      "outputs": [
        {
          "output_type": "stream",
          "text": [
            "7 columns\n"
          ],
          "name": "stdout"
        },
        {
          "output_type": "execute_result",
          "data": {
            "text/html": [
              "<div>\n",
              "<style scoped>\n",
              "    .dataframe tbody tr th:only-of-type {\n",
              "        vertical-align: middle;\n",
              "    }\n",
              "\n",
              "    .dataframe tbody tr th {\n",
              "        vertical-align: top;\n",
              "    }\n",
              "\n",
              "    .dataframe thead th {\n",
              "        text-align: right;\n",
              "    }\n",
              "</style>\n",
              "<table border=\"1\" class=\"dataframe\">\n",
              "  <thead>\n",
              "    <tr style=\"text-align: right;\">\n",
              "      <th></th>\n",
              "      <th>extraction_type_class_gravity</th>\n",
              "      <th>extraction_type_class_handpump</th>\n",
              "      <th>extraction_type_class_other</th>\n",
              "      <th>extraction_type_class_motorpump</th>\n",
              "      <th>extraction_type_class_submersible</th>\n",
              "      <th>extraction_type_class_rope pump</th>\n",
              "      <th>extraction_type_class_wind-powered</th>\n",
              "    </tr>\n",
              "  </thead>\n",
              "  <tbody>\n",
              "    <tr>\n",
              "      <th>43360</th>\n",
              "      <td>1</td>\n",
              "      <td>0</td>\n",
              "      <td>0</td>\n",
              "      <td>0</td>\n",
              "      <td>0</td>\n",
              "      <td>0</td>\n",
              "      <td>0</td>\n",
              "    </tr>\n",
              "    <tr>\n",
              "      <th>7263</th>\n",
              "      <td>1</td>\n",
              "      <td>0</td>\n",
              "      <td>0</td>\n",
              "      <td>0</td>\n",
              "      <td>0</td>\n",
              "      <td>0</td>\n",
              "      <td>0</td>\n",
              "    </tr>\n",
              "    <tr>\n",
              "      <th>2486</th>\n",
              "      <td>0</td>\n",
              "      <td>1</td>\n",
              "      <td>0</td>\n",
              "      <td>0</td>\n",
              "      <td>0</td>\n",
              "      <td>0</td>\n",
              "      <td>0</td>\n",
              "    </tr>\n",
              "    <tr>\n",
              "      <th>313</th>\n",
              "      <td>0</td>\n",
              "      <td>0</td>\n",
              "      <td>1</td>\n",
              "      <td>0</td>\n",
              "      <td>0</td>\n",
              "      <td>0</td>\n",
              "      <td>0</td>\n",
              "    </tr>\n",
              "    <tr>\n",
              "      <th>52726</th>\n",
              "      <td>0</td>\n",
              "      <td>0</td>\n",
              "      <td>0</td>\n",
              "      <td>1</td>\n",
              "      <td>0</td>\n",
              "      <td>0</td>\n",
              "      <td>0</td>\n",
              "    </tr>\n",
              "    <tr>\n",
              "      <th>8558</th>\n",
              "      <td>1</td>\n",
              "      <td>0</td>\n",
              "      <td>0</td>\n",
              "      <td>0</td>\n",
              "      <td>0</td>\n",
              "      <td>0</td>\n",
              "      <td>0</td>\n",
              "    </tr>\n",
              "    <tr>\n",
              "      <th>2559</th>\n",
              "      <td>1</td>\n",
              "      <td>0</td>\n",
              "      <td>0</td>\n",
              "      <td>0</td>\n",
              "      <td>0</td>\n",
              "      <td>0</td>\n",
              "      <td>0</td>\n",
              "    </tr>\n",
              "    <tr>\n",
              "      <th>54735</th>\n",
              "      <td>0</td>\n",
              "      <td>0</td>\n",
              "      <td>0</td>\n",
              "      <td>1</td>\n",
              "      <td>0</td>\n",
              "      <td>0</td>\n",
              "      <td>0</td>\n",
              "    </tr>\n",
              "    <tr>\n",
              "      <th>25763</th>\n",
              "      <td>0</td>\n",
              "      <td>1</td>\n",
              "      <td>0</td>\n",
              "      <td>0</td>\n",
              "      <td>0</td>\n",
              "      <td>0</td>\n",
              "      <td>0</td>\n",
              "    </tr>\n",
              "    <tr>\n",
              "      <th>44540</th>\n",
              "      <td>0</td>\n",
              "      <td>0</td>\n",
              "      <td>0</td>\n",
              "      <td>0</td>\n",
              "      <td>1</td>\n",
              "      <td>0</td>\n",
              "      <td>0</td>\n",
              "    </tr>\n",
              "    <tr>\n",
              "      <th>28603</th>\n",
              "      <td>0</td>\n",
              "      <td>0</td>\n",
              "      <td>1</td>\n",
              "      <td>0</td>\n",
              "      <td>0</td>\n",
              "      <td>0</td>\n",
              "      <td>0</td>\n",
              "    </tr>\n",
              "    <tr>\n",
              "      <th>4372</th>\n",
              "      <td>0</td>\n",
              "      <td>0</td>\n",
              "      <td>0</td>\n",
              "      <td>0</td>\n",
              "      <td>1</td>\n",
              "      <td>0</td>\n",
              "      <td>0</td>\n",
              "    </tr>\n",
              "    <tr>\n",
              "      <th>30666</th>\n",
              "      <td>1</td>\n",
              "      <td>0</td>\n",
              "      <td>0</td>\n",
              "      <td>0</td>\n",
              "      <td>0</td>\n",
              "      <td>0</td>\n",
              "      <td>0</td>\n",
              "    </tr>\n",
              "    <tr>\n",
              "      <th>6431</th>\n",
              "      <td>0</td>\n",
              "      <td>0</td>\n",
              "      <td>0</td>\n",
              "      <td>0</td>\n",
              "      <td>1</td>\n",
              "      <td>0</td>\n",
              "      <td>0</td>\n",
              "    </tr>\n",
              "    <tr>\n",
              "      <th>57420</th>\n",
              "      <td>0</td>\n",
              "      <td>0</td>\n",
              "      <td>1</td>\n",
              "      <td>0</td>\n",
              "      <td>0</td>\n",
              "      <td>0</td>\n",
              "      <td>0</td>\n",
              "    </tr>\n",
              "    <tr>\n",
              "      <th>1373</th>\n",
              "      <td>1</td>\n",
              "      <td>0</td>\n",
              "      <td>0</td>\n",
              "      <td>0</td>\n",
              "      <td>0</td>\n",
              "      <td>0</td>\n",
              "      <td>0</td>\n",
              "    </tr>\n",
              "    <tr>\n",
              "      <th>2026</th>\n",
              "      <td>1</td>\n",
              "      <td>0</td>\n",
              "      <td>0</td>\n",
              "      <td>0</td>\n",
              "      <td>0</td>\n",
              "      <td>0</td>\n",
              "      <td>0</td>\n",
              "    </tr>\n",
              "    <tr>\n",
              "      <th>58977</th>\n",
              "      <td>0</td>\n",
              "      <td>1</td>\n",
              "      <td>0</td>\n",
              "      <td>0</td>\n",
              "      <td>0</td>\n",
              "      <td>0</td>\n",
              "      <td>0</td>\n",
              "    </tr>\n",
              "    <tr>\n",
              "      <th>41101</th>\n",
              "      <td>1</td>\n",
              "      <td>0</td>\n",
              "      <td>0</td>\n",
              "      <td>0</td>\n",
              "      <td>0</td>\n",
              "      <td>0</td>\n",
              "      <td>0</td>\n",
              "    </tr>\n",
              "    <tr>\n",
              "      <th>10019</th>\n",
              "      <td>1</td>\n",
              "      <td>0</td>\n",
              "      <td>0</td>\n",
              "      <td>0</td>\n",
              "      <td>0</td>\n",
              "      <td>0</td>\n",
              "      <td>0</td>\n",
              "    </tr>\n",
              "  </tbody>\n",
              "</table>\n",
              "</div>"
            ],
            "text/plain": [
              "       extraction_type_class_gravity  ...  extraction_type_class_wind-powered\n",
              "43360                              1  ...                                   0\n",
              "7263                               1  ...                                   0\n",
              "2486                               0  ...                                   0\n",
              "313                                0  ...                                   0\n",
              "52726                              0  ...                                   0\n",
              "8558                               1  ...                                   0\n",
              "2559                               1  ...                                   0\n",
              "54735                              0  ...                                   0\n",
              "25763                              0  ...                                   0\n",
              "44540                              0  ...                                   0\n",
              "28603                              0  ...                                   0\n",
              "4372                               0  ...                                   0\n",
              "30666                              1  ...                                   0\n",
              "6431                               0  ...                                   0\n",
              "57420                              0  ...                                   0\n",
              "1373                               1  ...                                   0\n",
              "2026                               1  ...                                   0\n",
              "58977                              0  ...                                   0\n",
              "41101                              1  ...                                   0\n",
              "10019                              1  ...                                   0\n",
              "\n",
              "[20 rows x 7 columns]"
            ]
          },
          "metadata": {
            "tags": []
          },
          "execution_count": 18
        }
      ]
    },
    {
      "cell_type": "markdown",
      "metadata": {
        "colab_type": "text",
        "id": "1Ql9Qmw3sNJ7"
      },
      "source": [
        "#### One-Hot Encoding, Logistic Regression, Validation Accuracy"
      ]
    },
    {
      "cell_type": "code",
      "metadata": {
        "colab_type": "code",
        "id": "mT4A-oDGpOss",
        "colab": {
          "base_uri": "https://localhost:8080/",
          "height": 35
        },
        "outputId": "8be23b50-55bc-4c20-bc82-cec20889463d"
      },
      "source": [
        "from sklearn.linear_model import LogisticRegressionCV\n",
        "from sklearn.preprocessing import StandardScaler\n",
        "\n",
        "lr = make_pipeline(\n",
        "    ce.OneHotEncoder(use_cat_names=True), \n",
        "    SimpleImputer(), \n",
        "    StandardScaler(), \n",
        "    LogisticRegressionCV(multi_class='auto', solver='lbfgs', cv=5, n_jobs=-1)\n",
        ")\n",
        "\n",
        "lr.fit(X_train[[feature]], y_train)\n",
        "score = lr.score(X_val[[feature]], y_val)\n",
        "print('Logistic Regression, Validation Accuracy', score)"
      ],
      "execution_count": 19,
      "outputs": [
        {
          "output_type": "stream",
          "text": [
            "Logistic Regression, Validation Accuracy 0.6202861952861953\n"
          ],
          "name": "stdout"
        }
      ]
    },
    {
      "cell_type": "markdown",
      "metadata": {
        "colab_type": "text",
        "id": "EbH6wivpsRuV"
      },
      "source": [
        "#### One-Hot Encoding, Decision Tree, Validation Accuracy"
      ]
    },
    {
      "cell_type": "code",
      "metadata": {
        "colab_type": "code",
        "id": "b6KUluFOqIdK",
        "colab": {
          "base_uri": "https://localhost:8080/",
          "height": 35
        },
        "outputId": "8fe92f36-91b1-4b64-f7c9-4f87f02e0a40"
      },
      "source": [
        "from sklearn.tree import DecisionTreeClassifier\n",
        "\n",
        "dt = make_pipeline(\n",
        "    ce.OneHotEncoder(use_cat_names=True), \n",
        "    SimpleImputer(), \n",
        "    DecisionTreeClassifier(random_state=42)\n",
        ")\n",
        "\n",
        "dt.fit(X_train[[feature]], y_train)\n",
        "score = dt.score(X_val[[feature]], y_val)\n",
        "print('Decision Tree, Validation Accuracy', score)"
      ],
      "execution_count": 20,
      "outputs": [
        {
          "output_type": "stream",
          "text": [
            "Decision Tree, Validation Accuracy 0.6202861952861953\n"
          ],
          "name": "stdout"
        }
      ]
    },
    {
      "cell_type": "markdown",
      "metadata": {
        "colab_type": "text",
        "id": "8yg11_gTsUu6"
      },
      "source": [
        "#### One-Hot Encoding, Logistic Regression, Model Interpretation"
      ]
    },
    {
      "cell_type": "code",
      "metadata": {
        "colab_type": "code",
        "id": "IxHwXGRornNI",
        "colab": {
          "base_uri": "https://localhost:8080/",
          "height": 265
        },
        "outputId": "fbc2a069-245b-4e11-e403-87c3ec7bfa30"
      },
      "source": [
        "model = lr.named_steps['logisticregressioncv']\n",
        "encoder = lr.named_steps['onehotencoder']\n",
        "encoded_columns = encoder.transform(X_val[[feature]]).columns\n",
        "coefficients = pd.Series(model.coef_[0], encoded_columns)\n",
        "coefficients.sort_values().plot.barh(color='grey');"
      ],
      "execution_count": 21,
      "outputs": [
        {
          "output_type": "display_data",
          "data": {
            "image/png": "[encoded data removed]",
            "text/plain": [
              "<Figure size 432x288 with 1 Axes>"
            ]
          },
          "metadata": {
            "tags": [],
            "needs_background": "light"
          }
        }
      ]
    },
    {
      "cell_type": "markdown",
      "metadata": {
        "colab_type": "text",
        "id": "0REZ8HdpsccR"
      },
      "source": [
        "#### One-Hot Encoding, Decision Tree, Model Interpretation"
      ]
    },
    {
      "cell_type": "code",
      "metadata": {
        "colab_type": "code",
        "id": "gV-grmYKpDp9",
        "colab": {
          "base_uri": "https://localhost:8080/",
          "height": 934
        },
        "outputId": "354fc02c-4781-49c6-8fa6-e033abe0115c"
      },
      "source": [
        "# Plot tree\n",
        "# https://scikit-learn.org/stable/modules/generated/sklearn.tree.export_graphviz.html\n",
        "import graphviz\n",
        "from sklearn.tree import export_graphviz\n",
        "\n",
        "model = dt.named_steps['decisiontreeclassifier']\n",
        "encoder = dt.named_steps['onehotencoder']\n",
        "encoded_columns = encoder.transform(X_val[[feature]]).columns\n",
        "\n",
        "dot_data = export_graphviz(model, \n",
        "                           out_file=None, \n",
        "                           max_depth=7, \n",
        "                           feature_names=encoded_columns,\n",
        "                           class_names=model.classes_, \n",
        "                           impurity=False, \n",
        "                           filled=True, \n",
        "                           proportion=True, \n",
        "                           rounded=True)   \n",
        "display(graphviz.Source(dot_data))"
      ],
      "execution_count": 22,
      "outputs": [
        {
          "output_type": "display_data",
          "data": {
            "text/plain": [
              "<graphviz.files.Source at 0x7fd604a40240>"
            ],
            "image/svg+xml": "<?xml version=\"1.0\" encoding=\"UTF-8\" standalone=\"no\"?>\n<!DOCTYPE svg PUBLIC \"-//W3C//DTD SVG 1.1//EN\"\n \"http://www.w3.org/Graphics/SVG/1.1/DTD/svg11.dtd\">\n<!-- Generated by graphviz version 2.40.1 (20161225.0304)\n -->\n<!-- Title: Tree Pages: 1 -->\n<svg width=\"1067pt\" height=\"685pt\"\n viewBox=\"0.00 0.00 1067.00 685.00\" xmlns=\"http://www.w3.org/2000/svg\" xmlns:xlink=\"http://www.w3.org/1999/xlink\">\n<g id=\"graph0\" class=\"graph\" transform=\"scale(1 1) rotate(0) translate(4 681)\">\n<title>Tree</title>\n<polygon fill=\"#ffffff\" stroke=\"transparent\" points=\"-4,4 -4,-681 1063,-681 1063,4 -4,4\"/>\n<!-- 0 -->\n<g id=\"node1\" class=\"node\">\n<title>0</title>\n<path fill=\"#f8decc\" stroke=\"#000000\" d=\"M944.5,-677C944.5,-677 725.5,-677 725.5,-677 719.5,-677 713.5,-671 713.5,-665 713.5,-665 713.5,-621 713.5,-621 713.5,-615 719.5,-609 725.5,-609 725.5,-609 944.5,-609 944.5,-609 950.5,-609 956.5,-615 956.5,-621 956.5,-621 956.5,-665 956.5,-665 956.5,-671 950.5,-677 944.5,-677\"/>\n<text text-anchor=\"middle\" x=\"835\" y=\"-661.8\" font-family=\"Helvetica,sans-Serif\" font-size=\"14.00\" fill=\"#000000\">extraction_type_class_other &lt;= 0.5</text>\n<text text-anchor=\"middle\" x=\"835\" y=\"-646.8\" font-family=\"Helvetica,sans-Serif\" font-size=\"14.00\" fill=\"#000000\">samples = 100.0%</text>\n<text text-anchor=\"middle\" x=\"835\" y=\"-631.8\" font-family=\"Helvetica,sans-Serif\" font-size=\"14.00\" fill=\"#000000\">value = [0.543, 0.073, 0.384]</text>\n<text text-anchor=\"middle\" x=\"835\" y=\"-616.8\" font-family=\"Helvetica,sans-Serif\" font-size=\"14.00\" fill=\"#000000\">class = functional</text>\n</g>\n<!-- 1 -->\n<g id=\"node2\" class=\"node\">\n<title>1</title>\n<path fill=\"#f5ceb2\" stroke=\"#000000\" d=\"M837,-573C837,-573 577,-573 577,-573 571,-573 565,-567 565,-561 565,-561 565,-517 565,-517 565,-511 571,-505 577,-505 577,-505 837,-505 837,-505 843,-505 849,-511 849,-517 849,-517 849,-561 849,-561 849,-567 843,-573 837,-573\"/>\n<text text-anchor=\"middle\" x=\"707\" y=\"-557.8\" font-family=\"Helvetica,sans-Serif\" font-size=\"14.00\" fill=\"#000000\">extraction_type_class_motorpump &lt;= 0.5</text>\n<text text-anchor=\"middle\" x=\"707\" y=\"-542.8\" font-family=\"Helvetica,sans-Serif\" font-size=\"14.00\" fill=\"#000000\">samples = 89.1%</text>\n<text text-anchor=\"middle\" x=\"707\" y=\"-527.8\" font-family=\"Helvetica,sans-Serif\" font-size=\"14.00\" fill=\"#000000\">value = [0.59, 0.078, 0.332]</text>\n<text text-anchor=\"middle\" x=\"707\" y=\"-512.8\" font-family=\"Helvetica,sans-Serif\" font-size=\"14.00\" fill=\"#000000\">class = functional</text>\n</g>\n<!-- 0&#45;&gt;1 -->\n<g id=\"edge1\" class=\"edge\">\n<title>0&#45;&gt;1</title>\n<path fill=\"none\" stroke=\"#000000\" d=\"M793.088,-608.9465C781.485,-599.519 768.7779,-589.1946 756.7741,-579.4415\"/>\n<polygon fill=\"#000000\" stroke=\"#000000\" points=\"758.9744,-576.7196 749.0061,-573.13 754.5602,-582.1524 758.9744,-576.7196\"/>\n<text text-anchor=\"middle\" x=\"751.5786\" y=\"-594.2973\" font-family=\"Helvetica,sans-Serif\" font-size=\"14.00\" fill=\"#000000\">True</text>\n</g>\n<!-- 12 -->\n<g id=\"node13\" class=\"node\">\n<title>12</title>\n<path fill=\"#9d66eb\" stroke=\"#000000\" d=\"M1047,-565.5C1047,-565.5 879,-565.5 879,-565.5 873,-565.5 867,-559.5 867,-553.5 867,-553.5 867,-524.5 867,-524.5 867,-518.5 873,-512.5 879,-512.5 879,-512.5 1047,-512.5 1047,-512.5 1053,-512.5 1059,-518.5 1059,-524.5 1059,-524.5 1059,-553.5 1059,-553.5 1059,-559.5 1053,-565.5 1047,-565.5\"/>\n<text text-anchor=\"middle\" x=\"963\" y=\"-550.3\" font-family=\"Helvetica,sans-Serif\" font-size=\"14.00\" fill=\"#000000\">samples = 10.9%</text>\n<text text-anchor=\"middle\" x=\"963\" y=\"-535.3\" font-family=\"Helvetica,sans-Serif\" font-size=\"14.00\" fill=\"#000000\">value = [0.159, 0.031, 0.81]</text>\n<text text-anchor=\"middle\" x=\"963\" y=\"-520.3\" font-family=\"Helvetica,sans-Serif\" font-size=\"14.00\" fill=\"#000000\">class = non functional</text>\n</g>\n<!-- 0&#45;&gt;12 -->\n<g id=\"edge12\" class=\"edge\">\n<title>0&#45;&gt;12</title>\n<path fill=\"none\" stroke=\"#000000\" d=\"M876.912,-608.9465C891.5533,-597.0504 907.9526,-583.726 922.4785,-571.9237\"/>\n<polygon fill=\"#000000\" stroke=\"#000000\" points=\"924.7786,-574.5645 930.3327,-565.5422 920.3645,-569.1317 924.7786,-574.5645\"/>\n<text text-anchor=\"middle\" x=\"927.7602\" y=\"-586.7095\" font-family=\"Helvetica,sans-Serif\" font-size=\"14.00\" fill=\"#000000\">False</text>\n</g>\n<!-- 2 -->\n<g id=\"node3\" class=\"node\">\n<title>2</title>\n<path fill=\"#f4caac\" stroke=\"#000000\" d=\"M708.5,-469C708.5,-469 443.5,-469 443.5,-469 437.5,-469 431.5,-463 431.5,-457 431.5,-457 431.5,-413 431.5,-413 431.5,-407 437.5,-401 443.5,-401 443.5,-401 708.5,-401 708.5,-401 714.5,-401 720.5,-407 720.5,-413 720.5,-413 720.5,-457 720.5,-457 720.5,-463 714.5,-469 708.5,-469\"/>\n<text text-anchor=\"middle\" x=\"576\" y=\"-453.8\" font-family=\"Helvetica,sans-Serif\" font-size=\"14.00\" fill=\"#000000\">extraction_type_class_submersible &lt;= 0.5</text>\n<text text-anchor=\"middle\" x=\"576\" y=\"-438.8\" font-family=\"Helvetica,sans-Serif\" font-size=\"14.00\" fill=\"#000000\">samples = 84.1%</text>\n<text text-anchor=\"middle\" x=\"576\" y=\"-423.8\" font-family=\"Helvetica,sans-Serif\" font-size=\"14.00\" fill=\"#000000\">value = [0.603, 0.08, 0.318]</text>\n<text text-anchor=\"middle\" x=\"576\" y=\"-408.8\" font-family=\"Helvetica,sans-Serif\" font-size=\"14.00\" fill=\"#000000\">class = functional</text>\n</g>\n<!-- 1&#45;&gt;2 -->\n<g id=\"edge2\" class=\"edge\">\n<title>1&#45;&gt;2</title>\n<path fill=\"none\" stroke=\"#000000\" d=\"M664.1057,-504.9465C652.2307,-495.519 639.2259,-485.1946 626.9407,-475.4415\"/>\n<polygon fill=\"#000000\" stroke=\"#000000\" points=\"628.9989,-472.6066 618.9907,-469.13 624.6464,-478.089 628.9989,-472.6066\"/>\n</g>\n<!-- 11 -->\n<g id=\"node12\" class=\"node\">\n<title>11</title>\n<path fill=\"#d8c1f7\" stroke=\"#000000\" d=\"M927,-461.5C927,-461.5 751,-461.5 751,-461.5 745,-461.5 739,-455.5 739,-449.5 739,-449.5 739,-420.5 739,-420.5 739,-414.5 745,-408.5 751,-408.5 751,-408.5 927,-408.5 927,-408.5 933,-408.5 939,-414.5 939,-420.5 939,-420.5 939,-449.5 939,-449.5 939,-455.5 933,-461.5 927,-461.5\"/>\n<text text-anchor=\"middle\" x=\"839\" y=\"-446.3\" font-family=\"Helvetica,sans-Serif\" font-size=\"14.00\" fill=\"#000000\">samples = 5.0%</text>\n<text text-anchor=\"middle\" x=\"839\" y=\"-431.3\" font-family=\"Helvetica,sans-Serif\" font-size=\"14.00\" fill=\"#000000\">value = [0.381, 0.045, 0.574]</text>\n<text text-anchor=\"middle\" x=\"839\" y=\"-416.3\" font-family=\"Helvetica,sans-Serif\" font-size=\"14.00\" fill=\"#000000\">class = non functional</text>\n</g>\n<!-- 1&#45;&gt;11 -->\n<g id=\"edge11\" class=\"edge\">\n<title>1&#45;&gt;11</title>\n<path fill=\"none\" stroke=\"#000000\" d=\"M750.2217,-504.9465C765.3206,-493.0504 782.2324,-479.726 797.2122,-467.9237\"/>\n<polygon fill=\"#000000\" stroke=\"#000000\" points=\"799.623,-470.4802 805.3119,-461.5422 795.2909,-464.9817 799.623,-470.4802\"/>\n</g>\n<!-- 3 -->\n<g id=\"node4\" class=\"node\">\n<title>3</title>\n<path fill=\"#f4c7a8\" stroke=\"#000000\" d=\"M568.5,-365C568.5,-365 339.5,-365 339.5,-365 333.5,-365 327.5,-359 327.5,-353 327.5,-353 327.5,-309 327.5,-309 327.5,-303 333.5,-297 339.5,-297 339.5,-297 568.5,-297 568.5,-297 574.5,-297 580.5,-303 580.5,-309 580.5,-309 580.5,-353 580.5,-353 580.5,-359 574.5,-365 568.5,-365\"/>\n<text text-anchor=\"middle\" x=\"454\" y=\"-349.8\" font-family=\"Helvetica,sans-Serif\" font-size=\"14.00\" fill=\"#000000\">extraction_type_class_gravity &lt;= 0.5</text>\n<text text-anchor=\"middle\" x=\"454\" y=\"-334.8\" font-family=\"Helvetica,sans-Serif\" font-size=\"14.00\" fill=\"#000000\">samples = 73.8%</text>\n<text text-anchor=\"middle\" x=\"454\" y=\"-319.8\" font-family=\"Helvetica,sans-Serif\" font-size=\"14.00\" fill=\"#000000\">value = [0.611, 0.085, 0.304]</text>\n<text text-anchor=\"middle\" x=\"454\" y=\"-304.8\" font-family=\"Helvetica,sans-Serif\" font-size=\"14.00\" fill=\"#000000\">class = functional</text>\n</g>\n<!-- 2&#45;&gt;3 -->\n<g id=\"edge3\" class=\"edge\">\n<title>2&#45;&gt;3</title>\n<path fill=\"none\" stroke=\"#000000\" d=\"M536.0526,-400.9465C525.0988,-391.6088 513.1127,-381.3911 501.768,-371.7203\"/>\n<polygon fill=\"#000000\" stroke=\"#000000\" points=\"503.9179,-368.9538 494.0371,-365.13 499.3767,-374.2809 503.9179,-368.9538\"/>\n</g>\n<!-- 10 -->\n<g id=\"node11\" class=\"node\">\n<title>10</title>\n<path fill=\"#f9e4d5\" stroke=\"#000000\" d=\"M787,-357.5C787,-357.5 611,-357.5 611,-357.5 605,-357.5 599,-351.5 599,-345.5 599,-345.5 599,-316.5 599,-316.5 599,-310.5 605,-304.5 611,-304.5 611,-304.5 787,-304.5 787,-304.5 793,-304.5 799,-310.5 799,-316.5 799,-316.5 799,-345.5 799,-345.5 799,-351.5 793,-357.5 787,-357.5\"/>\n<text text-anchor=\"middle\" x=\"699\" y=\"-342.3\" font-family=\"Helvetica,sans-Serif\" font-size=\"14.00\" fill=\"#000000\">samples = 10.3%</text>\n<text text-anchor=\"middle\" x=\"699\" y=\"-327.3\" font-family=\"Helvetica,sans-Serif\" font-size=\"14.00\" fill=\"#000000\">value = [0.541, 0.042, 0.416]</text>\n<text text-anchor=\"middle\" x=\"699\" y=\"-312.3\" font-family=\"Helvetica,sans-Serif\" font-size=\"14.00\" fill=\"#000000\">class = functional</text>\n</g>\n<!-- 2&#45;&gt;10 -->\n<g id=\"edge10\" class=\"edge\">\n<title>2&#45;&gt;10</title>\n<path fill=\"none\" stroke=\"#000000\" d=\"M616.2748,-400.9465C630.2139,-389.1606 645.8112,-375.9726 659.6732,-364.2519\"/>\n<polygon fill=\"#000000\" stroke=\"#000000\" points=\"662.2324,-366.6715 667.6088,-357.5422 657.7127,-361.3262 662.2324,-366.6715\"/>\n</g>\n<!-- 4 -->\n<g id=\"node5\" class=\"node\">\n<title>4</title>\n<path fill=\"#f3c5a4\" stroke=\"#000000\" d=\"M458.5,-261C458.5,-261 181.5,-261 181.5,-261 175.5,-261 169.5,-255 169.5,-249 169.5,-249 169.5,-205 169.5,-205 169.5,-199 175.5,-193 181.5,-193 181.5,-193 458.5,-193 458.5,-193 464.5,-193 470.5,-199 470.5,-205 470.5,-205 470.5,-249 470.5,-249 470.5,-255 464.5,-261 458.5,-261\"/>\n<text text-anchor=\"middle\" x=\"320\" y=\"-245.8\" font-family=\"Helvetica,sans-Serif\" font-size=\"14.00\" fill=\"#000000\">extraction_type_class_wind&#45;powered &lt;= 0.5</text>\n<text text-anchor=\"middle\" x=\"320\" y=\"-230.8\" font-family=\"Helvetica,sans-Serif\" font-size=\"14.00\" fill=\"#000000\">samples = 28.7%</text>\n<text text-anchor=\"middle\" x=\"320\" y=\"-215.8\" font-family=\"Helvetica,sans-Serif\" font-size=\"14.00\" fill=\"#000000\">value = [0.629, 0.059, 0.311]</text>\n<text text-anchor=\"middle\" x=\"320\" y=\"-200.8\" font-family=\"Helvetica,sans-Serif\" font-size=\"14.00\" fill=\"#000000\">class = functional</text>\n</g>\n<!-- 3&#45;&gt;4 -->\n<g id=\"edge4\" class=\"edge\">\n<title>3&#45;&gt;4</title>\n<path fill=\"none\" stroke=\"#000000\" d=\"M410.1234,-296.9465C397.9765,-287.519 384.6738,-277.1946 372.1073,-267.4415\"/>\n<polygon fill=\"#000000\" stroke=\"#000000\" points=\"374.021,-264.4963 363.9752,-261.13 369.7291,-270.0262 374.021,-264.4963\"/>\n</g>\n<!-- 9 -->\n<g id=\"node10\" class=\"node\">\n<title>9</title>\n<path fill=\"#f4c9aa\" stroke=\"#000000\" d=\"M677,-253.5C677,-253.5 501,-253.5 501,-253.5 495,-253.5 489,-247.5 489,-241.5 489,-241.5 489,-212.5 489,-212.5 489,-206.5 495,-200.5 501,-200.5 501,-200.5 677,-200.5 677,-200.5 683,-200.5 689,-206.5 689,-212.5 689,-212.5 689,-241.5 689,-241.5 689,-247.5 683,-253.5 677,-253.5\"/>\n<text text-anchor=\"middle\" x=\"589\" y=\"-238.3\" font-family=\"Helvetica,sans-Serif\" font-size=\"14.00\" fill=\"#000000\">samples = 45.1%</text>\n<text text-anchor=\"middle\" x=\"589\" y=\"-223.3\" font-family=\"Helvetica,sans-Serif\" font-size=\"14.00\" fill=\"#000000\">value = [0.599, 0.101, 0.299]</text>\n<text text-anchor=\"middle\" x=\"589\" y=\"-208.3\" font-family=\"Helvetica,sans-Serif\" font-size=\"14.00\" fill=\"#000000\">class = functional</text>\n</g>\n<!-- 3&#45;&gt;9 -->\n<g id=\"edge9\" class=\"edge\">\n<title>3&#45;&gt;9</title>\n<path fill=\"none\" stroke=\"#000000\" d=\"M498.204,-296.9465C513.6461,-285.0504 530.9422,-271.726 546.2625,-259.9237\"/>\n<polygon fill=\"#000000\" stroke=\"#000000\" points=\"548.7603,-262.4176 554.5462,-253.5422 544.4883,-256.8723 548.7603,-262.4176\"/>\n</g>\n<!-- 5 -->\n<g id=\"node6\" class=\"node\">\n<title>5</title>\n<path fill=\"#f3c4a3\" stroke=\"#000000\" d=\"M319,-157C319,-157 63,-157 63,-157 57,-157 51,-151 51,-145 51,-145 51,-101 51,-101 51,-95 57,-89 63,-89 63,-89 319,-89 319,-89 325,-89 331,-95 331,-101 331,-101 331,-145 331,-145 331,-151 325,-157 319,-157\"/>\n<text text-anchor=\"middle\" x=\"191\" y=\"-141.8\" font-family=\"Helvetica,sans-Serif\" font-size=\"14.00\" fill=\"#000000\">extraction_type_class_rope pump &lt;= 0.5</text>\n<text text-anchor=\"middle\" x=\"191\" y=\"-126.8\" font-family=\"Helvetica,sans-Serif\" font-size=\"14.00\" fill=\"#000000\">samples = 28.5%</text>\n<text text-anchor=\"middle\" x=\"191\" y=\"-111.8\" font-family=\"Helvetica,sans-Serif\" font-size=\"14.00\" fill=\"#000000\">value = [0.631, 0.059, 0.31]</text>\n<text text-anchor=\"middle\" x=\"191\" y=\"-96.8\" font-family=\"Helvetica,sans-Serif\" font-size=\"14.00\" fill=\"#000000\">class = functional</text>\n</g>\n<!-- 4&#45;&gt;5 -->\n<g id=\"edge5\" class=\"edge\">\n<title>4&#45;&gt;5</title>\n<path fill=\"none\" stroke=\"#000000\" d=\"M277.7606,-192.9465C266.0669,-183.519 253.2606,-173.1946 241.163,-163.4415\"/>\n<polygon fill=\"#000000\" stroke=\"#000000\" points=\"243.3162,-160.6816 233.3343,-157.13 238.9227,-166.1312 243.3162,-160.6816\"/>\n</g>\n<!-- 8 -->\n<g id=\"node9\" class=\"node\">\n<title>8</title>\n<path fill=\"#f8f3fd\" stroke=\"#000000\" d=\"M537,-149.5C537,-149.5 361,-149.5 361,-149.5 355,-149.5 349,-143.5 349,-137.5 349,-137.5 349,-108.5 349,-108.5 349,-102.5 355,-96.5 361,-96.5 361,-96.5 537,-96.5 537,-96.5 543,-96.5 549,-102.5 549,-108.5 549,-108.5 549,-137.5 549,-137.5 549,-143.5 543,-149.5 537,-149.5\"/>\n<text text-anchor=\"middle\" x=\"449\" y=\"-134.3\" font-family=\"Helvetica,sans-Serif\" font-size=\"14.00\" fill=\"#000000\">samples = 0.2%</text>\n<text text-anchor=\"middle\" x=\"449\" y=\"-119.3\" font-family=\"Helvetica,sans-Serif\" font-size=\"14.00\" fill=\"#000000\">value = [0.452, 0.065, 0.484]</text>\n<text text-anchor=\"middle\" x=\"449\" y=\"-104.3\" font-family=\"Helvetica,sans-Serif\" font-size=\"14.00\" fill=\"#000000\">class = non functional</text>\n</g>\n<!-- 4&#45;&gt;8 -->\n<g id=\"edge8\" class=\"edge\">\n<title>4&#45;&gt;8</title>\n<path fill=\"none\" stroke=\"#000000\" d=\"M362.2394,-192.9465C376.9952,-181.0504 393.5225,-167.726 408.162,-155.9237\"/>\n<polygon fill=\"#000000\" stroke=\"#000000\" points=\"410.4891,-158.5433 416.0775,-149.5422 406.0957,-153.0938 410.4891,-158.5433\"/>\n</g>\n<!-- 6 -->\n<g id=\"node7\" class=\"node\">\n<title>6</title>\n<path fill=\"#f3c5a3\" stroke=\"#000000\" d=\"M164,-53C164,-53 12,-53 12,-53 6,-53 0,-47 0,-41 0,-41 0,-12 0,-12 0,-6 6,0 12,0 12,0 164,0 164,0 170,0 176,-6 176,-12 176,-12 176,-41 176,-41 176,-47 170,-53 164,-53\"/>\n<text text-anchor=\"middle\" x=\"88\" y=\"-37.8\" font-family=\"Helvetica,sans-Serif\" font-size=\"14.00\" fill=\"#000000\">samples = 27.7%</text>\n<text text-anchor=\"middle\" x=\"88\" y=\"-22.8\" font-family=\"Helvetica,sans-Serif\" font-size=\"14.00\" fill=\"#000000\">value = [0.63, 0.06, 0.31]</text>\n<text text-anchor=\"middle\" x=\"88\" y=\"-7.8\" font-family=\"Helvetica,sans-Serif\" font-size=\"14.00\" fill=\"#000000\">class = functional</text>\n</g>\n<!-- 5&#45;&gt;6 -->\n<g id=\"edge6\" class=\"edge\">\n<title>5&#45;&gt;6</title>\n<path fill=\"none\" stroke=\"#000000\" d=\"M154.6861,-88.9777C144.7168,-79.6376 133.9138,-69.5163 123.9643,-60.1947\"/>\n<polygon fill=\"#000000\" stroke=\"#000000\" points=\"126.2408,-57.5314 116.5502,-53.2485 121.4548,-62.6397 126.2408,-57.5314\"/>\n</g>\n<!-- 7 -->\n<g id=\"node8\" class=\"node\">\n<title>7</title>\n<path fill=\"#f2bf9b\" stroke=\"#000000\" d=\"M382,-53C382,-53 206,-53 206,-53 200,-53 194,-47 194,-41 194,-41 194,-12 194,-12 194,-6 200,0 206,0 206,0 382,0 382,0 388,0 394,-6 394,-12 394,-12 394,-41 394,-41 394,-47 388,-53 382,-53\"/>\n<text text-anchor=\"middle\" x=\"294\" y=\"-37.8\" font-family=\"Helvetica,sans-Serif\" font-size=\"14.00\" fill=\"#000000\">samples = 0.7%</text>\n<text text-anchor=\"middle\" x=\"294\" y=\"-22.8\" font-family=\"Helvetica,sans-Serif\" font-size=\"14.00\" fill=\"#000000\">value = [0.657, 0.037, 0.306]</text>\n<text text-anchor=\"middle\" x=\"294\" y=\"-7.8\" font-family=\"Helvetica,sans-Serif\" font-size=\"14.00\" fill=\"#000000\">class = functional</text>\n</g>\n<!-- 5&#45;&gt;7 -->\n<g id=\"edge7\" class=\"edge\">\n<title>5&#45;&gt;7</title>\n<path fill=\"none\" stroke=\"#000000\" d=\"M227.3139,-88.9777C237.2832,-79.6376 248.0862,-69.5163 258.0357,-60.1947\"/>\n<polygon fill=\"#000000\" stroke=\"#000000\" points=\"260.5452,-62.6397 265.4498,-53.2485 255.7592,-57.5314 260.5452,-62.6397\"/>\n</g>\n</g>\n</svg>\n"
          },
          "metadata": {
            "tags": []
          }
        }
      ]
    },
    {
      "cell_type": "code",
      "metadata": {
        "id": "31V7L6bVjmEA",
        "colab_type": "code",
        "colab": {
          "base_uri": "https://localhost:8080/",
          "height": 444
        },
        "outputId": "3ab101d3-118e-409f-ede2-b67e93b032e4"
      },
      "source": [
        "pipeline"
      ],
      "execution_count": 23,
      "outputs": [
        {
          "output_type": "execute_result",
          "data": {
            "text/plain": [
              "Pipeline(memory=None,\n",
              "         steps=[('ordinalencoder',\n",
              "                 OrdinalEncoder(cols=['funder', 'installer', 'wpt_name',\n",
              "                                      'basin', 'subvillage', 'region', 'lga',\n",
              "                                      'ward', 'public_meeting',\n",
              "                                      'scheme_management', 'scheme_name',\n",
              "                                      'permit', 'extraction_type',\n",
              "                                      'extraction_type_group',\n",
              "                                      'extraction_type_class', 'management',\n",
              "                                      'management_group', 'payment',\n",
              "                                      'water_quality', 'quality_group',\n",
              "                                      'quantit...\n",
              "                 RandomForestClassifier(bootstrap=True, ccp_alpha=0.0,\n",
              "                                        class_weight=None, criterion='gini',\n",
              "                                        max_depth=None, max_features='auto',\n",
              "                                        max_leaf_nodes=None, max_samples=None,\n",
              "                                        min_impurity_decrease=0.0,\n",
              "                                        min_impurity_split=None,\n",
              "                                        min_samples_leaf=1, min_samples_split=2,\n",
              "                                        min_weight_fraction_leaf=0.0,\n",
              "                                        n_estimators=100, n_jobs=-1,\n",
              "                                        oob_score=False, random_state=0,\n",
              "                                        verbose=0, warm_start=False))],\n",
              "         verbose=False)"
            ]
          },
          "metadata": {
            "tags": []
          },
          "execution_count": 23
        }
      ]
    },
    {
      "cell_type": "markdown",
      "metadata": {
        "colab_type": "text",
        "id": "QUd6gzcZgLVz"
      },
      "source": [
        "### [Ordinal Encoding](http://contrib.scikit-learn.org/categorical-encoding/ordinal.html)\n",
        "\n",
        "> Ordinal encoding uses a single column of integers to represent the classes. An optional mapping dict can be passed in; in this case, we use the knowledge that there is some true order to the classes themselves. Otherwise, the classes are assumed to have no true order and integers are selected at random."
      ]
    },
    {
      "cell_type": "code",
      "metadata": {
        "id": "096jZpLUnU9B",
        "colab_type": "code",
        "colab": {
          "base_uri": "https://localhost:8080/",
          "height": 194
        },
        "outputId": "8a807fb2-3e11-449a-e9ea-af364bf5c90d"
      },
      "source": [
        "# what does the original column look like?\n",
        "X_train[[feature]].head()"
      ],
      "execution_count": 97,
      "outputs": [
        {
          "output_type": "execute_result",
          "data": {
            "text/html": [
              "<div>\n",
              "<style scoped>\n",
              "    .dataframe tbody tr th:only-of-type {\n",
              "        vertical-align: middle;\n",
              "    }\n",
              "\n",
              "    .dataframe tbody tr th {\n",
              "        vertical-align: top;\n",
              "    }\n",
              "\n",
              "    .dataframe thead th {\n",
              "        text-align: right;\n",
              "    }\n",
              "</style>\n",
              "<table border=\"1\" class=\"dataframe\">\n",
              "  <thead>\n",
              "    <tr style=\"text-align: right;\">\n",
              "      <th></th>\n",
              "      <th>extraction_type_class</th>\n",
              "    </tr>\n",
              "  </thead>\n",
              "  <tbody>\n",
              "    <tr>\n",
              "      <th>43360</th>\n",
              "      <td>gravity</td>\n",
              "    </tr>\n",
              "    <tr>\n",
              "      <th>7263</th>\n",
              "      <td>gravity</td>\n",
              "    </tr>\n",
              "    <tr>\n",
              "      <th>2486</th>\n",
              "      <td>handpump</td>\n",
              "    </tr>\n",
              "    <tr>\n",
              "      <th>313</th>\n",
              "      <td>other</td>\n",
              "    </tr>\n",
              "    <tr>\n",
              "      <th>52726</th>\n",
              "      <td>motorpump</td>\n",
              "    </tr>\n",
              "  </tbody>\n",
              "</table>\n",
              "</div>"
            ],
            "text/plain": [
              "      extraction_type_class\n",
              "43360               gravity\n",
              "7263                gravity\n",
              "2486               handpump\n",
              "313                   other\n",
              "52726             motorpump"
            ]
          },
          "metadata": {
            "tags": []
          },
          "execution_count": 97
        }
      ]
    },
    {
      "cell_type": "code",
      "metadata": {
        "colab_type": "code",
        "id": "CnBz2RbwgLVz",
        "colab": {
          "base_uri": "https://localhost:8080/",
          "height": 212
        },
        "outputId": "da3cf120-7a85-4425-dcdf-a70839a49511"
      },
      "source": [
        "# let's apply ordinal encoding to that column!\n",
        "encoder = ce.OrdinalEncoder()\n",
        "encoded = encoder.fit_transform(X_train[[feature]])\n",
        "print(f'1 column, {encoded[feature].nunique()} unique values')\n",
        "encoded.head(5)"
      ],
      "execution_count": 95,
      "outputs": [
        {
          "output_type": "stream",
          "text": [
            "1 column, 7 unique values\n"
          ],
          "name": "stdout"
        },
        {
          "output_type": "execute_result",
          "data": {
            "text/html": [
              "<div>\n",
              "<style scoped>\n",
              "    .dataframe tbody tr th:only-of-type {\n",
              "        vertical-align: middle;\n",
              "    }\n",
              "\n",
              "    .dataframe tbody tr th {\n",
              "        vertical-align: top;\n",
              "    }\n",
              "\n",
              "    .dataframe thead th {\n",
              "        text-align: right;\n",
              "    }\n",
              "</style>\n",
              "<table border=\"1\" class=\"dataframe\">\n",
              "  <thead>\n",
              "    <tr style=\"text-align: right;\">\n",
              "      <th></th>\n",
              "      <th>extraction_type_class</th>\n",
              "    </tr>\n",
              "  </thead>\n",
              "  <tbody>\n",
              "    <tr>\n",
              "      <th>43360</th>\n",
              "      <td>1</td>\n",
              "    </tr>\n",
              "    <tr>\n",
              "      <th>7263</th>\n",
              "      <td>1</td>\n",
              "    </tr>\n",
              "    <tr>\n",
              "      <th>2486</th>\n",
              "      <td>2</td>\n",
              "    </tr>\n",
              "    <tr>\n",
              "      <th>313</th>\n",
              "      <td>3</td>\n",
              "    </tr>\n",
              "    <tr>\n",
              "      <th>52726</th>\n",
              "      <td>4</td>\n",
              "    </tr>\n",
              "  </tbody>\n",
              "</table>\n",
              "</div>"
            ],
            "text/plain": [
              "       extraction_type_class\n",
              "43360                      1\n",
              "7263                       1\n",
              "2486                       2\n",
              "313                        3\n",
              "52726                      4"
            ]
          },
          "metadata": {
            "tags": []
          },
          "execution_count": 95
        }
      ]
    },
    {
      "cell_type": "code",
      "metadata": {
        "id": "NjGac1dUnMP3",
        "colab_type": "code",
        "colab": {
          "base_uri": "https://localhost:8080/",
          "height": 159
        },
        "outputId": "fa14684e-6c21-4436-cde1-d2729779e94d"
      },
      "source": [
        "# what are the new values?\n",
        "encoded['extraction_type_class'].value_counts()"
      ],
      "execution_count": 101,
      "outputs": [
        {
          "output_type": "execute_result",
          "data": {
            "text/plain": [
              "1    21448\n",
              "2    13184\n",
              "3     5193\n",
              "5     4894\n",
              "4     2355\n",
              "6      353\n",
              "7       93\n",
              "Name: extraction_type_class, dtype: int64"
            ]
          },
          "metadata": {
            "tags": []
          },
          "execution_count": 101
        }
      ]
    },
    {
      "cell_type": "code",
      "metadata": {
        "id": "k3oNEIsanuDl",
        "colab_type": "code",
        "colab": {}
      },
      "source": [
        ""
      ],
      "execution_count": null,
      "outputs": []
    },
    {
      "cell_type": "markdown",
      "metadata": {
        "id": "Ux4JCVS8nwD7",
        "colab_type": "text"
      },
      "source": [
        "#### Beware! Ordinal encoding works well with Tree Models but will ruin your linear models."
      ]
    },
    {
      "cell_type": "markdown",
      "metadata": {
        "colab_type": "text",
        "id": "Nd-ZWprasqUM"
      },
      "source": [
        "#### Ordinal Encoding, Logistic Regression, Validation Accuracy"
      ]
    },
    {
      "cell_type": "code",
      "metadata": {
        "colab_type": "code",
        "id": "GJ1YpwjvrhfL",
        "colab": {
          "base_uri": "https://localhost:8080/",
          "height": 35
        },
        "outputId": "f88f19c8-0d3a-406f-b4ee-5beb70b2fcd7"
      },
      "source": [
        "lr = make_pipeline(\n",
        "    ce.OrdinalEncoder(), \n",
        "    SimpleImputer(), \n",
        "    StandardScaler(), \n",
        "    LogisticRegressionCV(multi_class='auto', solver='lbfgs', cv=5, n_jobs=-1)\n",
        ")\n",
        "\n",
        "lr.fit(X_train[[feature]], y_train)\n",
        "score = lr.score(X_val[[feature]], y_val)\n",
        "print('Logistic Regression, Validation Accuracy', score)"
      ],
      "execution_count": 25,
      "outputs": [
        {
          "output_type": "stream",
          "text": [
            "Logistic Regression, Validation Accuracy 0.5417508417508418\n"
          ],
          "name": "stdout"
        }
      ]
    },
    {
      "cell_type": "markdown",
      "metadata": {
        "colab_type": "text",
        "id": "9lO_R3SksuHs"
      },
      "source": [
        "#### Ordinal Encoding, Decision Tree, Validation Accuracy"
      ]
    },
    {
      "cell_type": "code",
      "metadata": {
        "colab_type": "code",
        "id": "aOELD_roriVI",
        "colab": {
          "base_uri": "https://localhost:8080/",
          "height": 35
        },
        "outputId": "27ea2438-5014-4060-e43d-5ba04a2100ca"
      },
      "source": [
        "dt = make_pipeline(\n",
        "    ce.OrdinalEncoder(), \n",
        "    SimpleImputer(), \n",
        "    DecisionTreeClassifier(random_state=42)\n",
        ")\n",
        "\n",
        "dt.fit(X_train[[feature]], y_train)\n",
        "score = dt.score(X_val[[feature]], y_val)\n",
        "print('Decision Tree, Validation Accuracy', score)"
      ],
      "execution_count": 26,
      "outputs": [
        {
          "output_type": "stream",
          "text": [
            "Decision Tree, Validation Accuracy 0.6202861952861953\n"
          ],
          "name": "stdout"
        }
      ]
    },
    {
      "cell_type": "markdown",
      "metadata": {
        "colab_type": "text",
        "id": "7V2zHjiwswTg"
      },
      "source": [
        "#### Ordinal Encoding, Logistic Regression, Model Interpretation"
      ]
    },
    {
      "cell_type": "code",
      "metadata": {
        "colab_type": "code",
        "id": "S9UPYPois8QR",
        "colab": {
          "base_uri": "https://localhost:8080/",
          "height": 265
        },
        "outputId": "8987753e-c7f4-436b-8a87-54b3e6068cc4"
      },
      "source": [
        "model = lr.named_steps['logisticregressioncv']\n",
        "encoder = lr.named_steps['ordinalencoder']\n",
        "encoded_columns = encoder.transform(X_val[[feature]]).columns\n",
        "coefficients = pd.Series(model.coef_[0], encoded_columns)\n",
        "coefficients.sort_values().plot.barh(color='grey');"
      ],
      "execution_count": 27,
      "outputs": [
        {
          "output_type": "display_data",
          "data": {
            "image/png": "[encoded data removed]",
            "text/plain": [
              "<Figure size 432x288 with 1 Axes>"
            ]
          },
          "metadata": {
            "tags": [],
            "needs_background": "light"
          }
        }
      ]
    },
    {
      "cell_type": "markdown",
      "metadata": {
        "colab_type": "text",
        "id": "MvmmvE8fsymh"
      },
      "source": [
        "#### Ordinal Encoding, Decision Tree, Model Interpretation"
      ]
    },
    {
      "cell_type": "code",
      "metadata": {
        "colab_type": "code",
        "id": "jCvUu4Oms88b",
        "colab": {
          "base_uri": "https://localhost:8080/",
          "height": 796
        },
        "outputId": "64536196-c3c9-4eeb-b643-39b2d81e4515"
      },
      "source": [
        "model = dt.named_steps['decisiontreeclassifier']\n",
        "encoder = dt.named_steps['ordinalencoder']\n",
        "encoded_columns = encoder.transform(X_val[[feature]]).columns\n",
        "\n",
        "dot_data = export_graphviz(model, \n",
        "                           out_file=None, \n",
        "                           max_depth=5, \n",
        "                           feature_names=encoded_columns,\n",
        "                           class_names=model.classes_, \n",
        "                           impurity=False, \n",
        "                           filled=True, \n",
        "                           proportion=True, \n",
        "                           rounded=True)   \n",
        "display(graphviz.Source(dot_data))"
      ],
      "execution_count": 28,
      "outputs": [
        {
          "output_type": "display_data",
          "data": {
            "text/plain": [
              "<graphviz.files.Source at 0x7fd5f9f54470>"
            ],
            "image/svg+xml": "<?xml version=\"1.0\" encoding=\"UTF-8\" standalone=\"no\"?>\n<!DOCTYPE svg PUBLIC \"-//W3C//DTD SVG 1.1//EN\"\n \"http://www.w3.org/Graphics/SVG/1.1/DTD/svg11.dtd\">\n<!-- Generated by graphviz version 2.40.1 (20161225.0304)\n -->\n<!-- Title: Tree Pages: 1 -->\n<svg width=\"1167pt\" height=\"581pt\"\n viewBox=\"0.00 0.00 1167.00 581.00\" xmlns=\"http://www.w3.org/2000/svg\" xmlns:xlink=\"http://www.w3.org/1999/xlink\">\n<g id=\"graph0\" class=\"graph\" transform=\"scale(1 1) rotate(0) translate(4 577)\">\n<title>Tree</title>\n<polygon fill=\"#ffffff\" stroke=\"transparent\" points=\"-4,4 -4,-577 1163,-577 1163,4 -4,4\"/>\n<!-- 0 -->\n<g id=\"node1\" class=\"node\">\n<title>0</title>\n<path fill=\"#f8decc\" stroke=\"#000000\" d=\"M500,-573C500,-573 322,-573 322,-573 316,-573 310,-567 310,-561 310,-561 310,-517 310,-517 310,-511 316,-505 322,-505 322,-505 500,-505 500,-505 506,-505 512,-511 512,-517 512,-517 512,-561 512,-561 512,-567 506,-573 500,-573\"/>\n<text text-anchor=\"middle\" x=\"411\" y=\"-557.8\" font-family=\"Helvetica,sans-Serif\" font-size=\"14.00\" fill=\"#000000\">extraction_type_class &lt;= 2.5</text>\n<text text-anchor=\"middle\" x=\"411\" y=\"-542.8\" font-family=\"Helvetica,sans-Serif\" font-size=\"14.00\" fill=\"#000000\">samples = 100.0%</text>\n<text text-anchor=\"middle\" x=\"411\" y=\"-527.8\" font-family=\"Helvetica,sans-Serif\" font-size=\"14.00\" fill=\"#000000\">value = [0.543, 0.073, 0.384]</text>\n<text text-anchor=\"middle\" x=\"411\" y=\"-512.8\" font-family=\"Helvetica,sans-Serif\" font-size=\"14.00\" fill=\"#000000\">class = functional</text>\n</g>\n<!-- 1 -->\n<g id=\"node2\" class=\"node\">\n<title>1</title>\n<path fill=\"#f4c7a8\" stroke=\"#000000\" d=\"M390,-469C390,-469 212,-469 212,-469 206,-469 200,-463 200,-457 200,-457 200,-413 200,-413 200,-407 206,-401 212,-401 212,-401 390,-401 390,-401 396,-401 402,-407 402,-413 402,-413 402,-457 402,-457 402,-463 396,-469 390,-469\"/>\n<text text-anchor=\"middle\" x=\"301\" y=\"-453.8\" font-family=\"Helvetica,sans-Serif\" font-size=\"14.00\" fill=\"#000000\">extraction_type_class &lt;= 1.5</text>\n<text text-anchor=\"middle\" x=\"301\" y=\"-438.8\" font-family=\"Helvetica,sans-Serif\" font-size=\"14.00\" fill=\"#000000\">samples = 72.9%</text>\n<text text-anchor=\"middle\" x=\"301\" y=\"-423.8\" font-family=\"Helvetica,sans-Serif\" font-size=\"14.00\" fill=\"#000000\">value = [0.611, 0.085, 0.304]</text>\n<text text-anchor=\"middle\" x=\"301\" y=\"-408.8\" font-family=\"Helvetica,sans-Serif\" font-size=\"14.00\" fill=\"#000000\">class = functional</text>\n</g>\n<!-- 0&#45;&gt;1 -->\n<g id=\"edge1\" class=\"edge\">\n<title>0&#45;&gt;1</title>\n<path fill=\"none\" stroke=\"#000000\" d=\"M374.9819,-504.9465C365.2954,-495.7884 354.7136,-485.7838 344.6603,-476.2788\"/>\n<polygon fill=\"#000000\" stroke=\"#000000\" points=\"346.7701,-473.4569 337.099,-469.13 341.961,-478.5434 346.7701,-473.4569\"/>\n<text text-anchor=\"middle\" x=\"337.7997\" y=\"-490.4202\" font-family=\"Helvetica,sans-Serif\" font-size=\"14.00\" fill=\"#000000\">True</text>\n</g>\n<!-- 4 -->\n<g id=\"node5\" class=\"node\">\n<title>4</title>\n<path fill=\"#d0b4f5\" stroke=\"#000000\" d=\"M610,-469C610,-469 432,-469 432,-469 426,-469 420,-463 420,-457 420,-457 420,-413 420,-413 420,-407 426,-401 432,-401 432,-401 610,-401 610,-401 616,-401 622,-407 622,-413 622,-413 622,-457 622,-457 622,-463 616,-469 610,-469\"/>\n<text text-anchor=\"middle\" x=\"521\" y=\"-453.8\" font-family=\"Helvetica,sans-Serif\" font-size=\"14.00\" fill=\"#000000\">extraction_type_class &lt;= 3.5</text>\n<text text-anchor=\"middle\" x=\"521\" y=\"-438.8\" font-family=\"Helvetica,sans-Serif\" font-size=\"14.00\" fill=\"#000000\">samples = 27.1%</text>\n<text text-anchor=\"middle\" x=\"521\" y=\"-423.8\" font-family=\"Helvetica,sans-Serif\" font-size=\"14.00\" fill=\"#000000\">value = [0.361, 0.038, 0.601]</text>\n<text text-anchor=\"middle\" x=\"521\" y=\"-408.8\" font-family=\"Helvetica,sans-Serif\" font-size=\"14.00\" fill=\"#000000\">class = non functional</text>\n</g>\n<!-- 0&#45;&gt;4 -->\n<g id=\"edge4\" class=\"edge\">\n<title>0&#45;&gt;4</title>\n<path fill=\"none\" stroke=\"#000000\" d=\"M447.0181,-504.9465C456.7046,-495.7884 467.2864,-485.7838 477.3397,-476.2788\"/>\n<polygon fill=\"#000000\" stroke=\"#000000\" points=\"480.039,-478.5434 484.901,-469.13 475.2299,-473.4569 480.039,-478.5434\"/>\n<text text-anchor=\"middle\" x=\"484.2003\" y=\"-490.4202\" font-family=\"Helvetica,sans-Serif\" font-size=\"14.00\" fill=\"#000000\">False</text>\n</g>\n<!-- 2 -->\n<g id=\"node3\" class=\"node\">\n<title>2</title>\n<path fill=\"#f4c9aa\" stroke=\"#000000\" d=\"M188,-357.5C188,-357.5 12,-357.5 12,-357.5 6,-357.5 0,-351.5 0,-345.5 0,-345.5 0,-316.5 0,-316.5 0,-310.5 6,-304.5 12,-304.5 12,-304.5 188,-304.5 188,-304.5 194,-304.5 200,-310.5 200,-316.5 200,-316.5 200,-345.5 200,-345.5 200,-351.5 194,-357.5 188,-357.5\"/>\n<text text-anchor=\"middle\" x=\"100\" y=\"-342.3\" font-family=\"Helvetica,sans-Serif\" font-size=\"14.00\" fill=\"#000000\">samples = 45.1%</text>\n<text text-anchor=\"middle\" x=\"100\" y=\"-327.3\" font-family=\"Helvetica,sans-Serif\" font-size=\"14.00\" fill=\"#000000\">value = [0.599, 0.101, 0.299]</text>\n<text text-anchor=\"middle\" x=\"100\" y=\"-312.3\" font-family=\"Helvetica,sans-Serif\" font-size=\"14.00\" fill=\"#000000\">class = functional</text>\n</g>\n<!-- 1&#45;&gt;2 -->\n<g id=\"edge2\" class=\"edge\">\n<title>1&#45;&gt;2</title>\n<path fill=\"none\" stroke=\"#000000\" d=\"M235.1851,-400.9465C211.1292,-388.4997 184.0513,-374.4892 160.4827,-362.2946\"/>\n<polygon fill=\"#000000\" stroke=\"#000000\" points=\"161.7878,-359.0291 151.2978,-357.5422 158.571,-365.2462 161.7878,-359.0291\"/>\n</g>\n<!-- 3 -->\n<g id=\"node4\" class=\"node\">\n<title>3</title>\n<path fill=\"#f3c5a3\" stroke=\"#000000\" d=\"M382,-357.5C382,-357.5 230,-357.5 230,-357.5 224,-357.5 218,-351.5 218,-345.5 218,-345.5 218,-316.5 218,-316.5 218,-310.5 224,-304.5 230,-304.5 230,-304.5 382,-304.5 382,-304.5 388,-304.5 394,-310.5 394,-316.5 394,-316.5 394,-345.5 394,-345.5 394,-351.5 388,-357.5 382,-357.5\"/>\n<text text-anchor=\"middle\" x=\"306\" y=\"-342.3\" font-family=\"Helvetica,sans-Serif\" font-size=\"14.00\" fill=\"#000000\">samples = 27.7%</text>\n<text text-anchor=\"middle\" x=\"306\" y=\"-327.3\" font-family=\"Helvetica,sans-Serif\" font-size=\"14.00\" fill=\"#000000\">value = [0.63, 0.06, 0.31]</text>\n<text text-anchor=\"middle\" x=\"306\" y=\"-312.3\" font-family=\"Helvetica,sans-Serif\" font-size=\"14.00\" fill=\"#000000\">class = functional</text>\n</g>\n<!-- 1&#45;&gt;3 -->\n<g id=\"edge3\" class=\"edge\">\n<title>1&#45;&gt;3</title>\n<path fill=\"none\" stroke=\"#000000\" d=\"M302.6372,-400.9465C303.1509,-390.2621 303.7199,-378.4254 304.2416,-367.5742\"/>\n<polygon fill=\"#000000\" stroke=\"#000000\" points=\"307.7396,-367.6987 304.7239,-357.5422 300.7477,-367.3625 307.7396,-367.6987\"/>\n</g>\n<!-- 5 -->\n<g id=\"node6\" class=\"node\">\n<title>5</title>\n<path fill=\"#9d66eb\" stroke=\"#000000\" d=\"M601,-357.5C601,-357.5 433,-357.5 433,-357.5 427,-357.5 421,-351.5 421,-345.5 421,-345.5 421,-316.5 421,-316.5 421,-310.5 427,-304.5 433,-304.5 433,-304.5 601,-304.5 601,-304.5 607,-304.5 613,-310.5 613,-316.5 613,-316.5 613,-345.5 613,-345.5 613,-351.5 607,-357.5 601,-357.5\"/>\n<text text-anchor=\"middle\" x=\"517\" y=\"-342.3\" font-family=\"Helvetica,sans-Serif\" font-size=\"14.00\" fill=\"#000000\">samples = 10.9%</text>\n<text text-anchor=\"middle\" x=\"517\" y=\"-327.3\" font-family=\"Helvetica,sans-Serif\" font-size=\"14.00\" fill=\"#000000\">value = [0.159, 0.031, 0.81]</text>\n<text text-anchor=\"middle\" x=\"517\" y=\"-312.3\" font-family=\"Helvetica,sans-Serif\" font-size=\"14.00\" fill=\"#000000\">class = non functional</text>\n</g>\n<!-- 4&#45;&gt;5 -->\n<g id=\"edge5\" class=\"edge\">\n<title>4&#45;&gt;5</title>\n<path fill=\"none\" stroke=\"#000000\" d=\"M519.6903,-400.9465C519.2793,-390.2621 518.8241,-378.4254 518.4067,-367.5742\"/>\n<polygon fill=\"#000000\" stroke=\"#000000\" points=\"521.9027,-367.4002 518.0209,-357.5422 514.9079,-367.6693 521.9027,-367.4002\"/>\n</g>\n<!-- 6 -->\n<g id=\"node7\" class=\"node\">\n<title>6</title>\n<path fill=\"#fdf7f2\" stroke=\"#000000\" d=\"M821,-365C821,-365 643,-365 643,-365 637,-365 631,-359 631,-353 631,-353 631,-309 631,-309 631,-303 637,-297 643,-297 643,-297 821,-297 821,-297 827,-297 833,-303 833,-309 833,-309 833,-353 833,-353 833,-359 827,-365 821,-365\"/>\n<text text-anchor=\"middle\" x=\"732\" y=\"-349.8\" font-family=\"Helvetica,sans-Serif\" font-size=\"14.00\" fill=\"#000000\">extraction_type_class &lt;= 4.5</text>\n<text text-anchor=\"middle\" x=\"732\" y=\"-334.8\" font-family=\"Helvetica,sans-Serif\" font-size=\"14.00\" fill=\"#000000\">samples = 16.2%</text>\n<text text-anchor=\"middle\" x=\"732\" y=\"-319.8\" font-family=\"Helvetica,sans-Serif\" font-size=\"14.00\" fill=\"#000000\">value = [0.497, 0.043, 0.46]</text>\n<text text-anchor=\"middle\" x=\"732\" y=\"-304.8\" font-family=\"Helvetica,sans-Serif\" font-size=\"14.00\" fill=\"#000000\">class = functional</text>\n</g>\n<!-- 4&#45;&gt;6 -->\n<g id=\"edge6\" class=\"edge\">\n<title>4&#45;&gt;6</title>\n<path fill=\"none\" stroke=\"#000000\" d=\"M590.0893,-400.9465C610.4002,-390.9354 632.7633,-379.9129 653.6112,-369.6371\"/>\n<polygon fill=\"#000000\" stroke=\"#000000\" points=\"655.3332,-372.6905 662.7555,-365.13 652.2385,-366.4117 655.3332,-372.6905\"/>\n</g>\n<!-- 7 -->\n<g id=\"node8\" class=\"node\">\n<title>7</title>\n<path fill=\"#d8c1f7\" stroke=\"#000000\" d=\"M710,-253.5C710,-253.5 534,-253.5 534,-253.5 528,-253.5 522,-247.5 522,-241.5 522,-241.5 522,-212.5 522,-212.5 522,-206.5 528,-200.5 534,-200.5 534,-200.5 710,-200.5 710,-200.5 716,-200.5 722,-206.5 722,-212.5 722,-212.5 722,-241.5 722,-241.5 722,-247.5 716,-253.5 710,-253.5\"/>\n<text text-anchor=\"middle\" x=\"622\" y=\"-238.3\" font-family=\"Helvetica,sans-Serif\" font-size=\"14.00\" fill=\"#000000\">samples = 5.0%</text>\n<text text-anchor=\"middle\" x=\"622\" y=\"-223.3\" font-family=\"Helvetica,sans-Serif\" font-size=\"14.00\" fill=\"#000000\">value = [0.381, 0.045, 0.574]</text>\n<text text-anchor=\"middle\" x=\"622\" y=\"-208.3\" font-family=\"Helvetica,sans-Serif\" font-size=\"14.00\" fill=\"#000000\">class = non functional</text>\n</g>\n<!-- 6&#45;&gt;7 -->\n<g id=\"edge7\" class=\"edge\">\n<title>6&#45;&gt;7</title>\n<path fill=\"none\" stroke=\"#000000\" d=\"M695.9819,-296.9465C683.6325,-285.2707 669.8278,-272.219 657.5183,-260.5809\"/>\n<polygon fill=\"#000000\" stroke=\"#000000\" points=\"659.7445,-257.869 650.0734,-253.5422 654.9354,-262.9556 659.7445,-257.869\"/>\n</g>\n<!-- 8 -->\n<g id=\"node9\" class=\"node\">\n<title>8</title>\n<path fill=\"#f9e2d1\" stroke=\"#000000\" d=\"M930,-261C930,-261 752,-261 752,-261 746,-261 740,-255 740,-249 740,-249 740,-205 740,-205 740,-199 746,-193 752,-193 752,-193 930,-193 930,-193 936,-193 942,-199 942,-205 942,-205 942,-249 942,-249 942,-255 936,-261 930,-261\"/>\n<text text-anchor=\"middle\" x=\"841\" y=\"-245.8\" font-family=\"Helvetica,sans-Serif\" font-size=\"14.00\" fill=\"#000000\">extraction_type_class &lt;= 5.5</text>\n<text text-anchor=\"middle\" x=\"841\" y=\"-230.8\" font-family=\"Helvetica,sans-Serif\" font-size=\"14.00\" fill=\"#000000\">samples = 11.2%</text>\n<text text-anchor=\"middle\" x=\"841\" y=\"-215.8\" font-family=\"Helvetica,sans-Serif\" font-size=\"14.00\" fill=\"#000000\">value = [0.548, 0.042, 0.41]</text>\n<text text-anchor=\"middle\" x=\"841\" y=\"-200.8\" font-family=\"Helvetica,sans-Serif\" font-size=\"14.00\" fill=\"#000000\">class = functional</text>\n</g>\n<!-- 6&#45;&gt;8 -->\n<g id=\"edge8\" class=\"edge\">\n<title>6&#45;&gt;8</title>\n<path fill=\"none\" stroke=\"#000000\" d=\"M767.6907,-296.9465C777.2891,-287.7884 787.7747,-277.7838 797.7366,-268.2788\"/>\n<polygon fill=\"#000000\" stroke=\"#000000\" points=\"800.4102,-270.5655 805.2291,-261.13 795.5779,-265.5009 800.4102,-270.5655\"/>\n</g>\n<!-- 9 -->\n<g id=\"node10\" class=\"node\">\n<title>9</title>\n<path fill=\"#f9e4d5\" stroke=\"#000000\" d=\"M819,-149.5C819,-149.5 643,-149.5 643,-149.5 637,-149.5 631,-143.5 631,-137.5 631,-137.5 631,-108.5 631,-108.5 631,-102.5 637,-96.5 643,-96.5 643,-96.5 819,-96.5 819,-96.5 825,-96.5 831,-102.5 831,-108.5 831,-108.5 831,-137.5 831,-137.5 831,-143.5 825,-149.5 819,-149.5\"/>\n<text text-anchor=\"middle\" x=\"731\" y=\"-134.3\" font-family=\"Helvetica,sans-Serif\" font-size=\"14.00\" fill=\"#000000\">samples = 10.3%</text>\n<text text-anchor=\"middle\" x=\"731\" y=\"-119.3\" font-family=\"Helvetica,sans-Serif\" font-size=\"14.00\" fill=\"#000000\">value = [0.541, 0.042, 0.416]</text>\n<text text-anchor=\"middle\" x=\"731\" y=\"-104.3\" font-family=\"Helvetica,sans-Serif\" font-size=\"14.00\" fill=\"#000000\">class = functional</text>\n</g>\n<!-- 8&#45;&gt;9 -->\n<g id=\"edge9\" class=\"edge\">\n<title>8&#45;&gt;9</title>\n<path fill=\"none\" stroke=\"#000000\" d=\"M804.9819,-192.9465C792.6325,-181.2707 778.8278,-168.219 766.5183,-156.5809\"/>\n<polygon fill=\"#000000\" stroke=\"#000000\" points=\"768.7445,-153.869 759.0734,-149.5422 763.9354,-158.9556 768.7445,-153.869\"/>\n</g>\n<!-- 10 -->\n<g id=\"node11\" class=\"node\">\n<title>10</title>\n<path fill=\"#f4cbad\" stroke=\"#000000\" d=\"M1039,-157C1039,-157 861,-157 861,-157 855,-157 849,-151 849,-145 849,-145 849,-101 849,-101 849,-95 855,-89 861,-89 861,-89 1039,-89 1039,-89 1045,-89 1051,-95 1051,-101 1051,-101 1051,-145 1051,-145 1051,-151 1045,-157 1039,-157\"/>\n<text text-anchor=\"middle\" x=\"950\" y=\"-141.8\" font-family=\"Helvetica,sans-Serif\" font-size=\"14.00\" fill=\"#000000\">extraction_type_class &lt;= 6.5</text>\n<text text-anchor=\"middle\" x=\"950\" y=\"-126.8\" font-family=\"Helvetica,sans-Serif\" font-size=\"14.00\" fill=\"#000000\">samples = 0.9%</text>\n<text text-anchor=\"middle\" x=\"950\" y=\"-111.8\" font-family=\"Helvetica,sans-Serif\" font-size=\"14.00\" fill=\"#000000\">value = [0.614, 0.043, 0.343]</text>\n<text text-anchor=\"middle\" x=\"950\" y=\"-96.8\" font-family=\"Helvetica,sans-Serif\" font-size=\"14.00\" fill=\"#000000\">class = functional</text>\n</g>\n<!-- 8&#45;&gt;10 -->\n<g id=\"edge10\" class=\"edge\">\n<title>8&#45;&gt;10</title>\n<path fill=\"none\" stroke=\"#000000\" d=\"M876.6907,-192.9465C886.2891,-183.7884 896.7747,-173.7838 906.7366,-164.2788\"/>\n<polygon fill=\"#000000\" stroke=\"#000000\" points=\"909.4102,-166.5655 914.2291,-157.13 904.5779,-161.5009 909.4102,-166.5655\"/>\n</g>\n<!-- 11 -->\n<g id=\"node12\" class=\"node\">\n<title>11</title>\n<path fill=\"#f2bf9b\" stroke=\"#000000\" d=\"M929,-53C929,-53 753,-53 753,-53 747,-53 741,-47 741,-41 741,-41 741,-12 741,-12 741,-6 747,0 753,0 753,0 929,0 929,0 935,0 941,-6 941,-12 941,-12 941,-41 941,-41 941,-47 935,-53 929,-53\"/>\n<text text-anchor=\"middle\" x=\"841\" y=\"-37.8\" font-family=\"Helvetica,sans-Serif\" font-size=\"14.00\" fill=\"#000000\">samples = 0.7%</text>\n<text text-anchor=\"middle\" x=\"841\" y=\"-22.8\" font-family=\"Helvetica,sans-Serif\" font-size=\"14.00\" fill=\"#000000\">value = [0.657, 0.037, 0.306]</text>\n<text text-anchor=\"middle\" x=\"841\" y=\"-7.8\" font-family=\"Helvetica,sans-Serif\" font-size=\"14.00\" fill=\"#000000\">class = functional</text>\n</g>\n<!-- 10&#45;&gt;11 -->\n<g id=\"edge11\" class=\"edge\">\n<title>10&#45;&gt;11</title>\n<path fill=\"none\" stroke=\"#000000\" d=\"M911.5707,-88.9777C900.9173,-79.546 889.3641,-69.3178 878.7499,-59.9208\"/>\n<polygon fill=\"#000000\" stroke=\"#000000\" points=\"881.0207,-57.2566 871.2133,-53.2485 876.3806,-62.4978 881.0207,-57.2566\"/>\n</g>\n<!-- 12 -->\n<g id=\"node13\" class=\"node\">\n<title>12</title>\n<path fill=\"#f8f3fd\" stroke=\"#000000\" d=\"M1147,-53C1147,-53 971,-53 971,-53 965,-53 959,-47 959,-41 959,-41 959,-12 959,-12 959,-6 965,0 971,0 971,0 1147,0 1147,0 1153,0 1159,-6 1159,-12 1159,-12 1159,-41 1159,-41 1159,-47 1153,-53 1147,-53\"/>\n<text text-anchor=\"middle\" x=\"1059\" y=\"-37.8\" font-family=\"Helvetica,sans-Serif\" font-size=\"14.00\" fill=\"#000000\">samples = 0.2%</text>\n<text text-anchor=\"middle\" x=\"1059\" y=\"-22.8\" font-family=\"Helvetica,sans-Serif\" font-size=\"14.00\" fill=\"#000000\">value = [0.452, 0.065, 0.484]</text>\n<text text-anchor=\"middle\" x=\"1059\" y=\"-7.8\" font-family=\"Helvetica,sans-Serif\" font-size=\"14.00\" fill=\"#000000\">class = non functional</text>\n</g>\n<!-- 10&#45;&gt;12 -->\n<g id=\"edge12\" class=\"edge\">\n<title>10&#45;&gt;12</title>\n<path fill=\"none\" stroke=\"#000000\" d=\"M988.4293,-88.9777C999.0827,-79.546 1010.6359,-69.3178 1021.2501,-59.9208\"/>\n<polygon fill=\"#000000\" stroke=\"#000000\" points=\"1023.6194,-62.4978 1028.7867,-53.2485 1018.9793,-57.2566 1023.6194,-62.4978\"/>\n</g>\n</g>\n</svg>\n"
          },
          "metadata": {
            "tags": []
          }
        }
      ]
    },
    {
      "cell_type": "markdown",
      "metadata": {
        "colab_type": "text",
        "id": "P4EJi2GvgLVa"
      },
      "source": [
        "# Understand how tree ensembles reduce overfitting compared to a single decision tree with unlimited depth"
      ]
    },
    {
      "cell_type": "markdown",
      "metadata": {
        "id": "axvjYtRv9Epu",
        "colab_type": "text"
      },
      "source": [
        "## Overview"
      ]
    },
    {
      "cell_type": "markdown",
      "metadata": {
        "colab_type": "text",
        "id": "0nNABF3HgLVg"
      },
      "source": [
        "### What's \"random\" about random forests?\n",
        "1. Each tree trains on a random bootstrap sample of the data. (In scikit-learn, for `RandomForestRegressor` and `RandomForestClassifier`, the `bootstrap` parameter's default is `True`.) This type of ensembling is called Bagging. (Bootstrap AGGregatING.)\n",
        "2. Each split considers a random subset of the features. (In scikit-learn, when the `max_features` parameter is not `None`.) \n",
        "\n",
        "For extra randomness, you can try [\"extremely randomized trees\"](https://scikit-learn.org/stable/modules/ensemble.html#extremely-randomized-trees)!\n",
        "\n",
        ">In extremely randomized trees (see [ExtraTreesClassifier](https://scikit-learn.org/stable/modules/generated/sklearn.ensemble.ExtraTreesClassifier.html) and [ExtraTreesRegressor](https://scikit-learn.org/stable/modules/generated/sklearn.ensemble.ExtraTreesRegressor.html) classes), randomness goes one step further in the way splits are computed. As in random forests, a random subset of candidate features is used, but instead of looking for the most discriminative thresholds, thresholds are drawn at random for each candidate feature and the best of these randomly-generated thresholds is picked as the splitting rule. This usually allows to reduce the variance of the model a bit more, at the expense of a slightly greater increase in bias"
      ]
    },
    {
      "cell_type": "markdown",
      "metadata": {
        "id": "n5YM9H1epRPN",
        "colab_type": "text"
      },
      "source": [
        "![](https://github.com/austinlasseter/DS-Unit-2-Kaggle-Challenge/blob/master/module2-random-forests/bagging_boosting.png?raw=1)"
      ]
    },
    {
      "cell_type": "markdown",
      "metadata": {
        "id": "SABL5fg09Epv",
        "colab_type": "text"
      },
      "source": [
        "## Follow Along"
      ]
    },
    {
      "cell_type": "markdown",
      "metadata": {
        "colab_type": "text",
        "id": "pUYP619CgLVb"
      },
      "source": [
        "### Example: [predicting golf putts](https://statmodeling.stat.columbia.edu/2008/12/04/the_golf_puttin/)\n",
        "(1 feature, non-linear, regression)"
      ]
    },
    {
      "cell_type": "code",
      "metadata": {
        "colab_type": "code",
        "id": "b4640ukxgLVc",
        "colab": {}
      },
      "source": [
        "putts = pd.DataFrame(\n",
        "    columns=['distance', 'tries', 'successes'], \n",
        "    data = [[2, 1443, 1346],\n",
        "            [3, 694, 577],\n",
        "            [4, 455, 337],\n",
        "            [5, 353, 208],\n",
        "            [6, 272, 149],\n",
        "            [7, 256, 136],\n",
        "            [8, 240, 111],\n",
        "            [9, 217, 69],\n",
        "            [10, 200, 67],\n",
        "            [11, 237, 75],\n",
        "            [12, 202, 52],\n",
        "            [13, 192, 46],\n",
        "            [14, 174, 54],\n",
        "            [15, 167, 28],\n",
        "            [16, 201, 27],\n",
        "            [17, 195, 31],\n",
        "            [18, 191, 33],\n",
        "            [19, 147, 20],\n",
        "            [20, 152, 24]]\n",
        ")\n",
        "\n",
        "putts['rate of success'] = putts['successes'] / putts['tries']\n",
        "putts_X = putts[['distance']]\n",
        "putts_y = putts['rate of success']"
      ],
      "execution_count": 29,
      "outputs": []
    },
    {
      "cell_type": "code",
      "metadata": {
        "colab_type": "code",
        "id": "T0IpCcKggLVd",
        "colab": {
          "base_uri": "https://localhost:8080/",
          "height": 637,
          "referenced_widgets": [
            "09416c8fe7d64b99afce0745ba57fdc0",
            "6a07d5c5b1f84ddfafd8785e30ab363d",
            "12c9309cedb847bb9a0a8e36fd14af00",
            "9d36a40808f345ce9182e0922671e497",
            "53f94682375f43ff9558f6e5e431d977",
            "aaffd1bf31494e4db10bf88a7f2d2635",
            "87fec0d117094ffb928767c5ff030c7c",
            "7bb6b7d4950f41dc8117ba422ebebe07",
            "9b2a1a83a7e4439ebefc14bebbccedc3",
            "d00f2292ffbc423ea6b032eff63c191e"
          ]
        },
        "outputId": "d4b028ae-52ed-40df-f3be-364e7058a0cc"
      },
      "source": [
        "%matplotlib inline\n",
        "import matplotlib.pyplot as plt\n",
        "from ipywidgets import interact\n",
        "from sklearn.ensemble import RandomForestRegressor\n",
        "from sklearn.tree import DecisionTreeRegressor\n",
        "\n",
        "def putt_trees(max_depth=1, n_estimators=1):\n",
        "    models = [DecisionTreeRegressor(max_depth=max_depth), \n",
        "              RandomForestRegressor(max_depth=max_depth, n_estimators=n_estimators)]\n",
        "    \n",
        "    for model in models:\n",
        "        name = model.__class__.__name__\n",
        "        model.fit(putts_X, putts_y)\n",
        "        ax = putts.plot('distance', 'rate of success', kind='scatter', title=name)\n",
        "        ax.step(putts_X, model.predict(putts_X), where='mid')\n",
        "        plt.show()\n",
        "        \n",
        "interact(putt_trees, max_depth=(1,6,1), n_estimators=(10,40,10));"
      ],
      "execution_count": 30,
      "outputs": [
        {
          "output_type": "display_data",
          "data": {
            "application/vnd.jupyter.widget-view+json": {
              "model_id": "09416c8fe7d64b99afce0745ba57fdc0",
              "version_minor": 0,
              "version_major": 2
            },
            "text/plain": [
              "interactive(children=(IntSlider(value=1, description='max_depth', max=6, min=1), IntSlider(value=10, descripti…"
            ]
          },
          "metadata": {
            "tags": []
          }
        }
      ]
    },
    {
      "cell_type": "markdown",
      "metadata": {
        "colab_type": "text",
        "id": "_KgZK9_9gLVh"
      },
      "source": [
        "### Bagging demo, with golf putts data\n",
        "https://pandas.pydata.org/pandas-docs/stable/reference/api/pandas.DataFrame.sample.html"
      ]
    },
    {
      "cell_type": "code",
      "metadata": {
        "colab_type": "code",
        "id": "vA9mrSTNgLVi",
        "scrolled": false,
        "colab": {
          "base_uri": "https://localhost:8080/",
          "height": 915,
          "referenced_widgets": [
            "e009ac7ab1194351a4021d420b869c93",
            "99156b2f998a4b7bb8b881e8ec80903a",
            "59c2bde7eccf4517b843b5282b3fc517",
            "0fcff9a480e040ca8f412044ad7ed0fb",
            "bec6293d0a9a4bf595b28f4aac5a052d",
            "7dfb6fe5bba546299913fe120e6feda1",
            "fba18092d39347fa9464e0f5c37c0f99",
            "bee923d632f0482692cb689a4c269686",
            "d338e81c038b4618b6aefb8a99c0ed17",
            "e0deafd8882a4f3483faa08dc7fadf5b"
          ]
        },
        "outputId": "00359315-132a-4949-8f26-ca2842eb667d"
      },
      "source": [
        "# Do-it-yourself Bagging Ensemble of Decision Trees (like a Random Forest)\n",
        "def diy_bagging(max_depth=1, n_estimators=1):\n",
        "    y_preds = []\n",
        "    for i in range(n_estimators):\n",
        "        title = f'Tree {i+1}'\n",
        "        bootstrap_sample = putts.sample(n=len(putts), replace=True).sort_values(by='distance')\n",
        "        bootstrap_X = bootstrap_sample[['distance']]\n",
        "        bootstrap_y = bootstrap_sample['rate of success']\n",
        "        tree = DecisionTreeRegressor(max_depth=max_depth)\n",
        "        tree.fit(bootstrap_X, bootstrap_y)\n",
        "        y_pred = tree.predict(bootstrap_X)\n",
        "        y_preds.append(y_pred)\n",
        "        ax = bootstrap_sample.plot('distance', 'rate of success', kind='scatter', title=title)\n",
        "        ax.step(bootstrap_X, y_pred, where='mid')\n",
        "        plt.show()\n",
        "        \n",
        "    ensembled = np.vstack(y_preds).mean(axis=0)\n",
        "    title = f'Ensemble of {n_estimators} trees, with max_depth={max_depth}'\n",
        "    ax = putts.plot('distance', 'rate of success', kind='scatter', title=title)\n",
        "    ax.step(putts_X, ensembled, where='mid')\n",
        "    plt.show()\n",
        "    \n",
        "interact(diy_bagging, max_depth=(1,6,1), n_estimators=(2,5,1));"
      ],
      "execution_count": 31,
      "outputs": [
        {
          "output_type": "display_data",
          "data": {
            "application/vnd.jupyter.widget-view+json": {
              "model_id": "e009ac7ab1194351a4021d420b869c93",
              "version_minor": 0,
              "version_major": 2
            },
            "text/plain": [
              "interactive(children=(IntSlider(value=1, description='max_depth', max=6, min=1), IntSlider(value=2, descriptio…"
            ]
          },
          "metadata": {
            "tags": []
          }
        }
      ]
    },
    {
      "cell_type": "markdown",
      "metadata": {
        "colab_type": "text",
        "id": "rq4Z_wQ_gLVj"
      },
      "source": [
        "### Go back to Tanzania Waterpumps ..."
      ]
    },
    {
      "cell_type": "markdown",
      "metadata": {
        "colab_type": "text",
        "id": "FoSE9iT6YXQz"
      },
      "source": [
        "#### Helper function to visualize predicted probabilities\n",
        "\n"
      ]
    },
    {
      "cell_type": "code",
      "metadata": {
        "colab_type": "code",
        "id": "HzIAjGpJgLVj",
        "colab": {}
      },
      "source": [
        "import itertools\n",
        "import seaborn as sns\n",
        "\n",
        "def pred_heatmap(model, X, features, class_index=-1, title='', num=100):\n",
        "    \"\"\"\n",
        "    Visualize predicted probabilities, for classifier fit on 2 numeric features\n",
        "    \n",
        "    Parameters\n",
        "    ----------\n",
        "    model : scikit-learn classifier, already fit\n",
        "    X : pandas dataframe, which was used to fit model\n",
        "    features : list of strings, column names of the 2 numeric features\n",
        "    class_index : integer, index of class label\n",
        "    title : string, title of plot\n",
        "    num : int, number of grid points for each feature\n",
        "    \n",
        "    Returns\n",
        "    -------\n",
        "    y_pred_proba : numpy array, predicted probabilities for class_index\n",
        "    \"\"\"\n",
        "    feature1, feature2 = features\n",
        "    min1, max1 = X[feature1].min(), X[feature1].max()\n",
        "    min2, max2 = X[feature2].min(), X[feature2].max()\n",
        "    x1 = np.linspace(min1, max1, num)\n",
        "    x2 = np.linspace(max2, min2, num)\n",
        "    combos = list(itertools.product(x1, x2))\n",
        "    y_pred_proba = model.predict_proba(combos)[:, class_index]\n",
        "    pred_grid = y_pred_proba.reshape(num, num).T\n",
        "    table = pd.DataFrame(pred_grid, columns=x1, index=x2)\n",
        "    sns.heatmap(table, vmin=0, vmax=1)\n",
        "    plt.xticks([])\n",
        "    plt.yticks([])\n",
        "    plt.xlabel(feature1)\n",
        "    plt.ylabel(feature2)\n",
        "    plt.title(title)\n",
        "    plt.show()\n",
        "    return y_pred_proba\n"
      ],
      "execution_count": 32,
      "outputs": []
    },
    {
      "cell_type": "markdown",
      "metadata": {
        "colab_type": "text",
        "id": "DiRfPqHjgLVl"
      },
      "source": [
        "### Compare Decision Tree, Random Forest, Logistic Regression"
      ]
    },
    {
      "cell_type": "code",
      "metadata": {
        "colab_type": "code",
        "id": "HKkMLXhMgLVl",
        "colab": {
          "base_uri": "https://localhost:8080/",
          "height": 864,
          "referenced_widgets": [
            "97b4b2be5da7403996883a9268f1a72e",
            "7986f8f4dbe246cf92fec6e4223e9a0b",
            "f3c3e50f8cfb4ce79c1b798089632df5",
            "92c48f63725b459482ddc307d5f18643",
            "0d64e09cb23c4be7850f02d29695f31e",
            "e90a3270d2df4b10bfead8baecbb1ebd",
            "076b01993b5040c1818d49334b1ff5b3",
            "22fd2c494e0043229066e61c5dddcf2e",
            "28cb5f5f1b4843fc8bc871923c38024a",
            "36e1b1a91c014fa0ab2581dd70d36b33"
          ]
        },
        "outputId": "82baf740-5295-4932-ae08-1c4029ad2290"
      },
      "source": [
        "# Instructions\n",
        "# 1. Choose two features\n",
        "# 2. Run this code cell\n",
        "# 3. Interact with the widget sliders\n",
        "feature1 = 'longitude'\n",
        "feature2 = 'quantity'\n",
        "\n",
        "from sklearn.linear_model import LogisticRegression\n",
        "from sklearn.tree import DecisionTreeClassifier\n",
        "\n",
        "def get_X_y(df, feature1, feature2, target):\n",
        "    features = [feature1, feature2]\n",
        "    X = df[features]\n",
        "    y = df[target]\n",
        "    X = X.fillna(X.median())\n",
        "    X = ce.OrdinalEncoder().fit_transform(X)\n",
        "    return X, y\n",
        "\n",
        "def compare_models(max_depth=1, n_estimators=1):\n",
        "    models = [DecisionTreeClassifier(max_depth=max_depth), \n",
        "              RandomForestClassifier(max_depth=max_depth, n_estimators=n_estimators), \n",
        "              LogisticRegression(solver='lbfgs', multi_class='auto')]\n",
        "    \n",
        "    for model in models:\n",
        "        name = model.__class__.__name__\n",
        "        model.fit(X, y)\n",
        "        pred_heatmap(model, X, [feature1, feature2], class_index=0, title=name)\n",
        "\n",
        "X, y = get_X_y(train, feature1, feature2, target='status_group')\n",
        "interact(compare_models, max_depth=(1,6,1), n_estimators=(10,40,10));"
      ],
      "execution_count": 33,
      "outputs": [
        {
          "output_type": "display_data",
          "data": {
            "application/vnd.jupyter.widget-view+json": {
              "model_id": "97b4b2be5da7403996883a9268f1a72e",
              "version_minor": 0,
              "version_major": 2
            },
            "text/plain": [
              "interactive(children=(IntSlider(value=1, description='max_depth', max=6, min=1), IntSlider(value=10, descripti…"
            ]
          },
          "metadata": {
            "tags": []
          }
        }
      ]
    },
    {
      "cell_type": "markdown",
      "metadata": {
        "colab_type": "text",
        "id": "hOQqjLEDgLVn"
      },
      "source": [
        "### Bagging"
      ]
    },
    {
      "cell_type": "code",
      "metadata": {
        "colab_type": "code",
        "id": "Hm4aPgs2gLVn",
        "colab": {
          "base_uri": "https://localhost:8080/",
          "height": 864,
          "referenced_widgets": [
            "9988387c2a6244e7949469d20d8b76a3",
            "ca9ab877a1224235912bf681ce379b10",
            "8f1cdfefbc6c4864b5b87053524ad6f9",
            "5bab42e3212a4337a848c21fef947b16",
            "4da2cfcb8c0a482eac768f23bf7fdc63",
            "c591f5780f35479587ec8b27ee010295",
            "b05a7488a4ed45c4bab2e13d4fb82412",
            "4657d57c83af4dbe8e79ed532810e0d8",
            "6a3f7cfe79b54eb39fcd4c46118811d7",
            "9fbc0a48f49a4d4ca55ddcbb74f258a5"
          ]
        },
        "outputId": "add60748-a1ba-4ad2-fa0b-81a40d55adaf"
      },
      "source": [
        "# Do-it-yourself Bagging Ensemble of Decision Trees (like a Random Forest)\n",
        "\n",
        "# Instructions\n",
        "# 1. Choose two features\n",
        "# 2. Run this code cell\n",
        "# 3. Interact with the widget sliders\n",
        "\n",
        "feature1 = 'longitude'\n",
        "feature2 = 'latitude'\n",
        "\n",
        "def waterpumps_bagging(max_depth=1, n_estimators=1):\n",
        "    predicteds = []\n",
        "    for i in range(n_estimators):\n",
        "        title = f'Tree {i+1}'\n",
        "        bootstrap_sample = train.sample(n=len(train), replace=True)\n",
        "        X, y = get_X_y(bootstrap_sample, feature1, feature2, target='status_group')\n",
        "        tree = DecisionTreeClassifier(max_depth=max_depth)\n",
        "        tree.fit(X, y)\n",
        "        predicted = pred_heatmap(tree, X, [feature1, feature2], class_index=0, title=title)\n",
        "        predicteds.append(predicted)\n",
        "    \n",
        "    ensembled = np.vstack(predicteds).mean(axis=0)\n",
        "    title = f'Ensemble of {n_estimators} trees, with max_depth={max_depth}'\n",
        "    sns.heatmap(ensembled.reshape(100, 100).T, vmin=0, vmax=1)\n",
        "    plt.title(title)\n",
        "    plt.xlabel(feature1)\n",
        "    plt.ylabel(feature2)\n",
        "    plt.xticks([])\n",
        "    plt.yticks([])\n",
        "    plt.show()\n",
        "        \n",
        "interact(waterpumps_bagging, max_depth=(1,6,1), n_estimators=(2,5,1));"
      ],
      "execution_count": 34,
      "outputs": [
        {
          "output_type": "display_data",
          "data": {
            "application/vnd.jupyter.widget-view+json": {
              "model_id": "9988387c2a6244e7949469d20d8b76a3",
              "version_minor": 0,
              "version_major": 2
            },
            "text/plain": [
              "interactive(children=(IntSlider(value=1, description='max_depth', max=6, min=1), IntSlider(value=2, descriptio…"
            ]
          },
          "metadata": {
            "tags": []
          }
        }
      ]
    },
    {
      "cell_type": "markdown",
      "metadata": {
        "colab_type": "text",
        "id": "wYoSBi15akWP"
      },
      "source": [
        "# Review\n",
        "\n",
        "#### Try Tree Ensembles when you do machine learning with labeled, tabular data\n",
        "- \"Tree Ensembles\" means Random Forest or Gradient Boosting models. \n",
        "- [Tree Ensembles often have the best predictive accuracy](https://arxiv.org/abs/1708.05070) with labeled, tabular data.\n",
        "- Why? Because trees can fit non-linear, non-[monotonic](https://en.wikipedia.org/wiki/Monotonic_function) relationships, and [interactions](https://christophm.github.io/interpretable-ml-book/interaction.html) between features.\n",
        "- A single decision tree, grown to unlimited depth, will [overfit](http://www.r2d3.us/visual-intro-to-machine-learning-part-1/). We solve this problem by ensembling trees, with bagging (Random Forest) or boosting (Gradient Boosting).\n",
        "- Random Forest's advantage: may be less sensitive to hyperparameters. Gradient Boosting's advantage: may get better predictive accuracy.\n",
        "\n",
        "#### One-hot encoding isn’t the only way, and may not be the best way, of categorical encoding for tree ensembles.\n",
        "- For example, tree ensembles can work with arbitrary \"ordinal\" encoding! (Randomly assigning an integer to each category.) Compared to one-hot encoding, the dimensionality will be lower, and the predictive accuracy may be just as good or even better.\n"
      ]
    },
    {
      "cell_type": "code",
      "metadata": {
        "id": "UvyssOTwRN5T",
        "colab_type": "code",
        "colab": {}
      },
      "source": [
        ""
      ],
      "execution_count": null,
      "outputs": []
    }
  ]
}