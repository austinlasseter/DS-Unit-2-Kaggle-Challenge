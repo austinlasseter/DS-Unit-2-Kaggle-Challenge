{
  "nbformat": 4,
  "nbformat_minor": 0,
  "metadata": {
    "kernelspec": {
      "display_name": "Python 3",
      "language": "python",
      "name": "python3"
    },
    "language_info": {
      "codemirror_mode": {
        "name": "ipython",
        "version": 3
      },
      "file_extension": ".py",
      "mimetype": "text/x-python",
      "name": "python",
      "nbconvert_exporter": "python",
      "pygments_lexer": "ipython3",
      "version": "3.7.3"
    },
    "colab": {
      "name": "LS_DS12_222.ipynb",
      "provenance": [],
      "include_colab_link": true
    },
    "widgets": {
      "application/vnd.jupyter.widget-state+json": {
        "c13b48b4173a439299878837cf869961": {
          "model_module": "@jupyter-widgets/controls",
          "model_name": "VBoxModel",
          "state": {
            "_view_name": "VBoxView",
            "_dom_classes": [
              "widget-interact"
            ],
            "_model_name": "VBoxModel",
            "_view_module": "@jupyter-widgets/controls",
            "_model_module_version": "1.5.0",
            "_view_count": null,
            "_view_module_version": "1.5.0",
            "box_style": "",
            "layout": "IPY_MODEL_5f5c50c5cdd549b4878f506b514aeeb2",
            "_model_module": "@jupyter-widgets/controls",
            "children": [
              "IPY_MODEL_2010fc359de34562b451de44aac0480a",
              "IPY_MODEL_75ed925ce27b4f5484dab9a98b8934d0",
              "IPY_MODEL_faa8a59560a846b5b5eebdfca4bfb110"
            ]
          }
        },
        "5f5c50c5cdd549b4878f506b514aeeb2": {
          "model_module": "@jupyter-widgets/base",
          "model_name": "LayoutModel",
          "state": {
            "_view_name": "LayoutView",
            "grid_template_rows": null,
            "right": null,
            "justify_content": null,
            "_view_module": "@jupyter-widgets/base",
            "overflow": null,
            "_model_module_version": "1.2.0",
            "_view_count": null,
            "flex_flow": null,
            "width": null,
            "min_width": null,
            "border": null,
            "align_items": null,
            "bottom": null,
            "_model_module": "@jupyter-widgets/base",
            "top": null,
            "grid_column": null,
            "overflow_y": null,
            "overflow_x": null,
            "grid_auto_flow": null,
            "grid_area": null,
            "grid_template_columns": null,
            "flex": null,
            "_model_name": "LayoutModel",
            "justify_items": null,
            "grid_row": null,
            "max_height": null,
            "align_content": null,
            "visibility": null,
            "align_self": null,
            "height": null,
            "min_height": null,
            "padding": null,
            "grid_auto_rows": null,
            "grid_gap": null,
            "max_width": null,
            "order": null,
            "_view_module_version": "1.2.0",
            "grid_template_areas": null,
            "object_position": null,
            "object_fit": null,
            "grid_auto_columns": null,
            "margin": null,
            "display": null,
            "left": null
          }
        },
        "2010fc359de34562b451de44aac0480a": {
          "model_module": "@jupyter-widgets/controls",
          "model_name": "IntSliderModel",
          "state": {
            "_view_name": "IntSliderView",
            "style": "IPY_MODEL_80848bedc3964406ad3b5015fc7d187f",
            "_dom_classes": [],
            "description": "max_depth",
            "step": 1,
            "_model_name": "IntSliderModel",
            "orientation": "horizontal",
            "max": 6,
            "_view_module": "@jupyter-widgets/controls",
            "_model_module_version": "1.5.0",
            "value": 4,
            "_view_count": null,
            "disabled": false,
            "_view_module_version": "1.5.0",
            "min": 1,
            "continuous_update": true,
            "readout_format": "d",
            "description_tooltip": null,
            "readout": true,
            "_model_module": "@jupyter-widgets/controls",
            "layout": "IPY_MODEL_4b49956595c04f5599f73ccbd6901aff"
          }
        },
        "75ed925ce27b4f5484dab9a98b8934d0": {
          "model_module": "@jupyter-widgets/controls",
          "model_name": "IntSliderModel",
          "state": {
            "_view_name": "IntSliderView",
            "style": "IPY_MODEL_08b49567e53f44c1a236dda81860c521",
            "_dom_classes": [],
            "description": "n_estimators",
            "step": 10,
            "_model_name": "IntSliderModel",
            "orientation": "horizontal",
            "max": 40,
            "_view_module": "@jupyter-widgets/controls",
            "_model_module_version": "1.5.0",
            "value": 10,
            "_view_count": null,
            "disabled": false,
            "_view_module_version": "1.5.0",
            "min": 10,
            "continuous_update": true,
            "readout_format": "d",
            "description_tooltip": null,
            "readout": true,
            "_model_module": "@jupyter-widgets/controls",
            "layout": "IPY_MODEL_f38db600f2564932bcc974e560f6d780"
          }
        },
        "faa8a59560a846b5b5eebdfca4bfb110": {
          "model_module": "@jupyter-widgets/output",
          "model_name": "OutputModel",
          "state": {
            "_view_name": "OutputView",
            "msg_id": "",
            "_dom_classes": [],
            "_model_name": "OutputModel",
            "outputs": [
              {
                "output_type": "display_data",
                "metadata": {
                  "tags": [],
                  "needs_background": "light"
                },
                "image/png": "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\n",
                "text/plain": "<Figure size 432x288 with 1 Axes>"
              },
              {
                "output_type": "display_data",
                "metadata": {
                  "tags": [],
                  "needs_background": "light"
                },
                "image/png": "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\n",
                "text/plain": "<Figure size 432x288 with 1 Axes>"
              }
            ],
            "_view_module": "@jupyter-widgets/output",
            "_model_module_version": "1.0.0",
            "_view_count": null,
            "_view_module_version": "1.0.0",
            "layout": "IPY_MODEL_fcb5b9afa7b946ae8706b9b0ec2ae30a",
            "_model_module": "@jupyter-widgets/output"
          }
        },
        "80848bedc3964406ad3b5015fc7d187f": {
          "model_module": "@jupyter-widgets/controls",
          "model_name": "SliderStyleModel",
          "state": {
            "_view_name": "StyleView",
            "handle_color": null,
            "_model_name": "SliderStyleModel",
            "description_width": "",
            "_view_module": "@jupyter-widgets/base",
            "_model_module_version": "1.5.0",
            "_view_count": null,
            "_view_module_version": "1.2.0",
            "_model_module": "@jupyter-widgets/controls"
          }
        },
        "4b49956595c04f5599f73ccbd6901aff": {
          "model_module": "@jupyter-widgets/base",
          "model_name": "LayoutModel",
          "state": {
            "_view_name": "LayoutView",
            "grid_template_rows": null,
            "right": null,
            "justify_content": null,
            "_view_module": "@jupyter-widgets/base",
            "overflow": null,
            "_model_module_version": "1.2.0",
            "_view_count": null,
            "flex_flow": null,
            "width": null,
            "min_width": null,
            "border": null,
            "align_items": null,
            "bottom": null,
            "_model_module": "@jupyter-widgets/base",
            "top": null,
            "grid_column": null,
            "overflow_y": null,
            "overflow_x": null,
            "grid_auto_flow": null,
            "grid_area": null,
            "grid_template_columns": null,
            "flex": null,
            "_model_name": "LayoutModel",
            "justify_items": null,
            "grid_row": null,
            "max_height": null,
            "align_content": null,
            "visibility": null,
            "align_self": null,
            "height": null,
            "min_height": null,
            "padding": null,
            "grid_auto_rows": null,
            "grid_gap": null,
            "max_width": null,
            "order": null,
            "_view_module_version": "1.2.0",
            "grid_template_areas": null,
            "object_position": null,
            "object_fit": null,
            "grid_auto_columns": null,
            "margin": null,
            "display": null,
            "left": null
          }
        },
        "08b49567e53f44c1a236dda81860c521": {
          "model_module": "@jupyter-widgets/controls",
          "model_name": "SliderStyleModel",
          "state": {
            "_view_name": "StyleView",
            "handle_color": null,
            "_model_name": "SliderStyleModel",
            "description_width": "",
            "_view_module": "@jupyter-widgets/base",
            "_model_module_version": "1.5.0",
            "_view_count": null,
            "_view_module_version": "1.2.0",
            "_model_module": "@jupyter-widgets/controls"
          }
        },
        "f38db600f2564932bcc974e560f6d780": {
          "model_module": "@jupyter-widgets/base",
          "model_name": "LayoutModel",
          "state": {
            "_view_name": "LayoutView",
            "grid_template_rows": null,
            "right": null,
            "justify_content": null,
            "_view_module": "@jupyter-widgets/base",
            "overflow": null,
            "_model_module_version": "1.2.0",
            "_view_count": null,
            "flex_flow": null,
            "width": null,
            "min_width": null,
            "border": null,
            "align_items": null,
            "bottom": null,
            "_model_module": "@jupyter-widgets/base",
            "top": null,
            "grid_column": null,
            "overflow_y": null,
            "overflow_x": null,
            "grid_auto_flow": null,
            "grid_area": null,
            "grid_template_columns": null,
            "flex": null,
            "_model_name": "LayoutModel",
            "justify_items": null,
            "grid_row": null,
            "max_height": null,
            "align_content": null,
            "visibility": null,
            "align_self": null,
            "height": null,
            "min_height": null,
            "padding": null,
            "grid_auto_rows": null,
            "grid_gap": null,
            "max_width": null,
            "order": null,
            "_view_module_version": "1.2.0",
            "grid_template_areas": null,
            "object_position": null,
            "object_fit": null,
            "grid_auto_columns": null,
            "margin": null,
            "display": null,
            "left": null
          }
        },
        "fcb5b9afa7b946ae8706b9b0ec2ae30a": {
          "model_module": "@jupyter-widgets/base",
          "model_name": "LayoutModel",
          "state": {
            "_view_name": "LayoutView",
            "grid_template_rows": null,
            "right": null,
            "justify_content": null,
            "_view_module": "@jupyter-widgets/base",
            "overflow": null,
            "_model_module_version": "1.2.0",
            "_view_count": null,
            "flex_flow": null,
            "width": null,
            "min_width": null,
            "border": null,
            "align_items": null,
            "bottom": null,
            "_model_module": "@jupyter-widgets/base",
            "top": null,
            "grid_column": null,
            "overflow_y": null,
            "overflow_x": null,
            "grid_auto_flow": null,
            "grid_area": null,
            "grid_template_columns": null,
            "flex": null,
            "_model_name": "LayoutModel",
            "justify_items": null,
            "grid_row": null,
            "max_height": null,
            "align_content": null,
            "visibility": null,
            "align_self": null,
            "height": null,
            "min_height": null,
            "padding": null,
            "grid_auto_rows": null,
            "grid_gap": null,
            "max_width": null,
            "order": null,
            "_view_module_version": "1.2.0",
            "grid_template_areas": null,
            "object_position": null,
            "object_fit": null,
            "grid_auto_columns": null,
            "margin": null,
            "display": null,
            "left": null
          }
        },
        "79afd934bad74db984dbf29190627416": {
          "model_module": "@jupyter-widgets/controls",
          "model_name": "VBoxModel",
          "state": {
            "_view_name": "VBoxView",
            "_dom_classes": [
              "widget-interact"
            ],
            "_model_name": "VBoxModel",
            "_view_module": "@jupyter-widgets/controls",
            "_model_module_version": "1.5.0",
            "_view_count": null,
            "_view_module_version": "1.5.0",
            "box_style": "",
            "layout": "IPY_MODEL_1b1ef49a71544783a0e5003fc0768a7a",
            "_model_module": "@jupyter-widgets/controls",
            "children": [
              "IPY_MODEL_4b42ed6fe63942e8b9564b75991f178c",
              "IPY_MODEL_0a1c2574dab64435ab8d621fca34f18d",
              "IPY_MODEL_08d3dab7e3a1467da814b236d254ddbd"
            ]
          }
        },
        "1b1ef49a71544783a0e5003fc0768a7a": {
          "model_module": "@jupyter-widgets/base",
          "model_name": "LayoutModel",
          "state": {
            "_view_name": "LayoutView",
            "grid_template_rows": null,
            "right": null,
            "justify_content": null,
            "_view_module": "@jupyter-widgets/base",
            "overflow": null,
            "_model_module_version": "1.2.0",
            "_view_count": null,
            "flex_flow": null,
            "width": null,
            "min_width": null,
            "border": null,
            "align_items": null,
            "bottom": null,
            "_model_module": "@jupyter-widgets/base",
            "top": null,
            "grid_column": null,
            "overflow_y": null,
            "overflow_x": null,
            "grid_auto_flow": null,
            "grid_area": null,
            "grid_template_columns": null,
            "flex": null,
            "_model_name": "LayoutModel",
            "justify_items": null,
            "grid_row": null,
            "max_height": null,
            "align_content": null,
            "visibility": null,
            "align_self": null,
            "height": null,
            "min_height": null,
            "padding": null,
            "grid_auto_rows": null,
            "grid_gap": null,
            "max_width": null,
            "order": null,
            "_view_module_version": "1.2.0",
            "grid_template_areas": null,
            "object_position": null,
            "object_fit": null,
            "grid_auto_columns": null,
            "margin": null,
            "display": null,
            "left": null
          }
        },
        "4b42ed6fe63942e8b9564b75991f178c": {
          "model_module": "@jupyter-widgets/controls",
          "model_name": "IntSliderModel",
          "state": {
            "_view_name": "IntSliderView",
            "style": "IPY_MODEL_d59022717e00403b934ed385eb0f316a",
            "_dom_classes": [],
            "description": "max_depth",
            "step": 1,
            "_model_name": "IntSliderModel",
            "orientation": "horizontal",
            "max": 6,
            "_view_module": "@jupyter-widgets/controls",
            "_model_module_version": "1.5.0",
            "value": 1,
            "_view_count": null,
            "disabled": false,
            "_view_module_version": "1.5.0",
            "min": 1,
            "continuous_update": true,
            "readout_format": "d",
            "description_tooltip": null,
            "readout": true,
            "_model_module": "@jupyter-widgets/controls",
            "layout": "IPY_MODEL_cec76b8247c34ebb86aa1fdef86ef3e4"
          }
        },
        "0a1c2574dab64435ab8d621fca34f18d": {
          "model_module": "@jupyter-widgets/controls",
          "model_name": "IntSliderModel",
          "state": {
            "_view_name": "IntSliderView",
            "style": "IPY_MODEL_7a2960dac4bb4e2eacfcd0477ebeb9bf",
            "_dom_classes": [],
            "description": "n_estimators",
            "step": 1,
            "_model_name": "IntSliderModel",
            "orientation": "horizontal",
            "max": 5,
            "_view_module": "@jupyter-widgets/controls",
            "_model_module_version": "1.5.0",
            "value": 2,
            "_view_count": null,
            "disabled": false,
            "_view_module_version": "1.5.0",
            "min": 2,
            "continuous_update": true,
            "readout_format": "d",
            "description_tooltip": null,
            "readout": true,
            "_model_module": "@jupyter-widgets/controls",
            "layout": "IPY_MODEL_6848255b435a46c58f0b1e4c1bf5cce5"
          }
        },
        "08d3dab7e3a1467da814b236d254ddbd": {
          "model_module": "@jupyter-widgets/output",
          "model_name": "OutputModel",
          "state": {
            "_view_name": "OutputView",
            "msg_id": "",
            "_dom_classes": [],
            "_model_name": "OutputModel",
            "outputs": [
              {
                "output_type": "display_data",
                "metadata": {
                  "tags": [],
                  "needs_background": "light"
                },
                "image/png": "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\n",
                "text/plain": "<Figure size 432x288 with 1 Axes>"
              },
              {
                "output_type": "display_data",
                "metadata": {
                  "tags": [],
                  "needs_background": "light"
                },
                "image/png": "iVBORw0KGgoAAAANSUhEUgAAAYIAAAEWCAYAAABrDZDcAAAABHNCSVQICAgIfAhkiAAAAAlwSFlzAAALEgAACxIB0t1+/AAAADh0RVh0U29mdHdhcmUAbWF0cGxvdGxpYiB2ZXJzaW9uMy4yLjIsIGh0dHA6Ly9tYXRwbG90bGliLm9yZy+WH4yJAAAe+klEQVR4nO3df5xVdb3v8dd7AIECAwcuFQNKQnUskWyOSqZ5T2noOYIn+qHloR8mdR/RtdMPxeyQh9N5nMKT9/aDfphZ4e0cMrkpGfkjq2uW9mA0GANDRzBnSBEnCDgCDs3n/rHW2GbcM7PAvfbeM+v9fDzmwV7f9d1rf2az2W/Wr+9XEYGZmRVXQ60LMDOz2nIQmJkVnIPAzKzgHARmZgXnIDAzKzgHgZlZwTkIzMwKzkFghSdpT8lPt6S9Jcvvyuk1R0r6pqTfS9otaZ2ks/N4LbOBDK91AWa1FhFjeh5LehR4f0T8pHc/ScMj4kCFXnY40A68AXgMOAe4QdLxEfFohV7DLBPvEZj1QdIZkjokXSbpCeBbkhokLZb0iKROSTdIOqrkOadI+pWknZLWSzqj3LYj4r8i4sqIeDQiuiPiFmAL8Nrq/HZmf+EgMOvfi4GjgKOBhcCHgfNI/if/UmAHsBxA0mTgR8Bn0ud8HFglaeJALyJpEvByYEPlfwWz/jkIzPrXDXw6IvZHxF7gg8AVEdEREfuBK4G3ShoOXAisiYg16f/y7wBaSA779EnSCOC7wHci4nd5/jJm5fgcgVn/tkfEvpLlo4EfSOouafszMCld9zZJ55asGwH8rK+NS2oArgeeARZVrGqzQ+AgMOtf7+F524H3RcQve3eU1A5cHxEXZ9mwJAHfJAmRcyKi6/kWa3Y4fGjI7NB8DfhXSUcDSJooaV667v8A50p6s6RhkkalJ5yb+tjWV4G/As5NDzuZ1YSDwOzQfAFYDdwuaTdwL3AyQES0A/OATwLbSfYePkGZf2dpkHwAmAU8kfd9C2b9kSemMTMrNu8RmJkVnIPAzKzgHARmZgXnIDAzK7hBdx/BhAkT4phjjql1GWZmg8p99933VESUHe5k0AXBMcccQ0tLS63LMDMbVCT9vq91PjRkZlZwDgIzs4JzEJiZFZyDwMys4BwEZmYFV5gg6Nyzn/XtO+ncs7/WpZiZ1ZVBd/no4bh53VYuW9XKiIYGurq7WTZ/JnNnTa51WWZmdWHI7xF07tnPZata2dfVze79B9jX1c2lq1q9Z2BmlhryQdCxYy8jGg7+NUc0NNCxw/OAmJlBAYKgafxourq7D2rr6u6mafzoGlVkZlZfhnwQNI4ZybL5Mxk1ooGxI4czakQDy+bPpHHMyFqXZmZWFwpxsnjurMmcOn0CHTv20jR+tEPAzKxEIYIAkj0DB4CZ2XPlemhI0hxJmyS1SVpcZv3Rku6U1Crp55Ka8qzHzMyeK7cgkDQMWA6cDRwHXCDpuF7d/h1YEREzgaXAv+VVj5mZlZfnHsFJQFtEbI6IZ4CVwLxefY4Dfpo+/lmZ9WZmlrM8g2Ay0F6y3JG2lVoPvCV9/PfAWEmNOdZkZma91Pry0Y8Db5D0G+ANwFbgz707SVooqUVSy/bt26tdo5nZkJZnEGwFppQsN6Vtz4qIP0TEWyLiNcAVadvO3huKiGsiojkimidOLDvlppmZHaY8g2AtMEPSNElHAOcDq0s7SJogqaeGy4HrcqzHzMzKyC0IIuIAsAi4DXgQuCEiNkhaKmlu2u0MYJOkh4BJwL/mVY+ZmZWniKh1DYekubk5Wlpaal2GmdmgIum+iGgut67WJ4vNzKzGHARmZgXnIDAzKzgHgZlZwTkIzMwKzkFgZlZwDgIzs4JzEJiZFZyDwMys4BwEZmYF5yAwMys4B4GZWcE5CMzMCs5BYGZWcA4CM7OCcxCYmRWcg8DMrOByDQJJcyRtktQmaXGZ9VMl/UzSbyS1Sjonz3rMzOy5cgsCScOA5cDZwHHABZKO69XtUyRzGb+GZHL7r+RVj5mZlZfnHsFJQFtEbI6IZ4CVwLxefQI4Mn38IuAPOdZjZmZl5BkEk4H2kuWOtK3UlcCFkjqANcCHy21I0kJJLZJatm/fnketZmaFVeuTxRcA346IJuAc4HpJz6kpIq6JiOaIaJ44cWLVizQzG8ryDIKtwJSS5aa0rdRFwA0AEXEPMAqYkGNNZmbWS55BsBaYIWmapCNITgav7tXnMeCNAJL+iiQIfOzHzKyKcguCiDgALAJuAx4kuTpog6Slkuam3T4GXCxpPfCfwHsiIvKqyczMnmt4nhuPiDUkJ4FL25aUPN4InJpnDWZm1r9anyw2M7MacxCYmRWcg8DMrOAcBGZmBecgMDMrOAeBmVnBOQjMzArOQWBmVnAOAjOzgnMQmJkVnIPAzKzgHARmZgXnIDAzKzgHgZlZwTkIzMwKzkFgZlZwuQaBpDmSNklqk7S4zPr/JWld+vOQpJ151mNmZs+V2wxlkoYBy4EzgQ5graTV6axkAETEP5b0/zDwmrzqMTOz8vLcIzgJaIuIzRHxDLASmNdP/wtI5i02M7MqyjMIJgPtJcsdadtzSDoamAb8NMd6zMysjHo5WXw+cGNE/LncSkkLJbVIatm+fXuVSzMzG9ryDIKtwJSS5aa0rZzz6eewUERcExHNEdE8ceLECpZoZmZ5BsFaYIakaZKOIPmyX927k6RXAuOBe3KsxczM+pBbEETEAWARcBvwIHBDRGyQtFTS3JKu5wMrIyLyqsXMzPo24OWjki4BvgXsBq4lucRzcUTcPtBzI2INsKZX25Jey1ceQr1mZlZhWfYI3hcRu4CzSA7h/APw2VyrMjOzqskSBEr/PAe4PiI2lLSZmdkglyUI7pN0O0kQ3CZpLNCdb1lmZlYtWYaYuAiYBWyOiKclHQW8N9+yzMysWrLsEcwGNkXETkkXAp8C/pRvWWZmVi1ZguCrwNOSTgA+BjwCrMi1KjMzq5osQXAgvcZ/HvDliFgOjM23LDMzq5Ys5wh2S7qc5LLR0yQ1ACPyLcvMzKolyx7BO4D9JPcTPEEyZtBVuVZlZmZVM2AQpF/+q4CRadNTwA/yLMrMzKpnwCCQdDFwI/D1tGkycFOeRZmZWfVkOTT0IeBUYBdARDwM/Lc8izIzs+rJcrJ4f0Q8IyWjSkgaDgy6kUL/+Ycb2PiHXbUuw8qYN2sy7zx5aq3LMCusLHsE/0/SJ4HRks4Evg/8MN+yrCg2Pr6Lm9f1NV+RmVVDlj2CxSTDTDwAfIBkWOlr8ywqD58+91W1LsHKeMfXPR+RWa1lCYLRwHUR8Q0AScPStqfzLMzMzKojy6GhO0m++HuMBn6STzlmZlZtWYJgVETs6VlIH78gy8YlzZG0SVKbpMV99Hm7pI2SNkj6j2xlm5lZpWQ5NPRfkk6MiPsBJL0W2DvQk9JDSMuBM4EOYK2k1RGxsaTPDOBy4NSI2CHJl6WamVVZliD4CPB9SX8gmZnsxSTDTgzkJKAtIjYDSFpJMnDdxpI+FwPLI2IHQEQ8eQi1m5lZBQwYBBGxVtIrgVekTZsioivDticD7SXLHcDJvfq8HEDSL4FhwJURcWvvDUlaCCwEmDrV15t37tlPx469NI0fTeOYkQM/wcysHwMGgaQPAd+NiN+my+MlXRARX6nQ688AziAZzO4uScdHxM7SThFxDXANQHNz86C7ma2Sbl63lctWtTKioYGu7m6WzZ/J3FmTa12WmQ1iWU4WX1z6xZwexrk4w/O2AlNKlpvStlIdwOqI6IqILcBDJMFgZXTu2c9lq1rZ19XN7v0H2NfVzaWrWuncs7/WpZnZIJYlCIapZ3wJnj0JfESG560FZkiaJukI4Hxgda8+N5HsDSBpAsmhos0Ztl1IHTv2MqLh4L+yEQ0NdOwY8Ny9mVmfspwsvhX4nqSe0Uc/kLb1KyIOSFoE3EZy/P+6iNggaSnQEhGr03VnSdoI/Bn4RER0Hs4vUgRN40fT1d19UFtXdzdN40f38Qwzs4FlCYLLSL78/0e6fAcZh5iIiDUkQ1KUti0peRzAR9MfG0DjmJEsmz+TS3udI/AJYzN7PrJcNdRNMoH9V/MvxwYyd9ZkTp0+wVcNmVnFZLlqaAtlhp2OiJflUpENqHHMSAeAmVVMlkNDzSWPRwFvA47KpxwzM6u2LHMWd5b8bI2I/w38bRVqMzOzKshyaOjEksUGkj2ELHsSVsd8d7KZ9cjyhf75kscHgEeBt+dSjVWF7042s1JZrhr679UoxKqj9O7kfST3JFy6qpVTp0/wnoFZQQ14jkDSJZKOVOJaSfdLOqsaxVnl+e5kM+styxAT74uIXcBZQCPwD8Bnc63KcuO7k82styxB0DPO0DnAiojYUNJmg0zP3cmjRjQwduRwRo1oOOy7k9u27ebGlnbatu3OoVIzq5YsJ4vvk3Q7MA24XNJYoHuA51gdq8TdyUtueoAV9z727PKC2VNZOu/4SpZpZlWSZY/gImAx8NcR8TTJyKPvzbUqy13jmJGcMGXcYe8JlIYAwIp7HvOegdkgleWGsu6IuL9nToL0xrLW/EuzerWufechtZtZfcuyR2B2kFlTxh1Su5nVtz6DQNK0ahZig8f0SWNZMPvguaMXzJ7K9Elja1SRmT0f/Z0svhF4raQ7I+KN1SrIBoel845nwSnHsK59J7OmjHMImA1i/QVBg6RPAi+X9JyJYyLi6oE2LmkO8AWSGcqujYjP9lr/HuAq/jKX8ZcjItOkN1Z70yeNdQCYDQH9BcH5wHlpn0P+157ObbwcOJNkkvq1klZHxMZeXb8XEYsOdftmZlYZfQZBRGwCPiepNSJ+fBjbPgloi4jNAJJWAvOA3kFgZmY1lOWqoV9JulpSS/rzeUkvyvC8yUB7yXJH2tbbfEmtkm6UNCVL0WZmVjlZguA6YDfJ0NNvB3YB36rQ6/8QOCYiZgJ3AN8p10nSwp4g2r59e4Ve2szMIFsQHBsRn46IzenPPwNZ5iveCpT+D7+Jv5wUBp69OW1/ungt8NpyG4qIayKiOSKaJ06cmOGlzcwsqyxBsFfS63sWJJ0KZBmzeC0wQ9I0SUeQnHxeXdpB0ktKFucCD2bYrpmZVVCWQec+CKwoOS+wA3j3QE+KiAOSFgG3kVw+el1EbJC0FGiJiNXA/5Q0l2Tmsz8C7zmM38HMzJ6HLDOUrQdOkHRkurwr68YjYg2wplfbkpLHlwOXZ67WzMwqLvMk9IcSAGZmNnh40Dkzs4JzEJiZFVyWyetfIOmfJH0jXZ4h6e/yL83MzKohyx7Bt4D9wOx0eSvwmdwqMjOzqsp6Q9kyoAsgna7Sk9ebmQ0RWYLgGUmjgQCQdCzJHoKZmQ0BWS4fvRK4FZgi6bvAqXjyejOzISPLDWW3S7oPOIXkkNAlEfFU7pWZmVlVZLlq6M50cLgfRcQtEfGUpDurUZyZmeWvzz0CSaOAFwATJI3nLyeIj6T8vAJmZjYI9Xdo6APAR4CXAvfxlyDYBXw557rMzKxK+puq8gvAFyR9OCK+VMWazMysirKcLP6SpFcDxwGjStpX5FmYmZlVx4BBIOnTwBkkQbAGOBu4G3AQmJkNAVluKHsr8EbgiYh4L3ACkGXyejMzGwQyTVUZEd3AgXRymic5eC5iMzMbxLIEQYukccA3SK4euh+4J8vGJc2RtElSm6TF/fSbLykkNWeq2szMKqbfcwSSBPxbROwEvibpVuDIiGgdaMOShgHLgTOBDmCtpNURsbFXv7HAJcCvD/N3MDOz56HfPYKICErmHI6IR7OEQOokoC0iNkfEM8BKYF6Zfv8CfA7Yl3G7ZmZWQVkODd0v6a8PY9uTgfaS5Q563ZEs6URgSkT8qL8NSVooqUVSy/bt2w+jFDMz60uWIDgZuEfSI5JaJT0gKeteQZ8kNQBXAx8bqG9EXBMRzRHRPHHixOf70mZmViLLMNRvPsxtb+Xgq4ua0rYeY4FXAz9PTkXwYmC1pLkR0XKYr2lmZocoy53Fvz/Mba8FZkiaRhIA5wPvLNnun4AJPcuSfg583CFgZlZdWQ4NHZaIOAAsAm4DHgRuiIgNkpZKmpvX65qZ2aHJcmjosEXEGkquOkrblvTR94w8azEzs/Jy2yMwM7PBwUFgZlZwDgIzs4JzEJiZFZyDwMys4BwEZmYF5yAwMys4B4GZWcE5CMzMCs5BYGZWcA4CM7OCcxCYmRWcg8AGvc49+1nfvpPOPftrVkPbtt3c2NJO27bdNavB7HDlOvqoWd5uXreVy1a1MqKhga7ubpbNn8ncWZMHfmIFLbnpAVbc+9izywtmT2XpvOOrWoPZ8+E9Ahu0Ovfs57JVrezr6mb3/gPs6+rm0lWtVd0zaNu2+6AQAFhxz2ODes+gZUsnV9++iZYtnbUuxarEewQ2aHXs2MuIhgb20f1s24iGBjp27KVxzMiq1LCufWef7dMnja1KDZV04bX3cndbEgBf/Gkbp01v5Pr3n1Ljqixv3iOwQatp/Gi6ursPauvq7qZp/Oiq1TBryrhDaq9nLVs6nw2BHr9o6/SeQQHkGgSS5kjaJKlN0uIy6z8o6QFJ6yTdLem4POuxoaVxzEiWzZ/JqBENjB05nFEjGlg2f2bV9gYApk8ay4LZUw9qWzB76qDcG7jr4acOqd2GjtwODUkaBiwHzgQ6gLWSVkfExpJu/xERX0v7zwWuBubkVZMNPXNnTebU6RPo2LGXpvGjqxoCPZbOO54FpxzDuvadzJoyblCGAMDpMybwxZ+2lW23oS3PcwQnAW0RsRlA0kpgHvBsEETErpL+LwQix3psiGocM7ImAVBq+qSxgzYAejRPa+S06Y38ouTw0GnTG2me1ljDqqwa8gyCyUB7yXIHcHLvTpI+BHwUOAL4m3IbkrQQWAgwderUcl3MrAKuf/8ptGzp5K6Hn+L0GRMcAgVR85PFEbE8Io4FLgM+1UefayKiOSKaJ06cWN0CzQqmeVojHz3rFQ6BAskzCLYCU0qWm9K2vqwEzsuxHjMzKyPPIFgLzJA0TdIRwPnA6tIOkmaULP4t8HCO9ZiZWRm5nSOIiAOSFgG3AcOA6yJig6SlQEtErAYWSXoT0AXsAN6dVz1mZlZerncWR8QaYE2vtiUljy/J8/XNzGxgNT9ZbGZmteUgMDMrOAeBWZ2oh3kVrJg8+qhZHaiHeRWsuLxHYFZj9TCvghWbg8CsxnrmVSjVM6+CWTU4CMxqrB7mVbBicxCY1Vg9zKtgxeaTxWZ1oB7mVbDichCY1Yl6mFfBislBYDW38fFdvOPr99S6DLO6d9xLj+TT576q4tt1EFhNzfO18mY15yCwmnrnyVN558medc6slnzVkJlZwTkIzMwKzkFgZlZwuQaBpDmSNklqk7S4zPqPStooqVXSnZKOzrMeMzN7rtyCQNIwYDlwNnAccIGk43p1+w3QHBEzgRuBZXnVY2Zm5eW5R3AS0BYRmyPiGWAlMK+0Q0T8LCKeThfvBZpyrMfMzMrIMwgmA+0lyx1pW18uAn5cboWkhZJaJLVs3769giWamVldnCyWdCHQDFxVbn1EXBMRzRHRPHHixOoWZ2Y2xOV5Q9lWYErJclPadhBJbwKuAN4QEZ6Jw8ysyvLcI1gLzJA0TdIRwPnA6tIOkl4DfB2YGxFP5liLmZn1IbcgiIgDwCLgNuBB4IaI2CBpqaS5abergDHA9yWtk7S6j82ZmdVE5579rG/fOaSnDs11rKGIWAOs6dW2pOTxm/J8fTOrjc49+4fE3Ao3r9vKZataGdHQQFd3N8vmz2TuEBwo0YPOmVlFDZUvz849+7lsVSv7urrZRzKV6KWrWjl1+oRBHW7l1MVVQ2Y2NJR+ee7ef4B9Xd1cuqp1UB5W6dixlxENB39FjmhooGPH3hpVlB8HgZlVTL19ebZs6eTq2zfRsqXzkJ/bNH40Xd3dB7V1dXfTNH50pco7JG3bdnNjSztt23ZXfNs+NGRmFVNPX54XXnsvd7clAfDFn7Zx2vRGrn//KZmf3zhmJMvmz+TSXoe5anFYaMlND7Di3seeXV4weypL5x1fse07CMysYurly7NlS+ezIdDjF22dtGzppHlaY+btzJ01mVOnT6jpie+2bbsPCgGAFfc8xoJTjmH6pLEVeQ0HgZlVVD18ed718FN9th9KEEASbrU8ObyufWef7ZUKAp8jMLOKaxwzkhOmjKvZF+jpMyYcUns9mzVl3CG1Hw4HgZkNOc3TGjlt+sH/8z9teuMh7w3Ug+mTxrJg9sHzei+YPbViewMAioiKbawampubo6WlpdZlmNkg0LKlk7seforTZ0wYlCFQqm3bbta172TWlHGHFQKS7ouI5nLrfI7AzIas5mmDcy+gnOmTxlZ0L6CUDw2ZmRWcg8DMrOAcBGZmBecgMDMrOAeBmVnBDbrLRyVtB36f40tMAMrfllhfXGflDZZaXWdlDZY64fnVenRElJ30fdAFQd4ktfR1rW09cZ2VN1hqdZ2VNVjqhPxq9aEhM7OCcxCYmRWcg+C5rql1ARm5zsobLLW6zsoaLHVCTrX6HIGZWcF5j8DMrOAcBGZmBVe4IJA0RdLPJG2UtEHSJWX6nCHpT5LWpT9LalFrWsujkh5I63jO+NtKfFFSm6RWSSfWoMZXlLxX6yTtkvSRXn1q9p5Kuk7Sk5J+W9J2lKQ7JD2c/jm+j+e+O+3zsKR316DOqyT9Lv27/YGksrORDPQ5qUKdV0raWvL3e04fz50jaVP6eV1cgzq/V1Ljo5LW9fHcar6fZb+TqvoZjYhC/QAvAU5MH48FHgKO69XnDOCWWtea1vIoMKGf9ecAPwYEnAL8usb1DgOeILl5pS7eU+B04ETgtyVty4DF6ePFwOfKPO8oYHP65/j08fgq13kWMDx9/LlydWb5nFShziuBj2f4bDwCvAw4Aljf+99e3nX2Wv95YEkdvJ9lv5Oq+Rkt3B5BRDweEfenj3cDDwKTa1vV8zIPWBGJe4Fxkl5Sw3reCDwSEXne/X1IIuIu4I+9mucB30kffwc4r8xT3wzcERF/jIgdwB3AnGrWGRG3R8SBdPFeoCmv18+qj/czi5OAtojYHBHPACtJ/h5y0V+dkgS8HfjPvF4/q36+k6r2GS1cEJSSdAzwGuDXZVbPlrRe0o8lvaqqhR0sgNsl3SdpYZn1k4H2kuUOahts59P3P656eU8BJkXE4+njJ4BJZfrU23v7PpK9v3IG+pxUw6L0ENZ1fRzGqKf38zRgW0Q83Mf6mryfvb6TqvYZLWwQSBoDrAI+EhG7eq2+n+TQxgnAl4Cbql1fiddHxInA2cCHJJ1ew1r6JekIYC7w/TKr6+k9PUgk+9h1fR21pCuAA8B3++hS68/JV4FjgVnA4ySHXerZBfS/N1D197O/76S8P6OFDAJJI0je8O9GxP/tvT4idkXEnvTxGmCEpAlVLrOnlq3pn08CPyDZvS61FZhSstyUttXC2cD9EbGt94p6ek9T23oOoaV/PlmmT128t5LeA/wd8K70C+E5MnxOchUR2yLizxHRDXyjj9evl/dzOPAW4Ht99an2+9nHd1LVPqOFC4L02OA3gQcj4uo++rw47Yekk0jep87qVflsHS+UNLbnMcmJw9/26rYaWJBePXQK8KeS3clq6/N/WfXynpZYDfRcYfFu4OYyfW4DzpI0Pj3UcVbaVjWS5gCXAnMj4uk++mT5nOSq13mpv+/j9dcCMyRNS/cezyf5e6i2NwG/i4iOciur/X72851Uvc9oNc6K19MP8HqSXaxWYF36cw7wQeCDaZ9FwAaSqxruBV5Xo1pfltawPq3nirS9tFYBy0muxngAaK5RrS8k+WJ/UUlbXbynJOH0ONBFcgz1IqARuBN4GPgJcFTatxm4tuS57wPa0p/31qDONpJjwD2f1a+lfV8KrOnvc1LlOq9PP3+tJF9gL+ldZ7p8DslVMY/Uos60/ds9n8uSvrV8P/v6TqraZ9RDTJiZFVzhDg2ZmdnBHARmZgXnIDAzKzgHgZlZwTkIzMwKbnitCzCrF5KuBPYARwJ3RcRP+uh3HvBQRGysYnlmufEegVkvEbGkrxBInUcyOqTZkOAgsEKTdIWkhyTdDbwibfu2pLemjz+bjhPfKunfJb2OZDylq9Kx6o+VdLGktemAeqskvaBkO1+U9CtJm3u2ma67LB3vfr2kz6Ztx0q6NR3o7BeSXln1N8QKyYeGrLAkvZZkmINZJP8W7gfuK1nfSDJcwisjIiSNi4idklaTzK1wY9pvZ0R8I338GZI7bb+UbuYlJHeOvpLkjtsbJZ1NMsTwyRHxtKSj0r7XkNzx+rCkk4GvAH+T41tgBjgIrNhOA34Q6Rg+6Rd8qT8B+4BvSroFuKWP7bw6DYBxwBgOHuvlpkgGYtsoqWcY4TcB3+p53Yj4Yzry5OuA76dDMgGMfF6/nVlGDgKzPkTEgXSAvDcCbyUZL6nc/9C/DZwXEevTkULPKFm3v+Sx6FsDsDMiZj2fms0Oh88RWJHdBZwnaXQ62uS5pSvT/6W/KJJhs/8ROCFdtZtkSsEeY4HH06GE35Xhde8A3ltyLuGoSMaf3yLpbWmbJJ3Q30bMKsVBYIUVyfSA3yMZZfLHJMMklxoL3CKpFbgb+GjavhL4hKTfSDoW+CeSGaV+Cfwuw+veSnK+oEXJ5OkfT1e9C7hIUs+ol7lN42hWyqOPmpkVnPcIzMwKzkFgZlZwDgIzs4JzEJiZFZyDwMys4BwEZmYF5yAwMyu4/w/h5Awa94/Z4AAAAABJRU5ErkJggg==\n",
                "text/plain": "<Figure size 432x288 with 1 Axes>"
              },
              {
                "output_type": "display_data",
                "metadata": {
                  "tags": [],
                  "needs_background": "light"
                },
                "image/png": "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\n",
                "text/plain": "<Figure size 432x288 with 1 Axes>"
              }
            ],
            "_view_module": "@jupyter-widgets/output",
            "_model_module_version": "1.0.0",
            "_view_count": null,
            "_view_module_version": "1.0.0",
            "layout": "IPY_MODEL_d713243100b34f5a8a4879ae8a5ecdf8",
            "_model_module": "@jupyter-widgets/output"
          }
        },
        "d59022717e00403b934ed385eb0f316a": {
          "model_module": "@jupyter-widgets/controls",
          "model_name": "SliderStyleModel",
          "state": {
            "_view_name": "StyleView",
            "handle_color": null,
            "_model_name": "SliderStyleModel",
            "description_width": "",
            "_view_module": "@jupyter-widgets/base",
            "_model_module_version": "1.5.0",
            "_view_count": null,
            "_view_module_version": "1.2.0",
            "_model_module": "@jupyter-widgets/controls"
          }
        },
        "cec76b8247c34ebb86aa1fdef86ef3e4": {
          "model_module": "@jupyter-widgets/base",
          "model_name": "LayoutModel",
          "state": {
            "_view_name": "LayoutView",
            "grid_template_rows": null,
            "right": null,
            "justify_content": null,
            "_view_module": "@jupyter-widgets/base",
            "overflow": null,
            "_model_module_version": "1.2.0",
            "_view_count": null,
            "flex_flow": null,
            "width": null,
            "min_width": null,
            "border": null,
            "align_items": null,
            "bottom": null,
            "_model_module": "@jupyter-widgets/base",
            "top": null,
            "grid_column": null,
            "overflow_y": null,
            "overflow_x": null,
            "grid_auto_flow": null,
            "grid_area": null,
            "grid_template_columns": null,
            "flex": null,
            "_model_name": "LayoutModel",
            "justify_items": null,
            "grid_row": null,
            "max_height": null,
            "align_content": null,
            "visibility": null,
            "align_self": null,
            "height": null,
            "min_height": null,
            "padding": null,
            "grid_auto_rows": null,
            "grid_gap": null,
            "max_width": null,
            "order": null,
            "_view_module_version": "1.2.0",
            "grid_template_areas": null,
            "object_position": null,
            "object_fit": null,
            "grid_auto_columns": null,
            "margin": null,
            "display": null,
            "left": null
          }
        },
        "7a2960dac4bb4e2eacfcd0477ebeb9bf": {
          "model_module": "@jupyter-widgets/controls",
          "model_name": "SliderStyleModel",
          "state": {
            "_view_name": "StyleView",
            "handle_color": null,
            "_model_name": "SliderStyleModel",
            "description_width": "",
            "_view_module": "@jupyter-widgets/base",
            "_model_module_version": "1.5.0",
            "_view_count": null,
            "_view_module_version": "1.2.0",
            "_model_module": "@jupyter-widgets/controls"
          }
        },
        "6848255b435a46c58f0b1e4c1bf5cce5": {
          "model_module": "@jupyter-widgets/base",
          "model_name": "LayoutModel",
          "state": {
            "_view_name": "LayoutView",
            "grid_template_rows": null,
            "right": null,
            "justify_content": null,
            "_view_module": "@jupyter-widgets/base",
            "overflow": null,
            "_model_module_version": "1.2.0",
            "_view_count": null,
            "flex_flow": null,
            "width": null,
            "min_width": null,
            "border": null,
            "align_items": null,
            "bottom": null,
            "_model_module": "@jupyter-widgets/base",
            "top": null,
            "grid_column": null,
            "overflow_y": null,
            "overflow_x": null,
            "grid_auto_flow": null,
            "grid_area": null,
            "grid_template_columns": null,
            "flex": null,
            "_model_name": "LayoutModel",
            "justify_items": null,
            "grid_row": null,
            "max_height": null,
            "align_content": null,
            "visibility": null,
            "align_self": null,
            "height": null,
            "min_height": null,
            "padding": null,
            "grid_auto_rows": null,
            "grid_gap": null,
            "max_width": null,
            "order": null,
            "_view_module_version": "1.2.0",
            "grid_template_areas": null,
            "object_position": null,
            "object_fit": null,
            "grid_auto_columns": null,
            "margin": null,
            "display": null,
            "left": null
          }
        },
        "d713243100b34f5a8a4879ae8a5ecdf8": {
          "model_module": "@jupyter-widgets/base",
          "model_name": "LayoutModel",
          "state": {
            "_view_name": "LayoutView",
            "grid_template_rows": null,
            "right": null,
            "justify_content": null,
            "_view_module": "@jupyter-widgets/base",
            "overflow": null,
            "_model_module_version": "1.2.0",
            "_view_count": null,
            "flex_flow": null,
            "width": null,
            "min_width": null,
            "border": null,
            "align_items": null,
            "bottom": null,
            "_model_module": "@jupyter-widgets/base",
            "top": null,
            "grid_column": null,
            "overflow_y": null,
            "overflow_x": null,
            "grid_auto_flow": null,
            "grid_area": null,
            "grid_template_columns": null,
            "flex": null,
            "_model_name": "LayoutModel",
            "justify_items": null,
            "grid_row": null,
            "max_height": null,
            "align_content": null,
            "visibility": null,
            "align_self": null,
            "height": null,
            "min_height": null,
            "padding": null,
            "grid_auto_rows": null,
            "grid_gap": null,
            "max_width": null,
            "order": null,
            "_view_module_version": "1.2.0",
            "grid_template_areas": null,
            "object_position": null,
            "object_fit": null,
            "grid_auto_columns": null,
            "margin": null,
            "display": null,
            "left": null
          }
        },
        "c9d0a170675649e5bdc74e17467bca8b": {
          "model_module": "@jupyter-widgets/controls",
          "model_name": "VBoxModel",
          "state": {
            "_view_name": "VBoxView",
            "_dom_classes": [
              "widget-interact"
            ],
            "_model_name": "VBoxModel",
            "_view_module": "@jupyter-widgets/controls",
            "_model_module_version": "1.5.0",
            "_view_count": null,
            "_view_module_version": "1.5.0",
            "box_style": "",
            "layout": "IPY_MODEL_d31023c9c29a40488d7585935caab8b7",
            "_model_module": "@jupyter-widgets/controls",
            "children": [
              "IPY_MODEL_35821cea12cc4eecb5e84eae18e25ea9",
              "IPY_MODEL_ecb6b5b1d29646be9262ac100e1380ea",
              "IPY_MODEL_530dbaeef54847eaa4d894c2ded20eb9"
            ]
          }
        },
        "d31023c9c29a40488d7585935caab8b7": {
          "model_module": "@jupyter-widgets/base",
          "model_name": "LayoutModel",
          "state": {
            "_view_name": "LayoutView",
            "grid_template_rows": null,
            "right": null,
            "justify_content": null,
            "_view_module": "@jupyter-widgets/base",
            "overflow": null,
            "_model_module_version": "1.2.0",
            "_view_count": null,
            "flex_flow": null,
            "width": null,
            "min_width": null,
            "border": null,
            "align_items": null,
            "bottom": null,
            "_model_module": "@jupyter-widgets/base",
            "top": null,
            "grid_column": null,
            "overflow_y": null,
            "overflow_x": null,
            "grid_auto_flow": null,
            "grid_area": null,
            "grid_template_columns": null,
            "flex": null,
            "_model_name": "LayoutModel",
            "justify_items": null,
            "grid_row": null,
            "max_height": null,
            "align_content": null,
            "visibility": null,
            "align_self": null,
            "height": null,
            "min_height": null,
            "padding": null,
            "grid_auto_rows": null,
            "grid_gap": null,
            "max_width": null,
            "order": null,
            "_view_module_version": "1.2.0",
            "grid_template_areas": null,
            "object_position": null,
            "object_fit": null,
            "grid_auto_columns": null,
            "margin": null,
            "display": null,
            "left": null
          }
        },
        "35821cea12cc4eecb5e84eae18e25ea9": {
          "model_module": "@jupyter-widgets/controls",
          "model_name": "IntSliderModel",
          "state": {
            "_view_name": "IntSliderView",
            "style": "IPY_MODEL_c0a41981076849c9b7696cb16585d331",
            "_dom_classes": [],
            "description": "max_depth",
            "step": 1,
            "_model_name": "IntSliderModel",
            "orientation": "horizontal",
            "max": 6,
            "_view_module": "@jupyter-widgets/controls",
            "_model_module_version": "1.5.0",
            "value": 5,
            "_view_count": null,
            "disabled": false,
            "_view_module_version": "1.5.0",
            "min": 1,
            "continuous_update": true,
            "readout_format": "d",
            "description_tooltip": null,
            "readout": true,
            "_model_module": "@jupyter-widgets/controls",
            "layout": "IPY_MODEL_f2cb81e200e74cccb596cbb48d328b1a"
          }
        },
        "ecb6b5b1d29646be9262ac100e1380ea": {
          "model_module": "@jupyter-widgets/controls",
          "model_name": "IntSliderModel",
          "state": {
            "_view_name": "IntSliderView",
            "style": "IPY_MODEL_51766a28ca7942508a6aee94a3fd8ca4",
            "_dom_classes": [],
            "description": "n_estimators",
            "step": 10,
            "_model_name": "IntSliderModel",
            "orientation": "horizontal",
            "max": 40,
            "_view_module": "@jupyter-widgets/controls",
            "_model_module_version": "1.5.0",
            "value": 30,
            "_view_count": null,
            "disabled": false,
            "_view_module_version": "1.5.0",
            "min": 10,
            "continuous_update": true,
            "readout_format": "d",
            "description_tooltip": null,
            "readout": true,
            "_model_module": "@jupyter-widgets/controls",
            "layout": "IPY_MODEL_d26fa7f106c3454f9f1689bb8cebbac6"
          }
        },
        "530dbaeef54847eaa4d894c2ded20eb9": {
          "model_module": "@jupyter-widgets/output",
          "model_name": "OutputModel",
          "state": {
            "_view_name": "OutputView",
            "msg_id": "",
            "_dom_classes": [],
            "_model_name": "OutputModel",
            "outputs": [
              {
                "output_type": "display_data",
                "metadata": {
                  "tags": [],
                  "needs_background": "light"
                },
                "image/png": "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\n",
                "text/plain": "<Figure size 432x288 with 2 Axes>"
              },
              {
                "output_type": "display_data",
                "metadata": {
                  "tags": [],
                  "needs_background": "light"
                },
                "image/png": "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\n",
                "text/plain": "<Figure size 432x288 with 2 Axes>"
              },
              {
                "output_type": "display_data",
                "metadata": {
                  "tags": [],
                  "needs_background": "light"
                },
                "image/png": "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\n",
                "text/plain": "<Figure size 432x288 with 2 Axes>"
              }
            ],
            "_view_module": "@jupyter-widgets/output",
            "_model_module_version": "1.0.0",
            "_view_count": null,
            "_view_module_version": "1.0.0",
            "layout": "IPY_MODEL_34c854f0c1574b3c8856105b0a961f13",
            "_model_module": "@jupyter-widgets/output"
          }
        },
        "c0a41981076849c9b7696cb16585d331": {
          "model_module": "@jupyter-widgets/controls",
          "model_name": "SliderStyleModel",
          "state": {
            "_view_name": "StyleView",
            "handle_color": null,
            "_model_name": "SliderStyleModel",
            "description_width": "",
            "_view_module": "@jupyter-widgets/base",
            "_model_module_version": "1.5.0",
            "_view_count": null,
            "_view_module_version": "1.2.0",
            "_model_module": "@jupyter-widgets/controls"
          }
        },
        "f2cb81e200e74cccb596cbb48d328b1a": {
          "model_module": "@jupyter-widgets/base",
          "model_name": "LayoutModel",
          "state": {
            "_view_name": "LayoutView",
            "grid_template_rows": null,
            "right": null,
            "justify_content": null,
            "_view_module": "@jupyter-widgets/base",
            "overflow": null,
            "_model_module_version": "1.2.0",
            "_view_count": null,
            "flex_flow": null,
            "width": null,
            "min_width": null,
            "border": null,
            "align_items": null,
            "bottom": null,
            "_model_module": "@jupyter-widgets/base",
            "top": null,
            "grid_column": null,
            "overflow_y": null,
            "overflow_x": null,
            "grid_auto_flow": null,
            "grid_area": null,
            "grid_template_columns": null,
            "flex": null,
            "_model_name": "LayoutModel",
            "justify_items": null,
            "grid_row": null,
            "max_height": null,
            "align_content": null,
            "visibility": null,
            "align_self": null,
            "height": null,
            "min_height": null,
            "padding": null,
            "grid_auto_rows": null,
            "grid_gap": null,
            "max_width": null,
            "order": null,
            "_view_module_version": "1.2.0",
            "grid_template_areas": null,
            "object_position": null,
            "object_fit": null,
            "grid_auto_columns": null,
            "margin": null,
            "display": null,
            "left": null
          }
        },
        "51766a28ca7942508a6aee94a3fd8ca4": {
          "model_module": "@jupyter-widgets/controls",
          "model_name": "SliderStyleModel",
          "state": {
            "_view_name": "StyleView",
            "handle_color": null,
            "_model_name": "SliderStyleModel",
            "description_width": "",
            "_view_module": "@jupyter-widgets/base",
            "_model_module_version": "1.5.0",
            "_view_count": null,
            "_view_module_version": "1.2.0",
            "_model_module": "@jupyter-widgets/controls"
          }
        },
        "d26fa7f106c3454f9f1689bb8cebbac6": {
          "model_module": "@jupyter-widgets/base",
          "model_name": "LayoutModel",
          "state": {
            "_view_name": "LayoutView",
            "grid_template_rows": null,
            "right": null,
            "justify_content": null,
            "_view_module": "@jupyter-widgets/base",
            "overflow": null,
            "_model_module_version": "1.2.0",
            "_view_count": null,
            "flex_flow": null,
            "width": null,
            "min_width": null,
            "border": null,
            "align_items": null,
            "bottom": null,
            "_model_module": "@jupyter-widgets/base",
            "top": null,
            "grid_column": null,
            "overflow_y": null,
            "overflow_x": null,
            "grid_auto_flow": null,
            "grid_area": null,
            "grid_template_columns": null,
            "flex": null,
            "_model_name": "LayoutModel",
            "justify_items": null,
            "grid_row": null,
            "max_height": null,
            "align_content": null,
            "visibility": null,
            "align_self": null,
            "height": null,
            "min_height": null,
            "padding": null,
            "grid_auto_rows": null,
            "grid_gap": null,
            "max_width": null,
            "order": null,
            "_view_module_version": "1.2.0",
            "grid_template_areas": null,
            "object_position": null,
            "object_fit": null,
            "grid_auto_columns": null,
            "margin": null,
            "display": null,
            "left": null
          }
        },
        "34c854f0c1574b3c8856105b0a961f13": {
          "model_module": "@jupyter-widgets/base",
          "model_name": "LayoutModel",
          "state": {
            "_view_name": "LayoutView",
            "grid_template_rows": null,
            "right": null,
            "justify_content": null,
            "_view_module": "@jupyter-widgets/base",
            "overflow": null,
            "_model_module_version": "1.2.0",
            "_view_count": null,
            "flex_flow": null,
            "width": null,
            "min_width": null,
            "border": null,
            "align_items": null,
            "bottom": null,
            "_model_module": "@jupyter-widgets/base",
            "top": null,
            "grid_column": null,
            "overflow_y": null,
            "overflow_x": null,
            "grid_auto_flow": null,
            "grid_area": null,
            "grid_template_columns": null,
            "flex": null,
            "_model_name": "LayoutModel",
            "justify_items": null,
            "grid_row": null,
            "max_height": null,
            "align_content": null,
            "visibility": null,
            "align_self": null,
            "height": null,
            "min_height": null,
            "padding": null,
            "grid_auto_rows": null,
            "grid_gap": null,
            "max_width": null,
            "order": null,
            "_view_module_version": "1.2.0",
            "grid_template_areas": null,
            "object_position": null,
            "object_fit": null,
            "grid_auto_columns": null,
            "margin": null,
            "display": null,
            "left": null
          }
        }
      }
    }
  },
  "cells": [
    {
      "cell_type": "markdown",
      "metadata": {
        "id": "view-in-github",
        "colab_type": "text"
      },
      "source": [
        "<a href=\"https://colab.research.google.com/github/austinlasseter/DS-Unit-2-Kaggle-Challenge/blob/master/module2-random-forests/222_responses.ipynb\" target=\"_parent\"><img src=\"https://colab.research.google.com/assets/colab-badge.svg\" alt=\"Open In Colab\"/></a>"
      ]
    },
    {
      "cell_type": "markdown",
      "metadata": {
        "colab_type": "text",
        "id": "UEHyIgGaaSEJ"
      },
      "source": [
        "Lambda School Data Science\n",
        "\n",
        "*Unit 2, Sprint 2, Module 2*\n",
        "\n",
        "---"
      ]
    },
    {
      "cell_type": "markdown",
      "metadata": {
        "colab_type": "text",
        "id": "mRfPLX4WgLVJ"
      },
      "source": [
        "# Random Forests"
      ]
    },
    {
      "cell_type": "markdown",
      "metadata": {
        "colab_type": "text",
        "id": "jRRNhkxcgLVK"
      },
      "source": [
        "- use scikit-learn for **random forests**\n",
        "- do **ordinal encoding** with high-cardinality categoricals\n",
        "- understand how categorical encodings affect trees differently compared to linear models\n",
        "- understand how tree ensembles reduce overfitting compared to a single decision tree with unlimited depth"
      ]
    },
    {
      "cell_type": "markdown",
      "metadata": {
        "colab_type": "text",
        "id": "-3TH11e1gLVL"
      },
      "source": [
        "Today's lesson has two take-away messages:\n",
        "\n",
        "#### Try Tree Ensembles when you do machine learning with labeled, tabular data\n",
        "- \"Tree Ensembles\" means Random Forest or Gradient Boosting models. \n",
        "- [Tree Ensembles often have the best predictive accuracy](https://arxiv.org/abs/1708.05070) with labeled, tabular data.\n",
        "- Why? Because trees can fit non-linear, non-[monotonic](https://en.wikipedia.org/wiki/Monotonic_function) relationships, and [interactions](https://christophm.github.io/interpretable-ml-book/interaction.html) between features.\n",
        "- A single decision tree, grown to unlimited depth, will [overfit](http://www.r2d3.us/visual-intro-to-machine-learning-part-1/). We solve this problem by ensembling trees, with bagging (Random Forest) or boosting (Gradient Boosting).\n",
        "- Random Forest's advantage: may be less sensitive to hyperparameters. Gradient Boosting's advantage: may get better predictive accuracy.\n",
        "\n",
        "#### One-hot encoding isn’t the only way, and may not be the best way, of categorical encoding for tree ensembles.\n",
        "- For example, tree ensembles can work with arbitrary \"ordinal\" encoding! (Randomly assigning an integer to each category.) Compared to one-hot encoding, the dimensionality will be lower, and the predictive accuracy may be just as good or even better.\n"
      ]
    },
    {
      "cell_type": "markdown",
      "metadata": {
        "id": "iE1b1IJylhKi",
        "colab_type": "text"
      },
      "source": [
        "\n",
        "<img src=\"https://github.com/austinlasseter/DS-Unit-2-Kaggle-Challenge/blob/master/module2-random-forests/random_forest.png?raw=1\" alt=\"random forest\" width=\"500\"/>"
      ]
    },
    {
      "cell_type": "markdown",
      "metadata": {
        "colab_type": "text",
        "id": "r5PbOFEuFfGF"
      },
      "source": [
        "### Setup\n",
        "\n",
        "Run the code cell below. You can work locally (follow the [local setup instructions](https://lambdaschool.github.io/ds/unit2/local/)) or on Colab.\n",
        "\n",
        "Libraries\n",
        "\n",
        "- **category_encoders** \n",
        "- **graphviz**\n",
        "- ipywidgets\n",
        "- matplotlib\n",
        "- numpy\n",
        "- pandas\n",
        "- seaborn\n",
        "- scikit-learn"
      ]
    },
    {
      "cell_type": "code",
      "metadata": {
        "colab_type": "code",
        "id": "FStAplyRFoEu",
        "colab": {}
      },
      "source": [
        "%%capture\n",
        "import sys\n",
        "\n",
        "# If you're on Colab:\n",
        "if 'google.colab' in sys.modules:\n",
        "    DATA_PATH = 'https://raw.githubusercontent.com/LambdaSchool/DS-Unit-2-Kaggle-Challenge/master/data/'\n",
        "    !pip install category_encoders==2.*\n",
        "\n",
        "# If you're working locally:\n",
        "else:\n",
        "    DATA_PATH = '../data/'"
      ],
      "execution_count": null,
      "outputs": []
    },
    {
      "cell_type": "markdown",
      "metadata": {
        "colab_type": "text",
        "id": "ZL-yK8B7gLVW"
      },
      "source": [
        "# Use scikit-learn for random forests"
      ]
    },
    {
      "cell_type": "markdown",
      "metadata": {
        "id": "3tbqQ4Rq9Eoz",
        "colab_type": "text"
      },
      "source": [
        "## Overview\n",
        "\n",
        "Let's fit a Random Forest!"
      ]
    },
    {
      "cell_type": "markdown",
      "metadata": {
        "colab_type": "text",
        "id": "gHFxMCPSgLVM"
      },
      "source": [
        "### Solution example\n",
        "\n",
        "First, read & wrangle the data.\n",
        "\n",
        "> Define a function to wrangle train, validate, and test sets in the same way. Clean outliers and engineer features. (For example, [what other columns have zeros and shouldn't?](https://github.com/Quartz/bad-data-guide#zeros-replace-missing-values) What other columns are duplicates, or nearly duplicates? Can you extract the year from date_recorded? Can you engineer new features, such as the number of years from waterpump construction to waterpump inspection?)"
      ]
    },
    {
      "cell_type": "code",
      "metadata": {
        "colab_type": "code",
        "id": "YTLm-rDagLVM",
        "colab": {}
      },
      "source": [
        "import numpy as np\n",
        "import pandas as pd\n",
        "from sklearn.model_selection import train_test_split\n",
        "\n",
        "# Merge train_features.csv & train_labels.csv\n",
        "train = pd.merge(pd.read_csv(DATA_PATH+'waterpumps/train_features.csv'), \n",
        "                 pd.read_csv(DATA_PATH+'waterpumps/train_labels.csv'))\n",
        "\n",
        "# Read test_features.csv & sample_submission.csv\n",
        "test = pd.read_csv(DATA_PATH+'waterpumps/test_features.csv')\n",
        "sample_submission = pd.read_csv(DATA_PATH+'waterpumps/sample_submission.csv')\n",
        "\n",
        "# Split train into train & val\n",
        "train, val = train_test_split(train, train_size=0.80, test_size=0.20, \n",
        "                              stratify=train['status_group'], random_state=42)\n",
        "\n",
        "\n",
        "def wrangle(X):\n",
        "    \"\"\"Wrangle train, validate, and test sets in the same way\"\"\"\n",
        "    \n",
        "    # Prevent SettingWithCopyWarning\n",
        "    X = X.copy()\n",
        "    \n",
        "    # About 3% of the time, latitude has small values near zero,\n",
        "    # outside Tanzania, so we'll treat these values like zero.\n",
        "    X['latitude'] = X['latitude'].replace(-2e-08, 0)\n",
        "    \n",
        "    # When columns have zeros and shouldn't, they are like null values.\n",
        "    # So we will replace the zeros with nulls, and impute missing values later.\n",
        "    # Also create a \"missing indicator\" column, because the fact that\n",
        "    # values are missing may be a predictive signal.\n",
        "    cols_with_zeros = ['longitude', 'latitude', 'construction_year', \n",
        "                       'gps_height', 'population']\n",
        "    for col in cols_with_zeros:\n",
        "        X[col] = X[col].replace(0, np.nan)\n",
        "        X[col+'_MISSING'] = X[col].isnull()\n",
        "            \n",
        "    # Drop duplicate columns\n",
        "    duplicates = ['quantity_group', 'payment_type']\n",
        "    X = X.drop(columns=duplicates)\n",
        "    \n",
        "    # Drop recorded_by (never varies) and id (always varies, random)\n",
        "    unusable_variance = ['recorded_by', 'id']\n",
        "    X = X.drop(columns=unusable_variance)\n",
        "    \n",
        "    # Convert date_recorded to datetime\n",
        "    X['date_recorded'] = pd.to_datetime(X['date_recorded'], infer_datetime_format=True)\n",
        "    \n",
        "    # Extract components from date_recorded, then drop the original column\n",
        "    X['year_recorded'] = X['date_recorded'].dt.year\n",
        "    X['month_recorded'] = X['date_recorded'].dt.month\n",
        "    X['day_recorded'] = X['date_recorded'].dt.day\n",
        "    X = X.drop(columns='date_recorded')\n",
        "    \n",
        "    # Engineer feature: how many years from construction_year to date_recorded\n",
        "    X['years'] = X['year_recorded'] - X['construction_year']\n",
        "    X['years_MISSING'] = X['years'].isnull()\n",
        "    \n",
        "    # return the wrangled dataframe\n",
        "    return X\n",
        "\n",
        "train = wrangle(train)\n",
        "val = wrangle(val)\n",
        "test = wrangle(test)"
      ],
      "execution_count": null,
      "outputs": []
    },
    {
      "cell_type": "code",
      "metadata": {
        "colab_type": "code",
        "id": "m2HppBvZgLVP",
        "colab": {}
      },
      "source": [
        "# The status_group column is the target\n",
        "target = 'status_group'\n",
        "\n",
        "# Get a dataframe with all train columns except the target\n",
        "train_features = train.drop(columns=[target])\n",
        "\n",
        "# Get a list of the numeric features\n",
        "numeric_features = train_features.select_dtypes(include='number').columns.tolist()\n",
        "\n",
        "# Get a series with the cardinality of the nonnumeric features\n",
        "cardinality = train_features.select_dtypes(exclude='number').nunique()\n",
        "\n",
        "# Get a list of all categorical features with cardinality <= 50\n",
        "categorical_features = cardinality[cardinality <= 50].index.tolist()\n",
        "\n",
        "# Combine the lists \n",
        "features = numeric_features + categorical_features"
      ],
      "execution_count": null,
      "outputs": []
    },
    {
      "cell_type": "code",
      "metadata": {
        "colab_type": "code",
        "id": "aXmK2brXgLVR",
        "colab": {}
      },
      "source": [
        "# Arrange data into X features matrix and y target vector \n",
        "X_train = train[features]\n",
        "y_train = train[target]\n",
        "X_val = val[features]\n",
        "y_val = val[target]\n",
        "X_test = test[features]"
      ],
      "execution_count": null,
      "outputs": []
    },
    {
      "cell_type": "code",
      "metadata": {
        "id": "1FR7hmhzX1q7",
        "colab_type": "code",
        "colab": {
          "base_uri": "https://localhost:8080/",
          "height": 35
        },
        "outputId": "02a2c8d7-2f5a-48cf-bf44-fab9b5f3d1a5"
      },
      "source": [
        "train.describe(exclude='number').T.unique.sum()"
      ],
      "execution_count": null,
      "outputs": [
        {
          "output_type": "execute_result",
          "data": {
            "text/plain": [
              "56481"
            ]
          },
          "metadata": {
            "tags": []
          },
          "execution_count": 106
        }
      ]
    },
    {
      "cell_type": "markdown",
      "metadata": {
        "id": "XsT6ahBr9Eo-",
        "colab_type": "text"
      },
      "source": [
        "## Follow Along\n",
        "\n",
        "[Scikit-Learn User Guide: Random Forests](https://scikit-learn.org/stable/modules/ensemble.html#random-forests)"
      ]
    },
    {
      "cell_type": "code",
      "metadata": {
        "id": "MfPklCDxfRzP",
        "colab_type": "code",
        "colab": {
          "base_uri": "https://localhost:8080/",
          "height": 194
        },
        "outputId": "87e86753-fb9a-4ea0-9a3a-12048d418cb2"
      },
      "source": [
        "# let's take a small sample for comparison purposes\n",
        "region = X_train[['region']].copy()\n",
        "region = region.sample(30)\n",
        "region.head()"
      ],
      "execution_count": null,
      "outputs": [
        {
          "output_type": "execute_result",
          "data": {
            "text/html": [
              "<div>\n",
              "<style scoped>\n",
              "    .dataframe tbody tr th:only-of-type {\n",
              "        vertical-align: middle;\n",
              "    }\n",
              "\n",
              "    .dataframe tbody tr th {\n",
              "        vertical-align: top;\n",
              "    }\n",
              "\n",
              "    .dataframe thead th {\n",
              "        text-align: right;\n",
              "    }\n",
              "</style>\n",
              "<table border=\"1\" class=\"dataframe\">\n",
              "  <thead>\n",
              "    <tr style=\"text-align: right;\">\n",
              "      <th></th>\n",
              "      <th>region</th>\n",
              "    </tr>\n",
              "  </thead>\n",
              "  <tbody>\n",
              "    <tr>\n",
              "      <th>56772</th>\n",
              "      <td>Arusha</td>\n",
              "    </tr>\n",
              "    <tr>\n",
              "      <th>15358</th>\n",
              "      <td>Arusha</td>\n",
              "    </tr>\n",
              "    <tr>\n",
              "      <th>56837</th>\n",
              "      <td>Arusha</td>\n",
              "    </tr>\n",
              "    <tr>\n",
              "      <th>54126</th>\n",
              "      <td>Mtwara</td>\n",
              "    </tr>\n",
              "    <tr>\n",
              "      <th>26721</th>\n",
              "      <td>Rukwa</td>\n",
              "    </tr>\n",
              "  </tbody>\n",
              "</table>\n",
              "</div>"
            ],
            "text/plain": [
              "       region\n",
              "56772  Arusha\n",
              "15358  Arusha\n",
              "56837  Arusha\n",
              "54126  Mtwara\n",
              "26721   Rukwa"
            ]
          },
          "metadata": {
            "tags": []
          },
          "execution_count": 107
        }
      ]
    },
    {
      "cell_type": "code",
      "metadata": {
        "id": "zjyv5SVlfbCQ",
        "colab_type": "code",
        "colab": {
          "base_uri": "https://localhost:8080/",
          "height": 337
        },
        "outputId": "6cf70fdc-1311-4590-8e61-9f55d577f1c0"
      },
      "source": [
        "# how many regions are there?\n",
        "region['region'].value_counts()"
      ],
      "execution_count": null,
      "outputs": [
        {
          "output_type": "execute_result",
          "data": {
            "text/plain": [
              "Arusha         8\n",
              "Pwani          3\n",
              "Mara           2\n",
              "Lindi          2\n",
              "Kigoma         2\n",
              "Tanga          2\n",
              "Mtwara         1\n",
              "Mbeya          1\n",
              "Ruvuma         1\n",
              "Shinyanga      1\n",
              "Singida        1\n",
              "Rukwa          1\n",
              "Kilimanjaro    1\n",
              "Manyara        1\n",
              "Dodoma         1\n",
              "Morogoro       1\n",
              "Mwanza         1\n",
              "Name: region, dtype: int64"
            ]
          },
          "metadata": {
            "tags": []
          },
          "execution_count": 108
        }
      ]
    },
    {
      "cell_type": "code",
      "metadata": {
        "id": "7icCdsiMfX7z",
        "colab_type": "code",
        "colab": {
          "base_uri": "https://localhost:8080/",
          "height": 214
        },
        "outputId": "8783ee50-6c6f-4d62-e930-f47dc0c94d4e"
      },
      "source": [
        "# what does one-hot encoding look like?\n",
        "region_ohe.head()"
      ],
      "execution_count": null,
      "outputs": [
        {
          "output_type": "execute_result",
          "data": {
            "text/html": [
              "<div>\n",
              "<style scoped>\n",
              "    .dataframe tbody tr th:only-of-type {\n",
              "        vertical-align: middle;\n",
              "    }\n",
              "\n",
              "    .dataframe tbody tr th {\n",
              "        vertical-align: top;\n",
              "    }\n",
              "\n",
              "    .dataframe thead th {\n",
              "        text-align: right;\n",
              "    }\n",
              "</style>\n",
              "<table border=\"1\" class=\"dataframe\">\n",
              "  <thead>\n",
              "    <tr style=\"text-align: right;\">\n",
              "      <th></th>\n",
              "      <th>region_Manyara</th>\n",
              "      <th>region_Shinyanga</th>\n",
              "      <th>region_Arusha</th>\n",
              "      <th>region_Mara</th>\n",
              "      <th>region_Kilimanjaro</th>\n",
              "      <th>region_Lindi</th>\n",
              "      <th>region_Mbeya</th>\n",
              "      <th>region_Iringa</th>\n",
              "      <th>region_Morogoro</th>\n",
              "      <th>region_Ruvuma</th>\n",
              "      <th>region_Dodoma</th>\n",
              "      <th>region_Pwani</th>\n",
              "      <th>region_Mtwara</th>\n",
              "      <th>region_Kagera</th>\n",
              "      <th>region_Kigoma</th>\n",
              "      <th>region_Mwanza</th>\n",
              "    </tr>\n",
              "  </thead>\n",
              "  <tbody>\n",
              "    <tr>\n",
              "      <th>14308</th>\n",
              "      <td>1</td>\n",
              "      <td>0</td>\n",
              "      <td>0</td>\n",
              "      <td>0</td>\n",
              "      <td>0</td>\n",
              "      <td>0</td>\n",
              "      <td>0</td>\n",
              "      <td>0</td>\n",
              "      <td>0</td>\n",
              "      <td>0</td>\n",
              "      <td>0</td>\n",
              "      <td>0</td>\n",
              "      <td>0</td>\n",
              "      <td>0</td>\n",
              "      <td>0</td>\n",
              "      <td>0</td>\n",
              "    </tr>\n",
              "    <tr>\n",
              "      <th>52392</th>\n",
              "      <td>0</td>\n",
              "      <td>1</td>\n",
              "      <td>0</td>\n",
              "      <td>0</td>\n",
              "      <td>0</td>\n",
              "      <td>0</td>\n",
              "      <td>0</td>\n",
              "      <td>0</td>\n",
              "      <td>0</td>\n",
              "      <td>0</td>\n",
              "      <td>0</td>\n",
              "      <td>0</td>\n",
              "      <td>0</td>\n",
              "      <td>0</td>\n",
              "      <td>0</td>\n",
              "      <td>0</td>\n",
              "    </tr>\n",
              "    <tr>\n",
              "      <th>41712</th>\n",
              "      <td>0</td>\n",
              "      <td>0</td>\n",
              "      <td>1</td>\n",
              "      <td>0</td>\n",
              "      <td>0</td>\n",
              "      <td>0</td>\n",
              "      <td>0</td>\n",
              "      <td>0</td>\n",
              "      <td>0</td>\n",
              "      <td>0</td>\n",
              "      <td>0</td>\n",
              "      <td>0</td>\n",
              "      <td>0</td>\n",
              "      <td>0</td>\n",
              "      <td>0</td>\n",
              "      <td>0</td>\n",
              "    </tr>\n",
              "    <tr>\n",
              "      <th>55925</th>\n",
              "      <td>0</td>\n",
              "      <td>0</td>\n",
              "      <td>0</td>\n",
              "      <td>1</td>\n",
              "      <td>0</td>\n",
              "      <td>0</td>\n",
              "      <td>0</td>\n",
              "      <td>0</td>\n",
              "      <td>0</td>\n",
              "      <td>0</td>\n",
              "      <td>0</td>\n",
              "      <td>0</td>\n",
              "      <td>0</td>\n",
              "      <td>0</td>\n",
              "      <td>0</td>\n",
              "      <td>0</td>\n",
              "    </tr>\n",
              "    <tr>\n",
              "      <th>35878</th>\n",
              "      <td>0</td>\n",
              "      <td>0</td>\n",
              "      <td>1</td>\n",
              "      <td>0</td>\n",
              "      <td>0</td>\n",
              "      <td>0</td>\n",
              "      <td>0</td>\n",
              "      <td>0</td>\n",
              "      <td>0</td>\n",
              "      <td>0</td>\n",
              "      <td>0</td>\n",
              "      <td>0</td>\n",
              "      <td>0</td>\n",
              "      <td>0</td>\n",
              "      <td>0</td>\n",
              "      <td>0</td>\n",
              "    </tr>\n",
              "  </tbody>\n",
              "</table>\n",
              "</div>"
            ],
            "text/plain": [
              "       region_Manyara  region_Shinyanga  ...  region_Kigoma  region_Mwanza\n",
              "14308               1                 0  ...              0              0\n",
              "52392               0                 1  ...              0              0\n",
              "41712               0                 0  ...              0              0\n",
              "55925               0                 0  ...              0              0\n",
              "35878               0                 0  ...              0              0\n",
              "\n",
              "[5 rows x 16 columns]"
            ]
          },
          "metadata": {
            "tags": []
          },
          "execution_count": 109
        }
      ]
    },
    {
      "cell_type": "markdown",
      "metadata": {
        "id": "JWT9dTzAfnOR",
        "colab_type": "text"
      },
      "source": [
        "### Put that into a pipeline."
      ]
    },
    {
      "cell_type": "code",
      "metadata": {
        "colab_type": "code",
        "id": "57yyygsdgLVW",
        "colab": {
          "base_uri": "https://localhost:8080/"
        },
        "outputId": "75cdf746-33b1-415c-e6d0-74dc0180cdcc"
      },
      "source": [
        "%%time\n",
        "# WARNING: the %%time command sometimes has quirks/bugs\n",
        "\n",
        "import category_encoders as ce\n",
        "from sklearn.ensemble import RandomForestClassifier\n",
        "from sklearn.impute import SimpleImputer\n",
        "from sklearn.pipeline import make_pipeline\n",
        "\n",
        "pipeline = make_pipeline(\n",
        "    ce.OneHotEncoder(use_cat_names=True), \n",
        "    SimpleImputer(strategy='median'), \n",
        "    RandomForestClassifier(random_state=0, n_jobs=-1)\n",
        ")\n",
        "\n",
        "# Fit on train, score on val\n",
        "pipeline.fit(X_train, y_train)\n",
        "print('Validation Accuracy', pipeline.score(X_val, y_val))"
      ],
      "execution_count": null,
      "outputs": [
        {
          "output_type": "stream",
          "text": [
            "Validation Accuracy 0.8088383838383838\n",
            "CPU times: user 27.1 s, sys: 450 ms, total: 27.6 s\n",
            "Wall time: 16.7 s\n"
          ],
          "name": "stdout"
        }
      ]
    },
    {
      "cell_type": "code",
      "metadata": {
        "id": "aNufH5BOVCsj",
        "colab_type": "code",
        "colab": {
          "base_uri": "https://localhost:8080/"
        },
        "outputId": "eea6f39a-3ef3-440d-f338-6418116160cc"
      },
      "source": [
        "print('X_train shape before encoding', X_train.shape)"
      ],
      "execution_count": null,
      "outputs": [
        {
          "output_type": "stream",
          "text": [
            "X_train shape before encoding (47520, 38)\n"
          ],
          "name": "stdout"
        }
      ]
    },
    {
      "cell_type": "code",
      "metadata": {
        "id": "ay8iLJhtVIlQ",
        "colab_type": "code",
        "colab": {
          "base_uri": "https://localhost:8080/"
        },
        "outputId": "07ff8940-b2e5-4bc1-e99d-6f26ac56e267"
      },
      "source": [
        "encoder = pipeline.named_steps['onehotencoder']\n",
        "encoded = encoder.transform(X_train)\n",
        "print('X_train shape after encoding', encoded.shape)"
      ],
      "execution_count": null,
      "outputs": [
        {
          "output_type": "stream",
          "text": [
            "X_train shape after encoding (47520, 182)\n"
          ],
          "name": "stdout"
        }
      ]
    },
    {
      "cell_type": "code",
      "metadata": {
        "id": "LRFGlwRaVmLW",
        "colab_type": "code",
        "colab": {
          "base_uri": "https://localhost:8080/"
        },
        "outputId": "71875fc3-60fd-4184-85f4-1af2533b6ded"
      },
      "source": [
        "%matplotlib inline\n",
        "import matplotlib.pyplot as plt\n",
        "\n",
        "# Get feature importances\n",
        "rf = pipeline.named_steps['randomforestclassifier']\n",
        "importances = pd.Series(rf.feature_importances_, encoded.columns)\n",
        "\n",
        "# Plot top n feature importances\n",
        "n = 20\n",
        "plt.figure(figsize=(10,n/2))\n",
        "plt.title(f'Top {n} features')\n",
        "importances.sort_values()[-n:].plot.barh();"
      ],
      "execution_count": null,
      "outputs": [
        {
          "output_type": "display_data",
          "data": {
            "image/png": "[encoded data removed]",
            "text/plain": [
              "<Figure size 720x720 with 1 Axes>"
            ]
          },
          "metadata": {
            "tags": [],
            "needs_background": "light"
          }
        }
      ]
    },
    {
      "cell_type": "markdown",
      "metadata": {
        "colab_type": "text",
        "id": "yfyk_aa5gLVY"
      },
      "source": [
        "# Do ordinal encoding with high-cardinality categoricals"
      ]
    },
    {
      "cell_type": "markdown",
      "metadata": {
        "id": "TALhCsW09EpC",
        "colab_type": "text"
      },
      "source": [
        "## Overview\n",
        "\n",
        "http://contrib.scikit-learn.org/categorical-encoding/ordinal.html"
      ]
    },
    {
      "cell_type": "markdown",
      "metadata": {
        "id": "Xk0xQ1lM9EpC",
        "colab_type": "text"
      },
      "source": [
        "## Follow Along"
      ]
    },
    {
      "cell_type": "code",
      "metadata": {
        "colab_type": "code",
        "id": "b8d_WJtcgLVZ",
        "colab": {}
      },
      "source": [
        "# Re-arrange data into X features matrix and y target vector, so\n",
        "# we use *all* features, including the high-cardinality categoricals\n",
        "X_train = train.drop(columns=target)\n",
        "y_train = train[target]\n",
        "X_val = val.drop(columns=target)\n",
        "y_val = val[target]\n",
        "X_test = test"
      ],
      "execution_count": null,
      "outputs": []
    },
    {
      "cell_type": "markdown",
      "metadata": {
        "id": "SRU4lAbVgH14",
        "colab_type": "text"
      },
      "source": [
        "### There's a couple of ways to encode categorical variables"
      ]
    },
    {
      "cell_type": "code",
      "metadata": {
        "id": "dKD3Fu6wRaHK",
        "colab_type": "code",
        "colab": {
          "base_uri": "https://localhost:8080/"
        },
        "outputId": "3a012db5-eccb-49ca-e187-6b773364f12b"
      },
      "source": [
        "# let's take a small sample for comparison purposes\n",
        "region = X_train[['region']].copy()\n",
        "region = region.sample(30)\n",
        "region.head()"
      ],
      "execution_count": null,
      "outputs": [
        {
          "output_type": "execute_result",
          "data": {
            "text/html": [
              "<div>\n",
              "<style scoped>\n",
              "    .dataframe tbody tr th:only-of-type {\n",
              "        vertical-align: middle;\n",
              "    }\n",
              "\n",
              "    .dataframe tbody tr th {\n",
              "        vertical-align: top;\n",
              "    }\n",
              "\n",
              "    .dataframe thead th {\n",
              "        text-align: right;\n",
              "    }\n",
              "</style>\n",
              "<table border=\"1\" class=\"dataframe\">\n",
              "  <thead>\n",
              "    <tr style=\"text-align: right;\">\n",
              "      <th></th>\n",
              "      <th>region</th>\n",
              "    </tr>\n",
              "  </thead>\n",
              "  <tbody>\n",
              "    <tr>\n",
              "      <th>39768</th>\n",
              "      <td>Ruvuma</td>\n",
              "    </tr>\n",
              "    <tr>\n",
              "      <th>47389</th>\n",
              "      <td>Kagera</td>\n",
              "    </tr>\n",
              "    <tr>\n",
              "      <th>4013</th>\n",
              "      <td>Pwani</td>\n",
              "    </tr>\n",
              "    <tr>\n",
              "      <th>46059</th>\n",
              "      <td>Iringa</td>\n",
              "    </tr>\n",
              "    <tr>\n",
              "      <th>29853</th>\n",
              "      <td>Mtwara</td>\n",
              "    </tr>\n",
              "  </tbody>\n",
              "</table>\n",
              "</div>"
            ],
            "text/plain": [
              "       region\n",
              "39768  Ruvuma\n",
              "47389  Kagera\n",
              "4013    Pwani\n",
              "46059  Iringa\n",
              "29853  Mtwara"
            ]
          },
          "metadata": {
            "tags": []
          },
          "execution_count": 115
        }
      ]
    },
    {
      "cell_type": "code",
      "metadata": {
        "id": "ShViYNXZRkt3",
        "colab_type": "code",
        "colab": {
          "base_uri": "https://localhost:8080/"
        },
        "outputId": "4feaaa92-cbcc-40ef-ec7f-29338e9cf7ca"
      },
      "source": [
        "# Method 1\n",
        "# Encode the categorical columns using the pandas \"category\" data type\n",
        "region['region_cats']=region['region'].astype('category')\n",
        "region['region_codes']= region['region_cats'].cat.codes\n",
        "region.dtypes"
      ],
      "execution_count": null,
      "outputs": [
        {
          "output_type": "execute_result",
          "data": {
            "text/plain": [
              "region            object\n",
              "region_cats     category\n",
              "region_codes        int8\n",
              "dtype: object"
            ]
          },
          "metadata": {
            "tags": []
          },
          "execution_count": 116
        }
      ]
    },
    {
      "cell_type": "code",
      "metadata": {
        "id": "IRM-rqnAcPUB",
        "colab_type": "code",
        "colab": {
          "base_uri": "https://localhost:8080/"
        },
        "outputId": "3c3f7d72-70db-47a5-ff4f-558af0824b4f"
      },
      "source": [
        "# show a few\n",
        "region.head()"
      ],
      "execution_count": null,
      "outputs": [
        {
          "output_type": "execute_result",
          "data": {
            "text/html": [
              "<div>\n",
              "<style scoped>\n",
              "    .dataframe tbody tr th:only-of-type {\n",
              "        vertical-align: middle;\n",
              "    }\n",
              "\n",
              "    .dataframe tbody tr th {\n",
              "        vertical-align: top;\n",
              "    }\n",
              "\n",
              "    .dataframe thead th {\n",
              "        text-align: right;\n",
              "    }\n",
              "</style>\n",
              "<table border=\"1\" class=\"dataframe\">\n",
              "  <thead>\n",
              "    <tr style=\"text-align: right;\">\n",
              "      <th></th>\n",
              "      <th>region</th>\n",
              "      <th>region_cats</th>\n",
              "      <th>region_codes</th>\n",
              "    </tr>\n",
              "  </thead>\n",
              "  <tbody>\n",
              "    <tr>\n",
              "      <th>39768</th>\n",
              "      <td>Ruvuma</td>\n",
              "      <td>Ruvuma</td>\n",
              "      <td>11</td>\n",
              "    </tr>\n",
              "    <tr>\n",
              "      <th>47389</th>\n",
              "      <td>Kagera</td>\n",
              "      <td>Kagera</td>\n",
              "      <td>3</td>\n",
              "    </tr>\n",
              "    <tr>\n",
              "      <th>4013</th>\n",
              "      <td>Pwani</td>\n",
              "      <td>Pwani</td>\n",
              "      <td>10</td>\n",
              "    </tr>\n",
              "    <tr>\n",
              "      <th>46059</th>\n",
              "      <td>Iringa</td>\n",
              "      <td>Iringa</td>\n",
              "      <td>2</td>\n",
              "    </tr>\n",
              "    <tr>\n",
              "      <th>29853</th>\n",
              "      <td>Mtwara</td>\n",
              "      <td>Mtwara</td>\n",
              "      <td>8</td>\n",
              "    </tr>\n",
              "  </tbody>\n",
              "</table>\n",
              "</div>"
            ],
            "text/plain": [
              "       region region_cats  region_codes\n",
              "39768  Ruvuma      Ruvuma            11\n",
              "47389  Kagera      Kagera             3\n",
              "4013    Pwani       Pwani            10\n",
              "46059  Iringa      Iringa             2\n",
              "29853  Mtwara      Mtwara             8"
            ]
          },
          "metadata": {
            "tags": []
          },
          "execution_count": 117
        }
      ]
    },
    {
      "cell_type": "code",
      "metadata": {
        "id": "m1llC916czdm",
        "colab_type": "code",
        "colab": {
          "base_uri": "https://localhost:8080/"
        },
        "outputId": "20f26d6f-00da-4fff-f1fc-41228f687a41"
      },
      "source": [
        "# distribution (note that the values start at 0)\n",
        "region['region_codes'].value_counts().sort_index()"
      ],
      "execution_count": null,
      "outputs": [
        {
          "output_type": "execute_result",
          "data": {
            "text/plain": [
              "0     2\n",
              "1     1\n",
              "2     4\n",
              "3     1\n",
              "4     3\n",
              "5     1\n",
              "6     2\n",
              "7     1\n",
              "8     3\n",
              "9     2\n",
              "10    1\n",
              "11    1\n",
              "12    3\n",
              "13    2\n",
              "14    1\n",
              "15    2\n",
              "Name: region_codes, dtype: int64"
            ]
          },
          "metadata": {
            "tags": []
          },
          "execution_count": 118
        }
      ]
    },
    {
      "cell_type": "code",
      "metadata": {
        "id": "71hxYTITSyG7",
        "colab_type": "code",
        "colab": {
          "base_uri": "https://localhost:8080/"
        },
        "outputId": "d7080d4f-053b-4da6-bcea-6633b982b5fc"
      },
      "source": [
        "# Method 2\n",
        "# Encode the categorical columns using scikit learn's ordinal encoding class\n",
        "myencoder=ce.OrdinalEncoder()\n",
        "region['region_encoded'] = myencoder.fit_transform(region['region'])\n",
        "region.sample(5)"
      ],
      "execution_count": null,
      "outputs": [
        {
          "output_type": "execute_result",
          "data": {
            "text/html": [
              "<div>\n",
              "<style scoped>\n",
              "    .dataframe tbody tr th:only-of-type {\n",
              "        vertical-align: middle;\n",
              "    }\n",
              "\n",
              "    .dataframe tbody tr th {\n",
              "        vertical-align: top;\n",
              "    }\n",
              "\n",
              "    .dataframe thead th {\n",
              "        text-align: right;\n",
              "    }\n",
              "</style>\n",
              "<table border=\"1\" class=\"dataframe\">\n",
              "  <thead>\n",
              "    <tr style=\"text-align: right;\">\n",
              "      <th></th>\n",
              "      <th>region</th>\n",
              "      <th>region_cats</th>\n",
              "      <th>region_codes</th>\n",
              "      <th>region_encoded</th>\n",
              "    </tr>\n",
              "  </thead>\n",
              "  <tbody>\n",
              "    <tr>\n",
              "      <th>29853</th>\n",
              "      <td>Mtwara</td>\n",
              "      <td>Mtwara</td>\n",
              "      <td>8</td>\n",
              "      <td>5</td>\n",
              "    </tr>\n",
              "    <tr>\n",
              "      <th>50312</th>\n",
              "      <td>Arusha</td>\n",
              "      <td>Arusha</td>\n",
              "      <td>0</td>\n",
              "      <td>14</td>\n",
              "    </tr>\n",
              "    <tr>\n",
              "      <th>46059</th>\n",
              "      <td>Iringa</td>\n",
              "      <td>Iringa</td>\n",
              "      <td>2</td>\n",
              "      <td>4</td>\n",
              "    </tr>\n",
              "    <tr>\n",
              "      <th>27775</th>\n",
              "      <td>Mtwara</td>\n",
              "      <td>Mtwara</td>\n",
              "      <td>8</td>\n",
              "      <td>5</td>\n",
              "    </tr>\n",
              "    <tr>\n",
              "      <th>25856</th>\n",
              "      <td>Mwanza</td>\n",
              "      <td>Mwanza</td>\n",
              "      <td>9</td>\n",
              "      <td>12</td>\n",
              "    </tr>\n",
              "  </tbody>\n",
              "</table>\n",
              "</div>"
            ],
            "text/plain": [
              "       region region_cats  region_codes  region_encoded\n",
              "29853  Mtwara      Mtwara             8               5\n",
              "50312  Arusha      Arusha             0              14\n",
              "46059  Iringa      Iringa             2               4\n",
              "27775  Mtwara      Mtwara             8               5\n",
              "25856  Mwanza      Mwanza             9              12"
            ]
          },
          "metadata": {
            "tags": []
          },
          "execution_count": 119
        }
      ]
    },
    {
      "cell_type": "code",
      "metadata": {
        "id": "lRGoNhuNc_bZ",
        "colab_type": "code",
        "colab": {
          "base_uri": "https://localhost:8080/"
        },
        "outputId": "1a244eb5-3471-4f3e-faf8-2881a9f7f0ff"
      },
      "source": [
        "# they are the same distribution but starting at 1 not 0\n",
        "region['region_encoded'].value_counts().sort_index()"
      ],
      "execution_count": null,
      "outputs": [
        {
          "output_type": "execute_result",
          "data": {
            "text/plain": [
              "1     1\n",
              "2     1\n",
              "3     1\n",
              "4     4\n",
              "5     3\n",
              "6     3\n",
              "7     3\n",
              "8     2\n",
              "9     1\n",
              "10    2\n",
              "11    2\n",
              "12    2\n",
              "13    1\n",
              "14    2\n",
              "15    1\n",
              "16    1\n",
              "Name: region_encoded, dtype: int64"
            ]
          },
          "metadata": {
            "tags": []
          },
          "execution_count": 120
        }
      ]
    },
    {
      "cell_type": "markdown",
      "metadata": {
        "id": "uUQ1hswHen1K",
        "colab_type": "text"
      },
      "source": [
        "### Okay back to our scheduled programming"
      ]
    },
    {
      "cell_type": "code",
      "metadata": {
        "id": "BjxV8i9daBoO",
        "colab_type": "code",
        "colab": {
          "base_uri": "https://localhost:8080/"
        },
        "outputId": "b5d7340d-140f-4613-8e9e-585913b01e3d"
      },
      "source": [
        "%%time\n",
        "\n",
        "# This pipeline is identical to the example cell above, \n",
        "# except we're replacing one-hot encoder with \"ordinal\" encoder\n",
        "\n",
        "pipeline = make_pipeline(\n",
        "    ce.OrdinalEncoder(), \n",
        "    SimpleImputer(strategy='median'), \n",
        "    RandomForestClassifier(random_state=0, n_jobs=-1)\n",
        ")\n",
        "\n",
        "# Fit on train, score on val\n",
        "pipeline.fit(X_train, y_train)\n",
        "print('Validation Accuracy', pipeline.score(X_val, y_val))"
      ],
      "execution_count": null,
      "outputs": [
        {
          "output_type": "stream",
          "text": [
            "Validation Accuracy 0.8092592592592592\n",
            "CPU times: user 20 s, sys: 174 ms, total: 20.1 s\n",
            "Wall time: 11.1 s\n"
          ],
          "name": "stdout"
        }
      ]
    },
    {
      "cell_type": "code",
      "metadata": {
        "id": "-oTJ_a9_boTQ",
        "colab_type": "code",
        "colab": {
          "base_uri": "https://localhost:8080/"
        },
        "outputId": "d34c6edd-4d1c-41d4-89ed-b150196d60c4"
      },
      "source": [
        "print('X_train shape before encoding', X_train.shape)"
      ],
      "execution_count": null,
      "outputs": [
        {
          "output_type": "stream",
          "text": [
            "X_train shape before encoding (47520, 45)\n"
          ],
          "name": "stdout"
        }
      ]
    },
    {
      "cell_type": "code",
      "metadata": {
        "id": "1BHSXBFmbtzA",
        "colab_type": "code",
        "colab": {
          "base_uri": "https://localhost:8080/"
        },
        "outputId": "a18f1232-50f3-4cb5-85c9-e0bf8111419a"
      },
      "source": [
        "encoder = pipeline.named_steps['ordinalencoder']\n",
        "encoded = encoder.transform(X_train)\n",
        "print('X_train shape after encoding', encoded.shape)"
      ],
      "execution_count": null,
      "outputs": [
        {
          "output_type": "stream",
          "text": [
            "X_train shape after encoding (47520, 45)\n"
          ],
          "name": "stdout"
        }
      ]
    },
    {
      "cell_type": "markdown",
      "metadata": {
        "colab_type": "text",
        "id": "xs2UPoVdgLVp"
      },
      "source": [
        "# Understand how categorical encodings affect trees differently compared to linear models"
      ]
    },
    {
      "cell_type": "markdown",
      "metadata": {
        "id": "jKbCTRg59EpH",
        "colab_type": "text"
      },
      "source": [
        "## Follow Along"
      ]
    },
    {
      "cell_type": "markdown",
      "metadata": {
        "colab_type": "text",
        "id": "z8V-A92mgLVp"
      },
      "source": [
        "### Categorical exploration, 1 feature at a time\n",
        "\n",
        "Change `feature`, then re-run these cells!"
      ]
    },
    {
      "cell_type": "code",
      "metadata": {
        "colab_type": "code",
        "id": "G35RAzVdgLVq",
        "colab": {}
      },
      "source": [
        "feature = 'extraction_type_class'"
      ],
      "execution_count": null,
      "outputs": []
    },
    {
      "cell_type": "code",
      "metadata": {
        "colab_type": "code",
        "id": "OuxHWiH8gLVr",
        "colab": {
          "base_uri": "https://localhost:8080/"
        },
        "outputId": "31daef70-4f4e-494a-e4e8-b4368e2b6bdb"
      },
      "source": [
        "X_train[feature].value_counts()"
      ],
      "execution_count": null,
      "outputs": [
        {
          "output_type": "execute_result",
          "data": {
            "text/plain": [
              "gravity         21448\n",
              "handpump        13184\n",
              "other            5193\n",
              "submersible      4894\n",
              "motorpump        2355\n",
              "rope pump         353\n",
              "wind-powered       93\n",
              "Name: extraction_type_class, dtype: int64"
            ]
          },
          "metadata": {
            "tags": []
          },
          "execution_count": 125
        }
      ]
    },
    {
      "cell_type": "code",
      "metadata": {
        "colab_type": "code",
        "id": "pVxoC4NngLVt",
        "colab": {
          "base_uri": "https://localhost:8080/"
        },
        "outputId": "e9000418-23c6-412a-d186-2ad5ab49d9bf"
      },
      "source": [
        "import seaborn as sns\n",
        "plt.figure(figsize=(16,9))\n",
        "sns.barplot(\n",
        "    x=train[feature], \n",
        "    y=train['status_group']=='functional', \n",
        "    color='grey'\n",
        ");"
      ],
      "execution_count": null,
      "outputs": [
        {
          "output_type": "display_data",
          "data": {
            "image/png": "[encoded data removed]",
            "text/plain": [
              "<Figure size 1152x648 with 1 Axes>"
            ]
          },
          "metadata": {
            "tags": [],
            "needs_background": "light"
          }
        }
      ]
    },
    {
      "cell_type": "code",
      "metadata": {
        "colab_type": "code",
        "id": "w99mek14gLVv",
        "colab": {
          "base_uri": "https://localhost:8080/"
        },
        "outputId": "aa0751a0-e56c-4f30-fe50-db07b8de4b57"
      },
      "source": [
        "X_train[feature].head(20)"
      ],
      "execution_count": null,
      "outputs": [
        {
          "output_type": "execute_result",
          "data": {
            "text/plain": [
              "43360        gravity\n",
              "7263         gravity\n",
              "2486        handpump\n",
              "313            other\n",
              "52726      motorpump\n",
              "8558         gravity\n",
              "2559         gravity\n",
              "54735      motorpump\n",
              "25763       handpump\n",
              "44540    submersible\n",
              "28603          other\n",
              "4372     submersible\n",
              "30666        gravity\n",
              "6431     submersible\n",
              "57420          other\n",
              "1373         gravity\n",
              "2026         gravity\n",
              "58977       handpump\n",
              "41101        gravity\n",
              "10019        gravity\n",
              "Name: extraction_type_class, dtype: object"
            ]
          },
          "metadata": {
            "tags": []
          },
          "execution_count": 127
        }
      ]
    },
    {
      "cell_type": "markdown",
      "metadata": {
        "colab_type": "text",
        "id": "ezzK2IdbgLVx"
      },
      "source": [
        "### [One Hot Encoding](http://contrib.scikit-learn.org/categorical-encoding/onehot.html)\n",
        "\n",
        "> Onehot (or dummy) coding for categorical features, produces one feature per category, each binary.\n",
        "\n",
        "Warning: May run slow, or run out of memory, with high cardinality categoricals!"
      ]
    },
    {
      "cell_type": "code",
      "metadata": {
        "colab_type": "code",
        "id": "HDQZtV6GgLVy",
        "colab": {
          "base_uri": "https://localhost:8080/"
        },
        "outputId": "f5690329-1fd1-458b-91b2-2dd859da17ed"
      },
      "source": [
        "encoder = ce.OneHotEncoder(use_cat_names=True)\n",
        "encoded = encoder.fit_transform(X_train[[feature]])\n",
        "print(f'{len(encoded.columns)} columns')\n",
        "encoded.head(20)"
      ],
      "execution_count": null,
      "outputs": [
        {
          "output_type": "stream",
          "text": [
            "7 columns\n"
          ],
          "name": "stdout"
        },
        {
          "output_type": "execute_result",
          "data": {
            "text/html": [
              "<div>\n",
              "<style scoped>\n",
              "    .dataframe tbody tr th:only-of-type {\n",
              "        vertical-align: middle;\n",
              "    }\n",
              "\n",
              "    .dataframe tbody tr th {\n",
              "        vertical-align: top;\n",
              "    }\n",
              "\n",
              "    .dataframe thead th {\n",
              "        text-align: right;\n",
              "    }\n",
              "</style>\n",
              "<table border=\"1\" class=\"dataframe\">\n",
              "  <thead>\n",
              "    <tr style=\"text-align: right;\">\n",
              "      <th></th>\n",
              "      <th>extraction_type_class_gravity</th>\n",
              "      <th>extraction_type_class_handpump</th>\n",
              "      <th>extraction_type_class_other</th>\n",
              "      <th>extraction_type_class_motorpump</th>\n",
              "      <th>extraction_type_class_submersible</th>\n",
              "      <th>extraction_type_class_rope pump</th>\n",
              "      <th>extraction_type_class_wind-powered</th>\n",
              "    </tr>\n",
              "  </thead>\n",
              "  <tbody>\n",
              "    <tr>\n",
              "      <th>43360</th>\n",
              "      <td>1</td>\n",
              "      <td>0</td>\n",
              "      <td>0</td>\n",
              "      <td>0</td>\n",
              "      <td>0</td>\n",
              "      <td>0</td>\n",
              "      <td>0</td>\n",
              "    </tr>\n",
              "    <tr>\n",
              "      <th>7263</th>\n",
              "      <td>1</td>\n",
              "      <td>0</td>\n",
              "      <td>0</td>\n",
              "      <td>0</td>\n",
              "      <td>0</td>\n",
              "      <td>0</td>\n",
              "      <td>0</td>\n",
              "    </tr>\n",
              "    <tr>\n",
              "      <th>2486</th>\n",
              "      <td>0</td>\n",
              "      <td>1</td>\n",
              "      <td>0</td>\n",
              "      <td>0</td>\n",
              "      <td>0</td>\n",
              "      <td>0</td>\n",
              "      <td>0</td>\n",
              "    </tr>\n",
              "    <tr>\n",
              "      <th>313</th>\n",
              "      <td>0</td>\n",
              "      <td>0</td>\n",
              "      <td>1</td>\n",
              "      <td>0</td>\n",
              "      <td>0</td>\n",
              "      <td>0</td>\n",
              "      <td>0</td>\n",
              "    </tr>\n",
              "    <tr>\n",
              "      <th>52726</th>\n",
              "      <td>0</td>\n",
              "      <td>0</td>\n",
              "      <td>0</td>\n",
              "      <td>1</td>\n",
              "      <td>0</td>\n",
              "      <td>0</td>\n",
              "      <td>0</td>\n",
              "    </tr>\n",
              "    <tr>\n",
              "      <th>8558</th>\n",
              "      <td>1</td>\n",
              "      <td>0</td>\n",
              "      <td>0</td>\n",
              "      <td>0</td>\n",
              "      <td>0</td>\n",
              "      <td>0</td>\n",
              "      <td>0</td>\n",
              "    </tr>\n",
              "    <tr>\n",
              "      <th>2559</th>\n",
              "      <td>1</td>\n",
              "      <td>0</td>\n",
              "      <td>0</td>\n",
              "      <td>0</td>\n",
              "      <td>0</td>\n",
              "      <td>0</td>\n",
              "      <td>0</td>\n",
              "    </tr>\n",
              "    <tr>\n",
              "      <th>54735</th>\n",
              "      <td>0</td>\n",
              "      <td>0</td>\n",
              "      <td>0</td>\n",
              "      <td>1</td>\n",
              "      <td>0</td>\n",
              "      <td>0</td>\n",
              "      <td>0</td>\n",
              "    </tr>\n",
              "    <tr>\n",
              "      <th>25763</th>\n",
              "      <td>0</td>\n",
              "      <td>1</td>\n",
              "      <td>0</td>\n",
              "      <td>0</td>\n",
              "      <td>0</td>\n",
              "      <td>0</td>\n",
              "      <td>0</td>\n",
              "    </tr>\n",
              "    <tr>\n",
              "      <th>44540</th>\n",
              "      <td>0</td>\n",
              "      <td>0</td>\n",
              "      <td>0</td>\n",
              "      <td>0</td>\n",
              "      <td>1</td>\n",
              "      <td>0</td>\n",
              "      <td>0</td>\n",
              "    </tr>\n",
              "    <tr>\n",
              "      <th>28603</th>\n",
              "      <td>0</td>\n",
              "      <td>0</td>\n",
              "      <td>1</td>\n",
              "      <td>0</td>\n",
              "      <td>0</td>\n",
              "      <td>0</td>\n",
              "      <td>0</td>\n",
              "    </tr>\n",
              "    <tr>\n",
              "      <th>4372</th>\n",
              "      <td>0</td>\n",
              "      <td>0</td>\n",
              "      <td>0</td>\n",
              "      <td>0</td>\n",
              "      <td>1</td>\n",
              "      <td>0</td>\n",
              "      <td>0</td>\n",
              "    </tr>\n",
              "    <tr>\n",
              "      <th>30666</th>\n",
              "      <td>1</td>\n",
              "      <td>0</td>\n",
              "      <td>0</td>\n",
              "      <td>0</td>\n",
              "      <td>0</td>\n",
              "      <td>0</td>\n",
              "      <td>0</td>\n",
              "    </tr>\n",
              "    <tr>\n",
              "      <th>6431</th>\n",
              "      <td>0</td>\n",
              "      <td>0</td>\n",
              "      <td>0</td>\n",
              "      <td>0</td>\n",
              "      <td>1</td>\n",
              "      <td>0</td>\n",
              "      <td>0</td>\n",
              "    </tr>\n",
              "    <tr>\n",
              "      <th>57420</th>\n",
              "      <td>0</td>\n",
              "      <td>0</td>\n",
              "      <td>1</td>\n",
              "      <td>0</td>\n",
              "      <td>0</td>\n",
              "      <td>0</td>\n",
              "      <td>0</td>\n",
              "    </tr>\n",
              "    <tr>\n",
              "      <th>1373</th>\n",
              "      <td>1</td>\n",
              "      <td>0</td>\n",
              "      <td>0</td>\n",
              "      <td>0</td>\n",
              "      <td>0</td>\n",
              "      <td>0</td>\n",
              "      <td>0</td>\n",
              "    </tr>\n",
              "    <tr>\n",
              "      <th>2026</th>\n",
              "      <td>1</td>\n",
              "      <td>0</td>\n",
              "      <td>0</td>\n",
              "      <td>0</td>\n",
              "      <td>0</td>\n",
              "      <td>0</td>\n",
              "      <td>0</td>\n",
              "    </tr>\n",
              "    <tr>\n",
              "      <th>58977</th>\n",
              "      <td>0</td>\n",
              "      <td>1</td>\n",
              "      <td>0</td>\n",
              "      <td>0</td>\n",
              "      <td>0</td>\n",
              "      <td>0</td>\n",
              "      <td>0</td>\n",
              "    </tr>\n",
              "    <tr>\n",
              "      <th>41101</th>\n",
              "      <td>1</td>\n",
              "      <td>0</td>\n",
              "      <td>0</td>\n",
              "      <td>0</td>\n",
              "      <td>0</td>\n",
              "      <td>0</td>\n",
              "      <td>0</td>\n",
              "    </tr>\n",
              "    <tr>\n",
              "      <th>10019</th>\n",
              "      <td>1</td>\n",
              "      <td>0</td>\n",
              "      <td>0</td>\n",
              "      <td>0</td>\n",
              "      <td>0</td>\n",
              "      <td>0</td>\n",
              "      <td>0</td>\n",
              "    </tr>\n",
              "  </tbody>\n",
              "</table>\n",
              "</div>"
            ],
            "text/plain": [
              "       extraction_type_class_gravity  ...  extraction_type_class_wind-powered\n",
              "43360                              1  ...                                   0\n",
              "7263                               1  ...                                   0\n",
              "2486                               0  ...                                   0\n",
              "313                                0  ...                                   0\n",
              "52726                              0  ...                                   0\n",
              "8558                               1  ...                                   0\n",
              "2559                               1  ...                                   0\n",
              "54735                              0  ...                                   0\n",
              "25763                              0  ...                                   0\n",
              "44540                              0  ...                                   0\n",
              "28603                              0  ...                                   0\n",
              "4372                               0  ...                                   0\n",
              "30666                              1  ...                                   0\n",
              "6431                               0  ...                                   0\n",
              "57420                              0  ...                                   0\n",
              "1373                               1  ...                                   0\n",
              "2026                               1  ...                                   0\n",
              "58977                              0  ...                                   0\n",
              "41101                              1  ...                                   0\n",
              "10019                              1  ...                                   0\n",
              "\n",
              "[20 rows x 7 columns]"
            ]
          },
          "metadata": {
            "tags": []
          },
          "execution_count": 128
        }
      ]
    },
    {
      "cell_type": "markdown",
      "metadata": {
        "colab_type": "text",
        "id": "1Ql9Qmw3sNJ7"
      },
      "source": [
        "#### One-Hot Encoding, Logistic Regression, Validation Accuracy"
      ]
    },
    {
      "cell_type": "code",
      "metadata": {
        "colab_type": "code",
        "id": "mT4A-oDGpOss",
        "colab": {
          "base_uri": "https://localhost:8080/"
        },
        "outputId": "f243e702-50be-4c40-d46a-77f7fedcbf39"
      },
      "source": [
        "from sklearn.linear_model import LogisticRegressionCV\n",
        "from sklearn.preprocessing import StandardScaler\n",
        "\n",
        "lr = make_pipeline(\n",
        "    ce.OneHotEncoder(use_cat_names=True), \n",
        "    SimpleImputer(), \n",
        "    StandardScaler(), \n",
        "    LogisticRegressionCV(multi_class='auto', solver='lbfgs', cv=5, n_jobs=-1)\n",
        ")\n",
        "\n",
        "lr.fit(X_train[[feature]], y_train)\n",
        "score = lr.score(X_val[[feature]], y_val)\n",
        "print('Logistic Regression, Validation Accuracy', score)"
      ],
      "execution_count": null,
      "outputs": [
        {
          "output_type": "stream",
          "text": [
            "Logistic Regression, Validation Accuracy 0.6202861952861953\n"
          ],
          "name": "stdout"
        }
      ]
    },
    {
      "cell_type": "markdown",
      "metadata": {
        "colab_type": "text",
        "id": "EbH6wivpsRuV"
      },
      "source": [
        "#### One-Hot Encoding, Decision Tree, Validation Accuracy"
      ]
    },
    {
      "cell_type": "code",
      "metadata": {
        "colab_type": "code",
        "id": "b6KUluFOqIdK",
        "colab": {
          "base_uri": "https://localhost:8080/"
        },
        "outputId": "0c38ff99-3b58-41c3-8667-d4207b139fe3"
      },
      "source": [
        "from sklearn.tree import DecisionTreeClassifier\n",
        "\n",
        "dt = make_pipeline(\n",
        "    ce.OneHotEncoder(use_cat_names=True), \n",
        "    SimpleImputer(), \n",
        "    DecisionTreeClassifier(random_state=42)\n",
        ")\n",
        "\n",
        "dt.fit(X_train[[feature]], y_train)\n",
        "score = dt.score(X_val[[feature]], y_val)\n",
        "print('Decision Tree, Validation Accuracy', score)"
      ],
      "execution_count": null,
      "outputs": [
        {
          "output_type": "stream",
          "text": [
            "Decision Tree, Validation Accuracy 0.6202861952861953\n"
          ],
          "name": "stdout"
        }
      ]
    },
    {
      "cell_type": "markdown",
      "metadata": {
        "colab_type": "text",
        "id": "8yg11_gTsUu6"
      },
      "source": [
        "#### One-Hot Encoding, Logistic Regression, Model Interpretation"
      ]
    },
    {
      "cell_type": "code",
      "metadata": {
        "colab_type": "code",
        "id": "IxHwXGRornNI",
        "colab": {
          "base_uri": "https://localhost:8080/"
        },
        "outputId": "aeb28947-69fd-48ba-993c-f3ba559477cf"
      },
      "source": [
        "model = lr.named_steps['logisticregressioncv']\n",
        "encoder = lr.named_steps['onehotencoder']\n",
        "encoded_columns = encoder.transform(X_val[[feature]]).columns\n",
        "coefficients = pd.Series(model.coef_[0], encoded_columns)\n",
        "coefficients.sort_values().plot.barh(color='grey');"
      ],
      "execution_count": null,
      "outputs": [
        {
          "output_type": "display_data",
          "data": {
            "image/png": "[encoded data removed]",
            "text/plain": [
              "<Figure size 432x288 with 1 Axes>"
            ]
          },
          "metadata": {
            "tags": [],
            "needs_background": "light"
          }
        }
      ]
    },
    {
      "cell_type": "markdown",
      "metadata": {
        "colab_type": "text",
        "id": "0REZ8HdpsccR"
      },
      "source": [
        "#### One-Hot Encoding, Decision Tree, Model Interpretation"
      ]
    },
    {
      "cell_type": "code",
      "metadata": {
        "colab_type": "code",
        "id": "gV-grmYKpDp9",
        "colab": {
          "base_uri": "https://localhost:8080/"
        },
        "outputId": "8cf38275-e1e3-4ea6-b42b-cc0998c94863"
      },
      "source": [
        "# Plot tree\n",
        "# https://scikit-learn.org/stable/modules/generated/sklearn.tree.export_graphviz.html\n",
        "import graphviz\n",
        "from sklearn.tree import export_graphviz\n",
        "\n",
        "model = dt.named_steps['decisiontreeclassifier']\n",
        "encoder = dt.named_steps['onehotencoder']\n",
        "encoded_columns = encoder.transform(X_val[[feature]]).columns\n",
        "\n",
        "dot_data = export_graphviz(model, \n",
        "                           out_file=None, \n",
        "                           max_depth=7, \n",
        "                           feature_names=encoded_columns,\n",
        "                           class_names=model.classes_, \n",
        "                           impurity=False, \n",
        "                           filled=True, \n",
        "                           proportion=True, \n",
        "                           rounded=True)   \n",
        "display(graphviz.Source(dot_data))"
      ],
      "execution_count": null,
      "outputs": [
        {
          "output_type": "display_data",
          "data": {
            "text/plain": [
              "<graphviz.files.Source at 0x7fd604bb9588>"
            ],
            "image/svg+xml": "<?xml version=\"1.0\" encoding=\"UTF-8\" standalone=\"no\"?>\n<!DOCTYPE svg PUBLIC \"-//W3C//DTD SVG 1.1//EN\"\n \"http://www.w3.org/Graphics/SVG/1.1/DTD/svg11.dtd\">\n<!-- Generated by graphviz version 2.40.1 (20161225.0304)\n -->\n<!-- Title: Tree Pages: 1 -->\n<svg width=\"1067pt\" height=\"685pt\"\n viewBox=\"0.00 0.00 1067.00 685.00\" xmlns=\"http://www.w3.org/2000/svg\" xmlns:xlink=\"http://www.w3.org/1999/xlink\">\n<g id=\"graph0\" class=\"graph\" transform=\"scale(1 1) rotate(0) translate(4 681)\">\n<title>Tree</title>\n<polygon fill=\"#ffffff\" stroke=\"transparent\" points=\"-4,4 -4,-681 1063,-681 1063,4 -4,4\"/>\n<!-- 0 -->\n<g id=\"node1\" class=\"node\">\n<title>0</title>\n<path fill=\"#f8decc\" stroke=\"#000000\" d=\"M944.5,-677C944.5,-677 725.5,-677 725.5,-677 719.5,-677 713.5,-671 713.5,-665 713.5,-665 713.5,-621 713.5,-621 713.5,-615 719.5,-609 725.5,-609 725.5,-609 944.5,-609 944.5,-609 950.5,-609 956.5,-615 956.5,-621 956.5,-621 956.5,-665 956.5,-665 956.5,-671 950.5,-677 944.5,-677\"/>\n<text text-anchor=\"middle\" x=\"835\" y=\"-661.8\" font-family=\"Helvetica,sans-Serif\" font-size=\"14.00\" fill=\"#000000\">extraction_type_class_other &lt;= 0.5</text>\n<text text-anchor=\"middle\" x=\"835\" y=\"-646.8\" font-family=\"Helvetica,sans-Serif\" font-size=\"14.00\" fill=\"#000000\">samples = 100.0%</text>\n<text text-anchor=\"middle\" x=\"835\" y=\"-631.8\" font-family=\"Helvetica,sans-Serif\" font-size=\"14.00\" fill=\"#000000\">value = [0.543, 0.073, 0.384]</text>\n<text text-anchor=\"middle\" x=\"835\" y=\"-616.8\" font-family=\"Helvetica,sans-Serif\" font-size=\"14.00\" fill=\"#000000\">class = functional</text>\n</g>\n<!-- 1 -->\n<g id=\"node2\" class=\"node\">\n<title>1</title>\n<path fill=\"#f5ceb2\" stroke=\"#000000\" d=\"M837,-573C837,-573 577,-573 577,-573 571,-573 565,-567 565,-561 565,-561 565,-517 565,-517 565,-511 571,-505 577,-505 577,-505 837,-505 837,-505 843,-505 849,-511 849,-517 849,-517 849,-561 849,-561 849,-567 843,-573 837,-573\"/>\n<text text-anchor=\"middle\" x=\"707\" y=\"-557.8\" font-family=\"Helvetica,sans-Serif\" font-size=\"14.00\" fill=\"#000000\">extraction_type_class_motorpump &lt;= 0.5</text>\n<text text-anchor=\"middle\" x=\"707\" y=\"-542.8\" font-family=\"Helvetica,sans-Serif\" font-size=\"14.00\" fill=\"#000000\">samples = 89.1%</text>\n<text text-anchor=\"middle\" x=\"707\" y=\"-527.8\" font-family=\"Helvetica,sans-Serif\" font-size=\"14.00\" fill=\"#000000\">value = [0.59, 0.078, 0.332]</text>\n<text text-anchor=\"middle\" x=\"707\" y=\"-512.8\" font-family=\"Helvetica,sans-Serif\" font-size=\"14.00\" fill=\"#000000\">class = functional</text>\n</g>\n<!-- 0&#45;&gt;1 -->\n<g id=\"edge1\" class=\"edge\">\n<title>0&#45;&gt;1</title>\n<path fill=\"none\" stroke=\"#000000\" d=\"M793.088,-608.9465C781.485,-599.519 768.7779,-589.1946 756.7741,-579.4415\"/>\n<polygon fill=\"#000000\" stroke=\"#000000\" points=\"758.9744,-576.7196 749.0061,-573.13 754.5602,-582.1524 758.9744,-576.7196\"/>\n<text text-anchor=\"middle\" x=\"751.5786\" y=\"-594.2973\" font-family=\"Helvetica,sans-Serif\" font-size=\"14.00\" fill=\"#000000\">True</text>\n</g>\n<!-- 12 -->\n<g id=\"node13\" class=\"node\">\n<title>12</title>\n<path fill=\"#9d66eb\" stroke=\"#000000\" d=\"M1047,-565.5C1047,-565.5 879,-565.5 879,-565.5 873,-565.5 867,-559.5 867,-553.5 867,-553.5 867,-524.5 867,-524.5 867,-518.5 873,-512.5 879,-512.5 879,-512.5 1047,-512.5 1047,-512.5 1053,-512.5 1059,-518.5 1059,-524.5 1059,-524.5 1059,-553.5 1059,-553.5 1059,-559.5 1053,-565.5 1047,-565.5\"/>\n<text text-anchor=\"middle\" x=\"963\" y=\"-550.3\" font-family=\"Helvetica,sans-Serif\" font-size=\"14.00\" fill=\"#000000\">samples = 10.9%</text>\n<text text-anchor=\"middle\" x=\"963\" y=\"-535.3\" font-family=\"Helvetica,sans-Serif\" font-size=\"14.00\" fill=\"#000000\">value = [0.159, 0.031, 0.81]</text>\n<text text-anchor=\"middle\" x=\"963\" y=\"-520.3\" font-family=\"Helvetica,sans-Serif\" font-size=\"14.00\" fill=\"#000000\">class = non functional</text>\n</g>\n<!-- 0&#45;&gt;12 -->\n<g id=\"edge12\" class=\"edge\">\n<title>0&#45;&gt;12</title>\n<path fill=\"none\" stroke=\"#000000\" d=\"M876.912,-608.9465C891.5533,-597.0504 907.9526,-583.726 922.4785,-571.9237\"/>\n<polygon fill=\"#000000\" stroke=\"#000000\" points=\"924.7786,-574.5645 930.3327,-565.5422 920.3645,-569.1317 924.7786,-574.5645\"/>\n<text text-anchor=\"middle\" x=\"927.7602\" y=\"-586.7095\" font-family=\"Helvetica,sans-Serif\" font-size=\"14.00\" fill=\"#000000\">False</text>\n</g>\n<!-- 2 -->\n<g id=\"node3\" class=\"node\">\n<title>2</title>\n<path fill=\"#f4caac\" stroke=\"#000000\" d=\"M708.5,-469C708.5,-469 443.5,-469 443.5,-469 437.5,-469 431.5,-463 431.5,-457 431.5,-457 431.5,-413 431.5,-413 431.5,-407 437.5,-401 443.5,-401 443.5,-401 708.5,-401 708.5,-401 714.5,-401 720.5,-407 720.5,-413 720.5,-413 720.5,-457 720.5,-457 720.5,-463 714.5,-469 708.5,-469\"/>\n<text text-anchor=\"middle\" x=\"576\" y=\"-453.8\" font-family=\"Helvetica,sans-Serif\" font-size=\"14.00\" fill=\"#000000\">extraction_type_class_submersible &lt;= 0.5</text>\n<text text-anchor=\"middle\" x=\"576\" y=\"-438.8\" font-family=\"Helvetica,sans-Serif\" font-size=\"14.00\" fill=\"#000000\">samples = 84.1%</text>\n<text text-anchor=\"middle\" x=\"576\" y=\"-423.8\" font-family=\"Helvetica,sans-Serif\" font-size=\"14.00\" fill=\"#000000\">value = [0.603, 0.08, 0.318]</text>\n<text text-anchor=\"middle\" x=\"576\" y=\"-408.8\" font-family=\"Helvetica,sans-Serif\" font-size=\"14.00\" fill=\"#000000\">class = functional</text>\n</g>\n<!-- 1&#45;&gt;2 -->\n<g id=\"edge2\" class=\"edge\">\n<title>1&#45;&gt;2</title>\n<path fill=\"none\" stroke=\"#000000\" d=\"M664.1057,-504.9465C652.2307,-495.519 639.2259,-485.1946 626.9407,-475.4415\"/>\n<polygon fill=\"#000000\" stroke=\"#000000\" points=\"628.9989,-472.6066 618.9907,-469.13 624.6464,-478.089 628.9989,-472.6066\"/>\n</g>\n<!-- 11 -->\n<g id=\"node12\" class=\"node\">\n<title>11</title>\n<path fill=\"#d8c1f7\" stroke=\"#000000\" d=\"M927,-461.5C927,-461.5 751,-461.5 751,-461.5 745,-461.5 739,-455.5 739,-449.5 739,-449.5 739,-420.5 739,-420.5 739,-414.5 745,-408.5 751,-408.5 751,-408.5 927,-408.5 927,-408.5 933,-408.5 939,-414.5 939,-420.5 939,-420.5 939,-449.5 939,-449.5 939,-455.5 933,-461.5 927,-461.5\"/>\n<text text-anchor=\"middle\" x=\"839\" y=\"-446.3\" font-family=\"Helvetica,sans-Serif\" font-size=\"14.00\" fill=\"#000000\">samples = 5.0%</text>\n<text text-anchor=\"middle\" x=\"839\" y=\"-431.3\" font-family=\"Helvetica,sans-Serif\" font-size=\"14.00\" fill=\"#000000\">value = [0.381, 0.045, 0.574]</text>\n<text text-anchor=\"middle\" x=\"839\" y=\"-416.3\" font-family=\"Helvetica,sans-Serif\" font-size=\"14.00\" fill=\"#000000\">class = non functional</text>\n</g>\n<!-- 1&#45;&gt;11 -->\n<g id=\"edge11\" class=\"edge\">\n<title>1&#45;&gt;11</title>\n<path fill=\"none\" stroke=\"#000000\" d=\"M750.2217,-504.9465C765.3206,-493.0504 782.2324,-479.726 797.2122,-467.9237\"/>\n<polygon fill=\"#000000\" stroke=\"#000000\" points=\"799.623,-470.4802 805.3119,-461.5422 795.2909,-464.9817 799.623,-470.4802\"/>\n</g>\n<!-- 3 -->\n<g id=\"node4\" class=\"node\">\n<title>3</title>\n<path fill=\"#f4c7a8\" stroke=\"#000000\" d=\"M568.5,-365C568.5,-365 339.5,-365 339.5,-365 333.5,-365 327.5,-359 327.5,-353 327.5,-353 327.5,-309 327.5,-309 327.5,-303 333.5,-297 339.5,-297 339.5,-297 568.5,-297 568.5,-297 574.5,-297 580.5,-303 580.5,-309 580.5,-309 580.5,-353 580.5,-353 580.5,-359 574.5,-365 568.5,-365\"/>\n<text text-anchor=\"middle\" x=\"454\" y=\"-349.8\" font-family=\"Helvetica,sans-Serif\" font-size=\"14.00\" fill=\"#000000\">extraction_type_class_gravity &lt;= 0.5</text>\n<text text-anchor=\"middle\" x=\"454\" y=\"-334.8\" font-family=\"Helvetica,sans-Serif\" font-size=\"14.00\" fill=\"#000000\">samples = 73.8%</text>\n<text text-anchor=\"middle\" x=\"454\" y=\"-319.8\" font-family=\"Helvetica,sans-Serif\" font-size=\"14.00\" fill=\"#000000\">value = [0.611, 0.085, 0.304]</text>\n<text text-anchor=\"middle\" x=\"454\" y=\"-304.8\" font-family=\"Helvetica,sans-Serif\" font-size=\"14.00\" fill=\"#000000\">class = functional</text>\n</g>\n<!-- 2&#45;&gt;3 -->\n<g id=\"edge3\" class=\"edge\">\n<title>2&#45;&gt;3</title>\n<path fill=\"none\" stroke=\"#000000\" d=\"M536.0526,-400.9465C525.0988,-391.6088 513.1127,-381.3911 501.768,-371.7203\"/>\n<polygon fill=\"#000000\" stroke=\"#000000\" points=\"503.9179,-368.9538 494.0371,-365.13 499.3767,-374.2809 503.9179,-368.9538\"/>\n</g>\n<!-- 10 -->\n<g id=\"node11\" class=\"node\">\n<title>10</title>\n<path fill=\"#f9e4d5\" stroke=\"#000000\" d=\"M787,-357.5C787,-357.5 611,-357.5 611,-357.5 605,-357.5 599,-351.5 599,-345.5 599,-345.5 599,-316.5 599,-316.5 599,-310.5 605,-304.5 611,-304.5 611,-304.5 787,-304.5 787,-304.5 793,-304.5 799,-310.5 799,-316.5 799,-316.5 799,-345.5 799,-345.5 799,-351.5 793,-357.5 787,-357.5\"/>\n<text text-anchor=\"middle\" x=\"699\" y=\"-342.3\" font-family=\"Helvetica,sans-Serif\" font-size=\"14.00\" fill=\"#000000\">samples = 10.3%</text>\n<text text-anchor=\"middle\" x=\"699\" y=\"-327.3\" font-family=\"Helvetica,sans-Serif\" font-size=\"14.00\" fill=\"#000000\">value = [0.541, 0.042, 0.416]</text>\n<text text-anchor=\"middle\" x=\"699\" y=\"-312.3\" font-family=\"Helvetica,sans-Serif\" font-size=\"14.00\" fill=\"#000000\">class = functional</text>\n</g>\n<!-- 2&#45;&gt;10 -->\n<g id=\"edge10\" class=\"edge\">\n<title>2&#45;&gt;10</title>\n<path fill=\"none\" stroke=\"#000000\" d=\"M616.2748,-400.9465C630.2139,-389.1606 645.8112,-375.9726 659.6732,-364.2519\"/>\n<polygon fill=\"#000000\" stroke=\"#000000\" points=\"662.2324,-366.6715 667.6088,-357.5422 657.7127,-361.3262 662.2324,-366.6715\"/>\n</g>\n<!-- 4 -->\n<g id=\"node5\" class=\"node\">\n<title>4</title>\n<path fill=\"#f3c5a4\" stroke=\"#000000\" d=\"M458.5,-261C458.5,-261 181.5,-261 181.5,-261 175.5,-261 169.5,-255 169.5,-249 169.5,-249 169.5,-205 169.5,-205 169.5,-199 175.5,-193 181.5,-193 181.5,-193 458.5,-193 458.5,-193 464.5,-193 470.5,-199 470.5,-205 470.5,-205 470.5,-249 470.5,-249 470.5,-255 464.5,-261 458.5,-261\"/>\n<text text-anchor=\"middle\" x=\"320\" y=\"-245.8\" font-family=\"Helvetica,sans-Serif\" font-size=\"14.00\" fill=\"#000000\">extraction_type_class_wind&#45;powered &lt;= 0.5</text>\n<text text-anchor=\"middle\" x=\"320\" y=\"-230.8\" font-family=\"Helvetica,sans-Serif\" font-size=\"14.00\" fill=\"#000000\">samples = 28.7%</text>\n<text text-anchor=\"middle\" x=\"320\" y=\"-215.8\" font-family=\"Helvetica,sans-Serif\" font-size=\"14.00\" fill=\"#000000\">value = [0.629, 0.059, 0.311]</text>\n<text text-anchor=\"middle\" x=\"320\" y=\"-200.8\" font-family=\"Helvetica,sans-Serif\" font-size=\"14.00\" fill=\"#000000\">class = functional</text>\n</g>\n<!-- 3&#45;&gt;4 -->\n<g id=\"edge4\" class=\"edge\">\n<title>3&#45;&gt;4</title>\n<path fill=\"none\" stroke=\"#000000\" d=\"M410.1234,-296.9465C397.9765,-287.519 384.6738,-277.1946 372.1073,-267.4415\"/>\n<polygon fill=\"#000000\" stroke=\"#000000\" points=\"374.021,-264.4963 363.9752,-261.13 369.7291,-270.0262 374.021,-264.4963\"/>\n</g>\n<!-- 9 -->\n<g id=\"node10\" class=\"node\">\n<title>9</title>\n<path fill=\"#f4c9aa\" stroke=\"#000000\" d=\"M677,-253.5C677,-253.5 501,-253.5 501,-253.5 495,-253.5 489,-247.5 489,-241.5 489,-241.5 489,-212.5 489,-212.5 489,-206.5 495,-200.5 501,-200.5 501,-200.5 677,-200.5 677,-200.5 683,-200.5 689,-206.5 689,-212.5 689,-212.5 689,-241.5 689,-241.5 689,-247.5 683,-253.5 677,-253.5\"/>\n<text text-anchor=\"middle\" x=\"589\" y=\"-238.3\" font-family=\"Helvetica,sans-Serif\" font-size=\"14.00\" fill=\"#000000\">samples = 45.1%</text>\n<text text-anchor=\"middle\" x=\"589\" y=\"-223.3\" font-family=\"Helvetica,sans-Serif\" font-size=\"14.00\" fill=\"#000000\">value = [0.599, 0.101, 0.299]</text>\n<text text-anchor=\"middle\" x=\"589\" y=\"-208.3\" font-family=\"Helvetica,sans-Serif\" font-size=\"14.00\" fill=\"#000000\">class = functional</text>\n</g>\n<!-- 3&#45;&gt;9 -->\n<g id=\"edge9\" class=\"edge\">\n<title>3&#45;&gt;9</title>\n<path fill=\"none\" stroke=\"#000000\" d=\"M498.204,-296.9465C513.6461,-285.0504 530.9422,-271.726 546.2625,-259.9237\"/>\n<polygon fill=\"#000000\" stroke=\"#000000\" points=\"548.7603,-262.4176 554.5462,-253.5422 544.4883,-256.8723 548.7603,-262.4176\"/>\n</g>\n<!-- 5 -->\n<g id=\"node6\" class=\"node\">\n<title>5</title>\n<path fill=\"#f3c4a3\" stroke=\"#000000\" d=\"M319,-157C319,-157 63,-157 63,-157 57,-157 51,-151 51,-145 51,-145 51,-101 51,-101 51,-95 57,-89 63,-89 63,-89 319,-89 319,-89 325,-89 331,-95 331,-101 331,-101 331,-145 331,-145 331,-151 325,-157 319,-157\"/>\n<text text-anchor=\"middle\" x=\"191\" y=\"-141.8\" font-family=\"Helvetica,sans-Serif\" font-size=\"14.00\" fill=\"#000000\">extraction_type_class_rope pump &lt;= 0.5</text>\n<text text-anchor=\"middle\" x=\"191\" y=\"-126.8\" font-family=\"Helvetica,sans-Serif\" font-size=\"14.00\" fill=\"#000000\">samples = 28.5%</text>\n<text text-anchor=\"middle\" x=\"191\" y=\"-111.8\" font-family=\"Helvetica,sans-Serif\" font-size=\"14.00\" fill=\"#000000\">value = [0.631, 0.059, 0.31]</text>\n<text text-anchor=\"middle\" x=\"191\" y=\"-96.8\" font-family=\"Helvetica,sans-Serif\" font-size=\"14.00\" fill=\"#000000\">class = functional</text>\n</g>\n<!-- 4&#45;&gt;5 -->\n<g id=\"edge5\" class=\"edge\">\n<title>4&#45;&gt;5</title>\n<path fill=\"none\" stroke=\"#000000\" d=\"M277.7606,-192.9465C266.0669,-183.519 253.2606,-173.1946 241.163,-163.4415\"/>\n<polygon fill=\"#000000\" stroke=\"#000000\" points=\"243.3162,-160.6816 233.3343,-157.13 238.9227,-166.1312 243.3162,-160.6816\"/>\n</g>\n<!-- 8 -->\n<g id=\"node9\" class=\"node\">\n<title>8</title>\n<path fill=\"#f8f3fd\" stroke=\"#000000\" d=\"M537,-149.5C537,-149.5 361,-149.5 361,-149.5 355,-149.5 349,-143.5 349,-137.5 349,-137.5 349,-108.5 349,-108.5 349,-102.5 355,-96.5 361,-96.5 361,-96.5 537,-96.5 537,-96.5 543,-96.5 549,-102.5 549,-108.5 549,-108.5 549,-137.5 549,-137.5 549,-143.5 543,-149.5 537,-149.5\"/>\n<text text-anchor=\"middle\" x=\"449\" y=\"-134.3\" font-family=\"Helvetica,sans-Serif\" font-size=\"14.00\" fill=\"#000000\">samples = 0.2%</text>\n<text text-anchor=\"middle\" x=\"449\" y=\"-119.3\" font-family=\"Helvetica,sans-Serif\" font-size=\"14.00\" fill=\"#000000\">value = [0.452, 0.065, 0.484]</text>\n<text text-anchor=\"middle\" x=\"449\" y=\"-104.3\" font-family=\"Helvetica,sans-Serif\" font-size=\"14.00\" fill=\"#000000\">class = non functional</text>\n</g>\n<!-- 4&#45;&gt;8 -->\n<g id=\"edge8\" class=\"edge\">\n<title>4&#45;&gt;8</title>\n<path fill=\"none\" stroke=\"#000000\" d=\"M362.2394,-192.9465C376.9952,-181.0504 393.5225,-167.726 408.162,-155.9237\"/>\n<polygon fill=\"#000000\" stroke=\"#000000\" points=\"410.4891,-158.5433 416.0775,-149.5422 406.0957,-153.0938 410.4891,-158.5433\"/>\n</g>\n<!-- 6 -->\n<g id=\"node7\" class=\"node\">\n<title>6</title>\n<path fill=\"#f3c5a3\" stroke=\"#000000\" d=\"M164,-53C164,-53 12,-53 12,-53 6,-53 0,-47 0,-41 0,-41 0,-12 0,-12 0,-6 6,0 12,0 12,0 164,0 164,0 170,0 176,-6 176,-12 176,-12 176,-41 176,-41 176,-47 170,-53 164,-53\"/>\n<text text-anchor=\"middle\" x=\"88\" y=\"-37.8\" font-family=\"Helvetica,sans-Serif\" font-size=\"14.00\" fill=\"#000000\">samples = 27.7%</text>\n<text text-anchor=\"middle\" x=\"88\" y=\"-22.8\" font-family=\"Helvetica,sans-Serif\" font-size=\"14.00\" fill=\"#000000\">value = [0.63, 0.06, 0.31]</text>\n<text text-anchor=\"middle\" x=\"88\" y=\"-7.8\" font-family=\"Helvetica,sans-Serif\" font-size=\"14.00\" fill=\"#000000\">class = functional</text>\n</g>\n<!-- 5&#45;&gt;6 -->\n<g id=\"edge6\" class=\"edge\">\n<title>5&#45;&gt;6</title>\n<path fill=\"none\" stroke=\"#000000\" d=\"M154.6861,-88.9777C144.7168,-79.6376 133.9138,-69.5163 123.9643,-60.1947\"/>\n<polygon fill=\"#000000\" stroke=\"#000000\" points=\"126.2408,-57.5314 116.5502,-53.2485 121.4548,-62.6397 126.2408,-57.5314\"/>\n</g>\n<!-- 7 -->\n<g id=\"node8\" class=\"node\">\n<title>7</title>\n<path fill=\"#f2bf9b\" stroke=\"#000000\" d=\"M382,-53C382,-53 206,-53 206,-53 200,-53 194,-47 194,-41 194,-41 194,-12 194,-12 194,-6 200,0 206,0 206,0 382,0 382,0 388,0 394,-6 394,-12 394,-12 394,-41 394,-41 394,-47 388,-53 382,-53\"/>\n<text text-anchor=\"middle\" x=\"294\" y=\"-37.8\" font-family=\"Helvetica,sans-Serif\" font-size=\"14.00\" fill=\"#000000\">samples = 0.7%</text>\n<text text-anchor=\"middle\" x=\"294\" y=\"-22.8\" font-family=\"Helvetica,sans-Serif\" font-size=\"14.00\" fill=\"#000000\">value = [0.657, 0.037, 0.306]</text>\n<text text-anchor=\"middle\" x=\"294\" y=\"-7.8\" font-family=\"Helvetica,sans-Serif\" font-size=\"14.00\" fill=\"#000000\">class = functional</text>\n</g>\n<!-- 5&#45;&gt;7 -->\n<g id=\"edge7\" class=\"edge\">\n<title>5&#45;&gt;7</title>\n<path fill=\"none\" stroke=\"#000000\" d=\"M227.3139,-88.9777C237.2832,-79.6376 248.0862,-69.5163 258.0357,-60.1947\"/>\n<polygon fill=\"#000000\" stroke=\"#000000\" points=\"260.5452,-62.6397 265.4498,-53.2485 255.7592,-57.5314 260.5452,-62.6397\"/>\n</g>\n</g>\n</svg>\n"
          },
          "metadata": {
            "tags": []
          }
        }
      ]
    },
    {
      "cell_type": "code",
      "metadata": {
        "id": "31V7L6bVjmEA",
        "colab_type": "code",
        "colab": {
          "base_uri": "https://localhost:8080/"
        },
        "outputId": "43705e59-ccd6-4fbd-c0e4-e910ae95c48b"
      },
      "source": [
        "pipeline"
      ],
      "execution_count": null,
      "outputs": [
        {
          "output_type": "execute_result",
          "data": {
            "text/plain": [
              "Pipeline(memory=None,\n",
              "         steps=[('ordinalencoder',\n",
              "                 OrdinalEncoder(cols=['funder', 'installer', 'wpt_name',\n",
              "                                      'basin', 'subvillage', 'region', 'lga',\n",
              "                                      'ward', 'public_meeting',\n",
              "                                      'scheme_management', 'scheme_name',\n",
              "                                      'permit', 'extraction_type',\n",
              "                                      'extraction_type_group',\n",
              "                                      'extraction_type_class', 'management',\n",
              "                                      'management_group', 'payment',\n",
              "                                      'water_quality', 'quality_group',\n",
              "                                      'quantit...\n",
              "                 RandomForestClassifier(bootstrap=True, ccp_alpha=0.0,\n",
              "                                        class_weight=None, criterion='gini',\n",
              "                                        max_depth=None, max_features='auto',\n",
              "                                        max_leaf_nodes=None, max_samples=None,\n",
              "                                        min_impurity_decrease=0.0,\n",
              "                                        min_impurity_split=None,\n",
              "                                        min_samples_leaf=1, min_samples_split=2,\n",
              "                                        min_weight_fraction_leaf=0.0,\n",
              "                                        n_estimators=100, n_jobs=-1,\n",
              "                                        oob_score=False, random_state=0,\n",
              "                                        verbose=0, warm_start=False))],\n",
              "         verbose=False)"
            ]
          },
          "metadata": {
            "tags": []
          },
          "execution_count": 133
        }
      ]
    },
    {
      "cell_type": "markdown",
      "metadata": {
        "colab_type": "text",
        "id": "QUd6gzcZgLVz"
      },
      "source": [
        "### [Ordinal Encoding](http://contrib.scikit-learn.org/categorical-encoding/ordinal.html)\n",
        "\n",
        "> Ordinal encoding uses a single column of integers to represent the classes. An optional mapping dict can be passed in; in this case, we use the knowledge that there is some true order to the classes themselves. Otherwise, the classes are assumed to have no true order and integers are selected at random."
      ]
    },
    {
      "cell_type": "code",
      "metadata": {
        "id": "096jZpLUnU9B",
        "colab_type": "code",
        "colab": {
          "base_uri": "https://localhost:8080/"
        },
        "outputId": "ec5e162e-61a6-4f86-c2e8-d4668b87c9cc"
      },
      "source": [
        "# what does the original column look like?\n",
        "X_train[[feature]].head()"
      ],
      "execution_count": null,
      "outputs": [
        {
          "output_type": "execute_result",
          "data": {
            "text/html": [
              "<div>\n",
              "<style scoped>\n",
              "    .dataframe tbody tr th:only-of-type {\n",
              "        vertical-align: middle;\n",
              "    }\n",
              "\n",
              "    .dataframe tbody tr th {\n",
              "        vertical-align: top;\n",
              "    }\n",
              "\n",
              "    .dataframe thead th {\n",
              "        text-align: right;\n",
              "    }\n",
              "</style>\n",
              "<table border=\"1\" class=\"dataframe\">\n",
              "  <thead>\n",
              "    <tr style=\"text-align: right;\">\n",
              "      <th></th>\n",
              "      <th>extraction_type_class</th>\n",
              "    </tr>\n",
              "  </thead>\n",
              "  <tbody>\n",
              "    <tr>\n",
              "      <th>43360</th>\n",
              "      <td>gravity</td>\n",
              "    </tr>\n",
              "    <tr>\n",
              "      <th>7263</th>\n",
              "      <td>gravity</td>\n",
              "    </tr>\n",
              "    <tr>\n",
              "      <th>2486</th>\n",
              "      <td>handpump</td>\n",
              "    </tr>\n",
              "    <tr>\n",
              "      <th>313</th>\n",
              "      <td>other</td>\n",
              "    </tr>\n",
              "    <tr>\n",
              "      <th>52726</th>\n",
              "      <td>motorpump</td>\n",
              "    </tr>\n",
              "  </tbody>\n",
              "</table>\n",
              "</div>"
            ],
            "text/plain": [
              "      extraction_type_class\n",
              "43360               gravity\n",
              "7263                gravity\n",
              "2486               handpump\n",
              "313                   other\n",
              "52726             motorpump"
            ]
          },
          "metadata": {
            "tags": []
          },
          "execution_count": 134
        }
      ]
    },
    {
      "cell_type": "code",
      "metadata": {
        "colab_type": "code",
        "id": "CnBz2RbwgLVz",
        "colab": {
          "base_uri": "https://localhost:8080/"
        },
        "outputId": "b5a5e725-2281-4e26-e48d-cc0f4183a210"
      },
      "source": [
        "# let's apply ordinal encoding to that column!\n",
        "encoder = ce.OrdinalEncoder()\n",
        "encoded = encoder.fit_transform(X_train[[feature]])\n",
        "print(f'1 column, {encoded[feature].nunique()} unique values')\n",
        "encoded.head(5)"
      ],
      "execution_count": null,
      "outputs": [
        {
          "output_type": "stream",
          "text": [
            "1 column, 7 unique values\n"
          ],
          "name": "stdout"
        },
        {
          "output_type": "execute_result",
          "data": {
            "text/html": [
              "<div>\n",
              "<style scoped>\n",
              "    .dataframe tbody tr th:only-of-type {\n",
              "        vertical-align: middle;\n",
              "    }\n",
              "\n",
              "    .dataframe tbody tr th {\n",
              "        vertical-align: top;\n",
              "    }\n",
              "\n",
              "    .dataframe thead th {\n",
              "        text-align: right;\n",
              "    }\n",
              "</style>\n",
              "<table border=\"1\" class=\"dataframe\">\n",
              "  <thead>\n",
              "    <tr style=\"text-align: right;\">\n",
              "      <th></th>\n",
              "      <th>extraction_type_class</th>\n",
              "    </tr>\n",
              "  </thead>\n",
              "  <tbody>\n",
              "    <tr>\n",
              "      <th>43360</th>\n",
              "      <td>1</td>\n",
              "    </tr>\n",
              "    <tr>\n",
              "      <th>7263</th>\n",
              "      <td>1</td>\n",
              "    </tr>\n",
              "    <tr>\n",
              "      <th>2486</th>\n",
              "      <td>2</td>\n",
              "    </tr>\n",
              "    <tr>\n",
              "      <th>313</th>\n",
              "      <td>3</td>\n",
              "    </tr>\n",
              "    <tr>\n",
              "      <th>52726</th>\n",
              "      <td>4</td>\n",
              "    </tr>\n",
              "  </tbody>\n",
              "</table>\n",
              "</div>"
            ],
            "text/plain": [
              "       extraction_type_class\n",
              "43360                      1\n",
              "7263                       1\n",
              "2486                       2\n",
              "313                        3\n",
              "52726                      4"
            ]
          },
          "metadata": {
            "tags": []
          },
          "execution_count": 135
        }
      ]
    },
    {
      "cell_type": "code",
      "metadata": {
        "id": "NjGac1dUnMP3",
        "colab_type": "code",
        "colab": {
          "base_uri": "https://localhost:8080/"
        },
        "outputId": "fad1ebf3-f095-4fad-e3d3-0f959c79226d"
      },
      "source": [
        "# what are the new values?\n",
        "encoded['extraction_type_class'].value_counts()"
      ],
      "execution_count": null,
      "outputs": [
        {
          "output_type": "execute_result",
          "data": {
            "text/plain": [
              "1    21448\n",
              "2    13184\n",
              "3     5193\n",
              "5     4894\n",
              "4     2355\n",
              "6      353\n",
              "7       93\n",
              "Name: extraction_type_class, dtype: int64"
            ]
          },
          "metadata": {
            "tags": []
          },
          "execution_count": 136
        }
      ]
    },
    {
      "cell_type": "code",
      "metadata": {
        "id": "k3oNEIsanuDl",
        "colab_type": "code",
        "colab": {}
      },
      "source": [
        ""
      ],
      "execution_count": null,
      "outputs": []
    },
    {
      "cell_type": "markdown",
      "metadata": {
        "id": "Ux4JCVS8nwD7",
        "colab_type": "text"
      },
      "source": [
        "#### Beware! Ordinal encoding works well with Tree Models but will ruin your linear models."
      ]
    },
    {
      "cell_type": "markdown",
      "metadata": {
        "colab_type": "text",
        "id": "Nd-ZWprasqUM"
      },
      "source": [
        "#### Ordinal Encoding, Logistic Regression, Validation Accuracy"
      ]
    },
    {
      "cell_type": "code",
      "metadata": {
        "colab_type": "code",
        "id": "GJ1YpwjvrhfL",
        "colab": {
          "base_uri": "https://localhost:8080/"
        },
        "outputId": "c125c7f9-f596-4cfb-de21-3aaead390386"
      },
      "source": [
        "lr = make_pipeline(\n",
        "    ce.OrdinalEncoder(), \n",
        "    SimpleImputer(), \n",
        "    StandardScaler(), \n",
        "    LogisticRegressionCV(multi_class='auto', solver='lbfgs', cv=5, n_jobs=-1)\n",
        ")\n",
        "\n",
        "lr.fit(X_train[[feature]], y_train)\n",
        "score = lr.score(X_val[[feature]], y_val)\n",
        "print('Logistic Regression, Validation Accuracy', score)"
      ],
      "execution_count": null,
      "outputs": [
        {
          "output_type": "stream",
          "text": [
            "Logistic Regression, Validation Accuracy 0.5417508417508418\n"
          ],
          "name": "stdout"
        }
      ]
    },
    {
      "cell_type": "markdown",
      "metadata": {
        "colab_type": "text",
        "id": "9lO_R3SksuHs"
      },
      "source": [
        "#### Ordinal Encoding, Decision Tree, Validation Accuracy"
      ]
    },
    {
      "cell_type": "code",
      "metadata": {
        "colab_type": "code",
        "id": "aOELD_roriVI",
        "colab": {
          "base_uri": "https://localhost:8080/"
        },
        "outputId": "71d0f30d-1f1e-4d6b-dc4f-c6ce6d291bd6"
      },
      "source": [
        "dt = make_pipeline(\n",
        "    ce.OrdinalEncoder(), \n",
        "    SimpleImputer(), \n",
        "    DecisionTreeClassifier(random_state=42)\n",
        ")\n",
        "\n",
        "dt.fit(X_train[[feature]], y_train)\n",
        "score = dt.score(X_val[[feature]], y_val)\n",
        "print('Decision Tree, Validation Accuracy', score)"
      ],
      "execution_count": null,
      "outputs": [
        {
          "output_type": "stream",
          "text": [
            "Decision Tree, Validation Accuracy 0.6202861952861953\n"
          ],
          "name": "stdout"
        }
      ]
    },
    {
      "cell_type": "markdown",
      "metadata": {
        "colab_type": "text",
        "id": "7V2zHjiwswTg"
      },
      "source": [
        "#### Ordinal Encoding, Logistic Regression, Model Interpretation"
      ]
    },
    {
      "cell_type": "code",
      "metadata": {
        "colab_type": "code",
        "id": "S9UPYPois8QR",
        "colab": {
          "base_uri": "https://localhost:8080/"
        },
        "outputId": "d3c12760-f9e4-4bbb-cf33-10b6a75ffb0d"
      },
      "source": [
        "model = lr.named_steps['logisticregressioncv']\n",
        "encoder = lr.named_steps['ordinalencoder']\n",
        "encoded_columns = encoder.transform(X_val[[feature]]).columns\n",
        "coefficients = pd.Series(model.coef_[0], encoded_columns)\n",
        "coefficients.sort_values().plot.barh(color='grey');"
      ],
      "execution_count": null,
      "outputs": [
        {
          "output_type": "display_data",
          "data": {
            "image/png": "[encoded data removed]",
            "text/plain": [
              "<Figure size 432x288 with 1 Axes>"
            ]
          },
          "metadata": {
            "tags": [],
            "needs_background": "light"
          }
        }
      ]
    },
    {
      "cell_type": "markdown",
      "metadata": {
        "colab_type": "text",
        "id": "MvmmvE8fsymh"
      },
      "source": [
        "#### Ordinal Encoding, Decision Tree, Model Interpretation"
      ]
    },
    {
      "cell_type": "code",
      "metadata": {
        "colab_type": "code",
        "id": "jCvUu4Oms88b",
        "colab": {
          "base_uri": "https://localhost:8080/"
        },
        "outputId": "f7b32e22-e9e5-4b3a-c9e2-f248b6b2571a"
      },
      "source": [
        "model = dt.named_steps['decisiontreeclassifier']\n",
        "encoder = dt.named_steps['ordinalencoder']\n",
        "encoded_columns = encoder.transform(X_val[[feature]]).columns\n",
        "\n",
        "dot_data = export_graphviz(model, \n",
        "                           out_file=None, \n",
        "                           max_depth=5, \n",
        "                           feature_names=encoded_columns,\n",
        "                           class_names=model.classes_, \n",
        "                           impurity=False, \n",
        "                           filled=True, \n",
        "                           proportion=True, \n",
        "                           rounded=True)   \n",
        "display(graphviz.Source(dot_data))"
      ],
      "execution_count": null,
      "outputs": [
        {
          "output_type": "display_data",
          "data": {
            "text/plain": [
              "<graphviz.files.Source at 0x7fd604ee6c18>"
            ],
            "image/svg+xml": "<?xml version=\"1.0\" encoding=\"UTF-8\" standalone=\"no\"?>\n<!DOCTYPE svg PUBLIC \"-//W3C//DTD SVG 1.1//EN\"\n \"http://www.w3.org/Graphics/SVG/1.1/DTD/svg11.dtd\">\n<!-- Generated by graphviz version 2.40.1 (20161225.0304)\n -->\n<!-- Title: Tree Pages: 1 -->\n<svg width=\"1167pt\" height=\"581pt\"\n viewBox=\"0.00 0.00 1167.00 581.00\" xmlns=\"http://www.w3.org/2000/svg\" xmlns:xlink=\"http://www.w3.org/1999/xlink\">\n<g id=\"graph0\" class=\"graph\" transform=\"scale(1 1) rotate(0) translate(4 577)\">\n<title>Tree</title>\n<polygon fill=\"#ffffff\" stroke=\"transparent\" points=\"-4,4 -4,-577 1163,-577 1163,4 -4,4\"/>\n<!-- 0 -->\n<g id=\"node1\" class=\"node\">\n<title>0</title>\n<path fill=\"#f8decc\" stroke=\"#000000\" d=\"M500,-573C500,-573 322,-573 322,-573 316,-573 310,-567 310,-561 310,-561 310,-517 310,-517 310,-511 316,-505 322,-505 322,-505 500,-505 500,-505 506,-505 512,-511 512,-517 512,-517 512,-561 512,-561 512,-567 506,-573 500,-573\"/>\n<text text-anchor=\"middle\" x=\"411\" y=\"-557.8\" font-family=\"Helvetica,sans-Serif\" font-size=\"14.00\" fill=\"#000000\">extraction_type_class &lt;= 2.5</text>\n<text text-anchor=\"middle\" x=\"411\" y=\"-542.8\" font-family=\"Helvetica,sans-Serif\" font-size=\"14.00\" fill=\"#000000\">samples = 100.0%</text>\n<text text-anchor=\"middle\" x=\"411\" y=\"-527.8\" font-family=\"Helvetica,sans-Serif\" font-size=\"14.00\" fill=\"#000000\">value = [0.543, 0.073, 0.384]</text>\n<text text-anchor=\"middle\" x=\"411\" y=\"-512.8\" font-family=\"Helvetica,sans-Serif\" font-size=\"14.00\" fill=\"#000000\">class = functional</text>\n</g>\n<!-- 1 -->\n<g id=\"node2\" class=\"node\">\n<title>1</title>\n<path fill=\"#f4c7a8\" stroke=\"#000000\" d=\"M390,-469C390,-469 212,-469 212,-469 206,-469 200,-463 200,-457 200,-457 200,-413 200,-413 200,-407 206,-401 212,-401 212,-401 390,-401 390,-401 396,-401 402,-407 402,-413 402,-413 402,-457 402,-457 402,-463 396,-469 390,-469\"/>\n<text text-anchor=\"middle\" x=\"301\" y=\"-453.8\" font-family=\"Helvetica,sans-Serif\" font-size=\"14.00\" fill=\"#000000\">extraction_type_class &lt;= 1.5</text>\n<text text-anchor=\"middle\" x=\"301\" y=\"-438.8\" font-family=\"Helvetica,sans-Serif\" font-size=\"14.00\" fill=\"#000000\">samples = 72.9%</text>\n<text text-anchor=\"middle\" x=\"301\" y=\"-423.8\" font-family=\"Helvetica,sans-Serif\" font-size=\"14.00\" fill=\"#000000\">value = [0.611, 0.085, 0.304]</text>\n<text text-anchor=\"middle\" x=\"301\" y=\"-408.8\" font-family=\"Helvetica,sans-Serif\" font-size=\"14.00\" fill=\"#000000\">class = functional</text>\n</g>\n<!-- 0&#45;&gt;1 -->\n<g id=\"edge1\" class=\"edge\">\n<title>0&#45;&gt;1</title>\n<path fill=\"none\" stroke=\"#000000\" d=\"M374.9819,-504.9465C365.2954,-495.7884 354.7136,-485.7838 344.6603,-476.2788\"/>\n<polygon fill=\"#000000\" stroke=\"#000000\" points=\"346.7701,-473.4569 337.099,-469.13 341.961,-478.5434 346.7701,-473.4569\"/>\n<text text-anchor=\"middle\" x=\"337.7997\" y=\"-490.4202\" font-family=\"Helvetica,sans-Serif\" font-size=\"14.00\" fill=\"#000000\">True</text>\n</g>\n<!-- 4 -->\n<g id=\"node5\" class=\"node\">\n<title>4</title>\n<path fill=\"#d0b4f5\" stroke=\"#000000\" d=\"M610,-469C610,-469 432,-469 432,-469 426,-469 420,-463 420,-457 420,-457 420,-413 420,-413 420,-407 426,-401 432,-401 432,-401 610,-401 610,-401 616,-401 622,-407 622,-413 622,-413 622,-457 622,-457 622,-463 616,-469 610,-469\"/>\n<text text-anchor=\"middle\" x=\"521\" y=\"-453.8\" font-family=\"Helvetica,sans-Serif\" font-size=\"14.00\" fill=\"#000000\">extraction_type_class &lt;= 3.5</text>\n<text text-anchor=\"middle\" x=\"521\" y=\"-438.8\" font-family=\"Helvetica,sans-Serif\" font-size=\"14.00\" fill=\"#000000\">samples = 27.1%</text>\n<text text-anchor=\"middle\" x=\"521\" y=\"-423.8\" font-family=\"Helvetica,sans-Serif\" font-size=\"14.00\" fill=\"#000000\">value = [0.361, 0.038, 0.601]</text>\n<text text-anchor=\"middle\" x=\"521\" y=\"-408.8\" font-family=\"Helvetica,sans-Serif\" font-size=\"14.00\" fill=\"#000000\">class = non functional</text>\n</g>\n<!-- 0&#45;&gt;4 -->\n<g id=\"edge4\" class=\"edge\">\n<title>0&#45;&gt;4</title>\n<path fill=\"none\" stroke=\"#000000\" d=\"M447.0181,-504.9465C456.7046,-495.7884 467.2864,-485.7838 477.3397,-476.2788\"/>\n<polygon fill=\"#000000\" stroke=\"#000000\" points=\"480.039,-478.5434 484.901,-469.13 475.2299,-473.4569 480.039,-478.5434\"/>\n<text text-anchor=\"middle\" x=\"484.2003\" y=\"-490.4202\" font-family=\"Helvetica,sans-Serif\" font-size=\"14.00\" fill=\"#000000\">False</text>\n</g>\n<!-- 2 -->\n<g id=\"node3\" class=\"node\">\n<title>2</title>\n<path fill=\"#f4c9aa\" stroke=\"#000000\" d=\"M188,-357.5C188,-357.5 12,-357.5 12,-357.5 6,-357.5 0,-351.5 0,-345.5 0,-345.5 0,-316.5 0,-316.5 0,-310.5 6,-304.5 12,-304.5 12,-304.5 188,-304.5 188,-304.5 194,-304.5 200,-310.5 200,-316.5 200,-316.5 200,-345.5 200,-345.5 200,-351.5 194,-357.5 188,-357.5\"/>\n<text text-anchor=\"middle\" x=\"100\" y=\"-342.3\" font-family=\"Helvetica,sans-Serif\" font-size=\"14.00\" fill=\"#000000\">samples = 45.1%</text>\n<text text-anchor=\"middle\" x=\"100\" y=\"-327.3\" font-family=\"Helvetica,sans-Serif\" font-size=\"14.00\" fill=\"#000000\">value = [0.599, 0.101, 0.299]</text>\n<text text-anchor=\"middle\" x=\"100\" y=\"-312.3\" font-family=\"Helvetica,sans-Serif\" font-size=\"14.00\" fill=\"#000000\">class = functional</text>\n</g>\n<!-- 1&#45;&gt;2 -->\n<g id=\"edge2\" class=\"edge\">\n<title>1&#45;&gt;2</title>\n<path fill=\"none\" stroke=\"#000000\" d=\"M235.1851,-400.9465C211.1292,-388.4997 184.0513,-374.4892 160.4827,-362.2946\"/>\n<polygon fill=\"#000000\" stroke=\"#000000\" points=\"161.7878,-359.0291 151.2978,-357.5422 158.571,-365.2462 161.7878,-359.0291\"/>\n</g>\n<!-- 3 -->\n<g id=\"node4\" class=\"node\">\n<title>3</title>\n<path fill=\"#f3c5a3\" stroke=\"#000000\" d=\"M382,-357.5C382,-357.5 230,-357.5 230,-357.5 224,-357.5 218,-351.5 218,-345.5 218,-345.5 218,-316.5 218,-316.5 218,-310.5 224,-304.5 230,-304.5 230,-304.5 382,-304.5 382,-304.5 388,-304.5 394,-310.5 394,-316.5 394,-316.5 394,-345.5 394,-345.5 394,-351.5 388,-357.5 382,-357.5\"/>\n<text text-anchor=\"middle\" x=\"306\" y=\"-342.3\" font-family=\"Helvetica,sans-Serif\" font-size=\"14.00\" fill=\"#000000\">samples = 27.7%</text>\n<text text-anchor=\"middle\" x=\"306\" y=\"-327.3\" font-family=\"Helvetica,sans-Serif\" font-size=\"14.00\" fill=\"#000000\">value = [0.63, 0.06, 0.31]</text>\n<text text-anchor=\"middle\" x=\"306\" y=\"-312.3\" font-family=\"Helvetica,sans-Serif\" font-size=\"14.00\" fill=\"#000000\">class = functional</text>\n</g>\n<!-- 1&#45;&gt;3 -->\n<g id=\"edge3\" class=\"edge\">\n<title>1&#45;&gt;3</title>\n<path fill=\"none\" stroke=\"#000000\" d=\"M302.6372,-400.9465C303.1509,-390.2621 303.7199,-378.4254 304.2416,-367.5742\"/>\n<polygon fill=\"#000000\" stroke=\"#000000\" points=\"307.7396,-367.6987 304.7239,-357.5422 300.7477,-367.3625 307.7396,-367.6987\"/>\n</g>\n<!-- 5 -->\n<g id=\"node6\" class=\"node\">\n<title>5</title>\n<path fill=\"#9d66eb\" stroke=\"#000000\" d=\"M601,-357.5C601,-357.5 433,-357.5 433,-357.5 427,-357.5 421,-351.5 421,-345.5 421,-345.5 421,-316.5 421,-316.5 421,-310.5 427,-304.5 433,-304.5 433,-304.5 601,-304.5 601,-304.5 607,-304.5 613,-310.5 613,-316.5 613,-316.5 613,-345.5 613,-345.5 613,-351.5 607,-357.5 601,-357.5\"/>\n<text text-anchor=\"middle\" x=\"517\" y=\"-342.3\" font-family=\"Helvetica,sans-Serif\" font-size=\"14.00\" fill=\"#000000\">samples = 10.9%</text>\n<text text-anchor=\"middle\" x=\"517\" y=\"-327.3\" font-family=\"Helvetica,sans-Serif\" font-size=\"14.00\" fill=\"#000000\">value = [0.159, 0.031, 0.81]</text>\n<text text-anchor=\"middle\" x=\"517\" y=\"-312.3\" font-family=\"Helvetica,sans-Serif\" font-size=\"14.00\" fill=\"#000000\">class = non functional</text>\n</g>\n<!-- 4&#45;&gt;5 -->\n<g id=\"edge5\" class=\"edge\">\n<title>4&#45;&gt;5</title>\n<path fill=\"none\" stroke=\"#000000\" d=\"M519.6903,-400.9465C519.2793,-390.2621 518.8241,-378.4254 518.4067,-367.5742\"/>\n<polygon fill=\"#000000\" stroke=\"#000000\" points=\"521.9027,-367.4002 518.0209,-357.5422 514.9079,-367.6693 521.9027,-367.4002\"/>\n</g>\n<!-- 6 -->\n<g id=\"node7\" class=\"node\">\n<title>6</title>\n<path fill=\"#fdf7f2\" stroke=\"#000000\" d=\"M821,-365C821,-365 643,-365 643,-365 637,-365 631,-359 631,-353 631,-353 631,-309 631,-309 631,-303 637,-297 643,-297 643,-297 821,-297 821,-297 827,-297 833,-303 833,-309 833,-309 833,-353 833,-353 833,-359 827,-365 821,-365\"/>\n<text text-anchor=\"middle\" x=\"732\" y=\"-349.8\" font-family=\"Helvetica,sans-Serif\" font-size=\"14.00\" fill=\"#000000\">extraction_type_class &lt;= 4.5</text>\n<text text-anchor=\"middle\" x=\"732\" y=\"-334.8\" font-family=\"Helvetica,sans-Serif\" font-size=\"14.00\" fill=\"#000000\">samples = 16.2%</text>\n<text text-anchor=\"middle\" x=\"732\" y=\"-319.8\" font-family=\"Helvetica,sans-Serif\" font-size=\"14.00\" fill=\"#000000\">value = [0.497, 0.043, 0.46]</text>\n<text text-anchor=\"middle\" x=\"732\" y=\"-304.8\" font-family=\"Helvetica,sans-Serif\" font-size=\"14.00\" fill=\"#000000\">class = functional</text>\n</g>\n<!-- 4&#45;&gt;6 -->\n<g id=\"edge6\" class=\"edge\">\n<title>4&#45;&gt;6</title>\n<path fill=\"none\" stroke=\"#000000\" d=\"M590.0893,-400.9465C610.4002,-390.9354 632.7633,-379.9129 653.6112,-369.6371\"/>\n<polygon fill=\"#000000\" stroke=\"#000000\" points=\"655.3332,-372.6905 662.7555,-365.13 652.2385,-366.4117 655.3332,-372.6905\"/>\n</g>\n<!-- 7 -->\n<g id=\"node8\" class=\"node\">\n<title>7</title>\n<path fill=\"#d8c1f7\" stroke=\"#000000\" d=\"M710,-253.5C710,-253.5 534,-253.5 534,-253.5 528,-253.5 522,-247.5 522,-241.5 522,-241.5 522,-212.5 522,-212.5 522,-206.5 528,-200.5 534,-200.5 534,-200.5 710,-200.5 710,-200.5 716,-200.5 722,-206.5 722,-212.5 722,-212.5 722,-241.5 722,-241.5 722,-247.5 716,-253.5 710,-253.5\"/>\n<text text-anchor=\"middle\" x=\"622\" y=\"-238.3\" font-family=\"Helvetica,sans-Serif\" font-size=\"14.00\" fill=\"#000000\">samples = 5.0%</text>\n<text text-anchor=\"middle\" x=\"622\" y=\"-223.3\" font-family=\"Helvetica,sans-Serif\" font-size=\"14.00\" fill=\"#000000\">value = [0.381, 0.045, 0.574]</text>\n<text text-anchor=\"middle\" x=\"622\" y=\"-208.3\" font-family=\"Helvetica,sans-Serif\" font-size=\"14.00\" fill=\"#000000\">class = non functional</text>\n</g>\n<!-- 6&#45;&gt;7 -->\n<g id=\"edge7\" class=\"edge\">\n<title>6&#45;&gt;7</title>\n<path fill=\"none\" stroke=\"#000000\" d=\"M695.9819,-296.9465C683.6325,-285.2707 669.8278,-272.219 657.5183,-260.5809\"/>\n<polygon fill=\"#000000\" stroke=\"#000000\" points=\"659.7445,-257.869 650.0734,-253.5422 654.9354,-262.9556 659.7445,-257.869\"/>\n</g>\n<!-- 8 -->\n<g id=\"node9\" class=\"node\">\n<title>8</title>\n<path fill=\"#f9e2d1\" stroke=\"#000000\" d=\"M930,-261C930,-261 752,-261 752,-261 746,-261 740,-255 740,-249 740,-249 740,-205 740,-205 740,-199 746,-193 752,-193 752,-193 930,-193 930,-193 936,-193 942,-199 942,-205 942,-205 942,-249 942,-249 942,-255 936,-261 930,-261\"/>\n<text text-anchor=\"middle\" x=\"841\" y=\"-245.8\" font-family=\"Helvetica,sans-Serif\" font-size=\"14.00\" fill=\"#000000\">extraction_type_class &lt;= 5.5</text>\n<text text-anchor=\"middle\" x=\"841\" y=\"-230.8\" font-family=\"Helvetica,sans-Serif\" font-size=\"14.00\" fill=\"#000000\">samples = 11.2%</text>\n<text text-anchor=\"middle\" x=\"841\" y=\"-215.8\" font-family=\"Helvetica,sans-Serif\" font-size=\"14.00\" fill=\"#000000\">value = [0.548, 0.042, 0.41]</text>\n<text text-anchor=\"middle\" x=\"841\" y=\"-200.8\" font-family=\"Helvetica,sans-Serif\" font-size=\"14.00\" fill=\"#000000\">class = functional</text>\n</g>\n<!-- 6&#45;&gt;8 -->\n<g id=\"edge8\" class=\"edge\">\n<title>6&#45;&gt;8</title>\n<path fill=\"none\" stroke=\"#000000\" d=\"M767.6907,-296.9465C777.2891,-287.7884 787.7747,-277.7838 797.7366,-268.2788\"/>\n<polygon fill=\"#000000\" stroke=\"#000000\" points=\"800.4102,-270.5655 805.2291,-261.13 795.5779,-265.5009 800.4102,-270.5655\"/>\n</g>\n<!-- 9 -->\n<g id=\"node10\" class=\"node\">\n<title>9</title>\n<path fill=\"#f9e4d5\" stroke=\"#000000\" d=\"M819,-149.5C819,-149.5 643,-149.5 643,-149.5 637,-149.5 631,-143.5 631,-137.5 631,-137.5 631,-108.5 631,-108.5 631,-102.5 637,-96.5 643,-96.5 643,-96.5 819,-96.5 819,-96.5 825,-96.5 831,-102.5 831,-108.5 831,-108.5 831,-137.5 831,-137.5 831,-143.5 825,-149.5 819,-149.5\"/>\n<text text-anchor=\"middle\" x=\"731\" y=\"-134.3\" font-family=\"Helvetica,sans-Serif\" font-size=\"14.00\" fill=\"#000000\">samples = 10.3%</text>\n<text text-anchor=\"middle\" x=\"731\" y=\"-119.3\" font-family=\"Helvetica,sans-Serif\" font-size=\"14.00\" fill=\"#000000\">value = [0.541, 0.042, 0.416]</text>\n<text text-anchor=\"middle\" x=\"731\" y=\"-104.3\" font-family=\"Helvetica,sans-Serif\" font-size=\"14.00\" fill=\"#000000\">class = functional</text>\n</g>\n<!-- 8&#45;&gt;9 -->\n<g id=\"edge9\" class=\"edge\">\n<title>8&#45;&gt;9</title>\n<path fill=\"none\" stroke=\"#000000\" d=\"M804.9819,-192.9465C792.6325,-181.2707 778.8278,-168.219 766.5183,-156.5809\"/>\n<polygon fill=\"#000000\" stroke=\"#000000\" points=\"768.7445,-153.869 759.0734,-149.5422 763.9354,-158.9556 768.7445,-153.869\"/>\n</g>\n<!-- 10 -->\n<g id=\"node11\" class=\"node\">\n<title>10</title>\n<path fill=\"#f4cbad\" stroke=\"#000000\" d=\"M1039,-157C1039,-157 861,-157 861,-157 855,-157 849,-151 849,-145 849,-145 849,-101 849,-101 849,-95 855,-89 861,-89 861,-89 1039,-89 1039,-89 1045,-89 1051,-95 1051,-101 1051,-101 1051,-145 1051,-145 1051,-151 1045,-157 1039,-157\"/>\n<text text-anchor=\"middle\" x=\"950\" y=\"-141.8\" font-family=\"Helvetica,sans-Serif\" font-size=\"14.00\" fill=\"#000000\">extraction_type_class &lt;= 6.5</text>\n<text text-anchor=\"middle\" x=\"950\" y=\"-126.8\" font-family=\"Helvetica,sans-Serif\" font-size=\"14.00\" fill=\"#000000\">samples = 0.9%</text>\n<text text-anchor=\"middle\" x=\"950\" y=\"-111.8\" font-family=\"Helvetica,sans-Serif\" font-size=\"14.00\" fill=\"#000000\">value = [0.614, 0.043, 0.343]</text>\n<text text-anchor=\"middle\" x=\"950\" y=\"-96.8\" font-family=\"Helvetica,sans-Serif\" font-size=\"14.00\" fill=\"#000000\">class = functional</text>\n</g>\n<!-- 8&#45;&gt;10 -->\n<g id=\"edge10\" class=\"edge\">\n<title>8&#45;&gt;10</title>\n<path fill=\"none\" stroke=\"#000000\" d=\"M876.6907,-192.9465C886.2891,-183.7884 896.7747,-173.7838 906.7366,-164.2788\"/>\n<polygon fill=\"#000000\" stroke=\"#000000\" points=\"909.4102,-166.5655 914.2291,-157.13 904.5779,-161.5009 909.4102,-166.5655\"/>\n</g>\n<!-- 11 -->\n<g id=\"node12\" class=\"node\">\n<title>11</title>\n<path fill=\"#f2bf9b\" stroke=\"#000000\" d=\"M929,-53C929,-53 753,-53 753,-53 747,-53 741,-47 741,-41 741,-41 741,-12 741,-12 741,-6 747,0 753,0 753,0 929,0 929,0 935,0 941,-6 941,-12 941,-12 941,-41 941,-41 941,-47 935,-53 929,-53\"/>\n<text text-anchor=\"middle\" x=\"841\" y=\"-37.8\" font-family=\"Helvetica,sans-Serif\" font-size=\"14.00\" fill=\"#000000\">samples = 0.7%</text>\n<text text-anchor=\"middle\" x=\"841\" y=\"-22.8\" font-family=\"Helvetica,sans-Serif\" font-size=\"14.00\" fill=\"#000000\">value = [0.657, 0.037, 0.306]</text>\n<text text-anchor=\"middle\" x=\"841\" y=\"-7.8\" font-family=\"Helvetica,sans-Serif\" font-size=\"14.00\" fill=\"#000000\">class = functional</text>\n</g>\n<!-- 10&#45;&gt;11 -->\n<g id=\"edge11\" class=\"edge\">\n<title>10&#45;&gt;11</title>\n<path fill=\"none\" stroke=\"#000000\" d=\"M911.5707,-88.9777C900.9173,-79.546 889.3641,-69.3178 878.7499,-59.9208\"/>\n<polygon fill=\"#000000\" stroke=\"#000000\" points=\"881.0207,-57.2566 871.2133,-53.2485 876.3806,-62.4978 881.0207,-57.2566\"/>\n</g>\n<!-- 12 -->\n<g id=\"node13\" class=\"node\">\n<title>12</title>\n<path fill=\"#f8f3fd\" stroke=\"#000000\" d=\"M1147,-53C1147,-53 971,-53 971,-53 965,-53 959,-47 959,-41 959,-41 959,-12 959,-12 959,-6 965,0 971,0 971,0 1147,0 1147,0 1153,0 1159,-6 1159,-12 1159,-12 1159,-41 1159,-41 1159,-47 1153,-53 1147,-53\"/>\n<text text-anchor=\"middle\" x=\"1059\" y=\"-37.8\" font-family=\"Helvetica,sans-Serif\" font-size=\"14.00\" fill=\"#000000\">samples = 0.2%</text>\n<text text-anchor=\"middle\" x=\"1059\" y=\"-22.8\" font-family=\"Helvetica,sans-Serif\" font-size=\"14.00\" fill=\"#000000\">value = [0.452, 0.065, 0.484]</text>\n<text text-anchor=\"middle\" x=\"1059\" y=\"-7.8\" font-family=\"Helvetica,sans-Serif\" font-size=\"14.00\" fill=\"#000000\">class = non functional</text>\n</g>\n<!-- 10&#45;&gt;12 -->\n<g id=\"edge12\" class=\"edge\">\n<title>10&#45;&gt;12</title>\n<path fill=\"none\" stroke=\"#000000\" d=\"M988.4293,-88.9777C999.0827,-79.546 1010.6359,-69.3178 1021.2501,-59.9208\"/>\n<polygon fill=\"#000000\" stroke=\"#000000\" points=\"1023.6194,-62.4978 1028.7867,-53.2485 1018.9793,-57.2566 1023.6194,-62.4978\"/>\n</g>\n</g>\n</svg>\n"
          },
          "metadata": {
            "tags": []
          }
        }
      ]
    },
    {
      "cell_type": "markdown",
      "metadata": {
        "colab_type": "text",
        "id": "P4EJi2GvgLVa"
      },
      "source": [
        "# Understand how tree ensembles reduce overfitting compared to a single decision tree with unlimited depth"
      ]
    },
    {
      "cell_type": "markdown",
      "metadata": {
        "id": "axvjYtRv9Epu",
        "colab_type": "text"
      },
      "source": [
        "## Overview"
      ]
    },
    {
      "cell_type": "markdown",
      "metadata": {
        "colab_type": "text",
        "id": "0nNABF3HgLVg"
      },
      "source": [
        "### What's \"random\" about random forests?\n",
        "1. Each tree trains on a random bootstrap sample of the data. (In scikit-learn, for `RandomForestRegressor` and `RandomForestClassifier`, the `bootstrap` parameter's default is `True`.) This type of ensembling is called Bagging. (Bootstrap AGGregatING.)\n",
        "2. Each split considers a random subset of the features. (In scikit-learn, when the `max_features` parameter is not `None`.) \n",
        "\n",
        "For extra randomness, you can try [\"extremely randomized trees\"](https://scikit-learn.org/stable/modules/ensemble.html#extremely-randomized-trees)!\n",
        "\n",
        ">In extremely randomized trees (see [ExtraTreesClassifier](https://scikit-learn.org/stable/modules/generated/sklearn.ensemble.ExtraTreesClassifier.html) and [ExtraTreesRegressor](https://scikit-learn.org/stable/modules/generated/sklearn.ensemble.ExtraTreesRegressor.html) classes), randomness goes one step further in the way splits are computed. As in random forests, a random subset of candidate features is used, but instead of looking for the most discriminative thresholds, thresholds are drawn at random for each candidate feature and the best of these randomly-generated thresholds is picked as the splitting rule. This usually allows to reduce the variance of the model a bit more, at the expense of a slightly greater increase in bias"
      ]
    },
    {
      "cell_type": "markdown",
      "metadata": {
        "id": "n5YM9H1epRPN",
        "colab_type": "text"
      },
      "source": [
        "![](https://github.com/austinlasseter/DS-Unit-2-Kaggle-Challenge/blob/master/module2-random-forests/bagging_boosting.png?raw=1)"
      ]
    },
    {
      "cell_type": "markdown",
      "metadata": {
        "id": "SABL5fg09Epv",
        "colab_type": "text"
      },
      "source": [
        "## Follow Along"
      ]
    },
    {
      "cell_type": "markdown",
      "metadata": {
        "colab_type": "text",
        "id": "pUYP619CgLVb"
      },
      "source": [
        "### Example: [predicting golf putts](https://statmodeling.stat.columbia.edu/2008/12/04/the_golf_puttin/)\n",
        "(1 feature, non-linear, regression)"
      ]
    },
    {
      "cell_type": "code",
      "metadata": {
        "colab_type": "code",
        "id": "b4640ukxgLVc",
        "colab": {}
      },
      "source": [
        "putts = pd.DataFrame(\n",
        "    columns=['distance', 'tries', 'successes'], \n",
        "    data = [[2, 1443, 1346],\n",
        "            [3, 694, 577],\n",
        "            [4, 455, 337],\n",
        "            [5, 353, 208],\n",
        "            [6, 272, 149],\n",
        "            [7, 256, 136],\n",
        "            [8, 240, 111],\n",
        "            [9, 217, 69],\n",
        "            [10, 200, 67],\n",
        "            [11, 237, 75],\n",
        "            [12, 202, 52],\n",
        "            [13, 192, 46],\n",
        "            [14, 174, 54],\n",
        "            [15, 167, 28],\n",
        "            [16, 201, 27],\n",
        "            [17, 195, 31],\n",
        "            [18, 191, 33],\n",
        "            [19, 147, 20],\n",
        "            [20, 152, 24]]\n",
        ")\n",
        "\n",
        "putts['rate of success'] = putts['successes'] / putts['tries']\n",
        "putts_X = putts[['distance']]\n",
        "putts_y = putts['rate of success']"
      ],
      "execution_count": null,
      "outputs": []
    },
    {
      "cell_type": "code",
      "metadata": {
        "colab_type": "code",
        "id": "T0IpCcKggLVd",
        "colab": {
          "base_uri": "https://localhost:8080/",
          "height": 637,
          "referenced_widgets": [
            "c13b48b4173a439299878837cf869961",
            "5f5c50c5cdd549b4878f506b514aeeb2",
            "2010fc359de34562b451de44aac0480a",
            "75ed925ce27b4f5484dab9a98b8934d0",
            "faa8a59560a846b5b5eebdfca4bfb110",
            "80848bedc3964406ad3b5015fc7d187f",
            "4b49956595c04f5599f73ccbd6901aff",
            "08b49567e53f44c1a236dda81860c521",
            "f38db600f2564932bcc974e560f6d780",
            "fcb5b9afa7b946ae8706b9b0ec2ae30a"
          ]
        },
        "outputId": "7bc83f04-40de-48fb-a976-95ec555afaec"
      },
      "source": [
        "%matplotlib inline\n",
        "import matplotlib.pyplot as plt\n",
        "from ipywidgets import interact\n",
        "from sklearn.ensemble import RandomForestRegressor\n",
        "from sklearn.tree import DecisionTreeRegressor\n",
        "\n",
        "def putt_trees(max_depth=1, n_estimators=1):\n",
        "    models = [DecisionTreeRegressor(max_depth=max_depth), \n",
        "              RandomForestRegressor(max_depth=max_depth, n_estimators=n_estimators)]\n",
        "    \n",
        "    for model in models:\n",
        "        name = model.__class__.__name__\n",
        "        model.fit(putts_X, putts_y)\n",
        "        ax = putts.plot('distance', 'rate of success', kind='scatter', title=name)\n",
        "        ax.step(putts_X, model.predict(putts_X), where='mid')\n",
        "        plt.show()\n",
        "        \n",
        "interact(putt_trees, max_depth=(1,6,1), n_estimators=(10,40,10));"
      ],
      "execution_count": null,
      "outputs": [
        {
          "output_type": "display_data",
          "data": {
            "application/vnd.jupyter.widget-view+json": {
              "model_id": "c13b48b4173a439299878837cf869961",
              "version_minor": 0,
              "version_major": 2
            },
            "text/plain": [
              "interactive(children=(IntSlider(value=1, description='max_depth', max=6, min=1), IntSlider(value=10, descripti…"
            ]
          },
          "metadata": {
            "tags": []
          }
        }
      ]
    },
    {
      "cell_type": "markdown",
      "metadata": {
        "colab_type": "text",
        "id": "_KgZK9_9gLVh"
      },
      "source": [
        "### Bagging demo, with golf putts data\n",
        "https://pandas.pydata.org/pandas-docs/stable/reference/api/pandas.DataFrame.sample.html"
      ]
    },
    {
      "cell_type": "code",
      "metadata": {
        "colab_type": "code",
        "id": "vA9mrSTNgLVi",
        "scrolled": false,
        "colab": {
          "base_uri": "https://localhost:8080/",
          "height": 915,
          "referenced_widgets": [
            "79afd934bad74db984dbf29190627416",
            "1b1ef49a71544783a0e5003fc0768a7a",
            "4b42ed6fe63942e8b9564b75991f178c",
            "0a1c2574dab64435ab8d621fca34f18d",
            "08d3dab7e3a1467da814b236d254ddbd",
            "d59022717e00403b934ed385eb0f316a",
            "cec76b8247c34ebb86aa1fdef86ef3e4",
            "7a2960dac4bb4e2eacfcd0477ebeb9bf",
            "6848255b435a46c58f0b1e4c1bf5cce5",
            "d713243100b34f5a8a4879ae8a5ecdf8"
          ]
        },
        "outputId": "2cd2396e-dfb1-42b5-a40e-9d601eba6c70"
      },
      "source": [
        "# Do-it-yourself Bagging Ensemble of Decision Trees (like a Random Forest)\n",
        "def diy_bagging(max_depth=1, n_estimators=1):\n",
        "    y_preds = []\n",
        "    for i in range(n_estimators):\n",
        "        title = f'Tree {i+1}'\n",
        "        bootstrap_sample = putts.sample(n=len(putts), replace=True).sort_values(by='distance')\n",
        "        bootstrap_X = bootstrap_sample[['distance']]\n",
        "        bootstrap_y = bootstrap_sample['rate of success']\n",
        "        tree = DecisionTreeRegressor(max_depth=max_depth)\n",
        "        tree.fit(bootstrap_X, bootstrap_y)\n",
        "        y_pred = tree.predict(bootstrap_X)\n",
        "        y_preds.append(y_pred)\n",
        "        ax = bootstrap_sample.plot('distance', 'rate of success', kind='scatter', title=title)\n",
        "        ax.step(bootstrap_X, y_pred, where='mid')\n",
        "        plt.show()\n",
        "        \n",
        "    ensembled = np.vstack(y_preds).mean(axis=0)\n",
        "    title = f'Ensemble of {n_estimators} trees, with max_depth={max_depth}'\n",
        "    ax = putts.plot('distance', 'rate of success', kind='scatter', title=title)\n",
        "    ax.step(putts_X, ensembled, where='mid')\n",
        "    plt.show()\n",
        "    \n",
        "interact(diy_bagging, max_depth=(1,6,1), n_estimators=(2,5,1));"
      ],
      "execution_count": null,
      "outputs": [
        {
          "output_type": "display_data",
          "data": {
            "application/vnd.jupyter.widget-view+json": {
              "model_id": "79afd934bad74db984dbf29190627416",
              "version_minor": 0,
              "version_major": 2
            },
            "text/plain": [
              "interactive(children=(IntSlider(value=1, description='max_depth', max=6, min=1), IntSlider(value=2, descriptio…"
            ]
          },
          "metadata": {
            "tags": []
          }
        }
      ]
    },
    {
      "cell_type": "markdown",
      "metadata": {
        "colab_type": "text",
        "id": "rq4Z_wQ_gLVj"
      },
      "source": [
        "### Go back to Tanzania Waterpumps ..."
      ]
    },
    {
      "cell_type": "markdown",
      "metadata": {
        "colab_type": "text",
        "id": "FoSE9iT6YXQz"
      },
      "source": [
        "#### Helper function to visualize predicted probabilities\n",
        "\n"
      ]
    },
    {
      "cell_type": "code",
      "metadata": {
        "colab_type": "code",
        "id": "HzIAjGpJgLVj",
        "colab": {}
      },
      "source": [
        "import itertools\n",
        "import seaborn as sns\n",
        "\n",
        "def pred_heatmap(model, X, features, class_index=-1, title='', num=100):\n",
        "    \"\"\"\n",
        "    Visualize predicted probabilities, for classifier fit on 2 numeric features\n",
        "    \n",
        "    Parameters\n",
        "    ----------\n",
        "    model : scikit-learn classifier, already fit\n",
        "    X : pandas dataframe, which was used to fit model\n",
        "    features : list of strings, column names of the 2 numeric features\n",
        "    class_index : integer, index of class label\n",
        "    title : string, title of plot\n",
        "    num : int, number of grid points for each feature\n",
        "    \n",
        "    Returns\n",
        "    -------\n",
        "    y_pred_proba : numpy array, predicted probabilities for class_index\n",
        "    \"\"\"\n",
        "    feature1, feature2 = features\n",
        "    min1, max1 = X[feature1].min(), X[feature1].max()\n",
        "    min2, max2 = X[feature2].min(), X[feature2].max()\n",
        "    x1 = np.linspace(min1, max1, num)\n",
        "    x2 = np.linspace(max2, min2, num)\n",
        "    combos = list(itertools.product(x1, x2))\n",
        "    y_pred_proba = model.predict_proba(combos)[:, class_index]\n",
        "    pred_grid = y_pred_proba.reshape(num, num).T\n",
        "    table = pd.DataFrame(pred_grid, columns=x1, index=x2)\n",
        "    sns.heatmap(table, vmin=0, vmax=1)\n",
        "    plt.xticks([])\n",
        "    plt.yticks([])\n",
        "    plt.xlabel(feature1)\n",
        "    plt.ylabel(feature2)\n",
        "    plt.title(title)\n",
        "    plt.show()\n",
        "    return y_pred_proba\n"
      ],
      "execution_count": null,
      "outputs": []
    },
    {
      "cell_type": "markdown",
      "metadata": {
        "colab_type": "text",
        "id": "DiRfPqHjgLVl"
      },
      "source": [
        "### Compare Decision Tree, Random Forest, Logistic Regression"
      ]
    },
    {
      "cell_type": "code",
      "metadata": {
        "id": "JWg8xjaWs81a",
        "colab_type": "code",
        "colab": {
          "base_uri": "https://localhost:8080/",
          "height": 177
        },
        "outputId": "791fc63a-bcbd-46ff-d8fb-5f91e4ec3a74"
      },
      "source": [
        "# remind me, what were the features in our models?\n",
        "print(np.unique(features))"
      ],
      "execution_count": null,
      "outputs": [
        {
          "output_type": "stream",
          "text": [
            "['amount_tsh' 'basin' 'construction_year' 'construction_year_MISSING'\n",
            " 'day_recorded' 'district_code' 'extraction_type' 'extraction_type_class'\n",
            " 'extraction_type_group' 'gps_height' 'gps_height_MISSING' 'latitude'\n",
            " 'latitude_MISSING' 'longitude' 'longitude_MISSING' 'management'\n",
            " 'management_group' 'month_recorded' 'num_private' 'payment' 'permit'\n",
            " 'population' 'population_MISSING' 'public_meeting' 'quality_group'\n",
            " 'quantity' 'region' 'region_code' 'scheme_management' 'source'\n",
            " 'source_class' 'source_type' 'water_quality' 'waterpoint_type'\n",
            " 'waterpoint_type_group' 'year_recorded' 'years' 'years_MISSING']\n"
          ],
          "name": "stdout"
        }
      ]
    },
    {
      "cell_type": "code",
      "metadata": {
        "colab_type": "code",
        "id": "HKkMLXhMgLVl",
        "colab": {
          "base_uri": "https://localhost:8080/",
          "height": 864,
          "referenced_widgets": [
            "c9d0a170675649e5bdc74e17467bca8b",
            "d31023c9c29a40488d7585935caab8b7",
            "35821cea12cc4eecb5e84eae18e25ea9",
            "ecb6b5b1d29646be9262ac100e1380ea",
            "530dbaeef54847eaa4d894c2ded20eb9",
            "c0a41981076849c9b7696cb16585d331",
            "f2cb81e200e74cccb596cbb48d328b1a",
            "51766a28ca7942508a6aee94a3fd8ca4",
            "d26fa7f106c3454f9f1689bb8cebbac6",
            "34c854f0c1574b3c8856105b0a961f13"
          ]
        },
        "outputId": "6c004f8b-d947-478a-b9f1-2a5315815b11"
      },
      "source": [
        "# Instructions\n",
        "# 1. Choose two features\n",
        "# 2. Run this code cell\n",
        "# 3. Interact with the widget sliders\n",
        "feature1 = 'longitude'\n",
        "feature2 = 'quantity'\n",
        "\n",
        "from sklearn.linear_model import LogisticRegression\n",
        "from sklearn.tree import DecisionTreeClassifier\n",
        "\n",
        "def get_X_y(df, feature1, feature2, target):\n",
        "    features = [feature1, feature2]\n",
        "    X = df[features]\n",
        "    y = df[target]\n",
        "    X = X.fillna(X.median())\n",
        "    X = ce.OrdinalEncoder().fit_transform(X)\n",
        "    return X, y\n",
        "\n",
        "def compare_models(max_depth=1, n_estimators=1):\n",
        "    models = [DecisionTreeClassifier(max_depth=max_depth), \n",
        "              RandomForestClassifier(max_depth=max_depth, n_estimators=n_estimators), \n",
        "              LogisticRegression(solver='lbfgs', multi_class='auto')]\n",
        "    \n",
        "    for model in models:\n",
        "        name = model.__class__.__name__\n",
        "        model.fit(X, y)\n",
        "        pred_heatmap(model, X, [feature1, feature2], class_index=0, title=name)\n",
        "\n",
        "X, y = get_X_y(train, feature1, feature2, target='status_group')\n",
        "interact(compare_models, max_depth=(1,6,1), n_estimators=(10,40,10));"
      ],
      "execution_count": null,
      "outputs": [
        {
          "output_type": "display_data",
          "data": {
            "application/vnd.jupyter.widget-view+json": {
              "model_id": "c9d0a170675649e5bdc74e17467bca8b",
              "version_minor": 0,
              "version_major": 2
            },
            "text/plain": [
              "interactive(children=(IntSlider(value=1, description='max_depth', max=6, min=1), IntSlider(value=10, descripti…"
            ]
          },
          "metadata": {
            "tags": []
          }
        }
      ]
    },
    {
      "cell_type": "markdown",
      "metadata": {
        "colab_type": "text",
        "id": "wYoSBi15akWP"
      },
      "source": [
        "# Review\n",
        "\n",
        "#### Try Tree Ensembles when you do machine learning with labeled, tabular data\n",
        "- \"Tree Ensembles\" means Random Forest or Gradient Boosting models. \n",
        "- [Tree Ensembles often have the best predictive accuracy](https://arxiv.org/abs/1708.05070) with labeled, tabular data.\n",
        "- Why? Because trees can fit non-linear, non-[monotonic](https://en.wikipedia.org/wiki/Monotonic_function) relationships, and [interactions](https://christophm.github.io/interpretable-ml-book/interaction.html) between features.\n",
        "- A single decision tree, grown to unlimited depth, will [overfit](http://www.r2d3.us/visual-intro-to-machine-learning-part-1/). We solve this problem by ensembling trees, with bagging (Random Forest) or boosting (Gradient Boosting).\n",
        "- Random Forest's advantage: may be less sensitive to hyperparameters. Gradient Boosting's advantage: may get better predictive accuracy.\n",
        "\n",
        "#### One-hot encoding isn’t the only way, and may not be the best way, of categorical encoding for tree ensembles.\n",
        "- For example, tree ensembles can work with arbitrary \"ordinal\" encoding! (Randomly assigning an integer to each category.) Compared to one-hot encoding, the dimensionality will be lower, and the predictive accuracy may be just as good or even better.\n"
      ]
    },
    {
      "cell_type": "code",
      "metadata": {
        "id": "UvyssOTwRN5T",
        "colab_type": "code",
        "colab": {}
      },
      "source": [
        ""
      ],
      "execution_count": null,
      "outputs": []
    }
  ]
}